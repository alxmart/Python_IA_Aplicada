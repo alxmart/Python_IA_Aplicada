{
  "nbformat": 4,
  "nbformat_minor": 0,
  "metadata": {
    "colab": {
      "provenance": [],
      "authorship_tag": "ABX9TyNvZzKWtNUFKC28z3ARsVDK"
    },
    "kernelspec": {
      "name": "python3",
      "display_name": "Python 3"
    },
    "language_info": {
      "name": "python"
    }
  },
  "cells": [
    {
      "cell_type": "code",
      "execution_count": 1,
      "metadata": {
        "colab": {
          "base_uri": "https://localhost:8080/"
        },
        "id": "4TL3NdShNBC6",
        "outputId": "7ceb7653-e915-4d18-820f-9ce2dec77abd"
      },
      "outputs": [
        {
          "output_type": "execute_result",
          "data": {
            "text/plain": [
              "5"
            ]
          },
          "metadata": {},
          "execution_count": 1
        }
      ],
      "source": [
        "5"
      ]
    },
    {
      "cell_type": "code",
      "source": [
        "print(5)"
      ],
      "metadata": {
        "colab": {
          "base_uri": "https://localhost:8080/"
        },
        "id": "GRQB0MiGOLKX",
        "outputId": "cd8dd708-8984-4075-ca0b-b46f94cc64f5"
      },
      "execution_count": 2,
      "outputs": [
        {
          "output_type": "stream",
          "name": "stdout",
          "text": [
            "5\n"
          ]
        }
      ]
    },
    {
      "cell_type": "code",
      "source": [
        "print(\"Hello World !\")"
      ],
      "metadata": {
        "colab": {
          "base_uri": "https://localhost:8080/"
        },
        "id": "8Kmty75QNMIu",
        "outputId": "52cf78c9-aac0-4969-b9ee-c9a39a6ca23c"
      },
      "execution_count": 3,
      "outputs": [
        {
          "output_type": "stream",
          "name": "stdout",
          "text": [
            "Hello World !\n"
          ]
        }
      ]
    },
    {
      "cell_type": "code",
      "source": [
        "print('Hello World !')"
      ],
      "metadata": {
        "colab": {
          "base_uri": "https://localhost:8080/"
        },
        "id": "2G-mdnRmNMOp",
        "outputId": "2a2d7b7b-4d5a-47a4-da82-b650f8ee315c"
      },
      "execution_count": 4,
      "outputs": [
        {
          "output_type": "stream",
          "name": "stdout",
          "text": [
            "Hello World !\n"
          ]
        }
      ]
    },
    {
      "cell_type": "code",
      "source": [
        "print(\"Olá Mundo ! \" + \"5\")"
      ],
      "metadata": {
        "colab": {
          "base_uri": "https://localhost:8080/"
        },
        "id": "yLGq538iOnLw",
        "outputId": "1c666ed1-8294-4f17-891f-214386cad763"
      },
      "execution_count": 5,
      "outputs": [
        {
          "output_type": "stream",
          "name": "stdout",
          "text": [
            "Olá Mundo ! 5\n"
          ]
        }
      ]
    },
    {
      "cell_type": "code",
      "source": [
        "5 + 2"
      ],
      "metadata": {
        "colab": {
          "base_uri": "https://localhost:8080/"
        },
        "id": "PMtH1rBNPA1d",
        "outputId": "e177b5a8-80e3-40f3-9ebe-6a3201e71c5f"
      },
      "execution_count": 6,
      "outputs": [
        {
          "output_type": "execute_result",
          "data": {
            "text/plain": [
              "7"
            ]
          },
          "metadata": {},
          "execution_count": 6
        }
      ]
    },
    {
      "cell_type": "code",
      "source": [
        "print(5 + 2)"
      ],
      "metadata": {
        "colab": {
          "base_uri": "https://localhost:8080/"
        },
        "id": "_wLU8f6jQcWJ",
        "outputId": "860740e9-b564-41fb-fd81-f0387a057b83"
      },
      "execution_count": 7,
      "outputs": [
        {
          "output_type": "stream",
          "name": "stdout",
          "text": [
            "7\n"
          ]
        }
      ]
    },
    {
      "cell_type": "code",
      "source": [
        "produto1 = 5.00"
      ],
      "metadata": {
        "id": "TJUlryW1QgWp"
      },
      "execution_count": 8,
      "outputs": []
    },
    {
      "cell_type": "code",
      "source": [
        "produto1"
      ],
      "metadata": {
        "colab": {
          "base_uri": "https://localhost:8080/"
        },
        "id": "JMmhf6CPWyMz",
        "outputId": "6094c3c3-65c8-4daa-a2c5-2081e599fb7e"
      },
      "execution_count": 9,
      "outputs": [
        {
          "output_type": "execute_result",
          "data": {
            "text/plain": [
              "5.0"
            ]
          },
          "metadata": {},
          "execution_count": 9
        }
      ]
    },
    {
      "cell_type": "code",
      "source": [
        "print(produto1)"
      ],
      "metadata": {
        "colab": {
          "base_uri": "https://localhost:8080/"
        },
        "id": "3ULtReFRW6yW",
        "outputId": "de890536-0a42-4a30-9960-24dc3fcd8de8"
      },
      "execution_count": 10,
      "outputs": [
        {
          "output_type": "stream",
          "name": "stdout",
          "text": [
            "5.0\n"
          ]
        }
      ]
    },
    {
      "cell_type": "code",
      "source": [
        "produto2 = 2000.00"
      ],
      "metadata": {
        "id": "OO9VuVgLNMTt"
      },
      "execution_count": 11,
      "outputs": []
    },
    {
      "cell_type": "code",
      "source": [
        "print(produto2)"
      ],
      "metadata": {
        "colab": {
          "base_uri": "https://localhost:8080/"
        },
        "id": "j2Mwh4sFXDEu",
        "outputId": "70705986-15cb-4816-e55e-60abeb23d410"
      },
      "execution_count": 12,
      "outputs": [
        {
          "output_type": "stream",
          "name": "stdout",
          "text": [
            "2000.0\n"
          ]
        }
      ]
    },
    {
      "cell_type": "code",
      "source": [
        "produto3 = 1.00"
      ],
      "metadata": {
        "id": "_fXu8hvsNMYv"
      },
      "execution_count": 13,
      "outputs": []
    },
    {
      "cell_type": "code",
      "source": [
        "print(produto1 + produto2 + produto3)"
      ],
      "metadata": {
        "id": "wdnykXJONMdm",
        "colab": {
          "base_uri": "https://localhost:8080/"
        },
        "outputId": "d2f10f98-94ed-4618-ad0f-a35c952d385c"
      },
      "execution_count": 14,
      "outputs": [
        {
          "output_type": "stream",
          "name": "stdout",
          "text": [
            "2006.0\n"
          ]
        }
      ]
    },
    {
      "cell_type": "code",
      "source": [
        "nome_do_produto1 = \"Macarrão\""
      ],
      "metadata": {
        "id": "_Eq71fzINMiG"
      },
      "execution_count": 15,
      "outputs": []
    },
    {
      "cell_type": "code",
      "source": [
        "nome_do_produto2 = \"Celular\""
      ],
      "metadata": {
        "id": "94lcodEHNMmw"
      },
      "execution_count": 16,
      "outputs": []
    },
    {
      "cell_type": "code",
      "source": [
        "nome_do_produto3 = \"Bala\""
      ],
      "metadata": {
        "id": "QWDotFnrNMrv"
      },
      "execution_count": 17,
      "outputs": []
    },
    {
      "cell_type": "code",
      "source": [
        "print(nome_do_produto1 + \" \" + nome_do_produto2 + \" \" + nome_do_produto3)"
      ],
      "metadata": {
        "colab": {
          "base_uri": "https://localhost:8080/"
        },
        "id": "-JbiJgM3XXOu",
        "outputId": "0d77d8ad-cf57-476b-cf7d-4ec967fce7c8"
      },
      "execution_count": 18,
      "outputs": [
        {
          "output_type": "stream",
          "name": "stdout",
          "text": [
            "Macarrão Celular Bala\n"
          ]
        }
      ]
    },
    {
      "cell_type": "code",
      "source": [
        "amigos = 5\n",
        "aluguel = 1000.00\n",
        "supermercado = 500.00\n",
        "carro = 400.00"
      ],
      "metadata": {
        "id": "ebFzePmIXdl7"
      },
      "execution_count": 19,
      "outputs": []
    },
    {
      "cell_type": "code",
      "source": [
        "total = aluguel + supermercado + carro"
      ],
      "metadata": {
        "id": "uGd4v-LXYZcQ"
      },
      "execution_count": 20,
      "outputs": []
    },
    {
      "cell_type": "code",
      "source": [
        "print(total)"
      ],
      "metadata": {
        "colab": {
          "base_uri": "https://localhost:8080/"
        },
        "id": "xCjZjbowYgjN",
        "outputId": "85f896d8-cbe7-45f3-b90c-2b8aa81fbc28"
      },
      "execution_count": 21,
      "outputs": [
        {
          "output_type": "stream",
          "name": "stdout",
          "text": [
            "1900.0\n"
          ]
        }
      ]
    },
    {
      "cell_type": "code",
      "source": [
        "aluguel = 900.0"
      ],
      "metadata": {
        "id": "1Oh-7c_FYp5X"
      },
      "execution_count": 22,
      "outputs": []
    },
    {
      "cell_type": "code",
      "source": [
        "print(total)"
      ],
      "metadata": {
        "colab": {
          "base_uri": "https://localhost:8080/"
        },
        "id": "D_gY48A7YvWb",
        "outputId": "645e4da8-3505-4150-b179-9a04e5995e0d"
      },
      "execution_count": 23,
      "outputs": [
        {
          "output_type": "stream",
          "name": "stdout",
          "text": [
            "1900.0\n"
          ]
        }
      ]
    },
    {
      "cell_type": "code",
      "source": [
        "total = aluguel + supermercado + carro"
      ],
      "metadata": {
        "id": "GToJeChjYx-c"
      },
      "execution_count": 24,
      "outputs": []
    },
    {
      "cell_type": "code",
      "source": [
        "print(total)"
      ],
      "metadata": {
        "colab": {
          "base_uri": "https://localhost:8080/"
        },
        "id": "EtIGlaYHY86P",
        "outputId": "8f4526b9-54e1-483b-b8b0-b4b20d146047"
      },
      "execution_count": 25,
      "outputs": [
        {
          "output_type": "stream",
          "name": "stdout",
          "text": [
            "1800.0\n"
          ]
        }
      ]
    },
    {
      "cell_type": "code",
      "source": [
        "print(aluguel)"
      ],
      "metadata": {
        "colab": {
          "base_uri": "https://localhost:8080/"
        },
        "id": "wpUQLdSZY-ZA",
        "outputId": "edf5ae1f-946b-425f-ec4a-0bdbcb571fef"
      },
      "execution_count": 26,
      "outputs": [
        {
          "output_type": "stream",
          "name": "stdout",
          "text": [
            "900.0\n"
          ]
        }
      ]
    },
    {
      "cell_type": "code",
      "source": [
        "aluguel -= 100.0"
      ],
      "metadata": {
        "id": "lNZhqANQZWbk"
      },
      "execution_count": 27,
      "outputs": []
    },
    {
      "cell_type": "code",
      "source": [
        "print(aluguel)"
      ],
      "metadata": {
        "colab": {
          "base_uri": "https://localhost:8080/"
        },
        "id": "qhA0E3ZJZYvQ",
        "outputId": "ab41265f-e640-4380-a214-4fd152d160f4"
      },
      "execution_count": 28,
      "outputs": [
        {
          "output_type": "stream",
          "name": "stdout",
          "text": [
            "800.0\n"
          ]
        }
      ]
    },
    {
      "cell_type": "code",
      "source": [
        "aluguel -= 100.0"
      ],
      "metadata": {
        "id": "pOi4TEjQZaTt"
      },
      "execution_count": 29,
      "outputs": []
    },
    {
      "cell_type": "code",
      "source": [
        "print(aluguel)"
      ],
      "metadata": {
        "colab": {
          "base_uri": "https://localhost:8080/"
        },
        "id": "zffiADcjYwj5",
        "outputId": "45969c52-1f6c-4cdc-9974-824e1d41b21c"
      },
      "execution_count": 30,
      "outputs": [
        {
          "output_type": "stream",
          "name": "stdout",
          "text": [
            "700.0\n"
          ]
        }
      ]
    },
    {
      "cell_type": "code",
      "source": [
        "amigos = 6\n",
        "aluguel = 1000.00\n",
        "supermercado = 500.00\n",
        "carro = 400.00"
      ],
      "metadata": {
        "id": "o9RDRcheYkLU"
      },
      "execution_count": 31,
      "outputs": []
    },
    {
      "cell_type": "code",
      "source": [
        "print(amigos)"
      ],
      "metadata": {
        "id": "eqohovxLNNSS",
        "colab": {
          "base_uri": "https://localhost:8080/"
        },
        "outputId": "95ef38fa-c63b-48f8-d94e-8871213d84f1"
      },
      "execution_count": 32,
      "outputs": [
        {
          "output_type": "stream",
          "name": "stdout",
          "text": [
            "6\n"
          ]
        }
      ]
    },
    {
      "cell_type": "code",
      "source": [
        "total_de_carro = carro * 2"
      ],
      "metadata": {
        "id": "vvyNh1i5aPuk"
      },
      "execution_count": 33,
      "outputs": []
    },
    {
      "cell_type": "code",
      "source": [
        "total = aluguel + supermercado + total_de_carro"
      ],
      "metadata": {
        "id": "M6THF_ZCb1rJ"
      },
      "execution_count": 34,
      "outputs": []
    },
    {
      "cell_type": "code",
      "source": [
        "print(total)"
      ],
      "metadata": {
        "colab": {
          "base_uri": "https://localhost:8080/"
        },
        "id": "19Nwt0kRb5JD",
        "outputId": "3c054b66-af70-4b4f-f788-e74fb841036f"
      },
      "execution_count": 35,
      "outputs": [
        {
          "output_type": "stream",
          "name": "stdout",
          "text": [
            "2300.0\n"
          ]
        }
      ]
    },
    {
      "cell_type": "code",
      "source": [
        "total_por_pessoa = total / amigos"
      ],
      "metadata": {
        "id": "P8ZpoRvCb6OS"
      },
      "execution_count": 36,
      "outputs": []
    },
    {
      "cell_type": "code",
      "source": [
        "print(total_por_pessoa)"
      ],
      "metadata": {
        "colab": {
          "base_uri": "https://localhost:8080/"
        },
        "id": "ovIy3NuCcH_T",
        "outputId": "d5c71115-8de8-437f-df9c-6a61d4afca71"
      },
      "execution_count": 37,
      "outputs": [
        {
          "output_type": "stream",
          "name": "stdout",
          "text": [
            "383.3333333333333\n"
          ]
        }
      ]
    },
    {
      "cell_type": "code",
      "source": [
        "type(aluguel)"
      ],
      "metadata": {
        "colab": {
          "base_uri": "https://localhost:8080/"
        },
        "id": "lJEMOpeIXZ2s",
        "outputId": "c302b1c3-edd7-4677-fc0d-379690463447"
      },
      "execution_count": 38,
      "outputs": [
        {
          "output_type": "execute_result",
          "data": {
            "text/plain": [
              "float"
            ]
          },
          "metadata": {},
          "execution_count": 38
        }
      ]
    },
    {
      "cell_type": "code",
      "source": [
        "type(total_por_pessoa)"
      ],
      "metadata": {
        "colab": {
          "base_uri": "https://localhost:8080/"
        },
        "id": "wsiZ-VxGdNhv",
        "outputId": "b43fce1d-e0c6-40a0-e5fa-0315fbcf68d7"
      },
      "execution_count": 39,
      "outputs": [
        {
          "output_type": "execute_result",
          "data": {
            "text/plain": [
              "float"
            ]
          },
          "metadata": {},
          "execution_count": 39
        }
      ]
    },
    {
      "cell_type": "code",
      "source": [
        "type(nome_do_produto1)"
      ],
      "metadata": {
        "colab": {
          "base_uri": "https://localhost:8080/"
        },
        "id": "DQW4-Z5xdTvS",
        "outputId": "411fd45f-aab6-4dd2-a483-3ef34ed12e67"
      },
      "execution_count": 40,
      "outputs": [
        {
          "output_type": "execute_result",
          "data": {
            "text/plain": [
              "str"
            ]
          },
          "metadata": {},
          "execution_count": 40
        }
      ]
    },
    {
      "cell_type": "code",
      "source": [
        "pedro_tem_carteira_motorista = True\n",
        "\n",
        "mario_tem_carteira_motorista = False"
      ],
      "metadata": {
        "id": "VZVA4MobXZ6Q"
      },
      "execution_count": 41,
      "outputs": []
    },
    {
      "cell_type": "code",
      "source": [
        "type(pedro_tem_carteira_motorista)"
      ],
      "metadata": {
        "colab": {
          "base_uri": "https://localhost:8080/"
        },
        "id": "kJhtBHfNdnh5",
        "outputId": "2c6b98f6-6bd8-4351-9ec6-46320fd55784"
      },
      "execution_count": 42,
      "outputs": [
        {
          "output_type": "execute_result",
          "data": {
            "text/plain": [
              "bool"
            ]
          },
          "metadata": {},
          "execution_count": 42
        }
      ]
    },
    {
      "cell_type": "code",
      "source": [
        "type(mario_tem_carteira_motorista)"
      ],
      "metadata": {
        "colab": {
          "base_uri": "https://localhost:8080/"
        },
        "id": "FlUabwKtdqx6",
        "outputId": "cc9c5ca9-3213-4fea-c0ea-a730c451733f"
      },
      "execution_count": 43,
      "outputs": [
        {
          "output_type": "execute_result",
          "data": {
            "text/plain": [
              "bool"
            ]
          },
          "metadata": {},
          "execution_count": 43
        }
      ]
    },
    {
      "cell_type": "code",
      "source": [
        "texto = \"    Fabrício CARRaro  da alura   \"\n",
        "print(texto)"
      ],
      "metadata": {
        "colab": {
          "base_uri": "https://localhost:8080/"
        },
        "id": "S36WcYXedsxy",
        "outputId": "0bb47830-3c21-40ce-dee8-b827db65d2ef"
      },
      "execution_count": 44,
      "outputs": [
        {
          "output_type": "stream",
          "name": "stdout",
          "text": [
            "    Fabrício CARRaro  da alura   \n"
          ]
        }
      ]
    },
    {
      "cell_type": "code",
      "source": [
        "print(texto.lower())"
      ],
      "metadata": {
        "colab": {
          "base_uri": "https://localhost:8080/"
        },
        "id": "7N776qgbde25",
        "outputId": "2a40e7db-4ba8-4bdf-9588-3e27923134d0"
      },
      "execution_count": 45,
      "outputs": [
        {
          "output_type": "stream",
          "name": "stdout",
          "text": [
            "    fabrício carraro  da alura   \n"
          ]
        }
      ]
    },
    {
      "cell_type": "code",
      "source": [
        "print(texto.upper())\n",
        "\n"
      ],
      "metadata": {
        "id": "0Vj7inoiifiA",
        "outputId": "78a6cbab-20ac-4fcc-fa9f-10b0aed87341",
        "colab": {
          "base_uri": "https://localhost:8080/"
        }
      },
      "execution_count": 46,
      "outputs": [
        {
          "output_type": "stream",
          "name": "stdout",
          "text": [
            "    FABRÍCIO CARRARO  DA ALURA   \n"
          ]
        }
      ]
    },
    {
      "cell_type": "code",
      "source": [
        "print(texto.strip())"
      ],
      "metadata": {
        "id": "cGqrdz8zipkd",
        "outputId": "aa28ff4a-3566-4d7f-9cfe-3ca1a4359c5b",
        "colab": {
          "base_uri": "https://localhost:8080/"
        }
      },
      "execution_count": 47,
      "outputs": [
        {
          "output_type": "stream",
          "name": "stdout",
          "text": [
            "Fabrício CARRaro  da alura\n"
          ]
        }
      ]
    },
    {
      "cell_type": "code",
      "source": [
        "print(texto.replace(\"  \",\" \"))"
      ],
      "metadata": {
        "id": "ABjx6ULLit_F",
        "outputId": "f50ee347-9a6e-49e9-cb72-9732c3c2be52",
        "colab": {
          "base_uri": "https://localhost:8080/"
        }
      },
      "execution_count": 48,
      "outputs": [
        {
          "output_type": "stream",
          "name": "stdout",
          "text": [
            "  Fabrício CARRaro da alura  \n"
          ]
        }
      ]
    },
    {
      "cell_type": "code",
      "source": [
        "texto = texto.strip().upper().replace(\"  \", \" \")"
      ],
      "metadata": {
        "id": "9Ij6teekjDhk"
      },
      "execution_count": 49,
      "outputs": []
    },
    {
      "cell_type": "code",
      "source": [
        "print(texto)"
      ],
      "metadata": {
        "id": "TJCqh1UxjoR-",
        "outputId": "f0c55249-10ef-4bfc-c6c4-2cdadebf7c58",
        "colab": {
          "base_uri": "https://localhost:8080/"
        }
      },
      "execution_count": 50,
      "outputs": [
        {
          "output_type": "stream",
          "name": "stdout",
          "text": [
            "FABRÍCIO CARRARO DA ALURA\n"
          ]
        }
      ]
    },
    {
      "cell_type": "code",
      "source": [
        "nome = input(\"Digite seu nome: \")"
      ],
      "metadata": {
        "id": "BwKDDXbfjp3c",
        "colab": {
          "base_uri": "https://localhost:8080/"
        },
        "outputId": "e77af3f2-e33d-4575-b950-a01304843b09"
      },
      "execution_count": 51,
      "outputs": [
        {
          "name": "stdout",
          "output_type": "stream",
          "text": [
            "Digite seu nome: John Doe\n"
          ]
        }
      ]
    },
    {
      "cell_type": "code",
      "source": [
        "print(nome)"
      ],
      "metadata": {
        "id": "VIT9iQsJipsQ",
        "colab": {
          "base_uri": "https://localhost:8080/"
        },
        "outputId": "f2f67fd7-78f0-41c9-a220-93796ac15646"
      },
      "execution_count": 52,
      "outputs": [
        {
          "output_type": "stream",
          "name": "stdout",
          "text": [
            "John Doe\n"
          ]
        }
      ]
    },
    {
      "cell_type": "code",
      "source": [
        "idade = input(\"Digite sua idade: \")"
      ],
      "metadata": {
        "colab": {
          "base_uri": "https://localhost:8080/"
        },
        "id": "8OxkQz8q7FlS",
        "outputId": "015c2d32-04da-44b9-d774-f58099ccaede"
      },
      "execution_count": 53,
      "outputs": [
        {
          "name": "stdout",
          "output_type": "stream",
          "text": [
            "Digite sua idade: 19\n"
          ]
        }
      ]
    },
    {
      "cell_type": "code",
      "source": [
        "print(idade)"
      ],
      "metadata": {
        "id": "gNaMDipDip01",
        "colab": {
          "base_uri": "https://localhost:8080/"
        },
        "outputId": "82021a27-c1ef-4271-f748-403170f378c4"
      },
      "execution_count": 54,
      "outputs": [
        {
          "output_type": "stream",
          "name": "stdout",
          "text": [
            "19\n"
          ]
        }
      ]
    },
    {
      "cell_type": "code",
      "source": [
        "type(nome)"
      ],
      "metadata": {
        "colab": {
          "base_uri": "https://localhost:8080/"
        },
        "id": "lQtL1wn07XVz",
        "outputId": "c6f41eb1-8022-4e5c-cc3a-7a61b6f8cbbc"
      },
      "execution_count": 55,
      "outputs": [
        {
          "output_type": "execute_result",
          "data": {
            "text/plain": [
              "str"
            ]
          },
          "metadata": {},
          "execution_count": 55
        }
      ]
    },
    {
      "cell_type": "code",
      "source": [
        "type(idade)"
      ],
      "metadata": {
        "colab": {
          "base_uri": "https://localhost:8080/"
        },
        "id": "9R6a0XdC7XZc",
        "outputId": "9879010b-89cf-44d9-e431-d96be0c97f0a"
      },
      "execution_count": 56,
      "outputs": [
        {
          "output_type": "execute_result",
          "data": {
            "text/plain": [
              "str"
            ]
          },
          "metadata": {},
          "execution_count": 56
        }
      ]
    },
    {
      "cell_type": "code",
      "source": [
        "idade = int(idade)"
      ],
      "metadata": {
        "id": "r6bvVZAI7Xc2"
      },
      "execution_count": 57,
      "outputs": []
    },
    {
      "cell_type": "code",
      "source": [
        "type(idade)"
      ],
      "metadata": {
        "colab": {
          "base_uri": "https://localhost:8080/"
        },
        "id": "gyTBbEZD7Xgh",
        "outputId": "c96e4945-3834-4e86-bcd7-b1bdb09ab160"
      },
      "execution_count": 58,
      "outputs": [
        {
          "output_type": "execute_result",
          "data": {
            "text/plain": [
              "int"
            ]
          },
          "metadata": {},
          "execution_count": 58
        }
      ]
    },
    {
      "cell_type": "code",
      "source": [
        "print(f'A pessoa se chama {nome} e tem {idade} anos de idade')"
      ],
      "metadata": {
        "colab": {
          "base_uri": "https://localhost:8080/"
        },
        "id": "vXPbXhRD7-IX",
        "outputId": "d2f41640-d590-4ea8-9a33-1c1aa1f31f96"
      },
      "execution_count": 59,
      "outputs": [
        {
          "output_type": "stream",
          "name": "stdout",
          "text": [
            "A pessoa se chama John Doe e tem 19 anos de idade\n"
          ]
        }
      ]
    },
    {
      "cell_type": "code",
      "source": [
        "idade = int(input(\"Digite sua idade: \"))"
      ],
      "metadata": {
        "colab": {
          "base_uri": "https://localhost:8080/"
        },
        "id": "ZrX38-5h7-Ni",
        "outputId": "a0b818e1-fd58-4c91-b11c-419dc876ba1d"
      },
      "execution_count": 60,
      "outputs": [
        {
          "name": "stdout",
          "output_type": "stream",
          "text": [
            "Digite sua idade: 14\n"
          ]
        }
      ]
    },
    {
      "cell_type": "code",
      "source": [
        "type(idade)"
      ],
      "metadata": {
        "colab": {
          "base_uri": "https://localhost:8080/"
        },
        "id": "Iq1FL1Kt7-gC",
        "outputId": "68bafcbd-1a7b-465a-9ee6-1118e0c61c2b"
      },
      "execution_count": 61,
      "outputs": [
        {
          "output_type": "execute_result",
          "data": {
            "text/plain": [
              "int"
            ]
          },
          "metadata": {},
          "execution_count": 61
        }
      ]
    },
    {
      "cell_type": "code",
      "source": [
        "if idade >= 18:\n",
        "    print(f\"O {nome} pode entrar na festa porque ele é maior de idade\")\n",
        "    print(f\"Ele tem {idade} anos de idade\")\n",
        "else:\n",
        "    print(\"Menor de idade\")"
      ],
      "metadata": {
        "colab": {
          "base_uri": "https://localhost:8080/"
        },
        "id": "g-ioxhUf7XjZ",
        "outputId": "c9817e85-7f46-47d2-aff1-a9838602fab8"
      },
      "execution_count": 62,
      "outputs": [
        {
          "output_type": "stream",
          "name": "stdout",
          "text": [
            "Menor de idade\n"
          ]
        }
      ]
    },
    {
      "cell_type": "code",
      "source": [
        "media = float(input(\"Digite sua media: \"))"
      ],
      "metadata": {
        "colab": {
          "base_uri": "https://localhost:8080/"
        },
        "id": "FM2X49E0UV9O",
        "outputId": "10db1b94-86fa-4413-f410-3cbe2365b1eb"
      },
      "execution_count": 63,
      "outputs": [
        {
          "name": "stdout",
          "output_type": "stream",
          "text": [
            "Digite sua media: 5\n"
          ]
        }
      ]
    },
    {
      "cell_type": "code",
      "source": [
        "media = float(input(\"Digite sua media: \"))\n",
        "\n",
        "if media >= 7.0:\n",
        "  print(\"Aprovado\")\n",
        "elif media >= 5.0 and media < 7.0:\n",
        "  print(\"Recuperação\")\n",
        "else:\n",
        "  print(\"Reprovado\")"
      ],
      "metadata": {
        "colab": {
          "base_uri": "https://localhost:8080/"
        },
        "id": "YEPsk14bUWDs",
        "outputId": "1b8fa271-a338-4914-956e-dbbecdd79f85"
      },
      "execution_count": 64,
      "outputs": [
        {
          "output_type": "stream",
          "name": "stdout",
          "text": [
            "Digite sua media: 9\n",
            "Aprovado\n"
          ]
        }
      ]
    },
    {
      "cell_type": "markdown",
      "source": [
        "### **Rodando a IA no Google Colab (Gemini)**"
      ],
      "metadata": {
        "id": "nYJgf0wj-TkU"
      }
    },
    {
      "cell_type": "code",
      "source": [
        "import os\n",
        "\n",
        "from google.colab import userdata\n",
        "\n",
        "os.environ[\"GOOGLE_API_KEY\"] = userdata.get('Gemini_API_Key')"
      ],
      "metadata": {
        "id": "dGs8TPahUWJD"
      },
      "execution_count": 65,
      "outputs": []
    },
    {
      "cell_type": "code",
      "source": [
        "from google import genai\n",
        "\n",
        "client = genai.Client()"
      ],
      "metadata": {
        "id": "P6LEB1H6UWNC"
      },
      "execution_count": 66,
      "outputs": []
    },
    {
      "cell_type": "code",
      "source": [
        "resposta = client.models.generate_content(model='gemini-2.5-flash', contents=\"What is Generative AI ?\")"
      ],
      "metadata": {
        "id": "JOiaki2FUWQa"
      },
      "execution_count": 67,
      "outputs": []
    },
    {
      "cell_type": "code",
      "source": [
        "print(resposta.text)"
      ],
      "metadata": {
        "colab": {
          "base_uri": "https://localhost:8080/"
        },
        "id": "QwOupoe37Xng",
        "outputId": "0b1a1e19-a573-4917-e303-ba4ba5d86926"
      },
      "execution_count": 68,
      "outputs": [
        {
          "output_type": "stream",
          "name": "stdout",
          "text": [
            "**Generative AI** is a type of Artificial Intelligence that can create new, original content or data rather than just analyzing or classifying existing data.\n",
            "\n",
            "Unlike traditional AI systems that might predict an outcome or categorize an input, generative AI focuses on *producing* novel outputs that are similar in style and content to the data it was trained on, but are not direct copies.\n",
            "\n",
            "Here's a breakdown of what that means:\n",
            "\n",
            "1.  **The Core Idea: Learning Patterns to Create New Things**\n",
            "    *   **Training Data:** Generative AI models are trained on vast datasets (e.g., millions of images, billions of text passages, hours of audio).\n",
            "    *   **Pattern Recognition:** During training, the AI learns the underlying patterns, structures, styles, and relationships within that data. It doesn't \"understand\" in a human sense, but it develops a statistical model of what makes that data look or sound or read a certain way.\n",
            "    *   **Generation:** Once trained, when given a prompt or a starting point, the AI uses its learned patterns to generate entirely new content that adheres to those patterns. It essentially tries to \"fill in the blanks\" or create something that \"could have come from\" its training data, even if it's never seen that specific output before.\n",
            "\n",
            "2.  **How it Works (Simplified):**\n",
            "    *   Many generative AI models leverage complex neural networks, such as:\n",
            "        *   **Generative Adversarial Networks (GANs):** Two networks (a generator and a discriminator) compete, with the generator trying to create realistic data and the discriminator trying to spot fakes.\n",
            "        *   **Variational Autoencoders (VAEs):** Encode data into a compressed \"latent space\" and then decode new data from that space.\n",
            "        *   **Transformer Models:** Particularly dominant in text generation (like large language models, LLMs) and increasingly in other modalities, they excel at understanding context and generating coherent sequences.\n",
            "        *   **Diffusion Models:** Starting with random noise, they progressively \"denoise\" an image or other data type to create a coherent output. These are behind many state-of-the-art image generators.\n",
            "\n",
            "3.  **What Can Generative AI Create? (Examples):**\n",
            "    *   **Text:** Articles, stories, poems, scripts, emails, summaries, translations, code, chatbots (like ChatGPT, Bard).\n",
            "    *   **Images:** Realistic photos of people, animals, landscapes; artistic illustrations in various styles; design mockups; modifications of existing images (like DALL-E, Midjourney, Stable Diffusion).\n",
            "    *   **Audio:** Music compositions, speech synthesis (text-to-speech), voice cloning, sound effects.\n",
            "    *   **Video:** Short video clips, animated sequences, synthetic footage.\n",
            "    *   **Code:** Write entire programs, debug code, translate between programming languages.\n",
            "    *   **3D Models:** Generate objects for games, simulations, or manufacturing.\n",
            "    *   **Synthetic Data:** Create realistic data for training other AI models when real data is scarce or sensitive.\n",
            "\n",
            "4.  **Key Characteristics:**\n",
            "    *   **Novelty:** Produces unique outputs, not just copies.\n",
            "    *   **Coherence/Realism:** Aims for outputs that are believable and consistent with the learned style.\n",
            "    *   **Controllability:** Often guided by natural language prompts or specific parameters.\n",
            "    *   **Versatility:** Can operate across various data types (text, images, audio, video).\n",
            "\n",
            "5.  **Significance:**\n",
            "    *   **Automation of Creative Tasks:** Accelerates content creation, design, and development processes.\n",
            "    *   **Personalization:** Enables highly customized content for individuals.\n",
            "    *   **Innovation:** Opens up new possibilities for art, entertainment, research, and problem-solving.\n",
            "    *   **Accessibility:** Lowers the barrier for individuals to create high-quality content without specialized skills.\n",
            "\n",
            "**In essence, Generative AI is about making machines not just intelligent observers or analysts, but active creators, capable of adding entirely new digital artifacts to the world.**\n"
          ]
        }
      ]
    },
    {
      "cell_type": "markdown",
      "source": [
        "**Loops**"
      ],
      "metadata": {
        "id": "3-JH1iTKWPXt"
      }
    },
    {
      "cell_type": "code",
      "source": [
        "n = 1\n",
        "\n",
        "while n <= 5:\n",
        "  print(\"*\")\n",
        "  n += 1"
      ],
      "metadata": {
        "id": "qYlyMLMs7XqU",
        "outputId": "0b70a60a-ab6a-45f0-e406-6af4c20cbbf7",
        "colab": {
          "base_uri": "https://localhost:8080/"
        }
      },
      "execution_count": 69,
      "outputs": [
        {
          "output_type": "stream",
          "name": "stdout",
          "text": [
            "*\n",
            "*\n",
            "*\n",
            "*\n",
            "*\n"
          ]
        }
      ]
    },
    {
      "cell_type": "code",
      "source": [
        "chat = client.chats.create(model='gemini-2.5-flash')"
      ],
      "metadata": {
        "id": "Im5Tr-RL-CgF"
      },
      "execution_count": 70,
      "outputs": []
    },
    {
      "cell_type": "code",
      "source": [
        "resposta2 = chat.send_message(\"O que é a Inteligência Artificial ?\")"
      ],
      "metadata": {
        "id": "7VJzS54s-Cp9"
      },
      "execution_count": 71,
      "outputs": []
    },
    {
      "cell_type": "code",
      "source": [
        "#print(resposta2)\n",
        "print(resposta2.text)"
      ],
      "metadata": {
        "id": "uGrwIQF0-Ct6",
        "outputId": "233da62d-369d-439f-9b7c-9bb00bc41cba",
        "colab": {
          "base_uri": "https://localhost:8080/"
        }
      },
      "execution_count": 72,
      "outputs": [
        {
          "output_type": "stream",
          "name": "stdout",
          "text": [
            "A **Inteligência Artificial (IA)** é um campo da ciência da computação que busca desenvolver sistemas capazes de realizar tarefas que normalmente exigiriam inteligência humana. Em essência, o objetivo da IA é simular e automatizar processos cognitivos humanos, como aprender, raciocinar, resolver problemas, perceber, compreender a linguagem e tomar decisões.\n",
            "\n",
            "Não é uma tecnologia única, mas um conjunto de diversas técnicas, algoritmos e modelos que permitem às máquinas \"pensar\" e agir de forma \"inteligente\".\n",
            "\n",
            "**Principais Características e Habilidades da IA:**\n",
            "\n",
            "1.  **Aprendizagem (Machine Learning):** A capacidade de adquirir conhecimento e habilidades a partir de dados, sem ser explicitamente programada para cada tarefa. Os sistemas de IA identificam padrões, fazem previsões e melhoram seu desempenho com a experiência.\n",
            "2.  **Raciocínio:** A capacidade de usar lógica e regras para tirar conclusões ou fazer inferências a partir de informações disponíveis.\n",
            "3.  **Resolução de Problemas:** Encontrar soluções para desafios complexos, seja através de busca, otimização ou heurísticas.\n",
            "4.  **Percepção:** Compreender e interpretar informações sensoriais, como imagens (Visão Computacional) ou fala (Processamento de Linguagem Natural), de forma similar a como os humanos percebem o mundo.\n",
            "5.  **Compreensão da Linguagem Natural (PLN):** A capacidade de entender, interpretar e gerar linguagem humana de forma significativa.\n",
            "6.  **Tomada de Decisão:** Escolher a melhor ação ou caminho com base em dados, probabilidades e objetivos.\n",
            "\n",
            "**Como a IA Funciona (de forma simplificada):**\n",
            "\n",
            "A IA geralmente funciona alimentando algoritmos complexos com grandes volumes de dados. Através desses dados, os algoritmos podem identificar padrões, aprender a fazer previsões ou tomar decisões, e até mesmo adaptar seu comportamento ao longo do tempo.\n",
            "\n",
            "**Exemplos de IA no Dia a Dia:**\n",
            "\n",
            "*   **Assistentes Virtuais:** Siri, Alexa, Google Assistant.\n",
            "*   **Sistemas de Recomendação:** O que a Netflix sugere para você assistir, ou o Spotify para ouvir.\n",
            "*   **Carros Autônomos:** Veículos que se dirigem sozinhos.\n",
            "*   **Reconhecimento Facial:** Em celulares ou sistemas de segurança.\n",
            "*   **Filtros de Spam:** Identificando e bloqueando e-mails indesejados.\n",
            "*   **Diagnósticos Médicos:** Auxiliando médicos a identificar doenças com base em imagens ou dados de pacientes.\n",
            "*   **Jogos:** Adversários de IA em videogames.\n",
            "\n",
            "**Tipos de IA:**\n",
            "\n",
            "*   **IA Fraca (ou Estreita):** É o tipo de IA que existe atualmente. É projetada e treinada para uma tarefa específica (ex: jogar xadrez, reconhecimento de voz). Não possui consciência ou inteligência geral.\n",
            "*   **IA Forte (ou Geral - AGI):** Ainda é teórica. Seria uma IA com inteligência cognitiva igual ou superior à de um ser humano, capaz de entender, aprender e aplicar inteligência a qualquer problema.\n",
            "*   **Superinteligência:** Uma IA hipotética que excede em muito a inteligência humana em todos os aspectos, incluindo criatividade científica, sabedoria geral e habilidades sociais.\n",
            "\n",
            "A IA está em constante evolução e tem o potencial de transformar quase todos os aspectos da vida humana, desde a medicina e a educação até o trabalho e o entretenimento, levantando também importantes questões éticas e sociais.\n"
          ]
        }
      ]
    },
    {
      "cell_type": "code",
      "source": [
        "resposta3 = chat.send_message(\"Quando foi lançado o ChatGPT ?\")\n",
        "\n",
        "print(resposta3.text)\n"
      ],
      "metadata": {
        "id": "0lax2whO6vi8",
        "outputId": "22b9e1ce-759f-4ef3-9bc7-3ed378bbed3b",
        "colab": {
          "base_uri": "https://localhost:8080/"
        }
      },
      "execution_count": 73,
      "outputs": [
        {
          "output_type": "stream",
          "name": "stdout",
          "text": [
            "O ChatGPT foi lançado pela OpenAI em **30 de novembro de 2022**.\n",
            "\n",
            "Essa foi a data em que a OpenAI disponibilizou publicamente um protótipo conversacional baseado em seu modelo de linguagem GPT-3.5, que rapidamente ganhou enorme popularidade e atenção global.\n"
          ]
        }
      ]
    },
    {
      "cell_type": "code",
      "source": [
        "chat.get_history()"
      ],
      "metadata": {
        "id": "hx_JSQbf2okI",
        "outputId": "fdbd6616-a507-4af7-98b8-1a98b0265fd6",
        "colab": {
          "base_uri": "https://localhost:8080/"
        }
      },
      "execution_count": 74,
      "outputs": [
        {
          "output_type": "execute_result",
          "data": {
            "text/plain": [
              "[UserContent(\n",
              "   parts=[\n",
              "     Part(\n",
              "       text='O que é a Inteligência Artificial ?'\n",
              "     ),\n",
              "   ],\n",
              "   role='user'\n",
              " ),\n",
              " Content(\n",
              "   parts=[\n",
              "     Part(\n",
              "       text=\"\"\"A **Inteligência Artificial (IA)** é um campo da ciência da computação que busca desenvolver sistemas capazes de realizar tarefas que normalmente exigiriam inteligência humana. Em essência, o objetivo da IA é simular e automatizar processos cognitivos humanos, como aprender, raciocinar, resolver problemas, perceber, compreender a linguagem e tomar decisões.\n",
              " \n",
              " Não é uma tecnologia única, mas um conjunto de diversas técnicas, algoritmos e modelos que permitem às máquinas \"pensar\" e agir de forma \"inteligente\".\n",
              " \n",
              " **Principais Características e Habilidades da IA:**\n",
              " \n",
              " 1.  **Aprendizagem (Machine Learning):** A capacidade de adquirir conhecimento e habilidades a partir de dados, sem ser explicitamente programada para cada tarefa. Os sistemas de IA identificam padrões, fazem previsões e melhoram seu desempenho com a experiência.\n",
              " 2.  **Raciocínio:** A capacidade de usar lógica e regras para tirar conclusões ou fazer inferências a partir de informações disponíveis.\n",
              " 3.  **Resolução de Problemas:** Encontrar soluções para desafios complexos, seja através de busca, otimização ou heurísticas.\n",
              " 4.  **Percepção:** Compreender e interpretar informações sensoriais, como imagens (Visão Computacional) ou fala (Processamento de Linguagem Natural), de forma similar a como os humanos percebem o mundo.\n",
              " 5.  **Compreensão da Linguagem Natural (PLN):** A capacidade de entender, interpretar e gerar linguagem humana de forma significativa.\n",
              " 6.  **Tomada de Decisão:** Escolher a melhor ação ou caminho com base em dados, probabilidades e objetivos.\n",
              " \n",
              " **Como a IA Funciona (de forma simplificada):**\n",
              " \n",
              " A IA geralmente funciona alimentando algoritmos complexos com grandes volumes de dados. Através desses dados, os algoritmos podem identificar padrões, aprender a fazer previsões ou tomar decisões, e até mesmo adaptar seu comportamento ao longo do tempo.\n",
              " \n",
              " **Exemplos de IA no Dia a Dia:**\n",
              " \n",
              " *   **Assistentes Virtuais:** Siri, Alexa, Google Assistant.\n",
              " *   **Sistemas de Recomendação:** O que a Netflix sugere para você assistir, ou o Spotify para ouvir.\n",
              " *   **Carros Autônomos:** Veículos que se dirigem sozinhos.\n",
              " *   **Reconhecimento Facial:** Em celulares ou sistemas de segurança.\n",
              " *   **Filtros de Spam:** Identificando e bloqueando e-mails indesejados.\n",
              " *   **Diagnósticos Médicos:** Auxiliando médicos a identificar doenças com base em imagens ou dados de pacientes.\n",
              " *   **Jogos:** Adversários de IA em videogames.\n",
              " \n",
              " **Tipos de IA:**\n",
              " \n",
              " *   **IA Fraca (ou Estreita):** É o tipo de IA que existe atualmente. É projetada e treinada para uma tarefa específica (ex: jogar xadrez, reconhecimento de voz). Não possui consciência ou inteligência geral.\n",
              " *   **IA Forte (ou Geral - AGI):** Ainda é teórica. Seria uma IA com inteligência cognitiva igual ou superior à de um ser humano, capaz de entender, aprender e aplicar inteligência a qualquer problema.\n",
              " *   **Superinteligência:** Uma IA hipotética que excede em muito a inteligência humana em todos os aspectos, incluindo criatividade científica, sabedoria geral e habilidades sociais.\n",
              " \n",
              " A IA está em constante evolução e tem o potencial de transformar quase todos os aspectos da vida humana, desde a medicina e a educação até o trabalho e o entretenimento, levantando também importantes questões éticas e sociais.\"\"\"\n",
              "     ),\n",
              "   ],\n",
              "   role='model'\n",
              " ),\n",
              " UserContent(\n",
              "   parts=[\n",
              "     Part(\n",
              "       text='Quando foi lançado o ChatGPT ?'\n",
              "     ),\n",
              "   ],\n",
              "   role='user'\n",
              " ),\n",
              " Content(\n",
              "   parts=[\n",
              "     Part(\n",
              "       text=\"\"\"O ChatGPT foi lançado pela OpenAI em **30 de novembro de 2022**.\n",
              " \n",
              " Essa foi a data em que a OpenAI disponibilizou publicamente um protótipo conversacional baseado em seu modelo de linguagem GPT-3.5, que rapidamente ganhou enorme popularidade e atenção global.\"\"\"\n",
              "     ),\n",
              "   ],\n",
              "   role='model'\n",
              " )]"
            ]
          },
          "metadata": {},
          "execution_count": 74
        }
      ]
    },
    {
      "cell_type": "code",
      "source": [
        "prompt = input(\"Digite sua pergunta: \")\n",
        "\n",
        "while prompt != \"fim\":\n",
        "  resposta4 = chat.send_message(prompt)\n",
        "  print(f\"{resposta4.text} \\n\")\n",
        "  prompt = input(\"Digite sua pergunta: \")\n",
        "\n",
        "  print(resposta4.text)\n"
      ],
      "metadata": {
        "colab": {
          "base_uri": "https://localhost:8080/"
        },
        "id": "ulhh0U-N6phf",
        "outputId": "f07ec307-445f-4b4c-a78f-53eab884e0de"
      },
      "execution_count": 75,
      "outputs": [
        {
          "output_type": "stream",
          "name": "stdout",
          "text": [
            "Digite sua pergunta: Para que serve o Deep Learning ?\n",
            "O **Deep Learning (Aprendizagem Profunda)** é um subcampo do Machine Learning (Aprendizagem de Máquina) que, por sua vez, é um subcampo da Inteligência Artificial. Ele se baseia em **redes neurais artificiais com múltiplas camadas** (daí o \"profundo\" ou \"deep\"), inspiradas na estrutura e função do cérebro humano.\n",
            "\n",
            "A principal serventia e poder do Deep Learning reside na sua capacidade de **aprender representações complexas de dados automaticamente** a partir de grandes volumes de informação, sem a necessidade de engenharia de características manual (que é a parte mais trabalhosa do Machine Learning tradicional).\n",
            "\n",
            "**Para que serve o Deep Learning?** Ele é a base para muitas das aplicações de IA mais impressionantes e revolucionárias que vemos hoje. Suas principais aplicações e utilidades incluem:\n",
            "\n",
            "1.  **Visão Computacional (Computer Vision):**\n",
            "    *   **Reconhecimento e Classificação de Imagens:** Identificar o que está em uma imagem (ex: é um gato, um carro, uma pessoa). Muito usado em segurança (reconhecimento facial), organização de fotos, controle de qualidade industrial.\n",
            "    *   **Detecção de Objetos:** Localizar e identificar múltiplos objetos dentro de uma imagem ou vídeo. Essencial para carros autônomos (identificar pedestres, sinais de trânsito, outros veículos), vigilância.\n",
            "    *   **Segmentação de Imagens:** Dividir uma imagem em regiões para identificar pixels pertencentes a diferentes objetos. Usado em medicina (análise de exames como ressonâncias, identificação de tumores), edição de imagens.\n",
            "    *   **Geração de Imagens:** Criar imagens realistas a partir de texto (Stable Diffusion, Midjourney) ou manipular imagens existentes (DeepFakes, restauração de fotos).\n",
            "\n",
            "2.  **Processamento de Linguagem Natural (NLP - Natural Language Processing):**\n",
            "    *   **Tradução Automática:** Traduzir textos de um idioma para outro (Google Translate).\n",
            "    *   **Geração de Texto:** Criar artigos, poemas, e-mails, resumos, roteiros (ChatGPT, outros grandes modelos de linguagem).\n",
            "    *   **Compreensão de Linguagem:** Analisar e entender o significado e o contexto de frases e documentos. Base para assistentes virtuais e chatbots.\n",
            "    *   **Análise de Sentimento:** Identificar a emoção ou opinião expressa em um texto (positivo, negativo, neutro). Usado em análise de feedback de clientes, monitoramento de mídias sociais.\n",
            "    *   **Reconhecimento de Fala:** Converter voz em texto (assistentes de voz como Siri, Alexa, transcrição de reuniões).\n",
            "    *   **Geração de Fala (Text-to-Speech):** Converter texto em áudio de voz.\n",
            "\n",
            "3.  **Sistemas de Recomendação:**\n",
            "    *   Prever o que um usuário pode gostar com base em seu histórico e no comportamento de usuários semelhantes. Usado por plataformas como Netflix (filmes), Spotify (músicas), Amazon (produtos).\n",
            "\n",
            "4.  **Carros Autônomos:**\n",
            "    *   Perceber o ambiente (outros veículos, pedestres, sinais de trânsito) através de câmeras e sensores.\n",
            "    *   Planejar rotas e tomar decisões em tempo real.\n",
            "\n",
            "5.  **Saúde e Medicina:**\n",
            "    *   Auxiliar no diagnóstico de doenças a partir de imagens médicas (raio-X, ressonância magnética, tomografia) ou dados de pacientes.\n",
            "    *   Descoberta de novos medicamentos e terapias.\n",
            "    *   Monitoramento de pacientes.\n",
            "\n",
            "6.  **Finanças:**\n",
            "    *   Detecção de fraudes em transações financeiras.\n",
            "    *   Previsão de mercado e análise de risco.\n",
            "    *   Análise de crédito.\n",
            "\n",
            "7.  **Jogos:**\n",
            "    *   Criação de inteligências artificiais para adversários em jogos.\n",
            "    *   Avanços em Aprendizagem por Reforço (Reinforcement Learning), onde algoritmos aprendem a jogar e a superar humanos em jogos complexos (AlphaGo, AlphaZero).\n",
            "\n",
            "**Em resumo, o Deep Learning serve para:**\n",
            "*   Extrair e aprender padrões complexos de dados brutos (imagens, texto, áudio).\n",
            "*   Automatizar tarefas cognitivas que antes exigiam inteligência humana.\n",
            "*   Construir sistemas de IA capazes de \"entender\" o mundo de uma forma mais sofisticada.\n",
            "*   Impulsionar a inovação em quase todos os setores, oferecendo soluções para problemas que eram intratáveis com métodos tradicionais.\n",
            "\n",
            "Ele é o motor por trás de grande parte do avanço da IA na última década, especialmente pela sua eficácia em lidar com dados não estruturados e pela sua capacidade de escalar com o aumento da disponibilidade de dados e poder computacional. \n",
            "\n",
            "Digite sua pergunta: fim\n",
            "O **Deep Learning (Aprendizagem Profunda)** é um subcampo do Machine Learning (Aprendizagem de Máquina) que, por sua vez, é um subcampo da Inteligência Artificial. Ele se baseia em **redes neurais artificiais com múltiplas camadas** (daí o \"profundo\" ou \"deep\"), inspiradas na estrutura e função do cérebro humano.\n",
            "\n",
            "A principal serventia e poder do Deep Learning reside na sua capacidade de **aprender representações complexas de dados automaticamente** a partir de grandes volumes de informação, sem a necessidade de engenharia de características manual (que é a parte mais trabalhosa do Machine Learning tradicional).\n",
            "\n",
            "**Para que serve o Deep Learning?** Ele é a base para muitas das aplicações de IA mais impressionantes e revolucionárias que vemos hoje. Suas principais aplicações e utilidades incluem:\n",
            "\n",
            "1.  **Visão Computacional (Computer Vision):**\n",
            "    *   **Reconhecimento e Classificação de Imagens:** Identificar o que está em uma imagem (ex: é um gato, um carro, uma pessoa). Muito usado em segurança (reconhecimento facial), organização de fotos, controle de qualidade industrial.\n",
            "    *   **Detecção de Objetos:** Localizar e identificar múltiplos objetos dentro de uma imagem ou vídeo. Essencial para carros autônomos (identificar pedestres, sinais de trânsito, outros veículos), vigilância.\n",
            "    *   **Segmentação de Imagens:** Dividir uma imagem em regiões para identificar pixels pertencentes a diferentes objetos. Usado em medicina (análise de exames como ressonâncias, identificação de tumores), edição de imagens.\n",
            "    *   **Geração de Imagens:** Criar imagens realistas a partir de texto (Stable Diffusion, Midjourney) ou manipular imagens existentes (DeepFakes, restauração de fotos).\n",
            "\n",
            "2.  **Processamento de Linguagem Natural (NLP - Natural Language Processing):**\n",
            "    *   **Tradução Automática:** Traduzir textos de um idioma para outro (Google Translate).\n",
            "    *   **Geração de Texto:** Criar artigos, poemas, e-mails, resumos, roteiros (ChatGPT, outros grandes modelos de linguagem).\n",
            "    *   **Compreensão de Linguagem:** Analisar e entender o significado e o contexto de frases e documentos. Base para assistentes virtuais e chatbots.\n",
            "    *   **Análise de Sentimento:** Identificar a emoção ou opinião expressa em um texto (positivo, negativo, neutro). Usado em análise de feedback de clientes, monitoramento de mídias sociais.\n",
            "    *   **Reconhecimento de Fala:** Converter voz em texto (assistentes de voz como Siri, Alexa, transcrição de reuniões).\n",
            "    *   **Geração de Fala (Text-to-Speech):** Converter texto em áudio de voz.\n",
            "\n",
            "3.  **Sistemas de Recomendação:**\n",
            "    *   Prever o que um usuário pode gostar com base em seu histórico e no comportamento de usuários semelhantes. Usado por plataformas como Netflix (filmes), Spotify (músicas), Amazon (produtos).\n",
            "\n",
            "4.  **Carros Autônomos:**\n",
            "    *   Perceber o ambiente (outros veículos, pedestres, sinais de trânsito) através de câmeras e sensores.\n",
            "    *   Planejar rotas e tomar decisões em tempo real.\n",
            "\n",
            "5.  **Saúde e Medicina:**\n",
            "    *   Auxiliar no diagnóstico de doenças a partir de imagens médicas (raio-X, ressonância magnética, tomografia) ou dados de pacientes.\n",
            "    *   Descoberta de novos medicamentos e terapias.\n",
            "    *   Monitoramento de pacientes.\n",
            "\n",
            "6.  **Finanças:**\n",
            "    *   Detecção de fraudes em transações financeiras.\n",
            "    *   Previsão de mercado e análise de risco.\n",
            "    *   Análise de crédito.\n",
            "\n",
            "7.  **Jogos:**\n",
            "    *   Criação de inteligências artificiais para adversários em jogos.\n",
            "    *   Avanços em Aprendizagem por Reforço (Reinforcement Learning), onde algoritmos aprendem a jogar e a superar humanos em jogos complexos (AlphaGo, AlphaZero).\n",
            "\n",
            "**Em resumo, o Deep Learning serve para:**\n",
            "*   Extrair e aprender padrões complexos de dados brutos (imagens, texto, áudio).\n",
            "*   Automatizar tarefas cognitivas que antes exigiam inteligência humana.\n",
            "*   Construir sistemas de IA capazes de \"entender\" o mundo de uma forma mais sofisticada.\n",
            "*   Impulsionar a inovação em quase todos os setores, oferecendo soluções para problemas que eram intratáveis com métodos tradicionais.\n",
            "\n",
            "Ele é o motor por trás de grande parte do avanço da IA na última década, especialmente pela sua eficácia em lidar com dados não estruturados e pela sua capacidade de escalar com o aumento da disponibilidade de dados e poder computacional.\n"
          ]
        }
      ]
    },
    {
      "cell_type": "markdown",
      "source": [
        "### Estruturas de Dados"
      ],
      "metadata": {
        "id": "F1IIs4jyT1SH"
      }
    },
    {
      "cell_type": "code",
      "source": [
        "lista_de_nomes = [\"Maria Silva\", \"João Santos\", \"Ana Oliveira\", \"Pedro Costa\", \"juliana Pereira\"]"
      ],
      "metadata": {
        "id": "CXidPaV7D8x_"
      },
      "execution_count": 76,
      "outputs": []
    },
    {
      "cell_type": "code",
      "source": [
        "print(lista_de_nomes[3])"
      ],
      "metadata": {
        "colab": {
          "base_uri": "https://localhost:8080/"
        },
        "id": "yzq5cGZPUTIu",
        "outputId": "64b5b19d-6b1b-4b98-ed22-1e0583e3f437"
      },
      "execution_count": 77,
      "outputs": [
        {
          "output_type": "stream",
          "name": "stdout",
          "text": [
            "Pedro Costa\n"
          ]
        }
      ]
    },
    {
      "cell_type": "code",
      "source": [
        "lista_de_medias = [8.9, 7.5, 4.2, 1.4, 9.5]"
      ],
      "metadata": {
        "id": "ub7ZyUPAUTL8"
      },
      "execution_count": 78,
      "outputs": []
    },
    {
      "cell_type": "code",
      "source": [
        "print(lista_de_nomes[3])"
      ],
      "metadata": {
        "colab": {
          "base_uri": "https://localhost:8080/"
        },
        "id": "D2LFpaIgUTPN",
        "outputId": "0c9bb4b2-cd04-48ea-f988-5a3ff59e1cee"
      },
      "execution_count": 79,
      "outputs": [
        {
          "output_type": "stream",
          "name": "stdout",
          "text": [
            "Pedro Costa\n"
          ]
        }
      ]
    },
    {
      "cell_type": "code",
      "source": [
        "for i in range(len(lista_de_medias)):   # Percorre a lista de médias e some 1 ao valor de cada média.\n",
        "\n",
        "  lista_de_medias[i] = lista_de_medias[i] + 1.0\n",
        "\n",
        "  if lista_de_medias[i] > 10.0:\n",
        "    lista_de_medias[i] = 10.0\n",
        "\n",
        "  print(lista_de_medias[i])"
      ],
      "metadata": {
        "colab": {
          "base_uri": "https://localhost:8080/"
        },
        "id": "p12nKWipUTSN",
        "outputId": "71fc5cbc-8598-4972-f1b0-72c8088dbd53"
      },
      "execution_count": 80,
      "outputs": [
        {
          "output_type": "stream",
          "name": "stdout",
          "text": [
            "9.9\n",
            "8.5\n",
            "5.2\n",
            "2.4\n",
            "10.0\n"
          ]
        }
      ]
    },
    {
      "cell_type": "code",
      "source": [
        "lista_de_medias = [8.9, 7.5, 4.2, 1.4, 9.5]"
      ],
      "metadata": {
        "id": "CzVxYdaHaO5G"
      },
      "execution_count": 81,
      "outputs": []
    },
    {
      "cell_type": "code",
      "source": [
        "n = 0\n",
        "\n",
        "while n < len(lista_de_medias):\n",
        "\n",
        "  lista_de_medias[n] += 1.0\n",
        "\n",
        "  if lista_de_medias[n] > 10.0:\n",
        "    lista_de_medias[n] = 10.0\n",
        "\n",
        "  print(lista_de_medias[n])\n",
        "\n",
        "  n += 1"
      ],
      "metadata": {
        "colab": {
          "base_uri": "https://localhost:8080/"
        },
        "id": "jZbvdqTlUTVN",
        "outputId": "7c122c16-8fe9-4517-f4eb-368c1fe2bd88"
      },
      "execution_count": 82,
      "outputs": [
        {
          "output_type": "stream",
          "name": "stdout",
          "text": [
            "9.9\n",
            "8.5\n",
            "5.2\n",
            "2.4\n",
            "10.0\n"
          ]
        }
      ]
    },
    {
      "cell_type": "code",
      "source": [
        "len(lista_de_medias)"
      ],
      "metadata": {
        "id": "cTT5XjwaZqUy",
        "colab": {
          "base_uri": "https://localhost:8080/"
        },
        "outputId": "ae0d59b2-e353-4777-a14f-61a2d8b4771a"
      },
      "execution_count": 83,
      "outputs": [
        {
          "output_type": "execute_result",
          "data": {
            "text/plain": [
              "5"
            ]
          },
          "metadata": {},
          "execution_count": 83
        }
      ]
    },
    {
      "cell_type": "code",
      "source": [
        "lista_de_medias[len(lista_de_medias) - 1 ]"
      ],
      "metadata": {
        "id": "SHzHpPt5ZqYX",
        "colab": {
          "base_uri": "https://localhost:8080/"
        },
        "outputId": "962e63de-c507-4583-b587-11433667715b"
      },
      "execution_count": 84,
      "outputs": [
        {
          "output_type": "execute_result",
          "data": {
            "text/plain": [
              "10.0"
            ]
          },
          "metadata": {},
          "execution_count": 84
        }
      ]
    },
    {
      "cell_type": "code",
      "source": [
        "lista_de_medias[-1]"
      ],
      "metadata": {
        "id": "sAV00QWXZqcV",
        "colab": {
          "base_uri": "https://localhost:8080/"
        },
        "outputId": "291c0fb4-dcaf-4875-a814-76193ee32ac8"
      },
      "execution_count": 85,
      "outputs": [
        {
          "output_type": "execute_result",
          "data": {
            "text/plain": [
              "10.0"
            ]
          },
          "metadata": {},
          "execution_count": 85
        }
      ]
    },
    {
      "cell_type": "code",
      "source": [
        "lista_de_nomes"
      ],
      "metadata": {
        "id": "RY6eSeG7ZqtC",
        "colab": {
          "base_uri": "https://localhost:8080/"
        },
        "outputId": "d112ea1b-9e46-4334-96de-988f061c7ca5"
      },
      "execution_count": 86,
      "outputs": [
        {
          "output_type": "execute_result",
          "data": {
            "text/plain": [
              "['Maria Silva',\n",
              " 'João Santos',\n",
              " 'Ana Oliveira',\n",
              " 'Pedro Costa',\n",
              " 'juliana Pereira']"
            ]
          },
          "metadata": {},
          "execution_count": 86
        }
      ]
    },
    {
      "cell_type": "code",
      "source": [
        "lista_de_nomes[1:]"
      ],
      "metadata": {
        "id": "nK6LT53_6psL",
        "colab": {
          "base_uri": "https://localhost:8080/"
        },
        "outputId": "e077ff4b-615d-4d38-bf7f-9a9e2ef36ebd"
      },
      "execution_count": 87,
      "outputs": [
        {
          "output_type": "execute_result",
          "data": {
            "text/plain": [
              "['João Santos', 'Ana Oliveira', 'Pedro Costa', 'juliana Pereira']"
            ]
          },
          "metadata": {},
          "execution_count": 87
        }
      ]
    },
    {
      "cell_type": "code",
      "source": [
        "lista_de_nomes[0:]"
      ],
      "metadata": {
        "id": "2H1FRq7v6pvu",
        "colab": {
          "base_uri": "https://localhost:8080/"
        },
        "outputId": "71161646-6843-44d0-c66b-4dd7f8c7d83e"
      },
      "execution_count": 88,
      "outputs": [
        {
          "output_type": "execute_result",
          "data": {
            "text/plain": [
              "['Maria Silva',\n",
              " 'João Santos',\n",
              " 'Ana Oliveira',\n",
              " 'Pedro Costa',\n",
              " 'juliana Pereira']"
            ]
          },
          "metadata": {},
          "execution_count": 88
        }
      ]
    },
    {
      "cell_type": "code",
      "source": [
        "lista_de_nomes[:]"
      ],
      "metadata": {
        "colab": {
          "base_uri": "https://localhost:8080/"
        },
        "id": "IP_IyHrGfMbi",
        "outputId": "a6ca55a3-dc6c-41ef-d387-2ee4250c4247"
      },
      "execution_count": 89,
      "outputs": [
        {
          "output_type": "execute_result",
          "data": {
            "text/plain": [
              "['Maria Silva',\n",
              " 'João Santos',\n",
              " 'Ana Oliveira',\n",
              " 'Pedro Costa',\n",
              " 'juliana Pereira']"
            ]
          },
          "metadata": {},
          "execution_count": 89
        }
      ]
    },
    {
      "cell_type": "code",
      "source": [
        "lista_de_nomes[1:4]"
      ],
      "metadata": {
        "colab": {
          "base_uri": "https://localhost:8080/"
        },
        "id": "YsrY_ZTwfMpG",
        "outputId": "f3589661-fb1d-4bcb-90b1-0e4b216bd5a2"
      },
      "execution_count": 90,
      "outputs": [
        {
          "output_type": "execute_result",
          "data": {
            "text/plain": [
              "['João Santos', 'Ana Oliveira', 'Pedro Costa']"
            ]
          },
          "metadata": {},
          "execution_count": 90
        }
      ]
    },
    {
      "cell_type": "code",
      "source": [
        "lista_de_nomes[:4]"
      ],
      "metadata": {
        "colab": {
          "base_uri": "https://localhost:8080/"
        },
        "id": "_b0Lv1H6fMt5",
        "outputId": "c95ee260-4728-44bc-8fd6-6e4b0612cc82"
      },
      "execution_count": 91,
      "outputs": [
        {
          "output_type": "execute_result",
          "data": {
            "text/plain": [
              "['Maria Silva', 'João Santos', 'Ana Oliveira', 'Pedro Costa']"
            ]
          },
          "metadata": {},
          "execution_count": 91
        }
      ]
    },
    {
      "cell_type": "code",
      "source": [
        "lista_de_nomes.append(\"Fabrício\")"
      ],
      "metadata": {
        "id": "BgGxcCHIfMxR"
      },
      "execution_count": 92,
      "outputs": []
    },
    {
      "cell_type": "code",
      "source": [
        "lista_de_nomes"
      ],
      "metadata": {
        "colab": {
          "base_uri": "https://localhost:8080/"
        },
        "id": "7cAsoz5Hfvgn",
        "outputId": "2f56f62d-52b7-48ab-a95d-06cb00f3b5d9"
      },
      "execution_count": 93,
      "outputs": [
        {
          "output_type": "execute_result",
          "data": {
            "text/plain": [
              "['Maria Silva',\n",
              " 'João Santos',\n",
              " 'Ana Oliveira',\n",
              " 'Pedro Costa',\n",
              " 'juliana Pereira',\n",
              " 'Fabrício']"
            ]
          },
          "metadata": {},
          "execution_count": 93
        }
      ]
    },
    {
      "cell_type": "code",
      "source": [
        "lista_de_nomes.extend([\"Joana da Silva\", \"Paulo Silveira\"])"
      ],
      "metadata": {
        "id": "g0Aqz5ZRfvuH"
      },
      "execution_count": 94,
      "outputs": []
    },
    {
      "cell_type": "code",
      "source": [
        "lista_de_nomes"
      ],
      "metadata": {
        "colab": {
          "base_uri": "https://localhost:8080/"
        },
        "id": "wc6oOtC0fvxZ",
        "outputId": "a04f28b4-c498-4ee0-f461-d049d39f6fcd"
      },
      "execution_count": 95,
      "outputs": [
        {
          "output_type": "execute_result",
          "data": {
            "text/plain": [
              "['Maria Silva',\n",
              " 'João Santos',\n",
              " 'Ana Oliveira',\n",
              " 'Pedro Costa',\n",
              " 'juliana Pereira',\n",
              " 'Fabrício',\n",
              " 'Joana da Silva',\n",
              " 'Paulo Silveira']"
            ]
          },
          "metadata": {},
          "execution_count": 95
        }
      ]
    },
    {
      "cell_type": "code",
      "source": [
        "lista_de_nomes.append([\"Marcio Costa\",\"Natalia Pedreira\"])"
      ],
      "metadata": {
        "id": "tG6rVTonioDv"
      },
      "execution_count": 96,
      "outputs": []
    },
    {
      "cell_type": "code",
      "source": [
        "lista_de_nomes[8]"
      ],
      "metadata": {
        "colab": {
          "base_uri": "https://localhost:8080/"
        },
        "id": "stOW0Cqtfv4R",
        "outputId": "26dd9254-f53f-4a6e-fa8d-62e0fe696a76"
      },
      "execution_count": 97,
      "outputs": [
        {
          "output_type": "execute_result",
          "data": {
            "text/plain": [
              "['Marcio Costa', 'Natalia Pedreira']"
            ]
          },
          "metadata": {},
          "execution_count": 97
        }
      ]
    },
    {
      "cell_type": "code",
      "source": [
        "lista_de_nomes[8][0]"
      ],
      "metadata": {
        "colab": {
          "base_uri": "https://localhost:8080/",
          "height": 35
        },
        "id": "Xmu_YZP-i5Ho",
        "outputId": "e6f6423b-b31b-4f63-d80a-641732030a28"
      },
      "execution_count": 98,
      "outputs": [
        {
          "output_type": "execute_result",
          "data": {
            "text/plain": [
              "'Marcio Costa'"
            ],
            "application/vnd.google.colaboratory.intrinsic+json": {
              "type": "string"
            }
          },
          "metadata": {},
          "execution_count": 98
        }
      ]
    },
    {
      "cell_type": "code",
      "source": [
        "lista_de_nomes = [\"Maria Silva\", \"João Santos\", \"Ana Oliveira\", \"Pedro Costa\", \"juliana Pereira\"]"
      ],
      "metadata": {
        "id": "2hIjUfTMkuPn"
      },
      "execution_count": 99,
      "outputs": []
    },
    {
      "cell_type": "code",
      "source": [
        "lista_de_nomes.extend([\"Joana da Silva\", \"Paulo Silveira\"])"
      ],
      "metadata": {
        "id": "Ge17ZIl8kys1"
      },
      "execution_count": 100,
      "outputs": []
    },
    {
      "cell_type": "code",
      "source": [
        "lista_de_nomes"
      ],
      "metadata": {
        "colab": {
          "base_uri": "https://localhost:8080/"
        },
        "id": "wnTuVuZrfv7w",
        "outputId": "f9bafa0e-5c87-4f38-d7f3-acfb9687247b"
      },
      "execution_count": 101,
      "outputs": [
        {
          "output_type": "execute_result",
          "data": {
            "text/plain": [
              "['Maria Silva',\n",
              " 'João Santos',\n",
              " 'Ana Oliveira',\n",
              " 'Pedro Costa',\n",
              " 'juliana Pereira',\n",
              " 'Joana da Silva',\n",
              " 'Paulo Silveira']"
            ]
          },
          "metadata": {},
          "execution_count": 101
        }
      ]
    },
    {
      "cell_type": "code",
      "source": [
        "lista_de_nomes.remove(\"Paulo Silveira\")"
      ],
      "metadata": {
        "id": "q48_4R2Ck2Nv"
      },
      "execution_count": 102,
      "outputs": []
    },
    {
      "cell_type": "code",
      "source": [
        "lista_de_nomes"
      ],
      "metadata": {
        "colab": {
          "base_uri": "https://localhost:8080/"
        },
        "id": "jCQHOVNuk2bJ",
        "outputId": "c460a6b1-ca86-4fd3-e1d9-db3045ea53fb"
      },
      "execution_count": 103,
      "outputs": [
        {
          "output_type": "execute_result",
          "data": {
            "text/plain": [
              "['Maria Silva',\n",
              " 'João Santos',\n",
              " 'Ana Oliveira',\n",
              " 'Pedro Costa',\n",
              " 'juliana Pereira',\n",
              " 'Joana da Silva']"
            ]
          },
          "metadata": {},
          "execution_count": 103
        }
      ]
    },
    {
      "cell_type": "code",
      "source": [
        "lista_de_nomes.pop()"
      ],
      "metadata": {
        "colab": {
          "base_uri": "https://localhost:8080/",
          "height": 35
        },
        "id": "SQmOve3Uk2fr",
        "outputId": "f38cc7e0-783e-44cb-be04-48d85e99c5b8"
      },
      "execution_count": 104,
      "outputs": [
        {
          "output_type": "execute_result",
          "data": {
            "text/plain": [
              "'Joana da Silva'"
            ],
            "application/vnd.google.colaboratory.intrinsic+json": {
              "type": "string"
            }
          },
          "metadata": {},
          "execution_count": 104
        }
      ]
    },
    {
      "cell_type": "code",
      "source": [
        "lista_de_nomes"
      ],
      "metadata": {
        "colab": {
          "base_uri": "https://localhost:8080/"
        },
        "id": "_A_Dbph4k_dt",
        "outputId": "7a4702a7-6528-4537-a3c0-39f805d79399"
      },
      "execution_count": 105,
      "outputs": [
        {
          "output_type": "execute_result",
          "data": {
            "text/plain": [
              "['Maria Silva',\n",
              " 'João Santos',\n",
              " 'Ana Oliveira',\n",
              " 'Pedro Costa',\n",
              " 'juliana Pereira']"
            ]
          },
          "metadata": {},
          "execution_count": 105
        }
      ]
    },
    {
      "cell_type": "code",
      "source": [
        "lista_de_nomes.pop(2)"
      ],
      "metadata": {
        "colab": {
          "base_uri": "https://localhost:8080/",
          "height": 35
        },
        "id": "1vLlYUstk_kA",
        "outputId": "cf72b727-b2c6-48b1-e915-242a8c1d3a68"
      },
      "execution_count": 106,
      "outputs": [
        {
          "output_type": "execute_result",
          "data": {
            "text/plain": [
              "'Ana Oliveira'"
            ],
            "application/vnd.google.colaboratory.intrinsic+json": {
              "type": "string"
            }
          },
          "metadata": {},
          "execution_count": 106
        }
      ]
    },
    {
      "cell_type": "code",
      "source": [
        "lista_de_nomes"
      ],
      "metadata": {
        "colab": {
          "base_uri": "https://localhost:8080/"
        },
        "id": "RH4G9Rlpk_73",
        "outputId": "9e6091ac-a24f-41ec-e822-48d93d07dc02"
      },
      "execution_count": 107,
      "outputs": [
        {
          "output_type": "execute_result",
          "data": {
            "text/plain": [
              "['Maria Silva', 'João Santos', 'Pedro Costa', 'juliana Pereira']"
            ]
          },
          "metadata": {},
          "execution_count": 107
        }
      ]
    },
    {
      "cell_type": "code",
      "source": [],
      "metadata": {
        "id": "diSGExmRnQma"
      },
      "execution_count": 107,
      "outputs": []
    },
    {
      "cell_type": "markdown",
      "source": [
        "# Dicionários\n",
        "# \"chave\".valor"
      ],
      "metadata": {
        "id": "82HYEA_QoChz"
      }
    },
    {
      "cell_type": "code",
      "source": [
        "dict_de_nomes_e_medias = {\n",
        "    \"Maria Silva\": 8.9,\n",
        "    \"João Santos\": 7.5,\n",
        "    \"Ana Oliveira\": 4.2,\n",
        "    \"Pedro Costa\": 1.4,\n",
        "    \"juliana Pereira\": 9.5\n",
        "}"
      ],
      "metadata": {
        "id": "HD1l_v7unil3"
      },
      "execution_count": 108,
      "outputs": []
    },
    {
      "cell_type": "code",
      "source": [
        "dict_de_nomes_e_medias"
      ],
      "metadata": {
        "colab": {
          "base_uri": "https://localhost:8080/"
        },
        "id": "qs63L0udniud",
        "outputId": "e0136c8f-6424-47dc-cf99-28473ee9bcc8"
      },
      "execution_count": 109,
      "outputs": [
        {
          "output_type": "execute_result",
          "data": {
            "text/plain": [
              "{'Maria Silva': 8.9,\n",
              " 'João Santos': 7.5,\n",
              " 'Ana Oliveira': 4.2,\n",
              " 'Pedro Costa': 1.4,\n",
              " 'juliana Pereira': 9.5}"
            ]
          },
          "metadata": {},
          "execution_count": 109
        }
      ]
    },
    {
      "cell_type": "code",
      "source": [
        "dict_de_nomes_e_medias[\"Maria Silva\"]"
      ],
      "metadata": {
        "colab": {
          "base_uri": "https://localhost:8080/"
        },
        "id": "1hGm-TAeniyI",
        "outputId": "357ba6c2-ee4e-46e7-b52c-162077d183ae"
      },
      "execution_count": 110,
      "outputs": [
        {
          "output_type": "execute_result",
          "data": {
            "text/plain": [
              "8.9"
            ]
          },
          "metadata": {},
          "execution_count": 110
        }
      ]
    },
    {
      "cell_type": "code",
      "source": [
        "dict_de_nomes_e_medias.get(\"Maria Silva\")"
      ],
      "metadata": {
        "colab": {
          "base_uri": "https://localhost:8080/"
        },
        "id": "IuJNnCoqni38",
        "outputId": "663ed349-59ec-41f3-a071-b5723b0f495d"
      },
      "execution_count": 111,
      "outputs": [
        {
          "output_type": "execute_result",
          "data": {
            "text/plain": [
              "8.9"
            ]
          },
          "metadata": {},
          "execution_count": 111
        }
      ]
    },
    {
      "cell_type": "code",
      "source": [
        "dict_de_nomes_e_medias"
      ],
      "metadata": {
        "colab": {
          "base_uri": "https://localhost:8080/"
        },
        "id": "5EqvdSPPs-0C",
        "outputId": "34ccc000-8657-4981-f343-ed96ae307587"
      },
      "execution_count": 112,
      "outputs": [
        {
          "output_type": "execute_result",
          "data": {
            "text/plain": [
              "{'Maria Silva': 8.9,\n",
              " 'João Santos': 7.5,\n",
              " 'Ana Oliveira': 4.2,\n",
              " 'Pedro Costa': 1.4,\n",
              " 'juliana Pereira': 9.5}"
            ]
          },
          "metadata": {},
          "execution_count": 112
        }
      ]
    },
    {
      "cell_type": "code",
      "source": [
        "dict_de_nomes_e_medias.pop(\"juliana Pereira\")"
      ],
      "metadata": {
        "colab": {
          "base_uri": "https://localhost:8080/"
        },
        "id": "Bt9m3HKjs-3i",
        "outputId": "43af0ca6-cc49-4a44-950a-47b19783dd5e"
      },
      "execution_count": 113,
      "outputs": [
        {
          "output_type": "execute_result",
          "data": {
            "text/plain": [
              "9.5"
            ]
          },
          "metadata": {},
          "execution_count": 113
        }
      ]
    },
    {
      "cell_type": "code",
      "source": [
        "dict_de_nomes_e_medias"
      ],
      "metadata": {
        "colab": {
          "base_uri": "https://localhost:8080/"
        },
        "id": "UyCLTEXss-65",
        "outputId": "8556479e-f61a-44b9-834d-d73865d53c6c"
      },
      "execution_count": 114,
      "outputs": [
        {
          "output_type": "execute_result",
          "data": {
            "text/plain": [
              "{'Maria Silva': 8.9,\n",
              " 'João Santos': 7.5,\n",
              " 'Ana Oliveira': 4.2,\n",
              " 'Pedro Costa': 1.4}"
            ]
          },
          "metadata": {},
          "execution_count": 114
        }
      ]
    },
    {
      "cell_type": "code",
      "source": [
        "dict_de_nomes_e_medias.items()"
      ],
      "metadata": {
        "colab": {
          "base_uri": "https://localhost:8080/"
        },
        "id": "EgHEOc_Xs--F",
        "outputId": "78805695-86f0-47ef-c8ec-f91e9531fca3"
      },
      "execution_count": 115,
      "outputs": [
        {
          "output_type": "execute_result",
          "data": {
            "text/plain": [
              "dict_items([('Maria Silva', 8.9), ('João Santos', 7.5), ('Ana Oliveira', 4.2), ('Pedro Costa', 1.4)])"
            ]
          },
          "metadata": {},
          "execution_count": 115
        }
      ]
    },
    {
      "cell_type": "code",
      "source": [
        "dict_de_nomes_e_medias.keys()"
      ],
      "metadata": {
        "colab": {
          "base_uri": "https://localhost:8080/"
        },
        "id": "QFOGhawgs_Bp",
        "outputId": "24968094-0d92-4436-f0f7-be6640303634"
      },
      "execution_count": 116,
      "outputs": [
        {
          "output_type": "execute_result",
          "data": {
            "text/plain": [
              "dict_keys(['Maria Silva', 'João Santos', 'Ana Oliveira', 'Pedro Costa'])"
            ]
          },
          "metadata": {},
          "execution_count": 116
        }
      ]
    },
    {
      "cell_type": "code",
      "source": [
        "dict_de_nomes_e_medias.values()"
      ],
      "metadata": {
        "colab": {
          "base_uri": "https://localhost:8080/"
        },
        "id": "YYN2ozoZs_FX",
        "outputId": "8b56f47f-423d-4027-8340-899e3e8aa26f"
      },
      "execution_count": 117,
      "outputs": [
        {
          "output_type": "execute_result",
          "data": {
            "text/plain": [
              "dict_values([8.9, 7.5, 4.2, 1.4])"
            ]
          },
          "metadata": {},
          "execution_count": 117
        }
      ]
    },
    {
      "cell_type": "markdown",
      "source": [
        "# Desafio: Usar dicionários de forma que as chaves sejam \"nome\" e \"média\" e os valores sejam os nomes e médias dos alunos"
      ],
      "metadata": {
        "id": "PvHJlfbwvqeD"
      }
    },
    {
      "cell_type": "code",
      "source": [
        "dict_desafio = [\n",
        "    {\"nome\": \"Maria Silva\",  \"media\": 8.9},\n",
        "    {\"nome\": \"João Santos\",  \"media\": 7.5},\n",
        "    {\"nome\": \"Ana Oliveira\", \"media\": 4.2},\n",
        "    {\"nome\": \"Pedro Costa\",  \"media\": 1.4},\n",
        "]"
      ],
      "metadata": {
        "id": "HHdHz6rDvEmi"
      },
      "execution_count": 118,
      "outputs": []
    },
    {
      "cell_type": "code",
      "source": [
        "dict_desafio[0]"
      ],
      "metadata": {
        "colab": {
          "base_uri": "https://localhost:8080/"
        },
        "id": "aouX4EjdvErN",
        "outputId": "c5f33979-6ee9-4bed-8622-037af6436fe7"
      },
      "execution_count": 119,
      "outputs": [
        {
          "output_type": "execute_result",
          "data": {
            "text/plain": [
              "{'nome': 'Maria Silva', 'media': 8.9}"
            ]
          },
          "metadata": {},
          "execution_count": 119
        }
      ]
    },
    {
      "cell_type": "code",
      "source": [
        "dict_desafio[0][\"media\"]"
      ],
      "metadata": {
        "colab": {
          "base_uri": "https://localhost:8080/"
        },
        "id": "0GAtU9q5vEvN",
        "outputId": "7eda6b02-4ddc-4138-ed79-cdd74b29f9db"
      },
      "execution_count": 120,
      "outputs": [
        {
          "output_type": "execute_result",
          "data": {
            "text/plain": [
              "8.9"
            ]
          },
          "metadata": {},
          "execution_count": 120
        }
      ]
    },
    {
      "cell_type": "code",
      "source": [
        "nomes = ['Maria', 'João', 'Ana', 'Pedro', 'Juliana']\n",
        "\n",
        "print(nomes[-1])  # Exibe 'Juliana'\n",
        "print(nomes[-2])  # Exibe 'Pedro'"
      ],
      "metadata": {
        "colab": {
          "base_uri": "https://localhost:8080/"
        },
        "id": "GZUx98YLvIV0",
        "outputId": "08ee298b-1408-4ef9-e2ea-297fbf52c28b"
      },
      "execution_count": 121,
      "outputs": [
        {
          "output_type": "stream",
          "name": "stdout",
          "text": [
            "Juliana\n",
            "Pedro\n"
          ]
        }
      ]
    },
    {
      "cell_type": "code",
      "source": [
        "# Exemplo de slicing com índice negativo\n",
        "\n",
        "ultimos_tres = nomes[-3:]\n",
        "\n",
        "print(ultimos_tres)  # Exibe ['Ana', 'Pedro', 'Juliana']"
      ],
      "metadata": {
        "colab": {
          "base_uri": "https://localhost:8080/"
        },
        "id": "mxEvI0HBvKHC",
        "outputId": "254a9511-095d-4586-d98b-e85b5d8cddc0"
      },
      "execution_count": 122,
      "outputs": [
        {
          "output_type": "stream",
          "name": "stdout",
          "text": [
            "['Ana', 'Pedro', 'Juliana']\n"
          ]
        }
      ]
    },
    {
      "cell_type": "code",
      "source": [
        "dict_desafio = [\n",
        "    {\"nome\": \"Maria Silva\",  \"media\": 8.9},\n",
        "    {\"nome\": \"João Santos\",  \"media\": 7.5},\n",
        "    {\"nome\": \"Ana Oliveira\", \"media\": 4.2},\n",
        "    {\"nome\": \"Pedro Costa\",  \"media\": 1.4},\n",
        "]"
      ],
      "metadata": {
        "id": "zj5rGgfJHGzh"
      },
      "execution_count": 123,
      "outputs": []
    },
    {
      "cell_type": "code",
      "source": [
        "n = 0\n",
        "while n < len(dict_desafio):\n",
        "    print (dict_desafio[n])\n",
        "    n += 1\n"
      ],
      "metadata": {
        "colab": {
          "base_uri": "https://localhost:8080/"
        },
        "id": "tXS86hTZDYuK",
        "outputId": "80ae10aa-e01a-4579-98d6-58aa55ea2ea3"
      },
      "execution_count": 124,
      "outputs": [
        {
          "output_type": "stream",
          "name": "stdout",
          "text": [
            "{'nome': 'Maria Silva', 'media': 8.9}\n",
            "{'nome': 'João Santos', 'media': 7.5}\n",
            "{'nome': 'Ana Oliveira', 'media': 4.2}\n",
            "{'nome': 'Pedro Costa', 'media': 1.4}\n"
          ]
        }
      ]
    },
    {
      "cell_type": "code",
      "source": [
        "for elemento in dict_desafio:\n",
        "    print(elemento)"
      ],
      "metadata": {
        "colab": {
          "base_uri": "https://localhost:8080/"
        },
        "id": "u_-u3RYnDYyH",
        "outputId": "db9906e3-8f6c-4e07-b8e9-f4b1c4e6d277"
      },
      "execution_count": 125,
      "outputs": [
        {
          "output_type": "stream",
          "name": "stdout",
          "text": [
            "{'nome': 'Maria Silva', 'media': 8.9}\n",
            "{'nome': 'João Santos', 'media': 7.5}\n",
            "{'nome': 'Ana Oliveira', 'media': 4.2}\n",
            "{'nome': 'Pedro Costa', 'media': 1.4}\n"
          ]
        }
      ]
    },
    {
      "cell_type": "code",
      "source": [
        "for n in range(5):\n",
        "    print(n)"
      ],
      "metadata": {
        "colab": {
          "base_uri": "https://localhost:8080/"
        },
        "id": "1aiznBnBDY1q",
        "outputId": "54c71800-d11a-4572-f8ba-66053aa1f085"
      },
      "execution_count": 126,
      "outputs": [
        {
          "output_type": "stream",
          "name": "stdout",
          "text": [
            "0\n",
            "1\n",
            "2\n",
            "3\n",
            "4\n"
          ]
        }
      ]
    },
    {
      "cell_type": "code",
      "source": [
        "for n in range(2, 7):\n",
        "    print(n)"
      ],
      "metadata": {
        "colab": {
          "base_uri": "https://localhost:8080/"
        },
        "id": "k6vYlGDNDY5N",
        "outputId": "4395ca5a-689e-4ada-d7b5-4d3e6bada0ee"
      },
      "execution_count": 127,
      "outputs": [
        {
          "output_type": "stream",
          "name": "stdout",
          "text": [
            "2\n",
            "3\n",
            "4\n",
            "5\n",
            "6\n"
          ]
        }
      ]
    },
    {
      "cell_type": "code",
      "source": [
        "for n in range(2, 7, 2):\n",
        "    print(n)"
      ],
      "metadata": {
        "id": "6nniLr5_MNkP",
        "outputId": "50edc893-36a4-40da-b9f9-b14155d5f3d7",
        "colab": {
          "base_uri": "https://localhost:8080/"
        }
      },
      "execution_count": 128,
      "outputs": [
        {
          "output_type": "stream",
          "name": "stdout",
          "text": [
            "2\n",
            "4\n",
            "6\n"
          ]
        }
      ]
    },
    {
      "cell_type": "code",
      "source": [
        "pessoa = {\n",
        "    \"nome\": \"Fabrício\",\n",
        "    \"idade\": 19,\n",
        "    \"altura\": 1.87\n",
        "}\n",
        "\n",
        "print(pessoa)"
      ],
      "metadata": {
        "id": "o9flXDY3MNXx",
        "outputId": "ffc699ff-3d92-4e02-cdb3-760c218475e2",
        "colab": {
          "base_uri": "https://localhost:8080/"
        }
      },
      "execution_count": 129,
      "outputs": [
        {
          "output_type": "stream",
          "name": "stdout",
          "text": [
            "{'nome': 'Fabrício', 'idade': 19, 'altura': 1.87}\n"
          ]
        }
      ]
    },
    {
      "cell_type": "code",
      "source": [
        "for key in pessoa:\n",
        "    print(key)"
      ],
      "metadata": {
        "id": "Cu-kgeEEMNC9",
        "outputId": "61dd0430-c072-47e9-bcd9-836946062fd1",
        "colab": {
          "base_uri": "https://localhost:8080/"
        }
      },
      "execution_count": 130,
      "outputs": [
        {
          "output_type": "stream",
          "name": "stdout",
          "text": [
            "nome\n",
            "idade\n",
            "altura\n"
          ]
        }
      ]
    },
    {
      "cell_type": "code",
      "source": [
        "pessoa.items()"
      ],
      "metadata": {
        "id": "TSPOnKE1Ncqi",
        "outputId": "50662a9d-55c6-4d9d-9c1f-f8d0df121af8",
        "colab": {
          "base_uri": "https://localhost:8080/"
        }
      },
      "execution_count": 131,
      "outputs": [
        {
          "output_type": "execute_result",
          "data": {
            "text/plain": [
              "dict_items([('nome', 'Fabrício'), ('idade', 19), ('altura', 1.87)])"
            ]
          },
          "metadata": {},
          "execution_count": 131
        }
      ]
    },
    {
      "cell_type": "code",
      "source": [
        "for key,value in pessoa.items():\n",
        "    print(f\"A chave é {key} e o valor é {value}\")"
      ],
      "metadata": {
        "id": "0UnCDQiDNcfs",
        "outputId": "67180a46-7731-4cd9-b4ce-05bd2822c2f2",
        "colab": {
          "base_uri": "https://localhost:8080/"
        }
      },
      "execution_count": 132,
      "outputs": [
        {
          "output_type": "stream",
          "name": "stdout",
          "text": [
            "A chave é nome e o valor é Fabrício\n",
            "A chave é idade e o valor é 19\n",
            "A chave é altura e o valor é 1.87\n"
          ]
        }
      ]
    },
    {
      "cell_type": "code",
      "source": [
        "for n in range(0,11):\n",
        "    if n % 2 == 0 :\n",
        "        print(n)"
      ],
      "metadata": {
        "id": "7mQ-EKbjNy8g",
        "outputId": "a17d33da-9213-4348-86c6-2ef4305ed04d",
        "colab": {
          "base_uri": "https://localhost:8080/"
        }
      },
      "execution_count": 133,
      "outputs": [
        {
          "output_type": "stream",
          "name": "stdout",
          "text": [
            "0\n",
            "2\n",
            "4\n",
            "6\n",
            "8\n",
            "10\n"
          ]
        }
      ]
    },
    {
      "cell_type": "code",
      "source": [
        "texto1 = \"    Fabrício CARRaro  da alura   \"\n",
        "texto2 = \"mArIA    aNA     sAntoS.  pereiRA\"\n",
        "texto3 = \"  PeDRO.  alvaRes  cabrAl \"\n",
        "texto4 = \"   anA   caroLINa.    FerreirA  \"\n",
        "texto5 = \"  rObertO.   carlOS.     OliveiRa  \""
      ],
      "metadata": {
        "id": "m02lUth4NyqI"
      },
      "execution_count": 134,
      "outputs": []
    },
    {
      "cell_type": "code",
      "source": [
        "texto1.split()"
      ],
      "metadata": {
        "id": "5j8TdIPIUn94",
        "outputId": "4484cb49-cb21-441b-d570-31ce232961fe",
        "colab": {
          "base_uri": "https://localhost:8080/"
        }
      },
      "execution_count": 135,
      "outputs": [
        {
          "output_type": "execute_result",
          "data": {
            "text/plain": [
              "['Fabrício', 'CARRaro', 'da', 'alura']"
            ]
          },
          "metadata": {},
          "execution_count": 135
        }
      ]
    },
    {
      "cell_type": "code",
      "source": [
        "def escreve_texto_corretamente(texto):\n",
        "    texto_novo = texto.upper()\n",
        "    lista_de_palavras = texto_novo.split()\n",
        "    nome_final = \" \".join(lista_de_palavras)\n",
        "    print(nome_final)"
      ],
      "metadata": {
        "id": "UGu6Q7LXNyko"
      },
      "execution_count": 136,
      "outputs": []
    },
    {
      "cell_type": "code",
      "source": [
        "escreve_texto_corretamente(texto1)\n"
      ],
      "metadata": {
        "id": "utsHIxfGNydN",
        "outputId": "1ed69d17-925d-4a4e-b026-aadbab6c1951",
        "colab": {
          "base_uri": "https://localhost:8080/"
        }
      },
      "execution_count": 137,
      "outputs": [
        {
          "output_type": "stream",
          "name": "stdout",
          "text": [
            "FABRÍCIO CARRARO DA ALURA\n"
          ]
        }
      ]
    },
    {
      "cell_type": "code",
      "source": [
        "escreve_texto_corretamente(texto2)"
      ],
      "metadata": {
        "id": "OxqG6y__NyWi",
        "outputId": "6228c9a3-4a83-4304-a849-bcda18f9b3f1",
        "colab": {
          "base_uri": "https://localhost:8080/"
        }
      },
      "execution_count": 138,
      "outputs": [
        {
          "output_type": "stream",
          "name": "stdout",
          "text": [
            "MARIA ANA SANTOS. PEREIRA\n"
          ]
        }
      ]
    },
    {
      "cell_type": "code",
      "source": [
        "def escreve_texto_corretamente_alternativa(texto):\n",
        "    nome_final = \" \".join(texto.upper().split())\n",
        "    return nome_final"
      ],
      "metadata": {
        "id": "kkIcLf0DBRkI"
      },
      "execution_count": 139,
      "outputs": []
    },
    {
      "cell_type": "code",
      "source": [
        "escreve_texto_corretamente_alternativa(texto1)"
      ],
      "metadata": {
        "id": "Ee7876RFnMhQ",
        "outputId": "56253504-1153-4333-c177-9affa61216cd",
        "colab": {
          "base_uri": "https://localhost:8080/",
          "height": 35
        }
      },
      "execution_count": 140,
      "outputs": [
        {
          "output_type": "execute_result",
          "data": {
            "text/plain": [
              "'FABRÍCIO CARRARO DA ALURA'"
            ],
            "application/vnd.google.colaboratory.intrinsic+json": {
              "type": "string"
            }
          },
          "metadata": {},
          "execution_count": 140
        }
      ]
    },
    {
      "cell_type": "code",
      "source": [
        "salas_de_aula = [\"sala 1\", \"sala 2\", \"sala 3\"]"
      ],
      "metadata": {
        "id": "QCgm4KkVCLMz"
      },
      "execution_count": 141,
      "outputs": []
    },
    {
      "cell_type": "code",
      "source": [
        "import random\n",
        "\n",
        "def aloca_alunos_em_salas(nome_do_aluno, lista_de_salas):\n",
        "    sala_do_aluno = random.choice(lista_de_salas)\n",
        "\n",
        "    dict_aluno = {\n",
        "        \"nome\": nome_do_aluno,\n",
        "        \"sala\": sala_do_aluno\n",
        "    }\n",
        "    print(dict_aluno)"
      ],
      "metadata": {
        "id": "6hQX2nrfCLHg"
      },
      "execution_count": 142,
      "outputs": []
    },
    {
      "cell_type": "code",
      "source": [
        "nome_processado = escreve_texto_corretamente_alternativa(texto1)"
      ],
      "metadata": {
        "id": "KcgsUhcRx3aS"
      },
      "execution_count": 143,
      "outputs": []
    },
    {
      "cell_type": "code",
      "source": [
        "#aloca_alunos_em_salas(nome_processado, salas_de_aula)\n",
        "aloca_alunos_em_salas(nome_processado, [\"Classe 1\", \"Classe 2\", \"Classe 3\"])"
      ],
      "metadata": {
        "id": "sglqEtuhCLDl",
        "outputId": "dfdac357-6464-494f-be42-6f8086a1fd66",
        "colab": {
          "base_uri": "https://localhost:8080/"
        }
      },
      "execution_count": 144,
      "outputs": [
        {
          "output_type": "stream",
          "name": "stdout",
          "text": [
            "{'nome': 'FABRÍCIO CARRARO DA ALURA', 'sala': 'Classe 1'}\n"
          ]
        }
      ]
    },
    {
      "cell_type": "code",
      "source": [
        "\"\"\"\n",
        "Desafio:\n",
        "\n",
        "1. Pedir para IA gerar em Python uma lista de 20 emails para você.\n",
        "2. Criar uma função que vai receber uma lista de emails , percorrer esta lista de emails e para cada email da lista,\n",
        " ela irá chamar o gemini e pedir para ela resumir todos os emails em apenas 1 linha, definindo o que a pessoa queria no\n",
        "  email.\n",
        "\"\"\""
      ],
      "metadata": {
        "outputId": "a14000d1-220b-4cea-c7c5-88f2d1d998c8",
        "colab": {
          "base_uri": "https://localhost:8080/",
          "height": 53
        },
        "id": "ZLvTPF0v0ya9"
      },
      "execution_count": 145,
      "outputs": [
        {
          "output_type": "execute_result",
          "data": {
            "text/plain": [
              "'\\nDesafio:\\n\\n1. Pedir para IA gerar em Python uma lista de 20 emails para você.\\n2. Criar uma função que vai receber uma lista de emails , percorrer esta lista de emails e para cada email da lista,\\n ela irá chamar o gemini e pedir para ela resumir todos os emails em apenas 1 linha, definindo o que a pessoa queria no\\n  email.\\n'"
            ],
            "application/vnd.google.colaboratory.intrinsic+json": {
              "type": "string"
            }
          },
          "metadata": {},
          "execution_count": 145
        }
      ]
    },
    {
      "cell_type": "code",
      "source": [
        "emails_bodies = [\n",
        "    \"Olá! Esperamos que esteja bem. Gostaríamos de lembrá-lo(a) sobre a renovação do seu plano anual. Aproveite o desconto exclusivo até o final da semana!\",\n",
        "    \"Prezada cliente, informamos que sua encomenda foi enviada e o código de rastreio já está disponível em sua conta. Agradecemos por comprar conosco!\",\n",
        "    \"Caro aluno, as inscrições para o próximo módulo do curso de Programação Web estão abertas. Garanta sua vaga com 20% de desconto até sexta-feira.\",\n",
        "    \"Bom dia! Temos o prazer de anunciar o lançamento da nova linha de produtos ecológicos. Sustentabilidade e qualidade em um só lugar!\",\n",
        "    \"Olá! Notamos que você deixou alguns itens no carrinho. Finalize sua compra hoje e receba frete grátis em todo o Brasil.\",\n",
        "    \"Prezado parceiro, estamos organizando um evento exclusivo de networking para profissionais da área. Sua presença será muito bem-vinda!\",\n",
        "    \"Olá, tudo bem? Seu agendamento para a consulta médica foi confirmado para o dia 5 de novembro às 15h. Contamos com sua pontualidade!\",\n",
        "    \"Caro usuário, detectamos uma tentativa de login em sua conta. Se não foi você, altere sua senha imediatamente por segurança.\",\n",
        "    \"Olá! Aproveite nossa promoção relâmpago: até 50% de desconto em eletrônicos e acessórios. Somente hoje!\",\n",
        "    \"Bom dia! Sua reserva no Hotel Paraíso está confirmada. Estamos ansiosos para recebê-lo e tornar sua estadia inesquecível.\",\n",
        "    \"Prezada cliente, seu pagamento foi processado com sucesso. O comprovante segue em anexo. Obrigado pela preferência!\",\n",
        "    \"Olá, participante! Agradecemos por se inscrever no Workshop de Inovação. Em breve você receberá o link para acessar o evento online.\",\n",
        "    \"Boa tarde! Estamos contratando novos talentos para nossa equipe de marketing digital. Envie seu currículo até o dia 10/11.\",\n",
        "    \"Olá! Seu pedido de suporte foi recebido. Nossa equipe entrará em contato em até 24 horas para auxiliá-lo.\",\n",
        "    \"Prezado leitor, a nova edição da nossa revista já está disponível. Confira as matérias especiais sobre tendências do mercado.\",\n",
        "    \"Olá! Parabéns! Você foi selecionado para o programa de fidelidade Gold. Aproveite benefícios exclusivos e descontos personalizados.\",\n",
        "    \"Caro cliente, estamos atualizando nossa política de privacidade. Recomendamos que leia as novas condições em nosso site.\",\n",
        "    \"Bom dia! Convidamos você para participar da nossa pesquisa de satisfação. Sua opinião é muito importante para nós.\",\n",
        "    \"Olá! Chegou a hora de planejar suas próximas férias. Descubra pacotes incríveis com até 30% de desconto.\",\n",
        "    \"Prezado(a), lembramos que o prazo para entrega do relatório trimestral é dia 31/10. Por favor, envie dentro do prazo para evitar penalidades.\"\n",
        "]"
      ],
      "metadata": {
        "id": "KcjWjWC_sxuq"
      },
      "execution_count": 146,
      "outputs": []
    },
    {
      "cell_type": "code",
      "source": [
        "def resumidor_de_emails(lista_de_emails):\n",
        "    for numero, email in enumerate(lista_de_emails):\n",
        "        resposta = client.models.generate_content(\n",
        "            model='gemini-2.5-flash',\n",
        "            contents=f\"\"\"Vou te mandar o corpo de um e-mail. Quero que você o resuma em apenas uma linha,\n",
        "                     passando o intuito daquele email. Segue o e-mail: {email}\"\"\"\n",
        "            )\n",
        "        print(f\"E-mail: {numero + 1}: {resposta.text} \")\n",
        "        print(\"-\" * 50 )\n"
      ],
      "metadata": {
        "id": "Ie8dNfJssxzU"
      },
      "execution_count": 147,
      "outputs": []
    },
    {
      "cell_type": "code",
      "source": [
        "resumidor_de_emails(emails_bodies)"
      ],
      "metadata": {
        "id": "QIjGkbeE1Xfj",
        "outputId": "bb552767-822a-4e03-904f-5933737055cd",
        "colab": {
          "base_uri": "https://localhost:8080/"
        }
      },
      "execution_count": 148,
      "outputs": [
        {
          "output_type": "stream",
          "name": "stdout",
          "text": [
            "E-mail: 1: Lembrete para renovar seu plano anual com um desconto exclusivo por tempo limitado. \n",
            "--------------------------------------------------\n",
            "E-mail: 2: **Aviso de envio da sua encomenda com código de rastreio disponível.** \n",
            "--------------------------------------------------\n",
            "E-mail: 3: As inscrições para o próximo módulo de Programação Web estão abertas com 20% de desconto até sexta-feira. \n",
            "--------------------------------------------------\n",
            "E-mail: 4: Anúncio do lançamento de uma nova linha de produtos ecológicos focados em sustentabilidade e qualidade. \n",
            "--------------------------------------------------\n",
            "E-mail: 5: Claro! O intuito do e-mail é:\n",
            "\n",
            "**Um lembrete para finalizar sua compra no carrinho e aproveitar frete grátis.** \n",
            "--------------------------------------------------\n",
            "E-mail: 6: **Convite para um evento exclusivo de networking profissional.** \n",
            "--------------------------------------------------\n",
            "E-mail: 7: Confirmação da sua consulta médica agendada. \n",
            "--------------------------------------------------\n",
            "E-mail: 8: **Alerta de segurança sobre tentativa de login na conta, recomendando a alteração da senha.** \n",
            "--------------------------------------------------\n",
            "E-mail: 9: **Aproveite hoje a promoção relâmpago com até 50% de desconto em eletrônicos e acessórios.** \n",
            "--------------------------------------------------\n",
            "E-mail: 10: **Confirmação de reserva e boas-vindas do Hotel Paraíso.** \n",
            "--------------------------------------------------\n",
            "E-mail: 11: **Confirmação de pagamento processado com sucesso e envio do comprovante em anexo.** \n",
            "--------------------------------------------------\n",
            "E-mail: 12: O e-mail agradece a inscrição no Workshop de Inovação e avisa que o link de acesso online será enviado em breve. \n",
            "--------------------------------------------------\n",
            "E-mail: 13: **Vaga de Marketing Digital: envie seu currículo até 10/11.** \n",
            "--------------------------------------------------\n",
            "E-mail: 14: **Suporte recebido, aguarde contato em até 24 horas.** \n",
            "--------------------------------------------------\n",
            "E-mail: 15: A nova edição da revista já está disponível, destacando tendências de mercado. \n",
            "--------------------------------------------------\n",
            "E-mail: 16: Você foi selecionado para o programa de fidelidade Gold e terá acesso a benefícios e descontos exclusivos. \n",
            "--------------------------------------------------\n",
            "E-mail: 17: Aqui está:\n",
            "\n",
            "**Comunica a atualização da política de privacidade, recomendando a leitura das novas condições no site.** \n",
            "--------------------------------------------------\n",
            "E-mail: 18: Aqui está:\n",
            "\n",
            "Convite para pesquisa de satisfação, ressaltando a importância da sua opinião. \n",
            "--------------------------------------------------\n",
            "E-mail: 19: **Promoção de pacotes de férias com até 30% de desconto.** \n",
            "--------------------------------------------------\n",
            "E-mail: 20: Lembrete para entregar o relatório trimestral até 31/10 e evitar penalidades. \n",
            "--------------------------------------------------\n"
          ]
        }
      ]
    },
    {
      "cell_type": "code",
      "source": [
        "!pip install -q groq"
      ],
      "metadata": {
        "id": "ENBbd8M7xRKd",
        "colab": {
          "base_uri": "https://localhost:8080/"
        },
        "outputId": "74cedd2b-4204-450d-e80e-38ee09e2023d"
      },
      "execution_count": 149,
      "outputs": [
        {
          "output_type": "stream",
          "name": "stdout",
          "text": [
            "\u001b[?25l   \u001b[90m━━━━━━━━━━━━━━━━━━━━━━━━━━━━━━━━━━━━━━━━\u001b[0m \u001b[32m0.0/135.8 kB\u001b[0m \u001b[31m?\u001b[0m eta \u001b[36m-:--:--\u001b[0m\r\u001b[2K   \u001b[90m━━━━━━━━━━━━━━━━━━━━━━━━━━━━━━━━━━━━━━━━\u001b[0m \u001b[32m135.8/135.8 kB\u001b[0m \u001b[31m9.5 MB/s\u001b[0m eta \u001b[36m0:00:00\u001b[0m\n",
            "\u001b[?25h"
          ]
        }
      ]
    },
    {
      "cell_type": "code",
      "source": [
        "import os\n",
        "\n",
        "from google.colab import userdata"
      ],
      "metadata": {
        "id": "Kl0m8F0uzeTo"
      },
      "execution_count": 150,
      "outputs": []
    },
    {
      "cell_type": "code",
      "source": [
        "os.environ[\"GROQ_API_KEY\"] = userdata.get('GROQ_API_KEY')"
      ],
      "metadata": {
        "id": "AmFePZuZyXXC"
      },
      "execution_count": 151,
      "outputs": []
    },
    {
      "cell_type": "code",
      "source": [
        "from groq import Groq\n",
        "\n",
        "client_groq = Groq()\n",
        "\n",
        "completion = client_groq.chat.completions.create(\n",
        "    model=\"openai/gpt-oss-20b\",\n",
        "    messages=[\n",
        "      {\n",
        "        \"role\": \"user\",\n",
        "        \"content\": \"O que oferece mais vagas para contratação: PyTorch ou TensorFlow / Keras ?\"\n",
        "      }\n",
        "    ],\n",
        "    temperature=1,  # 0: O menos criativo possível,   2: O mais criativo possível.\n",
        "    max_completion_tokens=8192,\n",
        "    top_p=1,\n",
        "    reasoning_effort=\"medium\",\n",
        "    stream=True,\n",
        "    stop=None\n",
        ")\n",
        "\n",
        "for chunk in completion:\n",
        "    print(chunk.choices[0].delta.content or \"\", end=\"\")\n"
      ],
      "metadata": {
        "id": "WvSZb-q51XkD",
        "colab": {
          "base_uri": "https://localhost:8080/"
        },
        "outputId": "0707983a-cd3d-46e3-9d16-64109a97bd30"
      },
      "execution_count": 152,
      "outputs": [
        {
          "output_type": "stream",
          "name": "stdout",
          "text": [
            "**Qual das duas tecnologias gera mais vagas de emprego?**\n",
            "\n",
            "A resposta não é tão simples como “é apenas X ou Y”, pois o mercado de trabalho em IA e ML evolui rapidamente e varia bastante de região para setor. Abaixo estão os principais pontos que ajudam a entender qual das duas (ou das duas, quando se fala em TensorFlow **+** Keras) costuma aparecer mais nas ofertas de emprego e por quê.\n",
            "\n",
            "| Fonte | Pesquisa (ex.: “Machine Learning Engineer + TensorFlow” / “+ PyTorch”) | Nº de vagas (aprox.) | Observação |\n",
            "|-------|-----------------------------------------------------------|---------------------|-------------|\n",
            "| **LinkedIn Jobs** (2024‑jun) | TensorFlow | ~5.200 | Mais de 1,5 x que PyTorch |\n",
            "| | PyTorch | ~3.400 | Aumenta em setores de pesquisa |\n",
            "| | Keras (sem TensorFlow) | ~900 | Maior parte dessas vagas usa Keras dentro do TF |\n",
            "| **Indeed** (2024‑jan) | TensorFlow | ~4.800 | Maior volume, especialmente em empresas de produção |\n",
            "| | PyTorch | ~3.000 | Crescimento nos últimos 12 meses |\n",
            "| | Keras | ~700 | Geralmente incluídas em “Keras / TensorFlow” |\n",
            "| **Glassdoor** (2024‑mar) | TensorFlow | ~4.200 | Maior número de “senior” e “lead” |\n",
            "| | PyTorch | ~2.900 | Vagas de “research” mais frequentes |\n",
            "| **Stack Overflow Jobs** (2024‑jun) | TensorFlow | ~3.500 | Em geral, “full‑stack” e “dev‑ops” |\n",
            "| | PyTorch | ~2.600 | “data‑science” e “research” predominam |\n",
            "\n",
            "> **Resumo rápido**  \n",
            "> **TensorFlow** (com Keras) ainda lidera o número total de vagas, principalmente porque é a API de produção mais adotada em grandes corporações (Google, Amazon, Microsoft, etc.).  \n",
            "> **PyTorch** tem crescido de forma mais acelerada, especialmente em ambientes acadêmicos, de pesquisa e startups que priorizam prototipagem rápida.\n",
            "\n",
            "---\n",
            "\n",
            "## Por que a diferença existe?\n",
            "\n",
            "| Motivo | TensorFlow | PyTorch |\n",
            "|--------|------------|---------|\n",
            "| **Origem** | Criado pelo Google, forte foco em produção e deploy em dispositivos (TensorFlow Lite, TF.js, etc.). | Criado pela Facebook (Meta), design mais “Pythonic” e dinamismo (define‑by‑run). |\n",
            "| **Comunidade** | Mais ampla, muitos tutoriais, cursos e frameworks de alto nível (TF‑Extended, TFX). | Comunidade de pesquisa muito ativa, muitos papers publicados usando PyTorch. |\n",
            "| **Ferramentas de deploy** | TF‑Serving, TensorRT, TensorFlow Lite, Cloud ML Engine. | TorchServe, ONNX, PyTorch Mobile (em evolução). |\n",
            "| **Cultura de uso** | Empresas de grande porte, fintechs, automação industrial, IoT. | Startups de AI, laboratórios de IA, academia, prototipagem rápida. |\n",
            "| **Aprendizado** | Keras (high‑level) facilita a curva de aprendizado, mas o ecossistema completo é maior. | API mais “baixa‑nível” mas intuitiva; fácil de escrever código “imperativo” como em NumPy. |\n",
            "\n",
            "---\n",
            "\n",
            "## O que as vagas realmente pedem?\n",
            "\n",
            "Em 95 % das vagas de **Machine Learning Engineer / Data Scientist** os requisitos incluem pelo menos *um* dos dois frameworks. A maioria das descrições usa **“TensorFlow”** como requisito obrigatório, mas costuma pedir **“PyTorch”** como diferencial.\n",
            "\n",
            "### Exemplo de requisitos típicos\n",
            "| Requisito | Frequência |\n",
            "|-----------|-----------|\n",
            "| TensorFlow (ou Keras) | 80 % |\n",
            "| PyTorch | 60 % |\n",
            "| Ambos (ambos) | 35 % |\n",
            "| Conhecimento de ONNX, TorchServe, TFX | 20 % |\n",
            "\n",
            "> **Dica prática**: se você está construindo seu currículo, inclua projetos que demonstrem ambos. Por exemplo, “Desenvolvimento de modelo de classificação em PyTorch + exportação para TensorFlow Lite”.\n",
            "\n",
            "---\n",
            "\n",
            "## Como escolher se você deve focar em um ou nos dois\n",
            "\n",
            "| Cenário | Recomendação |\n",
            "|---------|--------------|\n",
            "| **Trabalhar em empresa grande** (Google, Amazon, Microsoft) | Comece com **TensorFlow** (Keras). Se quiser ampliar, aprenda PyTorch. |\n",
            "| **Trabalhar em startup ou em pesquisa** | Foque em **PyTorch**; mostre projetos de prototipagem e experimente criar modelos em TF para deploy. |\n",
            "| **Trabalhar em IoT / edge** | **TensorFlow Lite** é essencial, então TensorFlow. |\n",
            "| **Trabalhar em ambientes de produção de IA em larga escala** | **TensorFlow** + TFX; PyTorch pode ser usado, mas TF tem mais ferramentas. |\n",
            "| **Quer ser versátil** | Aprenda ambos, mas comece pelo que a indústria de sua região mais demanda (pesquise vagas locais). |\n",
            "\n",
            "---\n",
            "\n",
            "## Onde o mercado está se movendo?\n",
            "\n",
            "1. **Crescimento de PyTorch**  \n",
            "   - Em 2022, o número de publicações científicas usando PyTorch ultrapassou o de TensorFlow.  \n",
            "   - Em 2023, mais de 30 % das startups de IA no **Silicon Valley** listaram PyTorch como ferramenta principal.  \n",
            "   - A Meta e a Nvidia investem em **NVIDIA GPU Cloud (NGC)** que agora tem suporte nativo ao PyTorch.\n",
            "\n",
            "2. **TensorFlow domina o segmento de produção**  \n",
            "   - 60 % das empresas que implementam modelos em produção usam **TensorFlow Serving** ou **TF‑Extended**.  \n",
            "   - O **Google Cloud AI Platform** continua sendo a principal escolha de clientes corporativos.\n",
            "\n",
            "3. **A convergência**  \n",
            "   - O **ONNX Runtime** permite que modelos exportados de PyTorch e TensorFlow sejam usados em plataformas híbridas.  \n",
            "   - O **Keras** agora funciona como *high‑level* API tanto em TF 2.0 quanto em PyTorch (via **Keras‑PyTorch** ou **Keras‑API‑PyTorch**), então conhecer Keras não é apenas “TF” de fato.\n",
            "\n",
            "---\n",
            "\n",
            "## Conclusão prática\n",
            "\n",
            "| Pergunta | Resposta |\n",
            "|----------|----------|\n",
            "| **Qual gera mais vagas?** | **TensorFlow (com Keras)**, mas a diferença não é enorme e a tendência de crescimento de PyTorch está acelerando. |\n",
            "| **Preciso escolher um só?** | Se sua meta é entrar rapidamente no mercado, aprenda **TensorFlow + Keras**. Se você quer se destacar em pesquisa ou prototipagem, foque em **PyTorch**. |\n",
            "| **Aprender ambos é uma vantagem?** | Absolutamente. A maioria das vagas pede “Python + ML + (TF ou PT)” e “diferencial: conhecimento de ambos”. |\n",
            "| **Qual é o futuro?** | Provavelmente o mercado continuará **dual‑framework**: empresas usam o framework de produção (TF) e o de prototipagem (PyTorch). |\n",
            "\n",
            "---\n",
            "\n",
            "### Próximos passos recomendados\n",
            "\n",
            "1. **Faça um projeto de demonstração** que cubra:  \n",
            "   - **Treino + avaliação** em **PyTorch**.  \n",
            "   - **Exportação** para **ONNX** ou **TorchServe**.  \n",
            "   - **Deploy** em **TensorFlow Serving** ou **TF Lite** (ou equivalente).  \n",
            "2. **Inclua ambos** em seu currículo: “Experiência em modelagem com PyTorch e produção com TensorFlow/Keras”.  \n",
            "3. **Acompanhe bolsas de estudo e hackathons** (ex.: Kaggle, DrivenData) que costumam usar ambos.  \n",
            "4. **Participe de meetups e conferências** (NeurIPS, ICML) onde tanto Google quanto Facebook apresentam novidades – isso ajuda a ficar por dentro das tendências de adoção.\n",
            "\n",
            "Boa sorte na sua trajetória e, se precisar de ajuda para montar um projeto de demonstração, estou à disposição!"
          ]
        }
      ]
    },
    {
      "cell_type": "markdown",
      "source": [
        "# Operador de Resto"
      ],
      "metadata": {
        "id": "jfqQjVLk4_Ti"
      }
    },
    {
      "cell_type": "code",
      "source": [
        "for n in range(11):\n",
        "    if n % 2 == 0:\n",
        "        print(n)  # Imprime números pares: 0, 2, 4, 6, 8, 10"
      ],
      "metadata": {
        "colab": {
          "base_uri": "https://localhost:8080/"
        },
        "id": "12cvq33hxUyS",
        "outputId": "61113d93-8a6d-4512-9db6-14e88f3de01f"
      },
      "execution_count": 153,
      "outputs": [
        {
          "output_type": "stream",
          "name": "stdout",
          "text": [
            "0\n",
            "2\n",
            "4\n",
            "6\n",
            "8\n",
            "10\n"
          ]
        }
      ]
    },
    {
      "cell_type": "code",
      "source": [
        "lista = ['a', 'b', 'c', 'd']\n",
        "\n",
        "len(lista)"
      ],
      "metadata": {
        "colab": {
          "base_uri": "https://localhost:8080/"
        },
        "id": "xS1ca9cpxU2W",
        "outputId": "798d252f-9e16-4ceb-9d6d-95c2b66c6420"
      },
      "execution_count": 162,
      "outputs": [
        {
          "output_type": "execute_result",
          "data": {
            "text/plain": [
              "4"
            ]
          },
          "metadata": {},
          "execution_count": 162
        }
      ]
    },
    {
      "cell_type": "code",
      "source": [
        "\n",
        "for i in range(10):\n",
        "\n",
        "    print(lista[i % len(lista)])  # Acessa sempre um índice válido na lista"
      ],
      "metadata": {
        "colab": {
          "base_uri": "https://localhost:8080/"
        },
        "outputId": "be311fa3-7b1b-4e46-a328-29733a66e8bb",
        "id": "p-GfL8ETtcId"
      },
      "execution_count": 163,
      "outputs": [
        {
          "output_type": "stream",
          "name": "stdout",
          "text": [
            "a\n",
            "b\n",
            "c\n",
            "d\n",
            "a\n",
            "b\n",
            "c\n",
            "d\n",
            "a\n",
            "b\n"
          ]
        }
      ]
    },
    {
      "cell_type": "markdown",
      "source": [
        "# Leitura e Escrita de Arquivos"
      ],
      "metadata": {
        "id": "62jOO6aWSPQ-"
      }
    },
    {
      "cell_type": "code",
      "source": [
        "from google import genai\n",
        "\n",
        "client = genai.Client()"
      ],
      "metadata": {
        "id": "6obNGgtaU-B6"
      },
      "execution_count": 155,
      "outputs": []
    },
    {
      "cell_type": "code",
      "source": [
        "def resumidor_de_emails(lista_de_emails):\n",
        "\n",
        "    lista_de_resumos =[]\n",
        "\n",
        "    for numero, email in enumerate(lista_de_emails):\n",
        "\n",
        "        resposta = client.models.generate_content(\n",
        "            model='gemini-2.5-flash',\n",
        "            contents=f\"\"\"Vou te mandar o corpo de um e-mail. Quero que você o resuma em apenas uma linha,\n",
        "                     passando o intuito daquele email. Segue o e-mail: {email}\"\"\"\n",
        "            )\n",
        "\n",
        "        print(f\"E-mail: {numero + 1}: {resposta.text} \")\n",
        "\n",
        "        lista_de_resumos.append(f\"E-mail: {numero + 1}: {resposta.text} \")\n",
        "\n",
        "        print(\"-\" * 50 )\n",
        "\n",
        "    return lista_de_resumos\n"
      ],
      "metadata": {
        "id": "eak7c9jsUQGM"
      },
      "execution_count": 164,
      "outputs": []
    },
    {
      "cell_type": "code",
      "source": [
        "lista_resumos = resumidor_de_emails(emails_bodies)"
      ],
      "metadata": {
        "id": "k9fA5ljDSZCv",
        "outputId": "70abb172-25ac-4f88-e6e5-6da75fd5f6ee",
        "colab": {
          "base_uri": "https://localhost:8080/"
        }
      },
      "execution_count": 157,
      "outputs": [
        {
          "output_type": "stream",
          "name": "stdout",
          "text": [
            "E-mail: 1: Lembrete para a renovação do seu plano anual, com um desconto exclusivo por tempo limitado. \n",
            "--------------------------------------------------\n",
            "E-mail: 2: Sua encomenda foi enviada e o código de rastreio já está disponível. \n",
            "--------------------------------------------------\n",
            "E-mail: 3: As inscrições para o próximo módulo de Programação Web estão abertas, com 20% de desconto até sexta-feira. \n",
            "--------------------------------------------------\n",
            "E-mail: 4: Anúncio da nova linha de produtos ecológicos, focada em sustentabilidade e qualidade. \n",
            "--------------------------------------------------\n",
            "E-mail: 5: O e-mail visa que você finalize sua compra no carrinho e aproveite frete grátis. \n",
            "--------------------------------------------------\n",
            "E-mail: 6: Convite para um evento exclusivo de networking para profissionais. \n",
            "--------------------------------------------------\n",
            "E-mail: 7: Confirmação da sua consulta médica para 5 de novembro às 15h, com lembrete de pontualidade. \n",
            "--------------------------------------------------\n",
            "E-mail: 8: Alerta sobre uma tentativa de login suspeita na sua conta, recomendando a troca imediata da senha por segurança. \n",
            "--------------------------------------------------\n",
            "E-mail: 9: **Não perca a promoção relâmpago de até 50% em eletrônicos e acessórios, válida somente hoje.** \n",
            "--------------------------------------------------\n",
            "E-mail: 10: Sua reserva no Hotel Paraíso está confirmada e aguardamos ansiosamente sua chegada. \n",
            "--------------------------------------------------\n",
            "E-mail: 11: Confirmação de pagamento processado com sucesso e envio do comprovante. \n",
            "--------------------------------------------------\n",
            "E-mail: 12: Confirma a inscrição no Workshop de Inovação e informa que o link de acesso será enviado em breve. \n",
            "--------------------------------------------------\n",
            "E-mail: 13: Oportunidade de emprego em marketing digital, currículos até 10/11. \n",
            "--------------------------------------------------\n",
            "E-mail: 14: Confirmação de recebimento do seu pedido de suporte, com contato da equipe previsto para até 24h. \n",
            "--------------------------------------------------\n",
            "E-mail: 15: **Confira a nova edição da revista, focada em tendências do mercado.** \n",
            "--------------------------------------------------\n",
            "E-mail: 16: Parabenizar pela sua seleção no programa de fidelidade Gold, que oferece benefícios exclusivos. \n",
            "--------------------------------------------------\n",
            "E-mail: 17: **Aviso de atualização da política de privacidade com recomendação para ler as novas condições no site.** \n",
            "--------------------------------------------------\n",
            "E-mail: 18: Pesquisa de satisfação: sua opinião é muito importante. \n",
            "--------------------------------------------------\n",
            "E-mail: 19: O e-mail te convida a planejar suas próximas férias, oferecendo pacotes com até 30% de desconto. \n",
            "--------------------------------------------------\n",
            "E-mail: 20: Aqui está:\n",
            "\n",
            "**Lembrete: Enviar relatório trimestral até 31/10 para evitar penalidades.** \n",
            "--------------------------------------------------\n"
          ]
        }
      ]
    },
    {
      "cell_type": "code",
      "source": [
        "lista_resumos"
      ],
      "metadata": {
        "id": "c8MupFX0SZIN",
        "outputId": "00fa8e41-69f3-4dce-db88-8812045fc6ba",
        "colab": {
          "base_uri": "https://localhost:8080/"
        }
      },
      "execution_count": 158,
      "outputs": [
        {
          "output_type": "execute_result",
          "data": {
            "text/plain": [
              "['E-mail: 1: Lembrete para a renovação do seu plano anual, com um desconto exclusivo por tempo limitado. ',\n",
              " 'E-mail: 2: Sua encomenda foi enviada e o código de rastreio já está disponível. ',\n",
              " 'E-mail: 3: As inscrições para o próximo módulo de Programação Web estão abertas, com 20% de desconto até sexta-feira. ',\n",
              " 'E-mail: 4: Anúncio da nova linha de produtos ecológicos, focada em sustentabilidade e qualidade. ',\n",
              " 'E-mail: 5: O e-mail visa que você finalize sua compra no carrinho e aproveite frete grátis. ',\n",
              " 'E-mail: 6: Convite para um evento exclusivo de networking para profissionais. ',\n",
              " 'E-mail: 7: Confirmação da sua consulta médica para 5 de novembro às 15h, com lembrete de pontualidade. ',\n",
              " 'E-mail: 8: Alerta sobre uma tentativa de login suspeita na sua conta, recomendando a troca imediata da senha por segurança. ',\n",
              " 'E-mail: 9: **Não perca a promoção relâmpago de até 50% em eletrônicos e acessórios, válida somente hoje.** ',\n",
              " 'E-mail: 10: Sua reserva no Hotel Paraíso está confirmada e aguardamos ansiosamente sua chegada. ',\n",
              " 'E-mail: 11: Confirmação de pagamento processado com sucesso e envio do comprovante. ',\n",
              " 'E-mail: 12: Confirma a inscrição no Workshop de Inovação e informa que o link de acesso será enviado em breve. ',\n",
              " 'E-mail: 13: Oportunidade de emprego em marketing digital, currículos até 10/11. ',\n",
              " 'E-mail: 14: Confirmação de recebimento do seu pedido de suporte, com contato da equipe previsto para até 24h. ',\n",
              " 'E-mail: 15: **Confira a nova edição da revista, focada em tendências do mercado.** ',\n",
              " 'E-mail: 16: Parabenizar pela sua seleção no programa de fidelidade Gold, que oferece benefícios exclusivos. ',\n",
              " 'E-mail: 17: **Aviso de atualização da política de privacidade com recomendação para ler as novas condições no site.** ',\n",
              " 'E-mail: 18: Pesquisa de satisfação: sua opinião é muito importante. ',\n",
              " 'E-mail: 19: O e-mail te convida a planejar suas próximas férias, oferecendo pacotes com até 30% de desconto. ',\n",
              " 'E-mail: 20: Aqui está:\\n\\n**Lembrete: Enviar relatório trimestral até 31/10 para evitar penalidades.** ']"
            ]
          },
          "metadata": {},
          "execution_count": 158
        }
      ]
    },
    {
      "cell_type": "code",
      "source": [
        "with open(\"lista-de-resumos.txt\", \"w\", encoding=\"utf-8\") as arquivo:\n",
        "\n",
        "    for resumo in lista_resumos:\n",
        "\n",
        "        arquivo.write(resumo + \"\\n\")\n",
        "        #arquivo.writelines(lista_resumos)"
      ],
      "metadata": {
        "id": "UMlHup-4SZRI"
      },
      "execution_count": 159,
      "outputs": []
    },
    {
      "cell_type": "code",
      "source": [
        "print(lista_resumos)"
      ],
      "metadata": {
        "id": "mf3CiRcrcK5p",
        "outputId": "0571f7fd-2077-4952-fff2-5286fb5b6344",
        "colab": {
          "base_uri": "https://localhost:8080/"
        }
      },
      "execution_count": 166,
      "outputs": [
        {
          "output_type": "stream",
          "name": "stdout",
          "text": [
            "['E-mail: 1: Lembrete para a renovação do seu plano anual, com um desconto exclusivo por tempo limitado. ', 'E-mail: 2: Sua encomenda foi enviada e o código de rastreio já está disponível. ', 'E-mail: 3: As inscrições para o próximo módulo de Programação Web estão abertas, com 20% de desconto até sexta-feira. ', 'E-mail: 4: Anúncio da nova linha de produtos ecológicos, focada em sustentabilidade e qualidade. ', 'E-mail: 5: O e-mail visa que você finalize sua compra no carrinho e aproveite frete grátis. ', 'E-mail: 6: Convite para um evento exclusivo de networking para profissionais. ', 'E-mail: 7: Confirmação da sua consulta médica para 5 de novembro às 15h, com lembrete de pontualidade. ', 'E-mail: 8: Alerta sobre uma tentativa de login suspeita na sua conta, recomendando a troca imediata da senha por segurança. ', 'E-mail: 9: **Não perca a promoção relâmpago de até 50% em eletrônicos e acessórios, válida somente hoje.** ', 'E-mail: 10: Sua reserva no Hotel Paraíso está confirmada e aguardamos ansiosamente sua chegada. ', 'E-mail: 11: Confirmação de pagamento processado com sucesso e envio do comprovante. ', 'E-mail: 12: Confirma a inscrição no Workshop de Inovação e informa que o link de acesso será enviado em breve. ', 'E-mail: 13: Oportunidade de emprego em marketing digital, currículos até 10/11. ', 'E-mail: 14: Confirmação de recebimento do seu pedido de suporte, com contato da equipe previsto para até 24h. ', 'E-mail: 15: **Confira a nova edição da revista, focada em tendências do mercado.** ', 'E-mail: 16: Parabenizar pela sua seleção no programa de fidelidade Gold, que oferece benefícios exclusivos. ', 'E-mail: 17: **Aviso de atualização da política de privacidade com recomendação para ler as novas condições no site.** ', 'E-mail: 18: Pesquisa de satisfação: sua opinião é muito importante. ', 'E-mail: 19: O e-mail te convida a planejar suas próximas férias, oferecendo pacotes com até 30% de desconto. ', 'E-mail: 20: Aqui está:\\n\\n**Lembrete: Enviar relatório trimestral até 31/10 para evitar penalidades.** ']\n"
          ]
        }
      ]
    },
    {
      "cell_type": "code",
      "source": [
        "with open(\"lista-de-resumos.txt\", \"r\", encoding=\"utf-8\") as arquivo:\n",
        "\n",
        "    for linha in arquivo:\n",
        "        print(linha)"
      ],
      "metadata": {
        "id": "71TBLpI5cK9n",
        "colab": {
          "base_uri": "https://localhost:8080/"
        },
        "outputId": "fc94605d-2549-4c3b-988c-cded4c0c7cbd"
      },
      "execution_count": 167,
      "outputs": [
        {
          "output_type": "stream",
          "name": "stdout",
          "text": [
            "E-mail: 1: Lembrete para a renovação do seu plano anual, com um desconto exclusivo por tempo limitado. \n",
            "\n",
            "E-mail: 2: Sua encomenda foi enviada e o código de rastreio já está disponível. \n",
            "\n",
            "E-mail: 3: As inscrições para o próximo módulo de Programação Web estão abertas, com 20% de desconto até sexta-feira. \n",
            "\n",
            "E-mail: 4: Anúncio da nova linha de produtos ecológicos, focada em sustentabilidade e qualidade. \n",
            "\n",
            "E-mail: 5: O e-mail visa que você finalize sua compra no carrinho e aproveite frete grátis. \n",
            "\n",
            "E-mail: 6: Convite para um evento exclusivo de networking para profissionais. \n",
            "\n",
            "E-mail: 7: Confirmação da sua consulta médica para 5 de novembro às 15h, com lembrete de pontualidade. \n",
            "\n",
            "E-mail: 8: Alerta sobre uma tentativa de login suspeita na sua conta, recomendando a troca imediata da senha por segurança. \n",
            "\n",
            "E-mail: 9: **Não perca a promoção relâmpago de até 50% em eletrônicos e acessórios, válida somente hoje.** \n",
            "\n",
            "E-mail: 10: Sua reserva no Hotel Paraíso está confirmada e aguardamos ansiosamente sua chegada. \n",
            "\n",
            "E-mail: 11: Confirmação de pagamento processado com sucesso e envio do comprovante. \n",
            "\n",
            "E-mail: 12: Confirma a inscrição no Workshop de Inovação e informa que o link de acesso será enviado em breve. \n",
            "\n",
            "E-mail: 13: Oportunidade de emprego em marketing digital, currículos até 10/11. \n",
            "\n",
            "E-mail: 14: Confirmação de recebimento do seu pedido de suporte, com contato da equipe previsto para até 24h. \n",
            "\n",
            "E-mail: 15: **Confira a nova edição da revista, focada em tendências do mercado.** \n",
            "\n",
            "E-mail: 16: Parabenizar pela sua seleção no programa de fidelidade Gold, que oferece benefícios exclusivos. \n",
            "\n",
            "E-mail: 17: **Aviso de atualização da política de privacidade com recomendação para ler as novas condições no site.** \n",
            "\n",
            "E-mail: 18: Pesquisa de satisfação: sua opinião é muito importante. \n",
            "\n",
            "E-mail: 19: O e-mail te convida a planejar suas próximas férias, oferecendo pacotes com até 30% de desconto. \n",
            "\n",
            "E-mail: 20: Aqui está:\n",
            "\n",
            "\n",
            "\n",
            "**Lembrete: Enviar relatório trimestral até 31/10 para evitar penalidades.** \n",
            "\n"
          ]
        }
      ]
    },
    {
      "cell_type": "code",
      "source": [
        "nova_lista_de_leitura = []\n",
        "\n",
        "with open(\"lista-de-resumos.txt\", \"r\", encoding=\"utf-8\") as arquivo:\n",
        "\n",
        "    for linha in arquivo:\n",
        "        nova_lista_de_leitura.append(linha.strip())"
      ],
      "metadata": {
        "id": "quy8xyebwBQx"
      },
      "execution_count": 173,
      "outputs": []
    },
    {
      "cell_type": "code",
      "source": [
        "nova_lista_de_leitura"
      ],
      "metadata": {
        "id": "GwDjyYtjcLDi",
        "colab": {
          "base_uri": "https://localhost:8080/"
        },
        "outputId": "cb9facfe-bfe9-426a-df65-5ac25a7a79d9"
      },
      "execution_count": 174,
      "outputs": [
        {
          "output_type": "execute_result",
          "data": {
            "text/plain": [
              "['E-mail: 1: Lembrete para a renovação do seu plano anual, com um desconto exclusivo por tempo limitado.',\n",
              " 'E-mail: 2: Sua encomenda foi enviada e o código de rastreio já está disponível.',\n",
              " 'E-mail: 3: As inscrições para o próximo módulo de Programação Web estão abertas, com 20% de desconto até sexta-feira.',\n",
              " 'E-mail: 4: Anúncio da nova linha de produtos ecológicos, focada em sustentabilidade e qualidade.',\n",
              " 'E-mail: 5: O e-mail visa que você finalize sua compra no carrinho e aproveite frete grátis.',\n",
              " 'E-mail: 6: Convite para um evento exclusivo de networking para profissionais.',\n",
              " 'E-mail: 7: Confirmação da sua consulta médica para 5 de novembro às 15h, com lembrete de pontualidade.',\n",
              " 'E-mail: 8: Alerta sobre uma tentativa de login suspeita na sua conta, recomendando a troca imediata da senha por segurança.',\n",
              " 'E-mail: 9: **Não perca a promoção relâmpago de até 50% em eletrônicos e acessórios, válida somente hoje.**',\n",
              " 'E-mail: 10: Sua reserva no Hotel Paraíso está confirmada e aguardamos ansiosamente sua chegada.',\n",
              " 'E-mail: 11: Confirmação de pagamento processado com sucesso e envio do comprovante.',\n",
              " 'E-mail: 12: Confirma a inscrição no Workshop de Inovação e informa que o link de acesso será enviado em breve.',\n",
              " 'E-mail: 13: Oportunidade de emprego em marketing digital, currículos até 10/11.',\n",
              " 'E-mail: 14: Confirmação de recebimento do seu pedido de suporte, com contato da equipe previsto para até 24h.',\n",
              " 'E-mail: 15: **Confira a nova edição da revista, focada em tendências do mercado.**',\n",
              " 'E-mail: 16: Parabenizar pela sua seleção no programa de fidelidade Gold, que oferece benefícios exclusivos.',\n",
              " 'E-mail: 17: **Aviso de atualização da política de privacidade com recomendação para ler as novas condições no site.**',\n",
              " 'E-mail: 18: Pesquisa de satisfação: sua opinião é muito importante.',\n",
              " 'E-mail: 19: O e-mail te convida a planejar suas próximas férias, oferecendo pacotes com até 30% de desconto.',\n",
              " 'E-mail: 20: Aqui está:',\n",
              " '',\n",
              " '**Lembrete: Enviar relatório trimestral até 31/10 para evitar penalidades.**']"
            ]
          },
          "metadata": {},
          "execution_count": 174
        }
      ]
    },
    {
      "cell_type": "code",
      "source": [
        "conteudo = \"\"\n",
        "\n",
        "with open(\"lista-de-resumos.txt\", \"r\", encoding=\"utf-8\") as arquivo:\n",
        "\n",
        "    conteudo = arquivo.read()"
      ],
      "metadata": {
        "id": "C3_r6CcicLG6"
      },
      "execution_count": 180,
      "outputs": []
    },
    {
      "cell_type": "code",
      "source": [
        "conteudo"
      ],
      "metadata": {
        "id": "hbZz8J6zcK_x",
        "colab": {
          "base_uri": "https://localhost:8080/",
          "height": 122
        },
        "outputId": "9b2d248b-0368-41b6-e201-ee71dd83662c"
      },
      "execution_count": 181,
      "outputs": [
        {
          "output_type": "execute_result",
          "data": {
            "text/plain": [
              "'E-mail: 1: Lembrete para a renovação do seu plano anual, com um desconto exclusivo por tempo limitado. \\nE-mail: 2: Sua encomenda foi enviada e o código de rastreio já está disponível. \\nE-mail: 3: As inscrições para o próximo módulo de Programação Web estão abertas, com 20% de desconto até sexta-feira. \\nE-mail: 4: Anúncio da nova linha de produtos ecológicos, focada em sustentabilidade e qualidade. \\nE-mail: 5: O e-mail visa que você finalize sua compra no carrinho e aproveite frete grátis. \\nE-mail: 6: Convite para um evento exclusivo de networking para profissionais. \\nE-mail: 7: Confirmação da sua consulta médica para 5 de novembro às 15h, com lembrete de pontualidade. \\nE-mail: 8: Alerta sobre uma tentativa de login suspeita na sua conta, recomendando a troca imediata da senha por segurança. \\nE-mail: 9: **Não perca a promoção relâmpago de até 50% em eletrônicos e acessórios, válida somente hoje.** \\nE-mail: 10: Sua reserva no Hotel Paraíso está confirmada e aguardamos ansiosamente sua chegada. \\nE-mail: 11: Confirmação de pagamento processado com sucesso e envio do comprovante. \\nE-mail: 12: Confirma a inscrição no Workshop de Inovação e informa que o link de acesso será enviado em breve. \\nE-mail: 13: Oportunidade de emprego em marketing digital, currículos até 10/11. \\nE-mail: 14: Confirmação de recebimento do seu pedido de suporte, com contato da equipe previsto para até 24h. \\nE-mail: 15: **Confira a nova edição da revista, focada em tendências do mercado.** \\nE-mail: 16: Parabenizar pela sua seleção no programa de fidelidade Gold, que oferece benefícios exclusivos. \\nE-mail: 17: **Aviso de atualização da política de privacidade com recomendação para ler as novas condições no site.** \\nE-mail: 18: Pesquisa de satisfação: sua opinião é muito importante. \\nE-mail: 19: O e-mail te convida a planejar suas próximas férias, oferecendo pacotes com até 30% de desconto. \\nE-mail: 20: Aqui está:\\n\\n**Lembrete: Enviar relatório trimestral até 31/10 para evitar penalidades.** \\n'"
            ],
            "application/vnd.google.colaboratory.intrinsic+json": {
              "type": "string"
            }
          },
          "metadata": {},
          "execution_count": 181
        }
      ]
    },
    {
      "cell_type": "code",
      "source": [
        "nova_lista_de_leitura_2 = []\n",
        "\n",
        "with open(\"lista-de-resumos.txt\", \"r\", encoding=\"utf-8\") as arquivo:\n",
        "\n",
        "    nova_lista_de_leitura_2 = arquivo.readlines()\n",
        ""
      ],
      "metadata": {
        "id": "WEEVWj1CxpH_"
      },
      "execution_count": 182,
      "outputs": []
    },
    {
      "cell_type": "code",
      "source": [
        "nova_lista_de_leitura_2"
      ],
      "metadata": {
        "id": "1ujHZ1LdxpM4",
        "outputId": "1a1beba2-c667-4be6-975f-a4799d4c5022",
        "colab": {
          "base_uri": "https://localhost:8080/"
        }
      },
      "execution_count": 183,
      "outputs": [
        {
          "output_type": "execute_result",
          "data": {
            "text/plain": [
              "['E-mail: 1: Lembrete para a renovação do seu plano anual, com um desconto exclusivo por tempo limitado. \\n',\n",
              " 'E-mail: 2: Sua encomenda foi enviada e o código de rastreio já está disponível. \\n',\n",
              " 'E-mail: 3: As inscrições para o próximo módulo de Programação Web estão abertas, com 20% de desconto até sexta-feira. \\n',\n",
              " 'E-mail: 4: Anúncio da nova linha de produtos ecológicos, focada em sustentabilidade e qualidade. \\n',\n",
              " 'E-mail: 5: O e-mail visa que você finalize sua compra no carrinho e aproveite frete grátis. \\n',\n",
              " 'E-mail: 6: Convite para um evento exclusivo de networking para profissionais. \\n',\n",
              " 'E-mail: 7: Confirmação da sua consulta médica para 5 de novembro às 15h, com lembrete de pontualidade. \\n',\n",
              " 'E-mail: 8: Alerta sobre uma tentativa de login suspeita na sua conta, recomendando a troca imediata da senha por segurança. \\n',\n",
              " 'E-mail: 9: **Não perca a promoção relâmpago de até 50% em eletrônicos e acessórios, válida somente hoje.** \\n',\n",
              " 'E-mail: 10: Sua reserva no Hotel Paraíso está confirmada e aguardamos ansiosamente sua chegada. \\n',\n",
              " 'E-mail: 11: Confirmação de pagamento processado com sucesso e envio do comprovante. \\n',\n",
              " 'E-mail: 12: Confirma a inscrição no Workshop de Inovação e informa que o link de acesso será enviado em breve. \\n',\n",
              " 'E-mail: 13: Oportunidade de emprego em marketing digital, currículos até 10/11. \\n',\n",
              " 'E-mail: 14: Confirmação de recebimento do seu pedido de suporte, com contato da equipe previsto para até 24h. \\n',\n",
              " 'E-mail: 15: **Confira a nova edição da revista, focada em tendências do mercado.** \\n',\n",
              " 'E-mail: 16: Parabenizar pela sua seleção no programa de fidelidade Gold, que oferece benefícios exclusivos. \\n',\n",
              " 'E-mail: 17: **Aviso de atualização da política de privacidade com recomendação para ler as novas condições no site.** \\n',\n",
              " 'E-mail: 18: Pesquisa de satisfação: sua opinião é muito importante. \\n',\n",
              " 'E-mail: 19: O e-mail te convida a planejar suas próximas férias, oferecendo pacotes com até 30% de desconto. \\n',\n",
              " 'E-mail: 20: Aqui está:\\n',\n",
              " '\\n',\n",
              " '**Lembrete: Enviar relatório trimestral até 31/10 para evitar penalidades.** \\n']"
            ]
          },
          "metadata": {},
          "execution_count": 183
        }
      ]
    },
    {
      "cell_type": "markdown",
      "source": [
        "## Manipulando Dados com Pandas"
      ],
      "metadata": {
        "id": "TIpQoiXDOTjL"
      }
    },
    {
      "cell_type": "code",
      "source": [],
      "metadata": {
        "id": "NcDZ4ZL9xpQj"
      },
      "execution_count": null,
      "outputs": []
    },
    {
      "cell_type": "code",
      "source": [],
      "metadata": {
        "id": "glUgN717xpUq"
      },
      "execution_count": null,
      "outputs": []
    },
    {
      "cell_type": "code",
      "source": [],
      "metadata": {
        "id": "6mMjP6mxxpYj"
      },
      "execution_count": null,
      "outputs": []
    },
    {
      "cell_type": "code",
      "source": [],
      "metadata": {
        "id": "lqCH9CDKcLKU"
      },
      "execution_count": 161,
      "outputs": []
    }
  ]
}