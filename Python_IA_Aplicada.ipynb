{
  "nbformat": 4,
  "nbformat_minor": 0,
  "metadata": {
    "colab": {
      "provenance": [],
      "toc_visible": true,
      "authorship_tag": "ABX9TyN5AjVpf9xvjeI7oMmuBUy0"
    },
    "kernelspec": {
      "name": "python3",
      "display_name": "Python 3"
    },
    "language_info": {
      "name": "python"
    }
  },
  "cells": [
    {
      "cell_type": "code",
      "execution_count": 1,
      "metadata": {
        "colab": {
          "base_uri": "https://localhost:8080/"
        },
        "id": "4TL3NdShNBC6",
        "outputId": "96bc71fd-97b6-46a1-cf15-e96e64445d99"
      },
      "outputs": [
        {
          "output_type": "execute_result",
          "data": {
            "text/plain": [
              "5"
            ]
          },
          "metadata": {},
          "execution_count": 1
        }
      ],
      "source": [
        "5"
      ]
    },
    {
      "cell_type": "code",
      "source": [
        "print(5)"
      ],
      "metadata": {
        "colab": {
          "base_uri": "https://localhost:8080/"
        },
        "id": "GRQB0MiGOLKX",
        "outputId": "966a5902-0981-42b5-ae66-7738c8d99084"
      },
      "execution_count": 2,
      "outputs": [
        {
          "output_type": "stream",
          "name": "stdout",
          "text": [
            "5\n"
          ]
        }
      ]
    },
    {
      "cell_type": "code",
      "source": [
        "print(\"Hello World !\")"
      ],
      "metadata": {
        "colab": {
          "base_uri": "https://localhost:8080/"
        },
        "id": "8Kmty75QNMIu",
        "outputId": "648f0325-67eb-4ff4-cc0c-fe7edc735cdd"
      },
      "execution_count": 3,
      "outputs": [
        {
          "output_type": "stream",
          "name": "stdout",
          "text": [
            "Hello World !\n"
          ]
        }
      ]
    },
    {
      "cell_type": "code",
      "source": [
        "print('Hello World !')"
      ],
      "metadata": {
        "colab": {
          "base_uri": "https://localhost:8080/"
        },
        "id": "2G-mdnRmNMOp",
        "outputId": "42bfb8aa-63c7-47e4-b400-320f7be82b44"
      },
      "execution_count": 4,
      "outputs": [
        {
          "output_type": "stream",
          "name": "stdout",
          "text": [
            "Hello World !\n"
          ]
        }
      ]
    },
    {
      "cell_type": "code",
      "source": [
        "print(\"Olá Mundo ! \" + \"5\")"
      ],
      "metadata": {
        "colab": {
          "base_uri": "https://localhost:8080/"
        },
        "id": "yLGq538iOnLw",
        "outputId": "525e4681-2b48-4935-fd39-cc82b8086c96"
      },
      "execution_count": 5,
      "outputs": [
        {
          "output_type": "stream",
          "name": "stdout",
          "text": [
            "Olá Mundo ! 5\n"
          ]
        }
      ]
    },
    {
      "cell_type": "code",
      "source": [
        "5 + 2"
      ],
      "metadata": {
        "colab": {
          "base_uri": "https://localhost:8080/"
        },
        "id": "PMtH1rBNPA1d",
        "outputId": "65707ac9-1c6f-4adf-dc66-cb712f7e2ba7"
      },
      "execution_count": 6,
      "outputs": [
        {
          "output_type": "execute_result",
          "data": {
            "text/plain": [
              "7"
            ]
          },
          "metadata": {},
          "execution_count": 6
        }
      ]
    },
    {
      "cell_type": "code",
      "source": [
        "print(5 + 2)"
      ],
      "metadata": {
        "colab": {
          "base_uri": "https://localhost:8080/"
        },
        "id": "_wLU8f6jQcWJ",
        "outputId": "deec2f9b-6054-4f5b-a5b5-497a8043b9af"
      },
      "execution_count": 7,
      "outputs": [
        {
          "output_type": "stream",
          "name": "stdout",
          "text": [
            "7\n"
          ]
        }
      ]
    },
    {
      "cell_type": "code",
      "source": [
        "produto1 = 5.00"
      ],
      "metadata": {
        "id": "TJUlryW1QgWp"
      },
      "execution_count": 8,
      "outputs": []
    },
    {
      "cell_type": "code",
      "source": [
        "produto1"
      ],
      "metadata": {
        "colab": {
          "base_uri": "https://localhost:8080/"
        },
        "id": "JMmhf6CPWyMz",
        "outputId": "ee2746f0-57d0-47ef-9e0d-87cb1c48fb33"
      },
      "execution_count": 9,
      "outputs": [
        {
          "output_type": "execute_result",
          "data": {
            "text/plain": [
              "5.0"
            ]
          },
          "metadata": {},
          "execution_count": 9
        }
      ]
    },
    {
      "cell_type": "code",
      "source": [
        "print(produto1)"
      ],
      "metadata": {
        "colab": {
          "base_uri": "https://localhost:8080/"
        },
        "id": "3ULtReFRW6yW",
        "outputId": "1ad2e3ba-ef07-4de8-a885-af9e7b216660"
      },
      "execution_count": 10,
      "outputs": [
        {
          "output_type": "stream",
          "name": "stdout",
          "text": [
            "5.0\n"
          ]
        }
      ]
    },
    {
      "cell_type": "code",
      "source": [
        "produto2 = 2000.00"
      ],
      "metadata": {
        "id": "OO9VuVgLNMTt"
      },
      "execution_count": 11,
      "outputs": []
    },
    {
      "cell_type": "code",
      "source": [
        "print(produto2)"
      ],
      "metadata": {
        "colab": {
          "base_uri": "https://localhost:8080/"
        },
        "id": "j2Mwh4sFXDEu",
        "outputId": "37764994-6d08-453e-94ac-5e80a608c264"
      },
      "execution_count": 12,
      "outputs": [
        {
          "output_type": "stream",
          "name": "stdout",
          "text": [
            "2000.0\n"
          ]
        }
      ]
    },
    {
      "cell_type": "code",
      "source": [
        "produto3 = 1.00"
      ],
      "metadata": {
        "id": "_fXu8hvsNMYv"
      },
      "execution_count": 13,
      "outputs": []
    },
    {
      "cell_type": "code",
      "source": [
        "print(produto1 + produto2 + produto3)"
      ],
      "metadata": {
        "id": "wdnykXJONMdm",
        "colab": {
          "base_uri": "https://localhost:8080/"
        },
        "outputId": "aabf58ff-c6f1-445f-96b0-f66616398ad2"
      },
      "execution_count": 14,
      "outputs": [
        {
          "output_type": "stream",
          "name": "stdout",
          "text": [
            "2006.0\n"
          ]
        }
      ]
    },
    {
      "cell_type": "code",
      "source": [
        "nome_do_produto1 = \"Macarrão\""
      ],
      "metadata": {
        "id": "_Eq71fzINMiG"
      },
      "execution_count": 15,
      "outputs": []
    },
    {
      "cell_type": "code",
      "source": [
        "nome_do_produto2 = \"Celular\""
      ],
      "metadata": {
        "id": "94lcodEHNMmw"
      },
      "execution_count": 16,
      "outputs": []
    },
    {
      "cell_type": "code",
      "source": [
        "nome_do_produto3 = \"Bala\""
      ],
      "metadata": {
        "id": "QWDotFnrNMrv"
      },
      "execution_count": 17,
      "outputs": []
    },
    {
      "cell_type": "code",
      "source": [
        "print(nome_do_produto1 + \" \" + nome_do_produto2 + \" \" + nome_do_produto3)"
      ],
      "metadata": {
        "colab": {
          "base_uri": "https://localhost:8080/"
        },
        "id": "-JbiJgM3XXOu",
        "outputId": "046aad0f-c1ba-420b-900e-e72d371e1404"
      },
      "execution_count": 18,
      "outputs": [
        {
          "output_type": "stream",
          "name": "stdout",
          "text": [
            "Macarrão Celular Bala\n"
          ]
        }
      ]
    },
    {
      "cell_type": "code",
      "source": [
        "amigos = 5\n",
        "aluguel = 1000.00\n",
        "supermercado = 500.00\n",
        "carro = 400.00"
      ],
      "metadata": {
        "id": "ebFzePmIXdl7"
      },
      "execution_count": 19,
      "outputs": []
    },
    {
      "cell_type": "code",
      "source": [
        "total = aluguel + supermercado + carro"
      ],
      "metadata": {
        "id": "uGd4v-LXYZcQ"
      },
      "execution_count": 20,
      "outputs": []
    },
    {
      "cell_type": "code",
      "source": [
        "print(total)"
      ],
      "metadata": {
        "colab": {
          "base_uri": "https://localhost:8080/"
        },
        "id": "xCjZjbowYgjN",
        "outputId": "2b1ddfb3-4c81-471f-feb7-e24c59927e5d"
      },
      "execution_count": 21,
      "outputs": [
        {
          "output_type": "stream",
          "name": "stdout",
          "text": [
            "1900.0\n"
          ]
        }
      ]
    },
    {
      "cell_type": "code",
      "source": [
        "aluguel = 900.0"
      ],
      "metadata": {
        "id": "1Oh-7c_FYp5X"
      },
      "execution_count": 22,
      "outputs": []
    },
    {
      "cell_type": "code",
      "source": [
        "print(total)"
      ],
      "metadata": {
        "colab": {
          "base_uri": "https://localhost:8080/"
        },
        "id": "D_gY48A7YvWb",
        "outputId": "bd9adcee-2d1e-4668-cd22-5e84b839e5ce"
      },
      "execution_count": 23,
      "outputs": [
        {
          "output_type": "stream",
          "name": "stdout",
          "text": [
            "1900.0\n"
          ]
        }
      ]
    },
    {
      "cell_type": "code",
      "source": [
        "total = aluguel + supermercado + carro"
      ],
      "metadata": {
        "id": "GToJeChjYx-c"
      },
      "execution_count": 24,
      "outputs": []
    },
    {
      "cell_type": "code",
      "source": [
        "print(total)"
      ],
      "metadata": {
        "colab": {
          "base_uri": "https://localhost:8080/"
        },
        "id": "EtIGlaYHY86P",
        "outputId": "c46f76cd-fcda-4b98-a5bd-a736aeec5e1d"
      },
      "execution_count": 25,
      "outputs": [
        {
          "output_type": "stream",
          "name": "stdout",
          "text": [
            "1800.0\n"
          ]
        }
      ]
    },
    {
      "cell_type": "code",
      "source": [
        "print(aluguel)"
      ],
      "metadata": {
        "colab": {
          "base_uri": "https://localhost:8080/"
        },
        "id": "wpUQLdSZY-ZA",
        "outputId": "107c48d9-6ce6-4f2c-fb91-11180e462703"
      },
      "execution_count": 26,
      "outputs": [
        {
          "output_type": "stream",
          "name": "stdout",
          "text": [
            "900.0\n"
          ]
        }
      ]
    },
    {
      "cell_type": "code",
      "source": [
        "aluguel -= 100.0"
      ],
      "metadata": {
        "id": "lNZhqANQZWbk"
      },
      "execution_count": 27,
      "outputs": []
    },
    {
      "cell_type": "code",
      "source": [
        "print(aluguel)"
      ],
      "metadata": {
        "colab": {
          "base_uri": "https://localhost:8080/"
        },
        "id": "qhA0E3ZJZYvQ",
        "outputId": "e382fd08-695a-4d3f-adf2-379dbb319801"
      },
      "execution_count": 28,
      "outputs": [
        {
          "output_type": "stream",
          "name": "stdout",
          "text": [
            "800.0\n"
          ]
        }
      ]
    },
    {
      "cell_type": "code",
      "source": [
        "aluguel -= 100.0"
      ],
      "metadata": {
        "id": "pOi4TEjQZaTt"
      },
      "execution_count": 29,
      "outputs": []
    },
    {
      "cell_type": "code",
      "source": [
        "print(aluguel)"
      ],
      "metadata": {
        "colab": {
          "base_uri": "https://localhost:8080/"
        },
        "id": "zffiADcjYwj5",
        "outputId": "5fe593e1-f9db-47c0-9843-a79bf51eb4ae"
      },
      "execution_count": 30,
      "outputs": [
        {
          "output_type": "stream",
          "name": "stdout",
          "text": [
            "700.0\n"
          ]
        }
      ]
    },
    {
      "cell_type": "code",
      "source": [
        "amigos = 6\n",
        "aluguel = 1000.00\n",
        "supermercado = 500.00\n",
        "carro = 400.00"
      ],
      "metadata": {
        "id": "o9RDRcheYkLU"
      },
      "execution_count": 31,
      "outputs": []
    },
    {
      "cell_type": "code",
      "source": [
        "print(amigos)"
      ],
      "metadata": {
        "id": "eqohovxLNNSS",
        "colab": {
          "base_uri": "https://localhost:8080/"
        },
        "outputId": "20f546e6-b828-4982-9c27-e63748f57de1"
      },
      "execution_count": 32,
      "outputs": [
        {
          "output_type": "stream",
          "name": "stdout",
          "text": [
            "6\n"
          ]
        }
      ]
    },
    {
      "cell_type": "code",
      "source": [
        "total_de_carro = carro * 2"
      ],
      "metadata": {
        "id": "vvyNh1i5aPuk"
      },
      "execution_count": 33,
      "outputs": []
    },
    {
      "cell_type": "code",
      "source": [
        "total = aluguel + supermercado + total_de_carro"
      ],
      "metadata": {
        "id": "M6THF_ZCb1rJ"
      },
      "execution_count": 34,
      "outputs": []
    },
    {
      "cell_type": "code",
      "source": [
        "print(total)"
      ],
      "metadata": {
        "colab": {
          "base_uri": "https://localhost:8080/"
        },
        "id": "19Nwt0kRb5JD",
        "outputId": "a83c58a9-1825-45df-d58a-b093bd332f62"
      },
      "execution_count": 35,
      "outputs": [
        {
          "output_type": "stream",
          "name": "stdout",
          "text": [
            "2300.0\n"
          ]
        }
      ]
    },
    {
      "cell_type": "code",
      "source": [
        "total_por_pessoa = total / amigos"
      ],
      "metadata": {
        "id": "P8ZpoRvCb6OS"
      },
      "execution_count": 36,
      "outputs": []
    },
    {
      "cell_type": "code",
      "source": [
        "print(total_por_pessoa)"
      ],
      "metadata": {
        "colab": {
          "base_uri": "https://localhost:8080/"
        },
        "id": "ovIy3NuCcH_T",
        "outputId": "71c3392d-b68a-46c6-ca53-8ad58281a20d"
      },
      "execution_count": 37,
      "outputs": [
        {
          "output_type": "stream",
          "name": "stdout",
          "text": [
            "383.3333333333333\n"
          ]
        }
      ]
    },
    {
      "cell_type": "code",
      "source": [
        "type(aluguel)"
      ],
      "metadata": {
        "colab": {
          "base_uri": "https://localhost:8080/"
        },
        "id": "lJEMOpeIXZ2s",
        "outputId": "7e9bed85-154e-44c6-f262-266b8b838664"
      },
      "execution_count": 38,
      "outputs": [
        {
          "output_type": "execute_result",
          "data": {
            "text/plain": [
              "float"
            ]
          },
          "metadata": {},
          "execution_count": 38
        }
      ]
    },
    {
      "cell_type": "code",
      "source": [
        "type(total_por_pessoa)"
      ],
      "metadata": {
        "colab": {
          "base_uri": "https://localhost:8080/"
        },
        "id": "wsiZ-VxGdNhv",
        "outputId": "7cf43202-eb86-4ac9-d2ee-31e348d7e330"
      },
      "execution_count": 39,
      "outputs": [
        {
          "output_type": "execute_result",
          "data": {
            "text/plain": [
              "float"
            ]
          },
          "metadata": {},
          "execution_count": 39
        }
      ]
    },
    {
      "cell_type": "code",
      "source": [
        "type(nome_do_produto1)"
      ],
      "metadata": {
        "colab": {
          "base_uri": "https://localhost:8080/"
        },
        "id": "DQW4-Z5xdTvS",
        "outputId": "a294ce2e-c049-4713-ce85-cef513294086"
      },
      "execution_count": 40,
      "outputs": [
        {
          "output_type": "execute_result",
          "data": {
            "text/plain": [
              "str"
            ]
          },
          "metadata": {},
          "execution_count": 40
        }
      ]
    },
    {
      "cell_type": "code",
      "source": [
        "pedro_tem_carteira_motorista = True\n",
        "\n",
        "mario_tem_carteira_motorista = False"
      ],
      "metadata": {
        "id": "VZVA4MobXZ6Q"
      },
      "execution_count": 41,
      "outputs": []
    },
    {
      "cell_type": "code",
      "source": [
        "type(pedro_tem_carteira_motorista)"
      ],
      "metadata": {
        "colab": {
          "base_uri": "https://localhost:8080/"
        },
        "id": "kJhtBHfNdnh5",
        "outputId": "5e0ad0e5-b54a-40bb-946f-73c011d85c63"
      },
      "execution_count": 42,
      "outputs": [
        {
          "output_type": "execute_result",
          "data": {
            "text/plain": [
              "bool"
            ]
          },
          "metadata": {},
          "execution_count": 42
        }
      ]
    },
    {
      "cell_type": "code",
      "source": [
        "type(mario_tem_carteira_motorista)"
      ],
      "metadata": {
        "colab": {
          "base_uri": "https://localhost:8080/"
        },
        "id": "FlUabwKtdqx6",
        "outputId": "a363089a-70aa-4972-d791-e6e91f6102ce"
      },
      "execution_count": 43,
      "outputs": [
        {
          "output_type": "execute_result",
          "data": {
            "text/plain": [
              "bool"
            ]
          },
          "metadata": {},
          "execution_count": 43
        }
      ]
    },
    {
      "cell_type": "code",
      "source": [
        "texto = \"    Fabrício CARRaro  da alura   \"\n",
        "print(texto)"
      ],
      "metadata": {
        "colab": {
          "base_uri": "https://localhost:8080/"
        },
        "id": "S36WcYXedsxy",
        "outputId": "3ee5a2a4-a131-4ec4-e181-3b53de049dc1"
      },
      "execution_count": 44,
      "outputs": [
        {
          "output_type": "stream",
          "name": "stdout",
          "text": [
            "    Fabrício CARRaro  da alura   \n"
          ]
        }
      ]
    },
    {
      "cell_type": "code",
      "source": [
        "print(texto.lower())"
      ],
      "metadata": {
        "colab": {
          "base_uri": "https://localhost:8080/"
        },
        "id": "7N776qgbde25",
        "outputId": "76f3dd04-6e7e-4cbf-cf32-8208c054dbd7"
      },
      "execution_count": 45,
      "outputs": [
        {
          "output_type": "stream",
          "name": "stdout",
          "text": [
            "    fabrício carraro  da alura   \n"
          ]
        }
      ]
    },
    {
      "cell_type": "code",
      "source": [
        "print(texto.upper())\n",
        "\n"
      ],
      "metadata": {
        "id": "0Vj7inoiifiA",
        "outputId": "1d88b42d-934b-4c5f-81da-1ef3a157ef77",
        "colab": {
          "base_uri": "https://localhost:8080/"
        }
      },
      "execution_count": 46,
      "outputs": [
        {
          "output_type": "stream",
          "name": "stdout",
          "text": [
            "    FABRÍCIO CARRARO  DA ALURA   \n"
          ]
        }
      ]
    },
    {
      "cell_type": "code",
      "source": [
        "print(texto.strip())"
      ],
      "metadata": {
        "id": "cGqrdz8zipkd",
        "outputId": "9ea7b0b8-6abc-402b-dddc-1be30a52ccb1",
        "colab": {
          "base_uri": "https://localhost:8080/"
        }
      },
      "execution_count": 47,
      "outputs": [
        {
          "output_type": "stream",
          "name": "stdout",
          "text": [
            "Fabrício CARRaro  da alura\n"
          ]
        }
      ]
    },
    {
      "cell_type": "code",
      "source": [
        "print(texto.replace(\"  \",\" \"))"
      ],
      "metadata": {
        "id": "ABjx6ULLit_F",
        "outputId": "379a1d6a-b407-4593-ac51-994beb8001b9",
        "colab": {
          "base_uri": "https://localhost:8080/"
        }
      },
      "execution_count": 48,
      "outputs": [
        {
          "output_type": "stream",
          "name": "stdout",
          "text": [
            "  Fabrício CARRaro da alura  \n"
          ]
        }
      ]
    },
    {
      "cell_type": "code",
      "source": [
        "texto = texto.strip().upper().replace(\"  \", \" \")"
      ],
      "metadata": {
        "id": "9Ij6teekjDhk"
      },
      "execution_count": 49,
      "outputs": []
    },
    {
      "cell_type": "code",
      "source": [
        "print(texto)"
      ],
      "metadata": {
        "id": "TJCqh1UxjoR-",
        "outputId": "000686fc-29d5-4a85-bb7e-ec5cb2b13483",
        "colab": {
          "base_uri": "https://localhost:8080/"
        }
      },
      "execution_count": 50,
      "outputs": [
        {
          "output_type": "stream",
          "name": "stdout",
          "text": [
            "FABRÍCIO CARRARO DA ALURA\n"
          ]
        }
      ]
    },
    {
      "cell_type": "code",
      "source": [
        "nome = input(\"Digite seu nome: \")"
      ],
      "metadata": {
        "id": "BwKDDXbfjp3c",
        "colab": {
          "base_uri": "https://localhost:8080/"
        },
        "outputId": "fec94ff4-28c3-4899-baa9-a4ae094d544d"
      },
      "execution_count": 51,
      "outputs": [
        {
          "name": "stdout",
          "output_type": "stream",
          "text": [
            "Digite seu nome: John Doe\n"
          ]
        }
      ]
    },
    {
      "cell_type": "code",
      "source": [
        "print(nome)"
      ],
      "metadata": {
        "id": "VIT9iQsJipsQ",
        "colab": {
          "base_uri": "https://localhost:8080/"
        },
        "outputId": "fca3a306-9d67-4c6c-ffe7-e232daac4cc8"
      },
      "execution_count": 52,
      "outputs": [
        {
          "output_type": "stream",
          "name": "stdout",
          "text": [
            "John Doe\n"
          ]
        }
      ]
    },
    {
      "cell_type": "code",
      "source": [
        "idade = input(\"Digite sua idade: \")"
      ],
      "metadata": {
        "colab": {
          "base_uri": "https://localhost:8080/"
        },
        "id": "8OxkQz8q7FlS",
        "outputId": "251958b2-f2bc-4742-92d3-8f97346f5afa"
      },
      "execution_count": 53,
      "outputs": [
        {
          "name": "stdout",
          "output_type": "stream",
          "text": [
            "Digite sua idade: 19\n"
          ]
        }
      ]
    },
    {
      "cell_type": "code",
      "source": [
        "print(idade)"
      ],
      "metadata": {
        "id": "gNaMDipDip01",
        "colab": {
          "base_uri": "https://localhost:8080/"
        },
        "outputId": "8c965e44-c2e3-44df-b924-5e723650c349"
      },
      "execution_count": 54,
      "outputs": [
        {
          "output_type": "stream",
          "name": "stdout",
          "text": [
            "19\n"
          ]
        }
      ]
    },
    {
      "cell_type": "code",
      "source": [
        "type(nome)"
      ],
      "metadata": {
        "colab": {
          "base_uri": "https://localhost:8080/"
        },
        "id": "lQtL1wn07XVz",
        "outputId": "df9404f2-3586-4f7b-dbbe-a46fdb37a2b8"
      },
      "execution_count": 55,
      "outputs": [
        {
          "output_type": "execute_result",
          "data": {
            "text/plain": [
              "str"
            ]
          },
          "metadata": {},
          "execution_count": 55
        }
      ]
    },
    {
      "cell_type": "code",
      "source": [
        "type(idade)"
      ],
      "metadata": {
        "colab": {
          "base_uri": "https://localhost:8080/"
        },
        "id": "9R6a0XdC7XZc",
        "outputId": "a18c239c-45a0-4066-e38e-c97f62de1010"
      },
      "execution_count": 56,
      "outputs": [
        {
          "output_type": "execute_result",
          "data": {
            "text/plain": [
              "str"
            ]
          },
          "metadata": {},
          "execution_count": 56
        }
      ]
    },
    {
      "cell_type": "code",
      "source": [
        "idade = int(idade)"
      ],
      "metadata": {
        "id": "r6bvVZAI7Xc2"
      },
      "execution_count": 57,
      "outputs": []
    },
    {
      "cell_type": "code",
      "source": [
        "type(idade)"
      ],
      "metadata": {
        "colab": {
          "base_uri": "https://localhost:8080/"
        },
        "id": "gyTBbEZD7Xgh",
        "outputId": "f924dfd8-12de-4770-8e57-fecdc9cfa5c6"
      },
      "execution_count": 58,
      "outputs": [
        {
          "output_type": "execute_result",
          "data": {
            "text/plain": [
              "int"
            ]
          },
          "metadata": {},
          "execution_count": 58
        }
      ]
    },
    {
      "cell_type": "code",
      "source": [
        "print(f'A pessoa se chama {nome} e tem {idade} anos de idade')"
      ],
      "metadata": {
        "colab": {
          "base_uri": "https://localhost:8080/"
        },
        "id": "vXPbXhRD7-IX",
        "outputId": "e8af5bb6-dd6a-4748-c19d-e55db9a2f53a"
      },
      "execution_count": 59,
      "outputs": [
        {
          "output_type": "stream",
          "name": "stdout",
          "text": [
            "A pessoa se chama John Doe e tem 19 anos de idade\n"
          ]
        }
      ]
    },
    {
      "cell_type": "code",
      "source": [
        "idade = int(input(\"Digite sua idade: \"))"
      ],
      "metadata": {
        "colab": {
          "base_uri": "https://localhost:8080/"
        },
        "id": "ZrX38-5h7-Ni",
        "outputId": "10a38693-2256-4347-b591-f94ee01d65f5"
      },
      "execution_count": 60,
      "outputs": [
        {
          "name": "stdout",
          "output_type": "stream",
          "text": [
            "Digite sua idade: 14\n"
          ]
        }
      ]
    },
    {
      "cell_type": "code",
      "source": [
        "type(idade)"
      ],
      "metadata": {
        "colab": {
          "base_uri": "https://localhost:8080/"
        },
        "id": "Iq1FL1Kt7-gC",
        "outputId": "b1625300-5880-4e75-f422-2e16ce425c24"
      },
      "execution_count": 61,
      "outputs": [
        {
          "output_type": "execute_result",
          "data": {
            "text/plain": [
              "int"
            ]
          },
          "metadata": {},
          "execution_count": 61
        }
      ]
    },
    {
      "cell_type": "code",
      "source": [
        "if idade >= 18:\n",
        "    print(f\"O {nome} pode entrar na festa porque ele é maior de idade\")\n",
        "    print(f\"Ele tem {idade} anos de idade\")\n",
        "else:\n",
        "    print(\"Menor de idade\")"
      ],
      "metadata": {
        "colab": {
          "base_uri": "https://localhost:8080/"
        },
        "id": "g-ioxhUf7XjZ",
        "outputId": "568200b5-8203-4cf2-fd7c-9f9c599da7e2"
      },
      "execution_count": 62,
      "outputs": [
        {
          "output_type": "stream",
          "name": "stdout",
          "text": [
            "Menor de idade\n"
          ]
        }
      ]
    },
    {
      "cell_type": "code",
      "source": [
        "media = float(input(\"Digite sua media: \"))"
      ],
      "metadata": {
        "colab": {
          "base_uri": "https://localhost:8080/"
        },
        "id": "FM2X49E0UV9O",
        "outputId": "85129f20-d204-40cd-b14f-c03edea66ddf"
      },
      "execution_count": 63,
      "outputs": [
        {
          "name": "stdout",
          "output_type": "stream",
          "text": [
            "Digite sua media: 7\n"
          ]
        }
      ]
    },
    {
      "cell_type": "code",
      "source": [
        "media = float(input(\"Digite sua media: \"))\n",
        "\n",
        "if media >= 7.0:\n",
        "  print(\"Aprovado\")\n",
        "elif media >= 5.0 and media < 7.0:\n",
        "  print(\"Recuperação\")\n",
        "else:\n",
        "  print(\"Reprovado\")"
      ],
      "metadata": {
        "colab": {
          "base_uri": "https://localhost:8080/"
        },
        "id": "YEPsk14bUWDs",
        "outputId": "7f0ea2ee-2d15-4ec9-ffce-e4d653b98d4e"
      },
      "execution_count": 64,
      "outputs": [
        {
          "output_type": "stream",
          "name": "stdout",
          "text": [
            "Digite sua media: 9\n",
            "Aprovado\n"
          ]
        }
      ]
    },
    {
      "cell_type": "markdown",
      "source": [
        "### **Rodando a IA no Google Colab (Gemini)**"
      ],
      "metadata": {
        "id": "nYJgf0wj-TkU"
      }
    },
    {
      "cell_type": "code",
      "source": [
        "import os\n",
        "\n",
        "from google.colab import userdata\n",
        "\n",
        "os.environ[\"GOOGLE_API_KEY\"] = userdata.get('Gemini_API_Key')"
      ],
      "metadata": {
        "id": "dGs8TPahUWJD"
      },
      "execution_count": 65,
      "outputs": []
    },
    {
      "cell_type": "code",
      "source": [
        "from google import genai\n",
        "\n",
        "client = genai.Client()"
      ],
      "metadata": {
        "id": "P6LEB1H6UWNC"
      },
      "execution_count": 66,
      "outputs": []
    },
    {
      "cell_type": "code",
      "source": [
        "resposta = client.models.generate_content(model='gemini-2.5-flash', contents=\"What is Generative AI ?\")"
      ],
      "metadata": {
        "id": "JOiaki2FUWQa"
      },
      "execution_count": 67,
      "outputs": []
    },
    {
      "cell_type": "code",
      "source": [
        "print(resposta.text)"
      ],
      "metadata": {
        "colab": {
          "base_uri": "https://localhost:8080/"
        },
        "id": "QwOupoe37Xng",
        "outputId": "da8c4d5f-7531-45f5-a2cf-763809fb1747"
      },
      "execution_count": 68,
      "outputs": [
        {
          "output_type": "stream",
          "name": "stdout",
          "text": [
            "**Generative AI** refers to a category of artificial intelligence models capable of producing novel and original content, such as text, images, audio, video, code, or 3D models. Unlike traditional AI that might classify, predict, or analyze existing data, generative AI *creates* new data that resembles the data it was trained on but is not an exact copy.\n",
            "\n",
            "Here's a breakdown of what that means:\n",
            "\n",
            "1.  **\"Generative\"**: This is the key word. It means the AI can *generate* or *create* something new from scratch. If you give it a prompt, it doesn't just retrieve an existing answer; it constructs a new one based on its learned understanding of patterns.\n",
            "\n",
            "2.  **\"AI\"**: This refers to the underlying technology, which typically involves complex machine learning models, often deep learning neural networks. These models are trained on massive datasets (e.g., billions of text documents, millions of images, hours of audio).\n",
            "\n",
            "### How it Works (Simplified)\n",
            "\n",
            "1.  **Training**: A generative AI model is fed an enormous amount of data (e.g., all the text on the internet, vast libraries of images).\n",
            "2.  **Learning Patterns**: During training, the model learns to identify and understand the underlying patterns, structures, styles, and relationships within that data. For example, a text model learns grammar, syntax, factual relationships, and different writing styles. An image model learns shapes, colors, textures, and common compositions.\n",
            "3.  **Generating New Content**: Once trained, the model can then use these learned patterns to create new content. When given a **prompt** (a text instruction, an initial image, a musical motif, etc.), it uses its understanding to predict what comes next or how to fulfill the request, generating an output that is statistically probable and coherent given its training.\n",
            "\n",
            "### Key Characteristics:\n",
            "\n",
            "*   **Novelty**: It produces unique outputs that haven't existed before.\n",
            "*   **Creativity (Simulated)**: It can mimic human creativity by blending concepts, styles, and information in new ways.\n",
            "*   **Conditional Generation**: Outputs can often be guided by specific prompts or parameters.\n",
            "\n",
            "### Types of Generative AI and Examples:\n",
            "\n",
            "*   **Large Language Models (LLMs)**: Generate human-like text, answer questions, summarize documents, write code, create stories, etc.\n",
            "    *   *Examples:* ChatGPT (OpenAI), Gemini (Google), Claude (Anthropic), LLaMA (Meta)\n",
            "*   **Image Generation Models**: Create realistic or artistic images from text descriptions (text-to-image), modify existing images, or generate different styles.\n",
            "    *   *Examples:* DALL-E (OpenAI), Midjourney, Stable Diffusion\n",
            "*   **Audio and Music Generation**: Produce speech, sound effects, or original musical compositions.\n",
            "    *   *Examples:* Text-to-speech models, AIVA, Google's MusicLM\n",
            "*   **Video Generation Models**: Create short video clips from text prompts or manipulate existing video.\n",
            "    *   *Examples:* RunwayML, Google's Imagen Video\n",
            "*   **Code Generation**: Write or suggest code snippets based on natural language descriptions or existing code.\n",
            "    *   *Examples:* GitHub Copilot\n",
            "\n",
            "### Why is it Significant?\n",
            "\n",
            "Generative AI has the potential to:\n",
            "\n",
            "*   **Automate content creation** across various media.\n",
            "*   **Accelerate design and development** processes.\n",
            "*   **Personalize experiences** on a massive scale.\n",
            "*   **Drive innovation** in fields like drug discovery, material science, and engineering.\n",
            "*   **Enhance human creativity** by providing powerful tools for ideation and execution.\n",
            "\n",
            "### Limitations and Concerns:\n",
            "\n",
            "*   **Hallucinations**: Generative AI, especially LLMs, can sometimes generate factually incorrect or nonsensical information with high confidence.\n",
            "*   **Bias**: Outputs can reflect and perpetuate biases present in the training data.\n",
            "*   **Misinformation and Deepfakes**: The ability to create realistic fake content raises ethical concerns about manipulation and the spread of false information.\n",
            "*   **Computational Cost**: Training and running these large models requires significant computing power.\n",
            "*   **Ethical Implications**: Questions around copyright, intellectual property, job displacement, and the nature of original work.\n",
            "\n",
            "In essence, Generative AI marks a significant leap in AI capabilities, moving beyond analysis to active creation, opening up vast possibilities but also presenting new challenges.\n"
          ]
        }
      ]
    },
    {
      "cell_type": "markdown",
      "source": [
        "**Loops**"
      ],
      "metadata": {
        "id": "3-JH1iTKWPXt"
      }
    },
    {
      "cell_type": "code",
      "source": [
        "n = 1\n",
        "\n",
        "while n <= 5:\n",
        "  print(\"*\")\n",
        "  n += 1"
      ],
      "metadata": {
        "id": "qYlyMLMs7XqU",
        "outputId": "685f0b8b-2540-4713-86db-366e7889570c",
        "colab": {
          "base_uri": "https://localhost:8080/"
        }
      },
      "execution_count": 69,
      "outputs": [
        {
          "output_type": "stream",
          "name": "stdout",
          "text": [
            "*\n",
            "*\n",
            "*\n",
            "*\n",
            "*\n"
          ]
        }
      ]
    },
    {
      "cell_type": "code",
      "source": [
        "chat = client.chats.create(model='gemini-2.5-flash')"
      ],
      "metadata": {
        "id": "Im5Tr-RL-CgF"
      },
      "execution_count": 70,
      "outputs": []
    },
    {
      "cell_type": "code",
      "source": [
        "resposta2 = chat.send_message(\"O que é a Inteligência Artificial ?\")"
      ],
      "metadata": {
        "id": "7VJzS54s-Cp9"
      },
      "execution_count": 71,
      "outputs": []
    },
    {
      "cell_type": "code",
      "source": [
        "#print(resposta2)\n",
        "print(resposta2.text)"
      ],
      "metadata": {
        "id": "uGrwIQF0-Ct6",
        "outputId": "6d3361fa-9837-40b9-f8b3-b55e74e86c25",
        "colab": {
          "base_uri": "https://localhost:8080/"
        }
      },
      "execution_count": 72,
      "outputs": [
        {
          "output_type": "stream",
          "name": "stdout",
          "text": [
            "A **Inteligência Artificial (IA)** é um campo da ciência da computação dedicado a criar máquinas e softwares que podem simular capacidades humanas de inteligência. Em termos mais simples, é a tentativa de fazer com que computadores \"pensem\" e \"ajam\" de forma inteligente, imitando habilidades cognitivas humanas.\n",
            "\n",
            "### O que a IA busca replicar?\n",
            "\n",
            "A IA se propõe a permitir que sistemas computacionais realizem tarefas que normalmente exigiriam inteligência humana, como:\n",
            "\n",
            "1.  **Aprendizado (Machine Learning):** A capacidade de adquirir conhecimento e habilidades a partir de dados, sem ser explicitamente programado para cada cenário. Em vez de seguir um conjunto fixo de instruções, o sistema aprende padrões e faz previsões ou decisões com base no que \"viu\".\n",
            "2.  **Raciocínio:** A habilidade de usar lógica, regras e inferências para resolver problemas e tirar conclusões.\n",
            "3.  **Percepção:** Processar e interpretar informações sensoriais, como imagens (Visão Computacional) e sons (Reconhecimento de Fala).\n",
            "4.  **Compreensão da Linguagem Natural (Processamento de Linguagem Natural - PLN):** A capacidade de entender, interpretar e gerar linguagem humana, permitindo interações mais naturais com máquinas (como chatbots e assistentes virtuais).\n",
            "5.  **Tomada de Decisão:** Selecionar a melhor ação entre várias opções, muitas vezes com base em dados e probabilidades.\n",
            "6.  **Resolução de Problemas:** Encontrar soluções para desafios complexos.\n",
            "\n",
            "### Como a IA funciona (de forma simplificada)?\n",
            "\n",
            "A IA funciona através de:\n",
            "\n",
            "*   **Algoritmos:** Conjuntos de instruções matemáticas e lógicas que os computadores seguem para realizar tarefas.\n",
            "*   **Dados:** A \"matéria-prima\" da IA. Quanto mais dados relevantes um sistema de IA processa, melhor ele se torna em suas tarefas (especialmente no aprendizado de máquina).\n",
            "*   **Poder Computacional:** A capacidade de processar grandes volumes de dados e executar algoritmos complexos rapidamente.\n",
            "\n",
            "### Tipos de IA (simplificado):\n",
            "\n",
            "1.  **IA Fraca ou Estreita (Narrow AI / ANI):** É a maioria da IA que temos hoje. É projetada e treinada para uma tarefa específica (por exemplo, reconhecimento facial, jogar xadrez, fazer recomendações). Ela não possui consciência ou inteligência geral.\n",
            "2.  **IA Forte ou Geral (General AI / AGI):** É uma IA hipotética que possui a capacidade cognitiva de um ser humano em todas as áreas, podendo realizar qualquer tarefa intelectual que um humano pode fazer. Ainda estamos longe de atingir isso.\n",
            "3.  **Superinteligência (ASI):** Uma IA hipotética que excede em muito a inteligência humana em todos os aspectos.\n",
            "\n",
            "### Exemplos do dia a dia:\n",
            "\n",
            "*   **Assistentes Virtuais:** Siri, Alexa, Google Assistant.\n",
            "*   **Sistemas de Recomendação:** Netflix, Spotify, Amazon sugerindo produtos ou conteúdo.\n",
            "*   **Filtros de Spam e Detecção de Fraudes:** Identificam padrões suspeitos.\n",
            "*   **Reconhecimento Facial:** Desbloqueio de celulares, organização de fotos.\n",
            "*   **Carros Autônomos:** Sistemas que dirigem veículos sozinhos.\n",
            "*   **Tradução Automática:** Google Translate.\n",
            "*   **Diagnóstico Médico:** Auxiliando médicos a identificar doenças.\n",
            "\n",
            "A Inteligência Artificial é um campo em constante evolução, com o potencial de transformar quase todos os aspectos da nossa vida, desde a medicina e a educação até o trabalho e o entretenimento.\n"
          ]
        }
      ]
    },
    {
      "cell_type": "code",
      "source": [
        "resposta3 = chat.send_message(\"Quando foi lançado o ChatGPT ?\")\n",
        "\n",
        "print(resposta3.text)\n"
      ],
      "metadata": {
        "id": "0lax2whO6vi8",
        "outputId": "e65d153d-03ee-4c1d-934d-d6446cc7c026",
        "colab": {
          "base_uri": "https://localhost:8080/"
        }
      },
      "execution_count": 73,
      "outputs": [
        {
          "output_type": "stream",
          "name": "stdout",
          "text": [
            "O **ChatGPT** foi lançado em **30 de novembro de 2022**.\n",
            "\n",
            "Foi desenvolvido pela OpenAI e rapidamente ganhou grande popularidade por sua capacidade de gerar texto de forma coesa e relevante em uma ampla variedade de tópicos.\n"
          ]
        }
      ]
    },
    {
      "cell_type": "code",
      "source": [
        "chat.get_history()"
      ],
      "metadata": {
        "id": "hx_JSQbf2okI",
        "outputId": "8a2563a0-78f6-4eec-d37a-c4c25802f668",
        "colab": {
          "base_uri": "https://localhost:8080/"
        }
      },
      "execution_count": 74,
      "outputs": [
        {
          "output_type": "execute_result",
          "data": {
            "text/plain": [
              "[UserContent(\n",
              "   parts=[\n",
              "     Part(\n",
              "       text='O que é a Inteligência Artificial ?'\n",
              "     ),\n",
              "   ],\n",
              "   role='user'\n",
              " ),\n",
              " Content(\n",
              "   parts=[\n",
              "     Part(\n",
              "       text=\"\"\"A **Inteligência Artificial (IA)** é um campo da ciência da computação dedicado a criar máquinas e softwares que podem simular capacidades humanas de inteligência. Em termos mais simples, é a tentativa de fazer com que computadores \"pensem\" e \"ajam\" de forma inteligente, imitando habilidades cognitivas humanas.\n",
              " \n",
              " ### O que a IA busca replicar?\n",
              " \n",
              " A IA se propõe a permitir que sistemas computacionais realizem tarefas que normalmente exigiriam inteligência humana, como:\n",
              " \n",
              " 1.  **Aprendizado (Machine Learning):** A capacidade de adquirir conhecimento e habilidades a partir de dados, sem ser explicitamente programado para cada cenário. Em vez de seguir um conjunto fixo de instruções, o sistema aprende padrões e faz previsões ou decisões com base no que \"viu\".\n",
              " 2.  **Raciocínio:** A habilidade de usar lógica, regras e inferências para resolver problemas e tirar conclusões.\n",
              " 3.  **Percepção:** Processar e interpretar informações sensoriais, como imagens (Visão Computacional) e sons (Reconhecimento de Fala).\n",
              " 4.  **Compreensão da Linguagem Natural (Processamento de Linguagem Natural - PLN):** A capacidade de entender, interpretar e gerar linguagem humana, permitindo interações mais naturais com máquinas (como chatbots e assistentes virtuais).\n",
              " 5.  **Tomada de Decisão:** Selecionar a melhor ação entre várias opções, muitas vezes com base em dados e probabilidades.\n",
              " 6.  **Resolução de Problemas:** Encontrar soluções para desafios complexos.\n",
              " \n",
              " ### Como a IA funciona (de forma simplificada)?\n",
              " \n",
              " A IA funciona através de:\n",
              " \n",
              " *   **Algoritmos:** Conjuntos de instruções matemáticas e lógicas que os computadores seguem para realizar tarefas.\n",
              " *   **Dados:** A \"matéria-prima\" da IA. Quanto mais dados relevantes um sistema de IA processa, melhor ele se torna em suas tarefas (especialmente no aprendizado de máquina).\n",
              " *   **Poder Computacional:** A capacidade de processar grandes volumes de dados e executar algoritmos complexos rapidamente.\n",
              " \n",
              " ### Tipos de IA (simplificado):\n",
              " \n",
              " 1.  **IA Fraca ou Estreita (Narrow AI / ANI):** É a maioria da IA que temos hoje. É projetada e treinada para uma tarefa específica (por exemplo, reconhecimento facial, jogar xadrez, fazer recomendações). Ela não possui consciência ou inteligência geral.\n",
              " 2.  **IA Forte ou Geral (General AI / AGI):** É uma IA hipotética que possui a capacidade cognitiva de um ser humano em todas as áreas, podendo realizar qualquer tarefa intelectual que um humano pode fazer. Ainda estamos longe de atingir isso.\n",
              " 3.  **Superinteligência (ASI):** Uma IA hipotética que excede em muito a inteligência humana em todos os aspectos.\n",
              " \n",
              " ### Exemplos do dia a dia:\n",
              " \n",
              " *   **Assistentes Virtuais:** Siri, Alexa, Google Assistant.\n",
              " *   **Sistemas de Recomendação:** Netflix, Spotify, Amazon sugerindo produtos ou conteúdo.\n",
              " *   **Filtros de Spam e Detecção de Fraudes:** Identificam padrões suspeitos.\n",
              " *   **Reconhecimento Facial:** Desbloqueio de celulares, organização de fotos.\n",
              " *   **Carros Autônomos:** Sistemas que dirigem veículos sozinhos.\n",
              " *   **Tradução Automática:** Google Translate.\n",
              " *   **Diagnóstico Médico:** Auxiliando médicos a identificar doenças.\n",
              " \n",
              " A Inteligência Artificial é um campo em constante evolução, com o potencial de transformar quase todos os aspectos da nossa vida, desde a medicina e a educação até o trabalho e o entretenimento.\"\"\"\n",
              "     ),\n",
              "   ],\n",
              "   role='model'\n",
              " ),\n",
              " UserContent(\n",
              "   parts=[\n",
              "     Part(\n",
              "       text='Quando foi lançado o ChatGPT ?'\n",
              "     ),\n",
              "   ],\n",
              "   role='user'\n",
              " ),\n",
              " Content(\n",
              "   parts=[\n",
              "     Part(\n",
              "       text=\"\"\"O **ChatGPT** foi lançado em **30 de novembro de 2022**.\n",
              " \n",
              " Foi desenvolvido pela OpenAI e rapidamente ganhou grande popularidade por sua capacidade de gerar texto de forma coesa e relevante em uma ampla variedade de tópicos.\"\"\"\n",
              "     ),\n",
              "   ],\n",
              "   role='model'\n",
              " )]"
            ]
          },
          "metadata": {},
          "execution_count": 74
        }
      ]
    },
    {
      "cell_type": "code",
      "source": [
        "prompt = input(\"Digite sua pergunta: \")\n",
        "\n",
        "while prompt != \"fim\":\n",
        "  resposta4 = chat.send_message(prompt)\n",
        "  print(f\"{resposta4.text} \\n\")\n",
        "  prompt = input(\"Digite sua pergunta: \")\n",
        "\n",
        "  print(resposta4.text)\n"
      ],
      "metadata": {
        "colab": {
          "base_uri": "https://localhost:8080/"
        },
        "id": "ulhh0U-N6phf",
        "outputId": "1e2686b3-ed44-4606-b162-6cdeb9b89483"
      },
      "execution_count": 75,
      "outputs": [
        {
          "output_type": "stream",
          "name": "stdout",
          "text": [
            "Digite sua pergunta: What is Generative AI ?\n",
            "**Generative AI** is a type of Artificial Intelligence that is capable of **producing new, original content** rather than just analyzing or classifying existing data. Instead of just recognizing patterns in data (like identifying a cat in a picture), a generative AI model can *create* a new picture of a cat that has never existed before.\n",
            "\n",
            "Think of it as AI that can be an artist, a writer, a composer, or a designer.\n",
            "\n",
            "### How does it work (in simple terms)?\n",
            "\n",
            "Generative AI models are trained on vast datasets of existing content (text, images, audio, code, etc.). During this training, they learn:\n",
            "\n",
            "1.  **Patterns and structures:** They identify the underlying \"rules,\" styles, and relationships within the data. For example, a text-based model learns grammar, syntax, common phrases, and factual knowledge from countless articles, books, and websites. An image model learns about shapes, colors, textures, and object arrangements from millions of pictures.\n",
            "2.  **Probability and relationships:** They learn which elements tend to appear together, in what sequence, and with what characteristics.\n",
            "\n",
            "Once trained, when you give the model a **\"prompt\"** (a textual description or an input), it uses its learned knowledge to predict and construct new data that fits the prompt and resembles the style and characteristics of its training data. It's not copying; it's generating something novel based on its understanding of how similar things are structured.\n",
            "\n",
            "### Key Characteristics:\n",
            "\n",
            "*   **Creation of Original Content:** The most defining feature. It generates new text, images, audio, video, code, or even 3D models.\n",
            "*   **Learning from Data:** Its ability to create comes from learning complex patterns from massive datasets.\n",
            "*   **Contextual Understanding (to a degree):** It tries to understand the prompt's intent to produce relevant output.\n",
            "*   **Variety and Flexibility:** Given the same prompt multiple times, it can often produce different, yet equally valid, outputs.\n",
            "\n",
            "### Examples of Generative AI:\n",
            "\n",
            "1.  **Text Generation (e.g., ChatGPT, Bard):**\n",
            "    *   Writing articles, emails, poems, stories.\n",
            "    *   Summarizing long documents.\n",
            "    *   Generating code snippets.\n",
            "    *   Brainstorming ideas.\n",
            "    *   Translating languages.\n",
            "\n",
            "2.  **Image Generation (e.g., DALL-E, Midjourney, Stable Diffusion):**\n",
            "    *   Creating photorealistic images from text descriptions.\n",
            "    *   Generating concept art or illustrations.\n",
            "    *   Designing logos or product mockups.\n",
            "    *   Modifying existing images (e.g., changing styles, adding elements).\n",
            "\n",
            "3.  **Audio Generation:**\n",
            "    *   Composing original music.\n",
            "    *   Generating realistic voiceovers from text.\n",
            "    *   Creating sound effects.\n",
            "\n",
            "4.  **Video Generation:**\n",
            "    *   Generating short video clips from text or images.\n",
            "    *   Animating static images.\n",
            "\n",
            "5.  **Code Generation:**\n",
            "    *   Suggesting code completions.\n",
            "    *   Writing functions or entire programs based on a description.\n",
            "\n",
            "### Impact and Future:\n",
            "\n",
            "Generative AI is a rapidly evolving and transformative field. It has the potential to:\n",
            "\n",
            "*   **Automate content creation** at scale.\n",
            "*   **Boost human creativity** by providing tools for brainstorming and rapid prototyping.\n",
            "*   **Personalize experiences** across various industries.\n",
            "*   **Revolutionize design, entertainment, and communication.**\n",
            "\n",
            "However, it also comes with challenges, such as potential for misinformation (deepfakes), ethical concerns, and issues related to bias present in the training data. \n",
            "\n",
            "Digite sua pergunta: Quando foi lançado o ChatGPT ?\n",
            "**Generative AI** is a type of Artificial Intelligence that is capable of **producing new, original content** rather than just analyzing or classifying existing data. Instead of just recognizing patterns in data (like identifying a cat in a picture), a generative AI model can *create* a new picture of a cat that has never existed before.\n",
            "\n",
            "Think of it as AI that can be an artist, a writer, a composer, or a designer.\n",
            "\n",
            "### How does it work (in simple terms)?\n",
            "\n",
            "Generative AI models are trained on vast datasets of existing content (text, images, audio, code, etc.). During this training, they learn:\n",
            "\n",
            "1.  **Patterns and structures:** They identify the underlying \"rules,\" styles, and relationships within the data. For example, a text-based model learns grammar, syntax, common phrases, and factual knowledge from countless articles, books, and websites. An image model learns about shapes, colors, textures, and object arrangements from millions of pictures.\n",
            "2.  **Probability and relationships:** They learn which elements tend to appear together, in what sequence, and with what characteristics.\n",
            "\n",
            "Once trained, when you give the model a **\"prompt\"** (a textual description or an input), it uses its learned knowledge to predict and construct new data that fits the prompt and resembles the style and characteristics of its training data. It's not copying; it's generating something novel based on its understanding of how similar things are structured.\n",
            "\n",
            "### Key Characteristics:\n",
            "\n",
            "*   **Creation of Original Content:** The most defining feature. It generates new text, images, audio, video, code, or even 3D models.\n",
            "*   **Learning from Data:** Its ability to create comes from learning complex patterns from massive datasets.\n",
            "*   **Contextual Understanding (to a degree):** It tries to understand the prompt's intent to produce relevant output.\n",
            "*   **Variety and Flexibility:** Given the same prompt multiple times, it can often produce different, yet equally valid, outputs.\n",
            "\n",
            "### Examples of Generative AI:\n",
            "\n",
            "1.  **Text Generation (e.g., ChatGPT, Bard):**\n",
            "    *   Writing articles, emails, poems, stories.\n",
            "    *   Summarizing long documents.\n",
            "    *   Generating code snippets.\n",
            "    *   Brainstorming ideas.\n",
            "    *   Translating languages.\n",
            "\n",
            "2.  **Image Generation (e.g., DALL-E, Midjourney, Stable Diffusion):**\n",
            "    *   Creating photorealistic images from text descriptions.\n",
            "    *   Generating concept art or illustrations.\n",
            "    *   Designing logos or product mockups.\n",
            "    *   Modifying existing images (e.g., changing styles, adding elements).\n",
            "\n",
            "3.  **Audio Generation:**\n",
            "    *   Composing original music.\n",
            "    *   Generating realistic voiceovers from text.\n",
            "    *   Creating sound effects.\n",
            "\n",
            "4.  **Video Generation:**\n",
            "    *   Generating short video clips from text or images.\n",
            "    *   Animating static images.\n",
            "\n",
            "5.  **Code Generation:**\n",
            "    *   Suggesting code completions.\n",
            "    *   Writing functions or entire programs based on a description.\n",
            "\n",
            "### Impact and Future:\n",
            "\n",
            "Generative AI is a rapidly evolving and transformative field. It has the potential to:\n",
            "\n",
            "*   **Automate content creation** at scale.\n",
            "*   **Boost human creativity** by providing tools for brainstorming and rapid prototyping.\n",
            "*   **Personalize experiences** across various industries.\n",
            "*   **Revolutionize design, entertainment, and communication.**\n",
            "\n",
            "However, it also comes with challenges, such as potential for misinformation (deepfakes), ethical concerns, and issues related to bias present in the training data.\n",
            "O ChatGPT foi lançado em **30 de novembro de 2022**. \n",
            "\n",
            "Digite sua pergunta: fim\n",
            "O ChatGPT foi lançado em **30 de novembro de 2022**.\n"
          ]
        }
      ]
    },
    {
      "cell_type": "markdown",
      "source": [
        "### Estruturas de Dados"
      ],
      "metadata": {
        "id": "F1IIs4jyT1SH"
      }
    },
    {
      "cell_type": "code",
      "source": [
        "lista_de_nomes = [\"Maria Silva\", \"João Santos\", \"Ana Oliveira\", \"Pedro Costa\", \"juliana Pereira\"]"
      ],
      "metadata": {
        "id": "CXidPaV7D8x_"
      },
      "execution_count": 76,
      "outputs": []
    },
    {
      "cell_type": "code",
      "source": [
        "print(lista_de_nomes[3])"
      ],
      "metadata": {
        "colab": {
          "base_uri": "https://localhost:8080/"
        },
        "id": "yzq5cGZPUTIu",
        "outputId": "7bebf901-9f12-4ae2-9fbc-77ea9908d9a6"
      },
      "execution_count": 77,
      "outputs": [
        {
          "output_type": "stream",
          "name": "stdout",
          "text": [
            "Pedro Costa\n"
          ]
        }
      ]
    },
    {
      "cell_type": "code",
      "source": [
        "lista_de_medias = [8.9, 7.5, 4.2, 1.4, 9.5]"
      ],
      "metadata": {
        "id": "ub7ZyUPAUTL8"
      },
      "execution_count": 78,
      "outputs": []
    },
    {
      "cell_type": "code",
      "source": [
        "print(lista_de_nomes[3])"
      ],
      "metadata": {
        "colab": {
          "base_uri": "https://localhost:8080/"
        },
        "id": "D2LFpaIgUTPN",
        "outputId": "eff08434-362a-48a2-e626-3bc644f7c052"
      },
      "execution_count": 79,
      "outputs": [
        {
          "output_type": "stream",
          "name": "stdout",
          "text": [
            "Pedro Costa\n"
          ]
        }
      ]
    },
    {
      "cell_type": "code",
      "source": [
        "for i in range(len(lista_de_medias)):   # Percorre a lista de médias e some 1 ao valor de cada média.\n",
        "\n",
        "  lista_de_medias[i] = lista_de_medias[i] + 1.0\n",
        "\n",
        "  if lista_de_medias[i] > 10.0:\n",
        "    lista_de_medias[i] = 10.0\n",
        "\n",
        "  print(lista_de_medias[i])"
      ],
      "metadata": {
        "colab": {
          "base_uri": "https://localhost:8080/"
        },
        "id": "p12nKWipUTSN",
        "outputId": "3f0d59b5-0913-46df-a63c-3e03e3eeccc9"
      },
      "execution_count": 80,
      "outputs": [
        {
          "output_type": "stream",
          "name": "stdout",
          "text": [
            "9.9\n",
            "8.5\n",
            "5.2\n",
            "2.4\n",
            "10.0\n"
          ]
        }
      ]
    },
    {
      "cell_type": "code",
      "source": [
        "lista_de_medias = [8.9, 7.5, 4.2, 1.4, 9.5]"
      ],
      "metadata": {
        "id": "CzVxYdaHaO5G"
      },
      "execution_count": 81,
      "outputs": []
    },
    {
      "cell_type": "code",
      "source": [
        "n = 0\n",
        "\n",
        "while n < len(lista_de_medias):\n",
        "\n",
        "  lista_de_medias[n] += 1.0\n",
        "\n",
        "  if lista_de_medias[n] > 10.0:\n",
        "    lista_de_medias[n] = 10.0\n",
        "\n",
        "  print(lista_de_medias[n])\n",
        "\n",
        "  n += 1"
      ],
      "metadata": {
        "colab": {
          "base_uri": "https://localhost:8080/"
        },
        "id": "jZbvdqTlUTVN",
        "outputId": "f815dfe6-a283-45ff-f407-07382310bd23"
      },
      "execution_count": 82,
      "outputs": [
        {
          "output_type": "stream",
          "name": "stdout",
          "text": [
            "9.9\n",
            "8.5\n",
            "5.2\n",
            "2.4\n",
            "10.0\n"
          ]
        }
      ]
    },
    {
      "cell_type": "code",
      "source": [
        "len(lista_de_medias)"
      ],
      "metadata": {
        "id": "cTT5XjwaZqUy",
        "colab": {
          "base_uri": "https://localhost:8080/"
        },
        "outputId": "08803253-a950-49b2-a367-4ee80b7bb160"
      },
      "execution_count": 83,
      "outputs": [
        {
          "output_type": "execute_result",
          "data": {
            "text/plain": [
              "5"
            ]
          },
          "metadata": {},
          "execution_count": 83
        }
      ]
    },
    {
      "cell_type": "code",
      "source": [
        "lista_de_medias[len(lista_de_medias) - 1 ]"
      ],
      "metadata": {
        "id": "SHzHpPt5ZqYX",
        "colab": {
          "base_uri": "https://localhost:8080/"
        },
        "outputId": "e7bb9cec-5637-4284-b53d-9e9aaf11110b"
      },
      "execution_count": 84,
      "outputs": [
        {
          "output_type": "execute_result",
          "data": {
            "text/plain": [
              "10.0"
            ]
          },
          "metadata": {},
          "execution_count": 84
        }
      ]
    },
    {
      "cell_type": "code",
      "source": [
        "lista_de_medias[-1]"
      ],
      "metadata": {
        "id": "sAV00QWXZqcV",
        "colab": {
          "base_uri": "https://localhost:8080/"
        },
        "outputId": "a5d0faa2-b8fa-487e-9c74-c21bc06381fb"
      },
      "execution_count": 85,
      "outputs": [
        {
          "output_type": "execute_result",
          "data": {
            "text/plain": [
              "10.0"
            ]
          },
          "metadata": {},
          "execution_count": 85
        }
      ]
    },
    {
      "cell_type": "code",
      "source": [
        "lista_de_nomes"
      ],
      "metadata": {
        "id": "RY6eSeG7ZqtC",
        "colab": {
          "base_uri": "https://localhost:8080/"
        },
        "outputId": "11e97f61-98ad-4137-9ab9-a863099397c5"
      },
      "execution_count": 86,
      "outputs": [
        {
          "output_type": "execute_result",
          "data": {
            "text/plain": [
              "['Maria Silva',\n",
              " 'João Santos',\n",
              " 'Ana Oliveira',\n",
              " 'Pedro Costa',\n",
              " 'juliana Pereira']"
            ]
          },
          "metadata": {},
          "execution_count": 86
        }
      ]
    },
    {
      "cell_type": "code",
      "source": [
        "lista_de_nomes[1:]"
      ],
      "metadata": {
        "id": "nK6LT53_6psL",
        "colab": {
          "base_uri": "https://localhost:8080/"
        },
        "outputId": "8ba6e4f0-b3f6-4a37-fbd9-036d77d94a3a"
      },
      "execution_count": 87,
      "outputs": [
        {
          "output_type": "execute_result",
          "data": {
            "text/plain": [
              "['João Santos', 'Ana Oliveira', 'Pedro Costa', 'juliana Pereira']"
            ]
          },
          "metadata": {},
          "execution_count": 87
        }
      ]
    },
    {
      "cell_type": "code",
      "source": [
        "lista_de_nomes[0:]"
      ],
      "metadata": {
        "id": "2H1FRq7v6pvu",
        "colab": {
          "base_uri": "https://localhost:8080/"
        },
        "outputId": "0f18583d-e433-46bb-89f2-3f043dd18088"
      },
      "execution_count": 88,
      "outputs": [
        {
          "output_type": "execute_result",
          "data": {
            "text/plain": [
              "['Maria Silva',\n",
              " 'João Santos',\n",
              " 'Ana Oliveira',\n",
              " 'Pedro Costa',\n",
              " 'juliana Pereira']"
            ]
          },
          "metadata": {},
          "execution_count": 88
        }
      ]
    },
    {
      "cell_type": "code",
      "source": [
        "lista_de_nomes[:]"
      ],
      "metadata": {
        "colab": {
          "base_uri": "https://localhost:8080/"
        },
        "id": "IP_IyHrGfMbi",
        "outputId": "d6759e0b-d29e-48b1-efb3-9c1f41e8cef7"
      },
      "execution_count": 89,
      "outputs": [
        {
          "output_type": "execute_result",
          "data": {
            "text/plain": [
              "['Maria Silva',\n",
              " 'João Santos',\n",
              " 'Ana Oliveira',\n",
              " 'Pedro Costa',\n",
              " 'juliana Pereira']"
            ]
          },
          "metadata": {},
          "execution_count": 89
        }
      ]
    },
    {
      "cell_type": "code",
      "source": [
        "lista_de_nomes[1:4]"
      ],
      "metadata": {
        "colab": {
          "base_uri": "https://localhost:8080/"
        },
        "id": "YsrY_ZTwfMpG",
        "outputId": "ede327bc-6153-44c2-fa9d-d05261fbb410"
      },
      "execution_count": 90,
      "outputs": [
        {
          "output_type": "execute_result",
          "data": {
            "text/plain": [
              "['João Santos', 'Ana Oliveira', 'Pedro Costa']"
            ]
          },
          "metadata": {},
          "execution_count": 90
        }
      ]
    },
    {
      "cell_type": "code",
      "source": [
        "lista_de_nomes[:4]"
      ],
      "metadata": {
        "colab": {
          "base_uri": "https://localhost:8080/"
        },
        "id": "_b0Lv1H6fMt5",
        "outputId": "c39f6af0-f72b-441f-d7e7-beb405146a85"
      },
      "execution_count": 91,
      "outputs": [
        {
          "output_type": "execute_result",
          "data": {
            "text/plain": [
              "['Maria Silva', 'João Santos', 'Ana Oliveira', 'Pedro Costa']"
            ]
          },
          "metadata": {},
          "execution_count": 91
        }
      ]
    },
    {
      "cell_type": "code",
      "source": [
        "lista_de_nomes.append(\"Fabrício\")"
      ],
      "metadata": {
        "id": "BgGxcCHIfMxR"
      },
      "execution_count": 92,
      "outputs": []
    },
    {
      "cell_type": "code",
      "source": [
        "lista_de_nomes"
      ],
      "metadata": {
        "colab": {
          "base_uri": "https://localhost:8080/"
        },
        "id": "7cAsoz5Hfvgn",
        "outputId": "50147085-c684-4b16-d042-e12f6d83f8da"
      },
      "execution_count": 93,
      "outputs": [
        {
          "output_type": "execute_result",
          "data": {
            "text/plain": [
              "['Maria Silva',\n",
              " 'João Santos',\n",
              " 'Ana Oliveira',\n",
              " 'Pedro Costa',\n",
              " 'juliana Pereira',\n",
              " 'Fabrício']"
            ]
          },
          "metadata": {},
          "execution_count": 93
        }
      ]
    },
    {
      "cell_type": "code",
      "source": [
        "lista_de_nomes.extend([\"Joana da Silva\", \"Paulo Silveira\"])"
      ],
      "metadata": {
        "id": "g0Aqz5ZRfvuH"
      },
      "execution_count": 94,
      "outputs": []
    },
    {
      "cell_type": "code",
      "source": [
        "lista_de_nomes"
      ],
      "metadata": {
        "colab": {
          "base_uri": "https://localhost:8080/"
        },
        "id": "wc6oOtC0fvxZ",
        "outputId": "3b39586a-8276-4514-dcc5-2d211db5d168"
      },
      "execution_count": 95,
      "outputs": [
        {
          "output_type": "execute_result",
          "data": {
            "text/plain": [
              "['Maria Silva',\n",
              " 'João Santos',\n",
              " 'Ana Oliveira',\n",
              " 'Pedro Costa',\n",
              " 'juliana Pereira',\n",
              " 'Fabrício',\n",
              " 'Joana da Silva',\n",
              " 'Paulo Silveira']"
            ]
          },
          "metadata": {},
          "execution_count": 95
        }
      ]
    },
    {
      "cell_type": "code",
      "source": [
        "lista_de_nomes.append([\"Marcio Costa\",\"Natalia Pedreira\"])"
      ],
      "metadata": {
        "id": "tG6rVTonioDv"
      },
      "execution_count": 96,
      "outputs": []
    },
    {
      "cell_type": "code",
      "source": [
        "lista_de_nomes[8]"
      ],
      "metadata": {
        "colab": {
          "base_uri": "https://localhost:8080/"
        },
        "id": "stOW0Cqtfv4R",
        "outputId": "ff831b67-abe3-40af-9d10-2e249723eecd"
      },
      "execution_count": 97,
      "outputs": [
        {
          "output_type": "execute_result",
          "data": {
            "text/plain": [
              "['Marcio Costa', 'Natalia Pedreira']"
            ]
          },
          "metadata": {},
          "execution_count": 97
        }
      ]
    },
    {
      "cell_type": "code",
      "source": [
        "lista_de_nomes[8][0]"
      ],
      "metadata": {
        "colab": {
          "base_uri": "https://localhost:8080/",
          "height": 35
        },
        "id": "Xmu_YZP-i5Ho",
        "outputId": "6d659ab9-0c29-452e-d1ba-5ac82ab969b5"
      },
      "execution_count": 98,
      "outputs": [
        {
          "output_type": "execute_result",
          "data": {
            "text/plain": [
              "'Marcio Costa'"
            ],
            "application/vnd.google.colaboratory.intrinsic+json": {
              "type": "string"
            }
          },
          "metadata": {},
          "execution_count": 98
        }
      ]
    },
    {
      "cell_type": "code",
      "source": [
        "lista_de_nomes = [\"Maria Silva\", \"João Santos\", \"Ana Oliveira\", \"Pedro Costa\", \"juliana Pereira\"]"
      ],
      "metadata": {
        "id": "2hIjUfTMkuPn"
      },
      "execution_count": 99,
      "outputs": []
    },
    {
      "cell_type": "code",
      "source": [
        "lista_de_nomes.extend([\"Joana da Silva\", \"Paulo Silveira\"])"
      ],
      "metadata": {
        "id": "Ge17ZIl8kys1"
      },
      "execution_count": 100,
      "outputs": []
    },
    {
      "cell_type": "code",
      "source": [
        "lista_de_nomes"
      ],
      "metadata": {
        "colab": {
          "base_uri": "https://localhost:8080/"
        },
        "id": "wnTuVuZrfv7w",
        "outputId": "69804bf4-1afb-4b31-9d69-ef8582207a62"
      },
      "execution_count": 101,
      "outputs": [
        {
          "output_type": "execute_result",
          "data": {
            "text/plain": [
              "['Maria Silva',\n",
              " 'João Santos',\n",
              " 'Ana Oliveira',\n",
              " 'Pedro Costa',\n",
              " 'juliana Pereira',\n",
              " 'Joana da Silva',\n",
              " 'Paulo Silveira']"
            ]
          },
          "metadata": {},
          "execution_count": 101
        }
      ]
    },
    {
      "cell_type": "code",
      "source": [
        "lista_de_nomes.remove(\"Paulo Silveira\")"
      ],
      "metadata": {
        "id": "q48_4R2Ck2Nv"
      },
      "execution_count": 102,
      "outputs": []
    },
    {
      "cell_type": "code",
      "source": [
        "lista_de_nomes"
      ],
      "metadata": {
        "colab": {
          "base_uri": "https://localhost:8080/"
        },
        "id": "jCQHOVNuk2bJ",
        "outputId": "568f72da-8bd8-480a-e0c6-721ac6257b2a"
      },
      "execution_count": 103,
      "outputs": [
        {
          "output_type": "execute_result",
          "data": {
            "text/plain": [
              "['Maria Silva',\n",
              " 'João Santos',\n",
              " 'Ana Oliveira',\n",
              " 'Pedro Costa',\n",
              " 'juliana Pereira',\n",
              " 'Joana da Silva']"
            ]
          },
          "metadata": {},
          "execution_count": 103
        }
      ]
    },
    {
      "cell_type": "code",
      "source": [
        "lista_de_nomes.pop()"
      ],
      "metadata": {
        "colab": {
          "base_uri": "https://localhost:8080/",
          "height": 35
        },
        "id": "SQmOve3Uk2fr",
        "outputId": "59a23f43-cb10-4d0d-b32f-753f013614b0"
      },
      "execution_count": 104,
      "outputs": [
        {
          "output_type": "execute_result",
          "data": {
            "text/plain": [
              "'Joana da Silva'"
            ],
            "application/vnd.google.colaboratory.intrinsic+json": {
              "type": "string"
            }
          },
          "metadata": {},
          "execution_count": 104
        }
      ]
    },
    {
      "cell_type": "code",
      "source": [
        "lista_de_nomes"
      ],
      "metadata": {
        "colab": {
          "base_uri": "https://localhost:8080/"
        },
        "id": "_A_Dbph4k_dt",
        "outputId": "2dac493e-43e7-4840-86ce-92807694b3b0"
      },
      "execution_count": 105,
      "outputs": [
        {
          "output_type": "execute_result",
          "data": {
            "text/plain": [
              "['Maria Silva',\n",
              " 'João Santos',\n",
              " 'Ana Oliveira',\n",
              " 'Pedro Costa',\n",
              " 'juliana Pereira']"
            ]
          },
          "metadata": {},
          "execution_count": 105
        }
      ]
    },
    {
      "cell_type": "code",
      "source": [
        "lista_de_nomes.pop(2)"
      ],
      "metadata": {
        "colab": {
          "base_uri": "https://localhost:8080/",
          "height": 35
        },
        "id": "1vLlYUstk_kA",
        "outputId": "507e0266-7325-42d3-8ce7-5342d0185e6c"
      },
      "execution_count": 106,
      "outputs": [
        {
          "output_type": "execute_result",
          "data": {
            "text/plain": [
              "'Ana Oliveira'"
            ],
            "application/vnd.google.colaboratory.intrinsic+json": {
              "type": "string"
            }
          },
          "metadata": {},
          "execution_count": 106
        }
      ]
    },
    {
      "cell_type": "code",
      "source": [
        "lista_de_nomes"
      ],
      "metadata": {
        "colab": {
          "base_uri": "https://localhost:8080/"
        },
        "id": "RH4G9Rlpk_73",
        "outputId": "414afff3-51cf-42a4-f6aa-f5558f15f6a5"
      },
      "execution_count": 107,
      "outputs": [
        {
          "output_type": "execute_result",
          "data": {
            "text/plain": [
              "['Maria Silva', 'João Santos', 'Pedro Costa', 'juliana Pereira']"
            ]
          },
          "metadata": {},
          "execution_count": 107
        }
      ]
    },
    {
      "cell_type": "code",
      "source": [],
      "metadata": {
        "id": "diSGExmRnQma"
      },
      "execution_count": 107,
      "outputs": []
    },
    {
      "cell_type": "markdown",
      "source": [
        "# Dicionários\n",
        "# \"chave\".valor"
      ],
      "metadata": {
        "id": "82HYEA_QoChz"
      }
    },
    {
      "cell_type": "code",
      "source": [
        "dict_de_nomes_e_medias = {\n",
        "    \"Maria Silva\": 8.9,\n",
        "    \"João Santos\": 7.5,\n",
        "    \"Ana Oliveira\": 4.2,\n",
        "    \"Pedro Costa\": 1.4,\n",
        "    \"juliana Pereira\": 9.5\n",
        "}"
      ],
      "metadata": {
        "id": "HD1l_v7unil3"
      },
      "execution_count": 108,
      "outputs": []
    },
    {
      "cell_type": "code",
      "source": [
        "dict_de_nomes_e_medias"
      ],
      "metadata": {
        "colab": {
          "base_uri": "https://localhost:8080/"
        },
        "id": "qs63L0udniud",
        "outputId": "b952e0dd-42ac-4751-f020-791cea8ac44f"
      },
      "execution_count": 109,
      "outputs": [
        {
          "output_type": "execute_result",
          "data": {
            "text/plain": [
              "{'Maria Silva': 8.9,\n",
              " 'João Santos': 7.5,\n",
              " 'Ana Oliveira': 4.2,\n",
              " 'Pedro Costa': 1.4,\n",
              " 'juliana Pereira': 9.5}"
            ]
          },
          "metadata": {},
          "execution_count": 109
        }
      ]
    },
    {
      "cell_type": "code",
      "source": [
        "dict_de_nomes_e_medias[\"Maria Silva\"]"
      ],
      "metadata": {
        "colab": {
          "base_uri": "https://localhost:8080/"
        },
        "id": "1hGm-TAeniyI",
        "outputId": "bded57a7-40fb-42c6-ad3f-265eae886d84"
      },
      "execution_count": 110,
      "outputs": [
        {
          "output_type": "execute_result",
          "data": {
            "text/plain": [
              "8.9"
            ]
          },
          "metadata": {},
          "execution_count": 110
        }
      ]
    },
    {
      "cell_type": "code",
      "source": [
        "dict_de_nomes_e_medias.get(\"Maria Silva\")"
      ],
      "metadata": {
        "colab": {
          "base_uri": "https://localhost:8080/"
        },
        "id": "IuJNnCoqni38",
        "outputId": "410e7d69-410b-4f77-a38f-ca0d3561479b"
      },
      "execution_count": 111,
      "outputs": [
        {
          "output_type": "execute_result",
          "data": {
            "text/plain": [
              "8.9"
            ]
          },
          "metadata": {},
          "execution_count": 111
        }
      ]
    },
    {
      "cell_type": "code",
      "source": [
        "dict_de_nomes_e_medias"
      ],
      "metadata": {
        "colab": {
          "base_uri": "https://localhost:8080/"
        },
        "id": "5EqvdSPPs-0C",
        "outputId": "7b0250bb-08c5-401d-ca46-a7604da1da90"
      },
      "execution_count": 112,
      "outputs": [
        {
          "output_type": "execute_result",
          "data": {
            "text/plain": [
              "{'Maria Silva': 8.9,\n",
              " 'João Santos': 7.5,\n",
              " 'Ana Oliveira': 4.2,\n",
              " 'Pedro Costa': 1.4,\n",
              " 'juliana Pereira': 9.5}"
            ]
          },
          "metadata": {},
          "execution_count": 112
        }
      ]
    },
    {
      "cell_type": "code",
      "source": [
        "dict_de_nomes_e_medias.pop(\"juliana Pereira\")"
      ],
      "metadata": {
        "colab": {
          "base_uri": "https://localhost:8080/"
        },
        "id": "Bt9m3HKjs-3i",
        "outputId": "70a2c2fd-a8af-4058-cec2-1b60e377acbc"
      },
      "execution_count": 113,
      "outputs": [
        {
          "output_type": "execute_result",
          "data": {
            "text/plain": [
              "9.5"
            ]
          },
          "metadata": {},
          "execution_count": 113
        }
      ]
    },
    {
      "cell_type": "code",
      "source": [
        "dict_de_nomes_e_medias"
      ],
      "metadata": {
        "colab": {
          "base_uri": "https://localhost:8080/"
        },
        "id": "UyCLTEXss-65",
        "outputId": "3b31408c-29a5-4ad4-dbf3-4eabe6dcde65"
      },
      "execution_count": 114,
      "outputs": [
        {
          "output_type": "execute_result",
          "data": {
            "text/plain": [
              "{'Maria Silva': 8.9,\n",
              " 'João Santos': 7.5,\n",
              " 'Ana Oliveira': 4.2,\n",
              " 'Pedro Costa': 1.4}"
            ]
          },
          "metadata": {},
          "execution_count": 114
        }
      ]
    },
    {
      "cell_type": "code",
      "source": [
        "dict_de_nomes_e_medias.items()"
      ],
      "metadata": {
        "colab": {
          "base_uri": "https://localhost:8080/"
        },
        "id": "EgHEOc_Xs--F",
        "outputId": "2246e81c-1548-4781-899d-4a23d24c06d7"
      },
      "execution_count": 115,
      "outputs": [
        {
          "output_type": "execute_result",
          "data": {
            "text/plain": [
              "dict_items([('Maria Silva', 8.9), ('João Santos', 7.5), ('Ana Oliveira', 4.2), ('Pedro Costa', 1.4)])"
            ]
          },
          "metadata": {},
          "execution_count": 115
        }
      ]
    },
    {
      "cell_type": "code",
      "source": [
        "dict_de_nomes_e_medias.keys()"
      ],
      "metadata": {
        "colab": {
          "base_uri": "https://localhost:8080/"
        },
        "id": "QFOGhawgs_Bp",
        "outputId": "af86c86c-2b3d-466c-acac-fba6f0334469"
      },
      "execution_count": 116,
      "outputs": [
        {
          "output_type": "execute_result",
          "data": {
            "text/plain": [
              "dict_keys(['Maria Silva', 'João Santos', 'Ana Oliveira', 'Pedro Costa'])"
            ]
          },
          "metadata": {},
          "execution_count": 116
        }
      ]
    },
    {
      "cell_type": "code",
      "source": [
        "dict_de_nomes_e_medias.values()"
      ],
      "metadata": {
        "colab": {
          "base_uri": "https://localhost:8080/"
        },
        "id": "YYN2ozoZs_FX",
        "outputId": "dc03fc01-b91d-47d9-bf66-e4d9de6f71db"
      },
      "execution_count": 117,
      "outputs": [
        {
          "output_type": "execute_result",
          "data": {
            "text/plain": [
              "dict_values([8.9, 7.5, 4.2, 1.4])"
            ]
          },
          "metadata": {},
          "execution_count": 117
        }
      ]
    },
    {
      "cell_type": "markdown",
      "source": [
        "# Desafio: Usar dicionários de forma que as chaves sejam \"nome\" e \"média\" e os valores sejam os nomes e médias dos alunos"
      ],
      "metadata": {
        "id": "PvHJlfbwvqeD"
      }
    },
    {
      "cell_type": "code",
      "source": [
        "dict_desafio = [\n",
        "    {\"nome\": \"Maria Silva\",  \"media\": 8.9},\n",
        "    {\"nome\": \"João Santos\",  \"media\": 7.5},\n",
        "    {\"nome\": \"Ana Oliveira\", \"media\": 4.2},\n",
        "    {\"nome\": \"Pedro Costa\",  \"media\": 1.4},\n",
        "]"
      ],
      "metadata": {
        "id": "HHdHz6rDvEmi"
      },
      "execution_count": 118,
      "outputs": []
    },
    {
      "cell_type": "code",
      "source": [
        "dict_desafio[0]"
      ],
      "metadata": {
        "colab": {
          "base_uri": "https://localhost:8080/"
        },
        "id": "aouX4EjdvErN",
        "outputId": "db33dd24-b8b0-496f-c597-bf2ab2c276e4"
      },
      "execution_count": 119,
      "outputs": [
        {
          "output_type": "execute_result",
          "data": {
            "text/plain": [
              "{'nome': 'Maria Silva', 'media': 8.9}"
            ]
          },
          "metadata": {},
          "execution_count": 119
        }
      ]
    },
    {
      "cell_type": "code",
      "source": [
        "dict_desafio[0][\"media\"]"
      ],
      "metadata": {
        "colab": {
          "base_uri": "https://localhost:8080/"
        },
        "id": "0GAtU9q5vEvN",
        "outputId": "0bfba6d0-b739-43c0-b0e1-5405e8b9fb42"
      },
      "execution_count": 120,
      "outputs": [
        {
          "output_type": "execute_result",
          "data": {
            "text/plain": [
              "8.9"
            ]
          },
          "metadata": {},
          "execution_count": 120
        }
      ]
    },
    {
      "cell_type": "code",
      "source": [
        "nomes = ['Maria', 'João', 'Ana', 'Pedro', 'Juliana']\n",
        "\n",
        "print(nomes[-1])  # Exibe 'Juliana'\n",
        "print(nomes[-2])  # Exibe 'Pedro'"
      ],
      "metadata": {
        "colab": {
          "base_uri": "https://localhost:8080/"
        },
        "id": "GZUx98YLvIV0",
        "outputId": "888a1fe7-9613-410a-fd4c-39c8eabf2413"
      },
      "execution_count": 121,
      "outputs": [
        {
          "output_type": "stream",
          "name": "stdout",
          "text": [
            "Juliana\n",
            "Pedro\n"
          ]
        }
      ]
    },
    {
      "cell_type": "code",
      "source": [
        "# Exemplo de slicing com índice negativo\n",
        "\n",
        "ultimos_tres = nomes[-3:]\n",
        "\n",
        "print(ultimos_tres)  # Exibe ['Ana', 'Pedro', 'Juliana']"
      ],
      "metadata": {
        "colab": {
          "base_uri": "https://localhost:8080/"
        },
        "id": "mxEvI0HBvKHC",
        "outputId": "fbd7dd70-a3e6-4f7a-d06b-c8f6389cbdc0"
      },
      "execution_count": 122,
      "outputs": [
        {
          "output_type": "stream",
          "name": "stdout",
          "text": [
            "['Ana', 'Pedro', 'Juliana']\n"
          ]
        }
      ]
    },
    {
      "cell_type": "code",
      "source": [
        "dict_desafio = [\n",
        "    {\"nome\": \"Maria Silva\",  \"media\": 8.9},\n",
        "    {\"nome\": \"João Santos\",  \"media\": 7.5},\n",
        "    {\"nome\": \"Ana Oliveira\", \"media\": 4.2},\n",
        "    {\"nome\": \"Pedro Costa\",  \"media\": 1.4},\n",
        "]"
      ],
      "metadata": {
        "id": "zj5rGgfJHGzh"
      },
      "execution_count": 123,
      "outputs": []
    },
    {
      "cell_type": "code",
      "source": [
        "n = 0\n",
        "while n < len(dict_desafio):\n",
        "    print (dict_desafio[n])\n",
        "    n += 1\n"
      ],
      "metadata": {
        "colab": {
          "base_uri": "https://localhost:8080/"
        },
        "id": "tXS86hTZDYuK",
        "outputId": "f55cb359-a2cd-413a-adb6-ede41e686a33"
      },
      "execution_count": 124,
      "outputs": [
        {
          "output_type": "stream",
          "name": "stdout",
          "text": [
            "{'nome': 'Maria Silva', 'media': 8.9}\n",
            "{'nome': 'João Santos', 'media': 7.5}\n",
            "{'nome': 'Ana Oliveira', 'media': 4.2}\n",
            "{'nome': 'Pedro Costa', 'media': 1.4}\n"
          ]
        }
      ]
    },
    {
      "cell_type": "code",
      "source": [
        "for elemento in dict_desafio:\n",
        "    print(elemento)"
      ],
      "metadata": {
        "colab": {
          "base_uri": "https://localhost:8080/"
        },
        "id": "u_-u3RYnDYyH",
        "outputId": "8fa71051-e1d8-4e5b-8dc8-8f4684a9d018"
      },
      "execution_count": 125,
      "outputs": [
        {
          "output_type": "stream",
          "name": "stdout",
          "text": [
            "{'nome': 'Maria Silva', 'media': 8.9}\n",
            "{'nome': 'João Santos', 'media': 7.5}\n",
            "{'nome': 'Ana Oliveira', 'media': 4.2}\n",
            "{'nome': 'Pedro Costa', 'media': 1.4}\n"
          ]
        }
      ]
    },
    {
      "cell_type": "code",
      "source": [
        "for n in range(5):\n",
        "    print(n)"
      ],
      "metadata": {
        "colab": {
          "base_uri": "https://localhost:8080/"
        },
        "id": "1aiznBnBDY1q",
        "outputId": "d6b00509-0533-49e6-c7f4-242214e04e20"
      },
      "execution_count": 126,
      "outputs": [
        {
          "output_type": "stream",
          "name": "stdout",
          "text": [
            "0\n",
            "1\n",
            "2\n",
            "3\n",
            "4\n"
          ]
        }
      ]
    },
    {
      "cell_type": "code",
      "source": [
        "for n in range(2, 7):\n",
        "    print(n)"
      ],
      "metadata": {
        "colab": {
          "base_uri": "https://localhost:8080/"
        },
        "id": "k6vYlGDNDY5N",
        "outputId": "b81f4a5e-1432-4b5a-97e7-3e56f08d3bb5"
      },
      "execution_count": 127,
      "outputs": [
        {
          "output_type": "stream",
          "name": "stdout",
          "text": [
            "2\n",
            "3\n",
            "4\n",
            "5\n",
            "6\n"
          ]
        }
      ]
    },
    {
      "cell_type": "code",
      "source": [
        "for n in range(2, 7, 2):\n",
        "    print(n)"
      ],
      "metadata": {
        "id": "6nniLr5_MNkP",
        "outputId": "49ee792a-ea2f-409d-8a7a-f4d1c154683c",
        "colab": {
          "base_uri": "https://localhost:8080/"
        }
      },
      "execution_count": 128,
      "outputs": [
        {
          "output_type": "stream",
          "name": "stdout",
          "text": [
            "2\n",
            "4\n",
            "6\n"
          ]
        }
      ]
    },
    {
      "cell_type": "code",
      "source": [
        "pessoa = {\n",
        "    \"nome\": \"Fabrício\",\n",
        "    \"idade\": 19,\n",
        "    \"altura\": 1.87\n",
        "}\n",
        "\n",
        "print(pessoa)"
      ],
      "metadata": {
        "id": "o9flXDY3MNXx",
        "outputId": "6fba52ef-6754-438b-f347-52e907ba18d3",
        "colab": {
          "base_uri": "https://localhost:8080/"
        }
      },
      "execution_count": 129,
      "outputs": [
        {
          "output_type": "stream",
          "name": "stdout",
          "text": [
            "{'nome': 'Fabrício', 'idade': 19, 'altura': 1.87}\n"
          ]
        }
      ]
    },
    {
      "cell_type": "code",
      "source": [
        "for key in pessoa:\n",
        "    print(key)"
      ],
      "metadata": {
        "id": "Cu-kgeEEMNC9",
        "outputId": "3813e88f-0fd0-4977-96ab-b2f16e8dea5f",
        "colab": {
          "base_uri": "https://localhost:8080/"
        }
      },
      "execution_count": 130,
      "outputs": [
        {
          "output_type": "stream",
          "name": "stdout",
          "text": [
            "nome\n",
            "idade\n",
            "altura\n"
          ]
        }
      ]
    },
    {
      "cell_type": "code",
      "source": [
        "pessoa.items()"
      ],
      "metadata": {
        "id": "TSPOnKE1Ncqi",
        "outputId": "a4a48a59-d8d1-49ce-f1a8-161bd71e65d4",
        "colab": {
          "base_uri": "https://localhost:8080/"
        }
      },
      "execution_count": 131,
      "outputs": [
        {
          "output_type": "execute_result",
          "data": {
            "text/plain": [
              "dict_items([('nome', 'Fabrício'), ('idade', 19), ('altura', 1.87)])"
            ]
          },
          "metadata": {},
          "execution_count": 131
        }
      ]
    },
    {
      "cell_type": "code",
      "source": [
        "for key,value in pessoa.items():\n",
        "    print(f\"A chave é {key} e o valor é {value}\")"
      ],
      "metadata": {
        "id": "0UnCDQiDNcfs",
        "outputId": "e9d0587f-626d-4f86-971c-2787690b3dc9",
        "colab": {
          "base_uri": "https://localhost:8080/"
        }
      },
      "execution_count": 132,
      "outputs": [
        {
          "output_type": "stream",
          "name": "stdout",
          "text": [
            "A chave é nome e o valor é Fabrício\n",
            "A chave é idade e o valor é 19\n",
            "A chave é altura e o valor é 1.87\n"
          ]
        }
      ]
    },
    {
      "cell_type": "code",
      "source": [
        "for n in range(0,11):\n",
        "    if n % 2 == 0 :\n",
        "        print(n)"
      ],
      "metadata": {
        "id": "7mQ-EKbjNy8g",
        "outputId": "ccb9a484-d200-48ed-95c0-539378162771",
        "colab": {
          "base_uri": "https://localhost:8080/"
        }
      },
      "execution_count": 133,
      "outputs": [
        {
          "output_type": "stream",
          "name": "stdout",
          "text": [
            "0\n",
            "2\n",
            "4\n",
            "6\n",
            "8\n",
            "10\n"
          ]
        }
      ]
    },
    {
      "cell_type": "code",
      "source": [
        "texto1 = \"    Fabrício CARRaro  da alura   \"\n",
        "texto2 = \"mArIA    aNA     sAntoS.  pereiRA\"\n",
        "texto3 = \"  PeDRO.  alvaRes  cabrAl \"\n",
        "texto4 = \"   anA   caroLINa.    FerreirA  \"\n",
        "texto5 = \"  rObertO.   carlOS.     OliveiRa  \""
      ],
      "metadata": {
        "id": "m02lUth4NyqI"
      },
      "execution_count": 134,
      "outputs": []
    },
    {
      "cell_type": "code",
      "source": [
        "texto1.split()"
      ],
      "metadata": {
        "id": "5j8TdIPIUn94",
        "outputId": "36f636ed-33c5-440a-c3c3-341584399894",
        "colab": {
          "base_uri": "https://localhost:8080/"
        }
      },
      "execution_count": 135,
      "outputs": [
        {
          "output_type": "execute_result",
          "data": {
            "text/plain": [
              "['Fabrício', 'CARRaro', 'da', 'alura']"
            ]
          },
          "metadata": {},
          "execution_count": 135
        }
      ]
    },
    {
      "cell_type": "code",
      "source": [
        "def escreve_texto_corretamente(texto):\n",
        "    texto_novo = texto.upper()\n",
        "    lista_de_palavras = texto_novo.split()\n",
        "    nome_final = \" \".join(lista_de_palavras)\n",
        "    print(nome_final)"
      ],
      "metadata": {
        "id": "UGu6Q7LXNyko"
      },
      "execution_count": 136,
      "outputs": []
    },
    {
      "cell_type": "code",
      "source": [
        "escreve_texto_corretamente(texto1)\n"
      ],
      "metadata": {
        "id": "utsHIxfGNydN",
        "outputId": "fbff6d1f-675c-493f-d256-f17df59e2ba6",
        "colab": {
          "base_uri": "https://localhost:8080/"
        }
      },
      "execution_count": 137,
      "outputs": [
        {
          "output_type": "stream",
          "name": "stdout",
          "text": [
            "FABRÍCIO CARRARO DA ALURA\n"
          ]
        }
      ]
    },
    {
      "cell_type": "code",
      "source": [
        "escreve_texto_corretamente(texto2)"
      ],
      "metadata": {
        "id": "OxqG6y__NyWi",
        "outputId": "262ff85c-eef1-481b-8f7e-3bb1a65683f8",
        "colab": {
          "base_uri": "https://localhost:8080/"
        }
      },
      "execution_count": 138,
      "outputs": [
        {
          "output_type": "stream",
          "name": "stdout",
          "text": [
            "MARIA ANA SANTOS. PEREIRA\n"
          ]
        }
      ]
    },
    {
      "cell_type": "code",
      "source": [
        "def escreve_texto_corretamente_alternativa(texto):\n",
        "    nome_final = \" \".join(texto.upper().split())\n",
        "    return nome_final"
      ],
      "metadata": {
        "id": "kkIcLf0DBRkI"
      },
      "execution_count": 168,
      "outputs": []
    },
    {
      "cell_type": "code",
      "source": [
        "escreve_texto_corretamente_alternativa(texto1)"
      ],
      "metadata": {
        "id": "Ee7876RFnMhQ",
        "outputId": "50e4b00a-df86-4a7b-dab8-9c6f9a7e96a6",
        "colab": {
          "base_uri": "https://localhost:8080/"
        }
      },
      "execution_count": 159,
      "outputs": [
        {
          "output_type": "stream",
          "name": "stdout",
          "text": [
            "FABRÍCIO CARRARO DA ALURA\n"
          ]
        }
      ]
    },
    {
      "cell_type": "code",
      "source": [
        "salas_de_aula = [\"sala 1\", \"sala 2\", \"sala 3\"]"
      ],
      "metadata": {
        "id": "QCgm4KkVCLMz"
      },
      "execution_count": 160,
      "outputs": []
    },
    {
      "cell_type": "code",
      "source": [
        "import random\n",
        "\n",
        "def aloca_alunos_em_salas(nome_do_aluno, lista_de_salas):\n",
        "    sala_do_aluno = random.choice(lista_de_salas)\n",
        "\n",
        "    dict_aluno = {\n",
        "        \"nome\": nome_do_aluno,\n",
        "        \"sala\": sala_do_aluno\n",
        "    }\n",
        "    print(dict_aluno)"
      ],
      "metadata": {
        "id": "6hQX2nrfCLHg"
      },
      "execution_count": 170,
      "outputs": []
    },
    {
      "cell_type": "code",
      "source": [
        "nome_processado = escreve_texto_corretamente_alternativa(texto1)"
      ],
      "metadata": {
        "id": "KcgsUhcRx3aS"
      },
      "execution_count": 171,
      "outputs": []
    },
    {
      "cell_type": "code",
      "source": [
        "#aloca_alunos_em_salas(nome_processado, salas_de_aula)\n",
        "aloca_alunos_em_salas(nome_processado, [\"Classe 1\", \"Classe 2\", \"Classe 3\"])"
      ],
      "metadata": {
        "id": "sglqEtuhCLDl",
        "outputId": "40fba34b-e1fd-4185-fe38-f2debc4db849",
        "colab": {
          "base_uri": "https://localhost:8080/"
        }
      },
      "execution_count": 174,
      "outputs": [
        {
          "output_type": "stream",
          "name": "stdout",
          "text": [
            "{'nome': 'FABRÍCIO CARRARO DA ALURA', 'sala': 'Classe 2'}\n"
          ]
        }
      ]
    },
    {
      "cell_type": "code",
      "source": [
        "\"\"\"\n",
        "Desafio:\n",
        "\n",
        "1. Pedir para IA gerar em Python uma lista de 20 emails para você.\n",
        "2. Criar uma função que vai receber uma lista de emails , percorrer esta lista de emails e para cada email da lista,\n",
        " ela irá chamar o gemini e pedir para ela resumir todos os emails em apenas 1 linha, definindo o que a pessoa queria no\n",
        "  email.\n",
        "\"\"\""
      ],
      "metadata": {
        "outputId": "2adc16c6-f71a-4a92-ba8c-a3f22b6d3a23",
        "colab": {
          "base_uri": "https://localhost:8080/",
          "height": 53
        },
        "id": "ZLvTPF0v0ya9"
      },
      "execution_count": 177,
      "outputs": [
        {
          "output_type": "execute_result",
          "data": {
            "text/plain": [
              "'\\nDesafio:\\n\\n1. Pedir para IA gerar em Python uma lista de 20 emails para você.\\n2. Criar uma função que vai receber uma lista de emails , percorrer esta lista de emails e para cada email da lista,\\n ela irá chamar o gemini e pedir para ela resumir todos os emails em apenas 1 linha, definindo o que a pessoa queria no\\n  email.\\n'"
            ],
            "application/vnd.google.colaboratory.intrinsic+json": {
              "type": "string"
            }
          },
          "metadata": {},
          "execution_count": 177
        }
      ]
    },
    {
      "cell_type": "code",
      "source": [
        "emails_bodies = [\n",
        "    \"Olá! Esperamos que esteja bem. Gostaríamos de lembrá-lo(a) sobre a renovação do seu plano anual. Aproveite o desconto exclusivo até o final da semana!\",\n",
        "    \"Prezada cliente, informamos que sua encomenda foi enviada e o código de rastreio já está disponível em sua conta. Agradecemos por comprar conosco!\",\n",
        "    \"Caro aluno, as inscrições para o próximo módulo do curso de Programação Web estão abertas. Garanta sua vaga com 20% de desconto até sexta-feira.\",\n",
        "    \"Bom dia! Temos o prazer de anunciar o lançamento da nova linha de produtos ecológicos. Sustentabilidade e qualidade em um só lugar!\",\n",
        "    \"Olá! Notamos que você deixou alguns itens no carrinho. Finalize sua compra hoje e receba frete grátis em todo o Brasil.\",\n",
        "    \"Prezado parceiro, estamos organizando um evento exclusivo de networking para profissionais da área. Sua presença será muito bem-vinda!\",\n",
        "    \"Olá, tudo bem? Seu agendamento para a consulta médica foi confirmado para o dia 5 de novembro às 15h. Contamos com sua pontualidade!\",\n",
        "    \"Caro usuário, detectamos uma tentativa de login em sua conta. Se não foi você, altere sua senha imediatamente por segurança.\",\n",
        "    \"Olá! Aproveite nossa promoção relâmpago: até 50% de desconto em eletrônicos e acessórios. Somente hoje!\",\n",
        "    \"Bom dia! Sua reserva no Hotel Paraíso está confirmada. Estamos ansiosos para recebê-lo e tornar sua estadia inesquecível.\",\n",
        "    \"Prezada cliente, seu pagamento foi processado com sucesso. O comprovante segue em anexo. Obrigado pela preferência!\",\n",
        "    \"Olá, participante! Agradecemos por se inscrever no Workshop de Inovação. Em breve você receberá o link para acessar o evento online.\",\n",
        "    \"Boa tarde! Estamos contratando novos talentos para nossa equipe de marketing digital. Envie seu currículo até o dia 10/11.\",\n",
        "    \"Olá! Seu pedido de suporte foi recebido. Nossa equipe entrará em contato em até 24 horas para auxiliá-lo.\",\n",
        "    \"Prezado leitor, a nova edição da nossa revista já está disponível. Confira as matérias especiais sobre tendências do mercado.\",\n",
        "    \"Olá! Parabéns! Você foi selecionado para o programa de fidelidade Gold. Aproveite benefícios exclusivos e descontos personalizados.\",\n",
        "    \"Caro cliente, estamos atualizando nossa política de privacidade. Recomendamos que leia as novas condições em nosso site.\",\n",
        "    \"Bom dia! Convidamos você para participar da nossa pesquisa de satisfação. Sua opinião é muito importante para nós.\",\n",
        "    \"Olá! Chegou a hora de planejar suas próximas férias. Descubra pacotes incríveis com até 30% de desconto.\",\n",
        "    \"Prezado(a), lembramos que o prazo para entrega do relatório trimestral é dia 31/10. Por favor, envie dentro do prazo para evitar penalidades.\"\n",
        "]"
      ],
      "metadata": {
        "id": "KcjWjWC_sxuq"
      },
      "execution_count": 179,
      "outputs": []
    },
    {
      "cell_type": "code",
      "source": [
        "def resumidor_de_emails(lista_de_emails):\n",
        "    for numero, email in enumerate(lista_de_emails):\n",
        "        resposta = client.models.generate_content(\n",
        "            model='gemini-2.5-flash',\n",
        "            contents=f\"\"\"Vou te mandar o corpo de um e-mail. Quero que você o resuma em apenas uma linha,\n",
        "                     passando o intuito daquele email. Segue o e-mail: {email}\"\"\"\n",
        "            )\n",
        "        print(f\"E-mail: {numero + 1}: {resposta.text} \")\n",
        "        print(\"-\" * 50 )\n"
      ],
      "metadata": {
        "id": "Ie8dNfJssxzU"
      },
      "execution_count": 184,
      "outputs": []
    },
    {
      "cell_type": "code",
      "source": [
        "resumidor_de_emails(emails_bodies)"
      ],
      "metadata": {
        "id": "QIjGkbeE1Xfj",
        "outputId": "919f213a-43d8-4d4d-ea4b-a8dba2ce88f1",
        "colab": {
          "base_uri": "https://localhost:8080/"
        }
      },
      "execution_count": 185,
      "outputs": [
        {
          "output_type": "stream",
          "name": "stdout",
          "text": [
            "E-mail: 1: Lembrete sobre a renovação do seu plano anual com um desconto exclusivo. \n",
            "--------------------------------------------------\n",
            "E-mail: 2: Aqui está o resumo em uma linha, passando o intuito:\n",
            "\n",
            "**Informação sobre o envio da sua encomenda e disponibilidade do código de rastreio.** \n",
            "--------------------------------------------------\n",
            "E-mail: 3: **Inscrições abertas para o curso de Programação Web com 20% de desconto até sexta!** \n",
            "--------------------------------------------------\n",
            "E-mail: 4: O e-mail anuncia o lançamento de uma nova linha de produtos ecológicos que combinam sustentabilidade e qualidade. \n",
            "--------------------------------------------------\n",
            "E-mail: 5: Lembrete para finalizar a compra com frete grátis. \n",
            "--------------------------------------------------\n",
            "E-mail: 6: Convite para um evento exclusivo de networking. \n",
            "--------------------------------------------------\n",
            "E-mail: 7: O e-mail confirma seu agendamento de consulta médica para 5 de novembro às 15h e pede pontualidade. \n",
            "--------------------------------------------------\n",
            "E-mail: 8: Alerta de segurança sobre uma tentativa de login e a necessidade de alterar a senha. \n",
            "--------------------------------------------------\n",
            "E-mail: 9: **Aproveite a promoção relâmpago de hoje com até 50% de desconto em eletrônicos e acessórios.** \n",
            "--------------------------------------------------\n",
            "E-mail: 10: O e-mail confirma sua reserva no Hotel Paraíso e expressa ansiedade por sua chegada. \n",
            "--------------------------------------------------\n",
            "E-mail: 11: **Confirmação de pagamento bem-sucedido e comprovante em anexo.** \n",
            "--------------------------------------------------\n",
            "E-mail: 12: Confirmação da sua inscrição no Workshop de Inovação e aviso sobre o envio do link de acesso em breve. \n",
            "--------------------------------------------------\n",
            "E-mail: 13: **Vagas de marketing digital: envie seu currículo até 10/11.** \n",
            "--------------------------------------------------\n",
            "E-mail: 14: Confirmação de recebimento do seu pedido de suporte com previsão de contato em até 24 horas. \n",
            "--------------------------------------------------\n",
            "E-mail: 15: A nova edição da revista, com matérias sobre tendências de mercado, já está disponível. \n",
            "--------------------------------------------------\n",
            "E-mail: 16: **Parabéns! Você foi selecionado para o programa de fidelidade Gold, com benefícios e descontos exclusivos.** \n",
            "--------------------------------------------------\n",
            "E-mail: 17: Atualização da política de privacidade e convite à leitura das novas condições. \n",
            "--------------------------------------------------\n",
            "E-mail: 18: Convidamos você para dar sua valiosa opinião em nossa pesquisa de satisfação. \n",
            "--------------------------------------------------\n",
            "E-mail: 19: Planeje suas próximas férias aproveitando pacotes com até 30% de desconto. \n",
            "--------------------------------------------------\n",
            "E-mail: 20: Lembrete do prazo final para entrega do relatório trimestral (31/10) para evitar penalidades. \n",
            "--------------------------------------------------\n"
          ]
        }
      ]
    },
    {
      "cell_type": "code",
      "source": [],
      "metadata": {
        "id": "WvSZb-q51XkD"
      },
      "execution_count": null,
      "outputs": []
    },
    {
      "cell_type": "code",
      "source": [],
      "metadata": {
        "id": "e5FErjL61Xo3"
      },
      "execution_count": null,
      "outputs": []
    }
  ]
}