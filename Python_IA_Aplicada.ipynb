{
  "nbformat": 4,
  "nbformat_minor": 0,
  "metadata": {
    "colab": {
      "provenance": [],
      "toc_visible": true,
      "authorship_tag": "ABX9TyPkeO4/KyjeLkBTpXyZYS4t"
    },
    "kernelspec": {
      "name": "python3",
      "display_name": "Python 3"
    },
    "language_info": {
      "name": "python"
    }
  },
  "cells": [
    {
      "cell_type": "code",
      "execution_count": 1,
      "metadata": {
        "colab": {
          "base_uri": "https://localhost:8080/"
        },
        "id": "4TL3NdShNBC6",
        "outputId": "ae3a5657-b35a-4e38-e269-f71500e58fcc"
      },
      "outputs": [
        {
          "output_type": "execute_result",
          "data": {
            "text/plain": [
              "5"
            ]
          },
          "metadata": {},
          "execution_count": 1
        }
      ],
      "source": [
        "5"
      ]
    },
    {
      "cell_type": "code",
      "source": [
        "print(5)"
      ],
      "metadata": {
        "colab": {
          "base_uri": "https://localhost:8080/"
        },
        "id": "GRQB0MiGOLKX",
        "outputId": "699c7633-58a9-4fc3-e95b-e1e85bcc97a2"
      },
      "execution_count": 2,
      "outputs": [
        {
          "output_type": "stream",
          "name": "stdout",
          "text": [
            "5\n"
          ]
        }
      ]
    },
    {
      "cell_type": "code",
      "source": [
        "print(\"Hello World !\")"
      ],
      "metadata": {
        "colab": {
          "base_uri": "https://localhost:8080/"
        },
        "id": "8Kmty75QNMIu",
        "outputId": "18d2acca-2061-4bb2-b44f-11c5c013c117"
      },
      "execution_count": 3,
      "outputs": [
        {
          "output_type": "stream",
          "name": "stdout",
          "text": [
            "Hello World !\n"
          ]
        }
      ]
    },
    {
      "cell_type": "code",
      "source": [
        "print('Hello World !')"
      ],
      "metadata": {
        "colab": {
          "base_uri": "https://localhost:8080/"
        },
        "id": "2G-mdnRmNMOp",
        "outputId": "c3724aac-7b9a-4444-f30b-753f0f3eb528"
      },
      "execution_count": 4,
      "outputs": [
        {
          "output_type": "stream",
          "name": "stdout",
          "text": [
            "Hello World !\n"
          ]
        }
      ]
    },
    {
      "cell_type": "code",
      "source": [
        "print(\"Olá Mundo ! \" + \"5\")"
      ],
      "metadata": {
        "colab": {
          "base_uri": "https://localhost:8080/"
        },
        "id": "yLGq538iOnLw",
        "outputId": "f8608a9a-6e7c-4438-8c74-d52dd7e93bb3"
      },
      "execution_count": 5,
      "outputs": [
        {
          "output_type": "stream",
          "name": "stdout",
          "text": [
            "Olá Mundo ! 5\n"
          ]
        }
      ]
    },
    {
      "cell_type": "code",
      "source": [
        "5 + 2"
      ],
      "metadata": {
        "colab": {
          "base_uri": "https://localhost:8080/"
        },
        "id": "PMtH1rBNPA1d",
        "outputId": "396d867b-e677-4af5-d08e-5c93c0129b90"
      },
      "execution_count": 6,
      "outputs": [
        {
          "output_type": "execute_result",
          "data": {
            "text/plain": [
              "7"
            ]
          },
          "metadata": {},
          "execution_count": 6
        }
      ]
    },
    {
      "cell_type": "code",
      "source": [
        "print(5 + 2)"
      ],
      "metadata": {
        "colab": {
          "base_uri": "https://localhost:8080/"
        },
        "id": "_wLU8f6jQcWJ",
        "outputId": "255d9f76-7768-4aaf-ab6d-0f38b512bbe8"
      },
      "execution_count": 7,
      "outputs": [
        {
          "output_type": "stream",
          "name": "stdout",
          "text": [
            "7\n"
          ]
        }
      ]
    },
    {
      "cell_type": "code",
      "source": [
        "produto1 = 5.00"
      ],
      "metadata": {
        "id": "TJUlryW1QgWp"
      },
      "execution_count": 8,
      "outputs": []
    },
    {
      "cell_type": "code",
      "source": [
        "produto1"
      ],
      "metadata": {
        "colab": {
          "base_uri": "https://localhost:8080/"
        },
        "id": "JMmhf6CPWyMz",
        "outputId": "6c6cd713-2d3c-4f5d-b83d-11dd00363034"
      },
      "execution_count": 9,
      "outputs": [
        {
          "output_type": "execute_result",
          "data": {
            "text/plain": [
              "5.0"
            ]
          },
          "metadata": {},
          "execution_count": 9
        }
      ]
    },
    {
      "cell_type": "code",
      "source": [
        "print(produto1)"
      ],
      "metadata": {
        "colab": {
          "base_uri": "https://localhost:8080/"
        },
        "id": "3ULtReFRW6yW",
        "outputId": "15c0d4ec-c096-46ac-8316-110aab3c9b68"
      },
      "execution_count": 10,
      "outputs": [
        {
          "output_type": "stream",
          "name": "stdout",
          "text": [
            "5.0\n"
          ]
        }
      ]
    },
    {
      "cell_type": "code",
      "source": [
        "produto2 = 2000.00"
      ],
      "metadata": {
        "id": "OO9VuVgLNMTt"
      },
      "execution_count": 11,
      "outputs": []
    },
    {
      "cell_type": "code",
      "source": [
        "print(produto2)"
      ],
      "metadata": {
        "colab": {
          "base_uri": "https://localhost:8080/"
        },
        "id": "j2Mwh4sFXDEu",
        "outputId": "68f9ca8f-0113-4d00-a7cd-153cfaddedec"
      },
      "execution_count": 12,
      "outputs": [
        {
          "output_type": "stream",
          "name": "stdout",
          "text": [
            "2000.0\n"
          ]
        }
      ]
    },
    {
      "cell_type": "code",
      "source": [
        "produto3 = 1.00"
      ],
      "metadata": {
        "id": "_fXu8hvsNMYv"
      },
      "execution_count": 13,
      "outputs": []
    },
    {
      "cell_type": "code",
      "source": [
        "print(produto1 + produto2 + produto3)"
      ],
      "metadata": {
        "id": "wdnykXJONMdm",
        "colab": {
          "base_uri": "https://localhost:8080/"
        },
        "outputId": "f3966462-fcac-47ce-bf84-9f36c43839de"
      },
      "execution_count": 14,
      "outputs": [
        {
          "output_type": "stream",
          "name": "stdout",
          "text": [
            "2006.0\n"
          ]
        }
      ]
    },
    {
      "cell_type": "code",
      "source": [
        "nome_do_produto1 = \"Macarrão\""
      ],
      "metadata": {
        "id": "_Eq71fzINMiG"
      },
      "execution_count": 15,
      "outputs": []
    },
    {
      "cell_type": "code",
      "source": [
        "nome_do_produto2 = \"Celular\""
      ],
      "metadata": {
        "id": "94lcodEHNMmw"
      },
      "execution_count": 16,
      "outputs": []
    },
    {
      "cell_type": "code",
      "source": [
        "nome_do_produto3 = \"Bala\""
      ],
      "metadata": {
        "id": "QWDotFnrNMrv"
      },
      "execution_count": 17,
      "outputs": []
    },
    {
      "cell_type": "code",
      "source": [
        "print(nome_do_produto1 + \" \" + nome_do_produto2 + \" \" + nome_do_produto3)"
      ],
      "metadata": {
        "colab": {
          "base_uri": "https://localhost:8080/"
        },
        "id": "-JbiJgM3XXOu",
        "outputId": "097ff0e7-90b9-4a12-8411-e2e87c0d1739"
      },
      "execution_count": 18,
      "outputs": [
        {
          "output_type": "stream",
          "name": "stdout",
          "text": [
            "Macarrão Celular Bala\n"
          ]
        }
      ]
    },
    {
      "cell_type": "code",
      "source": [
        "amigos = 5\n",
        "aluguel = 1000.00\n",
        "supermercado = 500.00\n",
        "carro = 400.00"
      ],
      "metadata": {
        "id": "ebFzePmIXdl7"
      },
      "execution_count": 19,
      "outputs": []
    },
    {
      "cell_type": "code",
      "source": [
        "total = aluguel + supermercado + carro"
      ],
      "metadata": {
        "id": "uGd4v-LXYZcQ"
      },
      "execution_count": 20,
      "outputs": []
    },
    {
      "cell_type": "code",
      "source": [
        "print(total)"
      ],
      "metadata": {
        "colab": {
          "base_uri": "https://localhost:8080/"
        },
        "id": "xCjZjbowYgjN",
        "outputId": "d25e90b1-d459-4dac-f90c-566414f43b17"
      },
      "execution_count": 21,
      "outputs": [
        {
          "output_type": "stream",
          "name": "stdout",
          "text": [
            "1900.0\n"
          ]
        }
      ]
    },
    {
      "cell_type": "code",
      "source": [
        "aluguel = 900.0"
      ],
      "metadata": {
        "id": "1Oh-7c_FYp5X"
      },
      "execution_count": 22,
      "outputs": []
    },
    {
      "cell_type": "code",
      "source": [
        "print(total)"
      ],
      "metadata": {
        "colab": {
          "base_uri": "https://localhost:8080/"
        },
        "id": "D_gY48A7YvWb",
        "outputId": "188da28b-aeaa-4a42-b50e-bf4aa4587835"
      },
      "execution_count": 23,
      "outputs": [
        {
          "output_type": "stream",
          "name": "stdout",
          "text": [
            "1900.0\n"
          ]
        }
      ]
    },
    {
      "cell_type": "code",
      "source": [
        "total = aluguel + supermercado + carro"
      ],
      "metadata": {
        "id": "GToJeChjYx-c"
      },
      "execution_count": 24,
      "outputs": []
    },
    {
      "cell_type": "code",
      "source": [
        "print(total)"
      ],
      "metadata": {
        "colab": {
          "base_uri": "https://localhost:8080/"
        },
        "id": "EtIGlaYHY86P",
        "outputId": "3dc99e26-b625-40a4-cded-2c4c1c6987c8"
      },
      "execution_count": 25,
      "outputs": [
        {
          "output_type": "stream",
          "name": "stdout",
          "text": [
            "1800.0\n"
          ]
        }
      ]
    },
    {
      "cell_type": "code",
      "source": [
        "print(aluguel)"
      ],
      "metadata": {
        "colab": {
          "base_uri": "https://localhost:8080/"
        },
        "id": "wpUQLdSZY-ZA",
        "outputId": "44565a46-83e9-41a7-a5aa-58068c762945"
      },
      "execution_count": 26,
      "outputs": [
        {
          "output_type": "stream",
          "name": "stdout",
          "text": [
            "900.0\n"
          ]
        }
      ]
    },
    {
      "cell_type": "code",
      "source": [
        "aluguel -= 100.0"
      ],
      "metadata": {
        "id": "lNZhqANQZWbk"
      },
      "execution_count": 27,
      "outputs": []
    },
    {
      "cell_type": "code",
      "source": [
        "print(aluguel)"
      ],
      "metadata": {
        "colab": {
          "base_uri": "https://localhost:8080/"
        },
        "id": "qhA0E3ZJZYvQ",
        "outputId": "063501da-0dcc-4dc9-e754-b86fbde4f483"
      },
      "execution_count": 28,
      "outputs": [
        {
          "output_type": "stream",
          "name": "stdout",
          "text": [
            "800.0\n"
          ]
        }
      ]
    },
    {
      "cell_type": "code",
      "source": [
        "aluguel -= 100.0"
      ],
      "metadata": {
        "id": "pOi4TEjQZaTt"
      },
      "execution_count": 29,
      "outputs": []
    },
    {
      "cell_type": "code",
      "source": [
        "print(aluguel)"
      ],
      "metadata": {
        "colab": {
          "base_uri": "https://localhost:8080/"
        },
        "id": "zffiADcjYwj5",
        "outputId": "cca16102-d94b-4a46-f7c9-d274aa33d1d0"
      },
      "execution_count": 30,
      "outputs": [
        {
          "output_type": "stream",
          "name": "stdout",
          "text": [
            "700.0\n"
          ]
        }
      ]
    },
    {
      "cell_type": "code",
      "source": [
        "amigos = 6\n",
        "aluguel = 1000.00\n",
        "supermercado = 500.00\n",
        "carro = 400.00"
      ],
      "metadata": {
        "id": "o9RDRcheYkLU"
      },
      "execution_count": 31,
      "outputs": []
    },
    {
      "cell_type": "code",
      "source": [
        "print(amigos)"
      ],
      "metadata": {
        "id": "eqohovxLNNSS",
        "colab": {
          "base_uri": "https://localhost:8080/"
        },
        "outputId": "a9f792af-5333-4694-8192-2ac8be3bafa6"
      },
      "execution_count": 32,
      "outputs": [
        {
          "output_type": "stream",
          "name": "stdout",
          "text": [
            "6\n"
          ]
        }
      ]
    },
    {
      "cell_type": "code",
      "source": [
        "total_de_carro = carro * 2"
      ],
      "metadata": {
        "id": "vvyNh1i5aPuk"
      },
      "execution_count": 33,
      "outputs": []
    },
    {
      "cell_type": "code",
      "source": [
        "total = aluguel + supermercado + total_de_carro"
      ],
      "metadata": {
        "id": "M6THF_ZCb1rJ"
      },
      "execution_count": 34,
      "outputs": []
    },
    {
      "cell_type": "code",
      "source": [
        "print(total)"
      ],
      "metadata": {
        "colab": {
          "base_uri": "https://localhost:8080/"
        },
        "id": "19Nwt0kRb5JD",
        "outputId": "7760a7a0-fc95-4cb4-e6b7-e136bad568e6"
      },
      "execution_count": 35,
      "outputs": [
        {
          "output_type": "stream",
          "name": "stdout",
          "text": [
            "2300.0\n"
          ]
        }
      ]
    },
    {
      "cell_type": "code",
      "source": [
        "total_por_pessoa = total / amigos"
      ],
      "metadata": {
        "id": "P8ZpoRvCb6OS"
      },
      "execution_count": 36,
      "outputs": []
    },
    {
      "cell_type": "code",
      "source": [
        "print(total_por_pessoa)"
      ],
      "metadata": {
        "colab": {
          "base_uri": "https://localhost:8080/"
        },
        "id": "ovIy3NuCcH_T",
        "outputId": "22badfad-337e-4ed0-b42c-cc1efc7d0ce0"
      },
      "execution_count": 37,
      "outputs": [
        {
          "output_type": "stream",
          "name": "stdout",
          "text": [
            "383.3333333333333\n"
          ]
        }
      ]
    },
    {
      "cell_type": "code",
      "source": [
        "type(aluguel)"
      ],
      "metadata": {
        "colab": {
          "base_uri": "https://localhost:8080/"
        },
        "id": "lJEMOpeIXZ2s",
        "outputId": "5c42defe-77ab-4afb-f4f2-89b986f42b82"
      },
      "execution_count": 38,
      "outputs": [
        {
          "output_type": "execute_result",
          "data": {
            "text/plain": [
              "float"
            ]
          },
          "metadata": {},
          "execution_count": 38
        }
      ]
    },
    {
      "cell_type": "code",
      "source": [
        "type(total_por_pessoa)"
      ],
      "metadata": {
        "colab": {
          "base_uri": "https://localhost:8080/"
        },
        "id": "wsiZ-VxGdNhv",
        "outputId": "a13db681-4f64-4f92-cb1d-f3f07a5a7f18"
      },
      "execution_count": 39,
      "outputs": [
        {
          "output_type": "execute_result",
          "data": {
            "text/plain": [
              "float"
            ]
          },
          "metadata": {},
          "execution_count": 39
        }
      ]
    },
    {
      "cell_type": "code",
      "source": [
        "type(nome_do_produto1)"
      ],
      "metadata": {
        "colab": {
          "base_uri": "https://localhost:8080/"
        },
        "id": "DQW4-Z5xdTvS",
        "outputId": "852ad59c-3f60-4223-bdde-79ce29137bad"
      },
      "execution_count": 40,
      "outputs": [
        {
          "output_type": "execute_result",
          "data": {
            "text/plain": [
              "str"
            ]
          },
          "metadata": {},
          "execution_count": 40
        }
      ]
    },
    {
      "cell_type": "code",
      "source": [
        "pedro_tem_carteira_motorista = True\n",
        "\n",
        "mario_tem_carteira_motorista = False"
      ],
      "metadata": {
        "id": "VZVA4MobXZ6Q"
      },
      "execution_count": 41,
      "outputs": []
    },
    {
      "cell_type": "code",
      "source": [
        "type(pedro_tem_carteira_motorista)"
      ],
      "metadata": {
        "colab": {
          "base_uri": "https://localhost:8080/"
        },
        "id": "kJhtBHfNdnh5",
        "outputId": "372801fe-46ba-4072-886a-280fa03e9a7d"
      },
      "execution_count": 42,
      "outputs": [
        {
          "output_type": "execute_result",
          "data": {
            "text/plain": [
              "bool"
            ]
          },
          "metadata": {},
          "execution_count": 42
        }
      ]
    },
    {
      "cell_type": "code",
      "source": [
        "type(mario_tem_carteira_motorista)"
      ],
      "metadata": {
        "colab": {
          "base_uri": "https://localhost:8080/"
        },
        "id": "FlUabwKtdqx6",
        "outputId": "01e82091-cddc-47fb-816d-ba7b35def80d"
      },
      "execution_count": 43,
      "outputs": [
        {
          "output_type": "execute_result",
          "data": {
            "text/plain": [
              "bool"
            ]
          },
          "metadata": {},
          "execution_count": 43
        }
      ]
    },
    {
      "cell_type": "code",
      "source": [
        "texto = \"    Fabrício CARRaro  da alura   \"\n",
        "print(texto)"
      ],
      "metadata": {
        "colab": {
          "base_uri": "https://localhost:8080/"
        },
        "id": "S36WcYXedsxy",
        "outputId": "11e1883a-eca4-4dac-8910-033e18b034ef"
      },
      "execution_count": 44,
      "outputs": [
        {
          "output_type": "stream",
          "name": "stdout",
          "text": [
            "    Fabrício CARRaro  da alura   \n"
          ]
        }
      ]
    },
    {
      "cell_type": "code",
      "source": [
        "print(texto.lower())"
      ],
      "metadata": {
        "colab": {
          "base_uri": "https://localhost:8080/"
        },
        "id": "7N776qgbde25",
        "outputId": "449093d5-8c04-48ce-cbeb-623191bbe960"
      },
      "execution_count": 45,
      "outputs": [
        {
          "output_type": "stream",
          "name": "stdout",
          "text": [
            "    fabrício carraro  da alura   \n"
          ]
        }
      ]
    },
    {
      "cell_type": "code",
      "source": [
        "print(texto.upper())\n",
        "\n"
      ],
      "metadata": {
        "id": "0Vj7inoiifiA",
        "outputId": "62d9b512-ddb1-4ea4-e94b-68b99b3f9de7",
        "colab": {
          "base_uri": "https://localhost:8080/"
        }
      },
      "execution_count": 46,
      "outputs": [
        {
          "output_type": "stream",
          "name": "stdout",
          "text": [
            "    FABRÍCIO CARRARO  DA ALURA   \n"
          ]
        }
      ]
    },
    {
      "cell_type": "code",
      "source": [
        "print(texto.strip())"
      ],
      "metadata": {
        "id": "cGqrdz8zipkd",
        "outputId": "8ffea1e9-a5fa-4555-b5df-11fbaa918734",
        "colab": {
          "base_uri": "https://localhost:8080/"
        }
      },
      "execution_count": 47,
      "outputs": [
        {
          "output_type": "stream",
          "name": "stdout",
          "text": [
            "Fabrício CARRaro  da alura\n"
          ]
        }
      ]
    },
    {
      "cell_type": "code",
      "source": [
        "print(texto.replace(\"  \",\" \"))"
      ],
      "metadata": {
        "id": "ABjx6ULLit_F",
        "outputId": "14eab5ef-8ec1-4357-df71-7089a4655e13",
        "colab": {
          "base_uri": "https://localhost:8080/"
        }
      },
      "execution_count": 48,
      "outputs": [
        {
          "output_type": "stream",
          "name": "stdout",
          "text": [
            "  Fabrício CARRaro da alura  \n"
          ]
        }
      ]
    },
    {
      "cell_type": "code",
      "source": [
        "texto = texto.strip().upper().replace(\"  \", \" \")"
      ],
      "metadata": {
        "id": "9Ij6teekjDhk"
      },
      "execution_count": 49,
      "outputs": []
    },
    {
      "cell_type": "code",
      "source": [
        "print(texto)"
      ],
      "metadata": {
        "id": "TJCqh1UxjoR-",
        "outputId": "49acdd7c-6ec6-415a-8181-44619a6a3ccc",
        "colab": {
          "base_uri": "https://localhost:8080/"
        }
      },
      "execution_count": 50,
      "outputs": [
        {
          "output_type": "stream",
          "name": "stdout",
          "text": [
            "FABRÍCIO CARRARO DA ALURA\n"
          ]
        }
      ]
    },
    {
      "cell_type": "code",
      "source": [
        "nome = input(\"Digite seu nome: \")"
      ],
      "metadata": {
        "id": "BwKDDXbfjp3c",
        "colab": {
          "base_uri": "https://localhost:8080/"
        },
        "outputId": "cccc3d84-c18f-4446-d76a-d4eeea88c7be"
      },
      "execution_count": 51,
      "outputs": [
        {
          "name": "stdout",
          "output_type": "stream",
          "text": [
            "Digite seu nome: John Doe\n"
          ]
        }
      ]
    },
    {
      "cell_type": "code",
      "source": [
        "print(nome)"
      ],
      "metadata": {
        "id": "VIT9iQsJipsQ",
        "colab": {
          "base_uri": "https://localhost:8080/"
        },
        "outputId": "b2c4cc9a-28e5-4308-89e7-de7ede6e71d9"
      },
      "execution_count": 52,
      "outputs": [
        {
          "output_type": "stream",
          "name": "stdout",
          "text": [
            "John Doe\n"
          ]
        }
      ]
    },
    {
      "cell_type": "code",
      "source": [
        "idade = input(\"Digite sua idade: \")"
      ],
      "metadata": {
        "colab": {
          "base_uri": "https://localhost:8080/"
        },
        "id": "8OxkQz8q7FlS",
        "outputId": "13f83f53-f9e0-4549-f0d8-c87955ff4c10"
      },
      "execution_count": 53,
      "outputs": [
        {
          "name": "stdout",
          "output_type": "stream",
          "text": [
            "Digite sua idade: 18\n"
          ]
        }
      ]
    },
    {
      "cell_type": "code",
      "source": [
        "print(idade)"
      ],
      "metadata": {
        "id": "gNaMDipDip01",
        "colab": {
          "base_uri": "https://localhost:8080/"
        },
        "outputId": "ceb019c5-a608-4472-ab53-305ad9f4485d"
      },
      "execution_count": 54,
      "outputs": [
        {
          "output_type": "stream",
          "name": "stdout",
          "text": [
            "18\n"
          ]
        }
      ]
    },
    {
      "cell_type": "code",
      "source": [
        "type(nome)"
      ],
      "metadata": {
        "colab": {
          "base_uri": "https://localhost:8080/"
        },
        "id": "lQtL1wn07XVz",
        "outputId": "ecb30023-789a-48b6-b549-f045693e8c24"
      },
      "execution_count": 55,
      "outputs": [
        {
          "output_type": "execute_result",
          "data": {
            "text/plain": [
              "str"
            ]
          },
          "metadata": {},
          "execution_count": 55
        }
      ]
    },
    {
      "cell_type": "code",
      "source": [
        "type(idade)"
      ],
      "metadata": {
        "colab": {
          "base_uri": "https://localhost:8080/"
        },
        "id": "9R6a0XdC7XZc",
        "outputId": "6a332a30-bed7-4c21-8d51-266a6b0c5751"
      },
      "execution_count": 56,
      "outputs": [
        {
          "output_type": "execute_result",
          "data": {
            "text/plain": [
              "str"
            ]
          },
          "metadata": {},
          "execution_count": 56
        }
      ]
    },
    {
      "cell_type": "code",
      "source": [
        "idade = int(idade)"
      ],
      "metadata": {
        "id": "r6bvVZAI7Xc2"
      },
      "execution_count": 57,
      "outputs": []
    },
    {
      "cell_type": "code",
      "source": [
        "type(idade)"
      ],
      "metadata": {
        "colab": {
          "base_uri": "https://localhost:8080/"
        },
        "id": "gyTBbEZD7Xgh",
        "outputId": "5d2671ba-d6a0-49d9-fc27-23e999ae5015"
      },
      "execution_count": 58,
      "outputs": [
        {
          "output_type": "execute_result",
          "data": {
            "text/plain": [
              "int"
            ]
          },
          "metadata": {},
          "execution_count": 58
        }
      ]
    },
    {
      "cell_type": "code",
      "source": [
        "print(f'A pessoa se chama {nome} e tem {idade} anos de idade')"
      ],
      "metadata": {
        "colab": {
          "base_uri": "https://localhost:8080/"
        },
        "id": "vXPbXhRD7-IX",
        "outputId": "fae8c05d-6c6a-4932-cfe6-feef089b6963"
      },
      "execution_count": 59,
      "outputs": [
        {
          "output_type": "stream",
          "name": "stdout",
          "text": [
            "A pessoa se chama John Doe e tem 18 anos de idade\n"
          ]
        }
      ]
    },
    {
      "cell_type": "code",
      "source": [
        "idade = int(input(\"Digite sua idade: \"))"
      ],
      "metadata": {
        "colab": {
          "base_uri": "https://localhost:8080/"
        },
        "id": "ZrX38-5h7-Ni",
        "outputId": "8ba0d554-8551-4f56-8dbd-a22dbf6cc1af"
      },
      "execution_count": 60,
      "outputs": [
        {
          "name": "stdout",
          "output_type": "stream",
          "text": [
            "Digite sua idade: 12\n"
          ]
        }
      ]
    },
    {
      "cell_type": "code",
      "source": [
        "type(idade)"
      ],
      "metadata": {
        "colab": {
          "base_uri": "https://localhost:8080/"
        },
        "id": "Iq1FL1Kt7-gC",
        "outputId": "67af5f48-2a05-43d9-8125-7fc7fbd754a5"
      },
      "execution_count": 61,
      "outputs": [
        {
          "output_type": "execute_result",
          "data": {
            "text/plain": [
              "int"
            ]
          },
          "metadata": {},
          "execution_count": 61
        }
      ]
    },
    {
      "cell_type": "code",
      "source": [
        "if idade >= 18:\n",
        "    print(f\"O {nome} pode entrar na festa porque ele é maior de idade\")\n",
        "    print(f\"Ele tem {idade} anos de idade\")\n",
        "else:\n",
        "    print(\"Menor de idade\")"
      ],
      "metadata": {
        "colab": {
          "base_uri": "https://localhost:8080/"
        },
        "id": "g-ioxhUf7XjZ",
        "outputId": "5edccdbe-522a-43fe-c127-621575300129"
      },
      "execution_count": 62,
      "outputs": [
        {
          "output_type": "stream",
          "name": "stdout",
          "text": [
            "Menor de idade\n"
          ]
        }
      ]
    },
    {
      "cell_type": "code",
      "source": [
        "media = float(input(\"Digite sua media: \"))"
      ],
      "metadata": {
        "colab": {
          "base_uri": "https://localhost:8080/"
        },
        "id": "FM2X49E0UV9O",
        "outputId": "e4254a1c-5892-4e58-a561-06c274dd2ea3"
      },
      "execution_count": 63,
      "outputs": [
        {
          "name": "stdout",
          "output_type": "stream",
          "text": [
            "Digite sua media: 7\n"
          ]
        }
      ]
    },
    {
      "cell_type": "code",
      "source": [
        "media = float(input(\"Digite sua media: \"))\n",
        "\n",
        "if media >= 7.0:\n",
        "  print(\"Aprovado\")\n",
        "elif media >= 5.0 and media < 7.0:\n",
        "  print(\"Recuperação\")\n",
        "else:\n",
        "  print(\"Reprovado\")"
      ],
      "metadata": {
        "colab": {
          "base_uri": "https://localhost:8080/"
        },
        "id": "YEPsk14bUWDs",
        "outputId": "3e068cce-829c-41e0-dca4-ac34193660be"
      },
      "execution_count": 64,
      "outputs": [
        {
          "output_type": "stream",
          "name": "stdout",
          "text": [
            "Digite sua media: 9\n",
            "Aprovado\n"
          ]
        }
      ]
    },
    {
      "cell_type": "markdown",
      "source": [
        "### **Rodando a IA no Google Colab (Gemini)**"
      ],
      "metadata": {
        "id": "nYJgf0wj-TkU"
      }
    },
    {
      "cell_type": "code",
      "source": [
        "import os\n",
        "\n",
        "from google.colab import userdata\n",
        "\n",
        "os.environ[\"GOOGLE_API_KEY\"] = userdata.get('Gemini_API_Key')"
      ],
      "metadata": {
        "id": "dGs8TPahUWJD"
      },
      "execution_count": 65,
      "outputs": []
    },
    {
      "cell_type": "code",
      "source": [
        "from google import genai\n",
        "\n",
        "client = genai.Client()"
      ],
      "metadata": {
        "id": "P6LEB1H6UWNC"
      },
      "execution_count": 66,
      "outputs": []
    },
    {
      "cell_type": "code",
      "source": [
        "resposta = client.models.generate_content(model='gemini-2.5-flash', contents=\"What is Generative AI ?\")"
      ],
      "metadata": {
        "id": "JOiaki2FUWQa"
      },
      "execution_count": 67,
      "outputs": []
    },
    {
      "cell_type": "code",
      "source": [
        "print(resposta.text)"
      ],
      "metadata": {
        "colab": {
          "base_uri": "https://localhost:8080/"
        },
        "id": "QwOupoe37Xng",
        "outputId": "aa709f4f-7699-4d4e-eafb-5126f19613ab"
      },
      "execution_count": 68,
      "outputs": [
        {
          "output_type": "stream",
          "name": "stdout",
          "text": [
            "**Generative AI** is a type of artificial intelligence that can **create new and original content** across various modalities, such as text, images, audio, video, code, and 3D models. Unlike traditional AI that primarily analyzes, classifies, or predicts based on existing data, generative AI *generates* novel outputs that are often indistinguishable from content created by humans.\n",
            "\n",
            "### How it Works (in a simplified way):\n",
            "\n",
            "1.  **Training Data:** Generative AI models are trained on massive datasets of existing content (e.g., millions of images, billions of words of text).\n",
            "2.  **Learning Patterns:** During training, the model learns the underlying patterns, structures, styles, and relationships within this data. It doesn't \"understand\" in a human sense, but it learns the statistical likelihood of how different elements (words, pixels, sounds) fit together.\n",
            "3.  **Prompt as Input:** When you want it to generate something, you provide a \"prompt\" – a text description, an example image, an audio clip, etc. – specifying what you want.\n",
            "4.  **Generation:** Based on your prompt and its learned patterns, the model creates new content that aligns with the prompt and the style/characteristics of its training data. It's essentially predicting what \"should come next\" or how a new instance \"should look\" given the context.\n",
            "\n",
            "### What Can Generative AI Create?\n",
            "\n",
            "*   **Text:** Articles, stories, poems, summaries, code, emails, marketing copy, scripts, translations. (e.g., ChatGPT, Bard, Llama)\n",
            "*   **Images:** Realistic photos, artistic illustrations, concept art, product designs, modifications to existing images. (e.g., DALL-E, Midjourney, Stable Diffusion)\n",
            "*   **Audio:** Music compositions, voiceovers, sound effects, synthetic speech in various voices and languages.\n",
            "*   **Video:** Short clips, animations, deepfakes, style transfer to existing videos.\n",
            "*   **Code:** Functions, scripts, entire programs, debugging suggestions. (e.g., GitHub Copilot)\n",
            "*   **3D Models:** Objects, environments, textures for virtual reality or gaming.\n",
            "\n",
            "### Key Characteristics:\n",
            "\n",
            "*   **Novelty:** It produces content that didn't exist before.\n",
            "*   **Creativity (Apparent):** The outputs can often be imaginative and surprising.\n",
            "*   **Diversity:** For a single prompt, it can often generate multiple distinct variations.\n",
            "*   **Contextual Understanding (Apparent):** It can interpret complex prompts and generate relevant content.\n",
            "*   **Scalability:** It can generate large volumes of content much faster than humans.\n",
            "\n",
            "### Why is it Important?\n",
            "\n",
            "Generative AI is considered a transformative technology because it democratizes content creation, automates tedious tasks, and opens up new possibilities for innovation across nearly every industry, from design and marketing to scientific research and entertainment.\n",
            "\n",
            "### Important Considerations & Limitations:\n",
            "\n",
            "*   **Bias:** Generative models can inherit and amplify biases present in their training data, leading to unfair or stereotypical outputs.\n",
            "*   **Factuality/Hallucination:** Especially with text models, they can confidently generate incorrect, nonsensical, or made-up information.\n",
            "*   **Ethical Concerns:** Issues like deepfakes, misinformation, copyright infringement, and job displacement are significant considerations.\n",
            "*   **Lack of True Understanding:** While impressive, generative AI does not possess consciousness, genuine creativity, or common sense understanding in the human sense. It's a highly sophisticated pattern-matching and generation engine.\n",
            "\n",
            "In essence, Generative AI is like a highly skilled digital apprentice that can learn styles and patterns from vast amounts of human work and then create new pieces based on those learnings and your instructions.\n"
          ]
        }
      ]
    },
    {
      "cell_type": "markdown",
      "source": [
        "**Loops**"
      ],
      "metadata": {
        "id": "3-JH1iTKWPXt"
      }
    },
    {
      "cell_type": "code",
      "source": [
        "n = 1\n",
        "\n",
        "while n <= 5:\n",
        "  print(\"*\")\n",
        "  n += 1"
      ],
      "metadata": {
        "id": "qYlyMLMs7XqU",
        "outputId": "6f6e9990-6e94-40a3-d71d-00c41b028d28",
        "colab": {
          "base_uri": "https://localhost:8080/"
        }
      },
      "execution_count": 69,
      "outputs": [
        {
          "output_type": "stream",
          "name": "stdout",
          "text": [
            "*\n",
            "*\n",
            "*\n",
            "*\n",
            "*\n"
          ]
        }
      ]
    },
    {
      "cell_type": "code",
      "source": [
        "chat = client.chats.create(model='gemini-2.5-flash')"
      ],
      "metadata": {
        "id": "Im5Tr-RL-CgF"
      },
      "execution_count": 70,
      "outputs": []
    },
    {
      "cell_type": "code",
      "source": [
        "resposta2 = chat.send_message(\"O que é a Inteligência Artificial ?\")"
      ],
      "metadata": {
        "id": "7VJzS54s-Cp9"
      },
      "execution_count": 71,
      "outputs": []
    },
    {
      "cell_type": "code",
      "source": [
        "#print(resposta2)\n",
        "print(resposta2.text)"
      ],
      "metadata": {
        "id": "uGrwIQF0-Ct6",
        "outputId": "71807b1d-9530-4ca5-d259-9132904b5446",
        "colab": {
          "base_uri": "https://localhost:8080/"
        }
      },
      "execution_count": 72,
      "outputs": [
        {
          "output_type": "stream",
          "name": "stdout",
          "text": [
            "A Inteligência Artificial (IA) é um campo da ciência da computação que se dedica à **criação de sistemas e máquinas capazes de simular a inteligência humana**. O objetivo principal da IA é permitir que computadores realizem tarefas que normalmente exigiriam a cognição humana.\n",
            "\n",
            "Em outras palavras, a IA busca desenvolver softwares e hardware que podem **aprender, raciocinar, resolver problemas, compreender a linguagem, reconhecer padrões e até mesmo tomar decisões** de forma autônoma.\n",
            "\n",
            "### O que a \"Inteligência\" Significa em IA?\n",
            "\n",
            "Quando falamos de \"inteligência\" em IA, estamos nos referindo a habilidades como:\n",
            "\n",
            "1.  **Aprendizado:** Capacidade de adquirir conhecimento e habilidades a partir de dados e experiências, sem ser explicitamente programado para cada cenário (isso é a base do *Machine Learning* - Aprendizado de Máquina).\n",
            "2.  **Raciocínio:** Habilidade de usar lógica e regras para tirar conclusões e fazer inferências.\n",
            "3.  **Resolução de Problemas:** Encontrar soluções para desafios, muitas vezes envolvendo tentativa e erro ou otimização.\n",
            "4.  **Percepção:** Interpretar informações sensoriais, como imagens (visão computacional) ou sons (reconhecimento de fala).\n",
            "5.  **Compreensão da Linguagem:** Processar e gerar linguagem humana (Processamento de Linguagem Natural - PLN).\n",
            "6.  **Tomada de Decisão:** Escolher a melhor ação a ser tomada com base em informações e objetivos.\n",
            "\n",
            "### Como a IA é Alcançada? (Principais Técnicas e Subcampos)\n",
            "\n",
            "A IA não é uma única tecnologia, mas um guarda-chuva que abrange várias técnicas e abordagens:\n",
            "\n",
            "*   **Machine Learning (Aprendizado de Máquina - ML):** É o subcampo mais proeminente da IA hoje. Permite que os sistemas aprendam com dados, identifiquem padrões e tomem decisões com mínima intervenção humana. Inclui:\n",
            "    *   **Aprendizado Supervisionado:** Treinar modelos com dados rotulados (ex: imagens de gatos e cachorros).\n",
            "    *   **Aprendizado Não Supervisionado:** Encontrar padrões em dados não rotulados (ex: agrupar clientes por comportamento).\n",
            "    *   **Aprendizado por Reforço:** Agentes aprendem a tomar decisões através de tentativas e erros, recebendo recompensas ou penalidades.\n",
            "*   **Deep Learning (Aprendizado Profundo - DL):** Um subcampo do ML que utiliza redes neurais artificiais com muitas camadas (\"profundas\") para aprender representações complexas de dados. É extremamente eficaz para tarefas como reconhecimento de imagem, voz e processamento de linguagem natural.\n",
            "*   **Natural Language Processing (Processamento de Linguagem Natural - PLN):** Permite que computadores compreendam, interpretem e gerem a linguagem humana. Exemplos: tradução automática, chatbots, análise de sentimento.\n",
            "*   **Computer Vision (Visão Computacional):** Habilita computadores a \"ver\" e interpretar imagens e vídeos. Exemplos: reconhecimento facial, carros autônomos, diagnóstico médico por imagem.\n",
            "*   **Sistemas Especialistas:** Programas baseados em regras que simulam o conhecimento e o processo de tomada de decisão de um especialista humano em um domínio específico (uma forma mais antiga de IA, mas ainda relevante em certas aplicações).\n",
            "*   **Robótica:** Integração da IA com robôs físicos para que possam interagir com o mundo, aprender e executar tarefas complexas.\n",
            "\n",
            "### Tipos de IA (Níveis de Inteligência)\n",
            "\n",
            "É comum classificar a IA em três níveis:\n",
            "\n",
            "1.  **ANI (Artificial Narrow Intelligence) ou IA Fraca:** É a IA que temos hoje. Projetada para executar uma única tarefa ou um conjunto limitado de tarefas muito bem (ex: Siri, carros autônomos, sistemas de recomendação, jogos de xadrez). Não possui consciência ou inteligência geral.\n",
            "2.  **AGI (Artificial General Intelligence) ou IA Forte:** É uma IA hipotética que teria a capacidade intelectual de um ser humano em todas as áreas, podendo aprender qualquer tarefa intelectual que um humano pode. Ainda não existe.\n",
            "3.  **ASI (Artificial Super Intelligence) ou Superinteligência Artificial:** Uma IA hipotética que superaria a inteligência humana em todas as frentes, incluindo criatividade científica, sabedoria geral e habilidades sociais.\n",
            "\n",
            "### Aplicações da IA\n",
            "\n",
            "A IA já está presente em inúmeras áreas do nosso dia a dia e da indústria:\n",
            "\n",
            "*   **Assistentes Virtuais:** Siri, Alexa, Google Assistant.\n",
            "*   **Carros Autônomos:** Sistemas de navegação e condução.\n",
            "*   **Saúde:** Diagnóstico de doenças, descoberta de medicamentos, cirurgia assistida por robôs.\n",
            "*   **Finanças:** Detecção de fraudes, algoritmos de negociação.\n",
            "*   **Comércio Eletrônico:** Sistemas de recomendação (Netflix, Amazon), chatbots de atendimento ao cliente.\n",
            "*   **Segurança:** Reconhecimento facial, vigilância por vídeo.\n",
            "*   **Educação:** Tutores inteligentes, personalização do aprendizado.\n",
            "*   **Indústria:** Robôs industriais, otimização de processos.\n",
            "\n",
            "Em resumo, a Inteligência Artificial é a busca por dotar máquinas com a capacidade de pensar, aprender e agir de maneira inteligente, transformando radicalmente diversas áreas da sociedade e da tecnologia.\n"
          ]
        }
      ]
    },
    {
      "cell_type": "code",
      "source": [
        "resposta3 = chat.send_message(\"Quando foi lançado o ChatGPT ?\")\n",
        "\n",
        "print(resposta3.text)\n"
      ],
      "metadata": {
        "id": "0lax2whO6vi8",
        "outputId": "61101f2c-fe9f-46bf-ceb2-df151eaebff3",
        "colab": {
          "base_uri": "https://localhost:8080/"
        }
      },
      "execution_count": 73,
      "outputs": [
        {
          "output_type": "stream",
          "name": "stdout",
          "text": [
            "O ChatGPT foi lançado pela OpenAI em **30 de novembro de 2022**.\n",
            "\n",
            "Sua versão inicial, que rapidamente se tornou viral, marcou um ponto de virada na popularização da inteligência artificial generativa.\n"
          ]
        }
      ]
    },
    {
      "cell_type": "code",
      "source": [
        "chat.get_history()"
      ],
      "metadata": {
        "id": "hx_JSQbf2okI",
        "outputId": "91884abd-69ed-4265-9aa9-0411c3a937e8",
        "colab": {
          "base_uri": "https://localhost:8080/"
        }
      },
      "execution_count": 74,
      "outputs": [
        {
          "output_type": "execute_result",
          "data": {
            "text/plain": [
              "[UserContent(\n",
              "   parts=[\n",
              "     Part(\n",
              "       text='O que é a Inteligência Artificial ?'\n",
              "     ),\n",
              "   ],\n",
              "   role='user'\n",
              " ),\n",
              " Content(\n",
              "   parts=[\n",
              "     Part(\n",
              "       text=\"\"\"A Inteligência Artificial (IA) é um campo da ciência da computação que se dedica à **criação de sistemas e máquinas capazes de simular a inteligência humana**. O objetivo principal da IA é permitir que computadores realizem tarefas que normalmente exigiriam a cognição humana.\n",
              " \n",
              " Em outras palavras, a IA busca desenvolver softwares e hardware que podem **aprender, raciocinar, resolver problemas, compreender a linguagem, reconhecer padrões e até mesmo tomar decisões** de forma autônoma.\n",
              " \n",
              " ### O que a \"Inteligência\" Significa em IA?\n",
              " \n",
              " Quando falamos de \"inteligência\" em IA, estamos nos referindo a habilidades como:\n",
              " \n",
              " 1.  **Aprendizado:** Capacidade de adquirir conhecimento e habilidades a partir de dados e experiências, sem ser explicitamente programado para cada cenário (isso é a base do *Machine Learning* - Aprendizado de Máquina).\n",
              " 2.  **Raciocínio:** Habilidade de usar lógica e regras para tirar conclusões e fazer inferências.\n",
              " 3.  **Resolução de Problemas:** Encontrar soluções para desafios, muitas vezes envolvendo tentativa e erro ou otimização.\n",
              " 4.  **Percepção:** Interpretar informações sensoriais, como imagens (visão computacional) ou sons (reconhecimento de fala).\n",
              " 5.  **Compreensão da Linguagem:** Processar e gerar linguagem humana (Processamento de Linguagem Natural - PLN).\n",
              " 6.  **Tomada de Decisão:** Escolher a melhor ação a ser tomada com base em informações e objetivos.\n",
              " \n",
              " ### Como a IA é Alcançada? (Principais Técnicas e Subcampos)\n",
              " \n",
              " A IA não é uma única tecnologia, mas um guarda-chuva que abrange várias técnicas e abordagens:\n",
              " \n",
              " *   **Machine Learning (Aprendizado de Máquina - ML):** É o subcampo mais proeminente da IA hoje. Permite que os sistemas aprendam com dados, identifiquem padrões e tomem decisões com mínima intervenção humana. Inclui:\n",
              "     *   **Aprendizado Supervisionado:** Treinar modelos com dados rotulados (ex: imagens de gatos e cachorros).\n",
              "     *   **Aprendizado Não Supervisionado:** Encontrar padrões em dados não rotulados (ex: agrupar clientes por comportamento).\n",
              "     *   **Aprendizado por Reforço:** Agentes aprendem a tomar decisões através de tentativas e erros, recebendo recompensas ou penalidades.\n",
              " *   **Deep Learning (Aprendizado Profundo - DL):** Um subcampo do ML que utiliza redes neurais artificiais com muitas camadas (\"profundas\") para aprender representações complexas de dados. É extremamente eficaz para tarefas como reconhecimento de imagem, voz e processamento de linguagem natural.\n",
              " *   **Natural Language Processing (Processamento de Linguagem Natural - PLN):** Permite que computadores compreendam, interpretem e gerem a linguagem humana. Exemplos: tradução automática, chatbots, análise de sentimento.\n",
              " *   **Computer Vision (Visão Computacional):** Habilita computadores a \"ver\" e interpretar imagens e vídeos. Exemplos: reconhecimento facial, carros autônomos, diagnóstico médico por imagem.\n",
              " *   **Sistemas Especialistas:** Programas baseados em regras que simulam o conhecimento e o processo de tomada de decisão de um especialista humano em um domínio específico (uma forma mais antiga de IA, mas ainda relevante em certas aplicações).\n",
              " *   **Robótica:** Integração da IA com robôs físicos para que possam interagir com o mundo, aprender e executar tarefas complexas.\n",
              " \n",
              " ### Tipos de IA (Níveis de Inteligência)\n",
              " \n",
              " É comum classificar a IA em três níveis:\n",
              " \n",
              " 1.  **ANI (Artificial Narrow Intelligence) ou IA Fraca:** É a IA que temos hoje. Projetada para executar uma única tarefa ou um conjunto limitado de tarefas muito bem (ex: Siri, carros autônomos, sistemas de recomendação, jogos de xadrez). Não possui consciência ou inteligência geral.\n",
              " 2.  **AGI (Artificial General Intelligence) ou IA Forte:** É uma IA hipotética que teria a capacidade intelectual de um ser humano em todas as áreas, podendo aprender qualquer tarefa intelectual que um humano pode. Ainda não existe.\n",
              " 3.  **ASI (Artificial Super Intelligence) ou Superinteligência Artificial:** Uma IA hipotética que superaria a inteligência humana em todas as frentes, incluindo criatividade científica, sabedoria geral e habilidades sociais.\n",
              " \n",
              " ### Aplicações da IA\n",
              " \n",
              " A IA já está presente em inúmeras áreas do nosso dia a dia e da indústria:\n",
              " \n",
              " *   **Assistentes Virtuais:** Siri, Alexa, Google Assistant.\n",
              " *   **Carros Autônomos:** Sistemas de navegação e condução.\n",
              " *   **Saúde:** Diagnóstico de doenças, descoberta de medicamentos, cirurgia assistida por robôs.\n",
              " *   **Finanças:** Detecção de fraudes, algoritmos de negociação.\n",
              " *   **Comércio Eletrônico:** Sistemas de recomendação (Netflix, Amazon), chatbots de atendimento ao cliente.\n",
              " *   **Segurança:** Reconhecimento facial, vigilância por vídeo.\n",
              " *   **Educação:** Tutores inteligentes, personalização do aprendizado.\n",
              " *   **Indústria:** Robôs industriais, otimização de processos.\n",
              " \n",
              " Em resumo, a Inteligência Artificial é a busca por dotar máquinas com a capacidade de pensar, aprender e agir de maneira inteligente, transformando radicalmente diversas áreas da sociedade e da tecnologia.\"\"\"\n",
              "     ),\n",
              "   ],\n",
              "   role='model'\n",
              " ),\n",
              " UserContent(\n",
              "   parts=[\n",
              "     Part(\n",
              "       text='Quando foi lançado o ChatGPT ?'\n",
              "     ),\n",
              "   ],\n",
              "   role='user'\n",
              " ),\n",
              " Content(\n",
              "   parts=[\n",
              "     Part(\n",
              "       text=\"\"\"O ChatGPT foi lançado pela OpenAI em **30 de novembro de 2022**.\n",
              " \n",
              " Sua versão inicial, que rapidamente se tornou viral, marcou um ponto de virada na popularização da inteligência artificial generativa.\"\"\"\n",
              "     ),\n",
              "   ],\n",
              "   role='model'\n",
              " )]"
            ]
          },
          "metadata": {},
          "execution_count": 74
        }
      ]
    },
    {
      "cell_type": "code",
      "source": [
        "prompt = input(\"Digite sua pergunta: \")\n",
        "\n",
        "while prompt != \"fim\":\n",
        "  resposta4 = chat.send_message(prompt)\n",
        "  print(f\"{resposta4.text} \\n\")\n",
        "  prompt = input(\"Digite sua pergunta: \")\n",
        "\n",
        "  print(resposta4.text)\n"
      ],
      "metadata": {
        "colab": {
          "base_uri": "https://localhost:8080/"
        },
        "id": "ulhh0U-N6phf",
        "outputId": "7926ce11-7588-41fa-a0ee-20f89ba41850"
      },
      "execution_count": 75,
      "outputs": [
        {
          "output_type": "stream",
          "name": "stdout",
          "text": [
            "Digite sua pergunta: O que é IA Generativa ?\n",
            "A **Inteligência Artificial Generativa** (ou **IA Generativa**) é um tipo de inteligência artificial capaz de **criar conteúdo novo e original** que não existia antes, em vez de apenas analisar, classificar ou prever com base em dados existentes.\n",
            "\n",
            "Pense nela como uma IA que consegue \"imaginar\" e \"produzir\" algo, em contraste com a IA tradicional que muitas vezes \"reconhece\" ou \"interpreta\".\n",
            "\n",
            "### Como Funciona a IA Generativa?\n",
            "\n",
            "1.  **Aprendizado com Dados Massivos:** A IA generativa é treinada em quantidades gigantescas de dados existentes (textos, imagens, áudios, vídeos, códigos, etc.).\n",
            "2.  **Identificação de Padrões:** Durante o treinamento, ela aprende os padrões, estruturas, estilos e relações complexas presentes nesses dados. Por exemplo, ela aprende como as palavras se conectam em uma frase, como cores e formas se combinam em uma imagem, ou como notas musicais formam uma melodia.\n",
            "3.  **Geração de Conteúdo Novo:** Com base nesse aprendizado, quando recebe uma instrução (chamada de \"prompt\"), a IA consegue gerar algo completamente novo que segue os padrões e a \"lógica\" que aprendeu, mas que não é uma cópia exata de nada que viu durante o treinamento. Ela *sintetiza* novas informações.\n",
            "\n",
            "### O Que Ela Pode Gerar?\n",
            "\n",
            "A IA Generativa pode criar uma vasta gama de conteúdos, incluindo:\n",
            "\n",
            "*   **Texto:** Escrever artigos, poemas, roteiros, e-mails, resumos, código de programação, responder a perguntas complexas (como o ChatGPT).\n",
            "*   **Imagens:** Criar ilustrações, fotos realistas ou artísticas a partir de descrições textuais (ex: DALL-E, Midjourney, Stable Diffusion).\n",
            "*   **Áudio:** Gerar músicas, efeitos sonoros, vozes sintéticas realistas (text-to-speech).\n",
            "*   **Vídeo:** Criar pequenos clipes, animações, ou modificar vídeos existentes.\n",
            "*   **Código:** Gerar trechos de código em diversas linguagens de programação.\n",
            "*   **Modelos 3D:** Criar objetos e cenários tridimensionais.\n",
            "*   **Dados Sintéticos:** Gerar dados artificiais para treinamento de outros modelos de IA, especialmente quando os dados reais são escassos ou sensíveis.\n",
            "\n",
            "### Exemplos Notáveis de IA Generativa:\n",
            "\n",
            "*   **ChatGPT (e outros Large Language Models - LLMs):** Gera texto, responde a perguntas, escreve histórias e código.\n",
            "*   **DALL-E 2, Midjourney, Stable Diffusion:** Geram imagens a partir de descrições textuais.\n",
            "*   **Google Bard (agora Gemini):** Outro LLM para conversação e geração de texto.\n",
            "*   **Ferramentas de geração de música:** Capazes de compor melodias e arranjos.\n",
            "\n",
            "### Por Que a IA Generativa é Tão Impactante?\n",
            "\n",
            "*   **Acelera a Criação:** Permite gerar conteúdo em minutos ou segundos que levariam horas ou dias para humanos.\n",
            "*   **Democratiza a Criação:** Reduz a barreira para a criação de conteúdo complexo, permitindo que pessoas sem habilidades técnicas ou artísticas específicas produzam resultados impressionantes.\n",
            "*   **Inovação:** Abre novas fronteiras para a criatividade e a resolução de problemas em diversas indústrias.\n",
            "*   **Personalização:** Pode gerar conteúdo altamente personalizado para indivíduos ou grupos.\n",
            "\n",
            "### Desafios e Considerações:\n",
            "\n",
            "Apesar do seu potencial, a IA Generativa também levanta questões importantes sobre:\n",
            "\n",
            "*   **Autenticidade e Falsificações (Deepfakes):** A capacidade de gerar conteúdo realista pode ser usada para enganar ou manipular.\n",
            "*   **Viés (Bias):** Se os dados de treinamento contiverem preconceitos, a IA pode replicá-los ou até amplificá-los.\n",
            "*   **Direitos Autorais e Propriedade Intelectual:** Quem detém os direitos sobre o conteúdo gerado por IA? E sobre os dados usados para treiná-la?\n",
            "*   **\"Alucinações\":** Especialmente em modelos de linguagem, a IA pode gerar informações que soam convincentes, mas são factualmente incorretas.\n",
            "\n",
            "Em resumo, a IA Generativa representa um salto significativo na capacidade das máquinas, passando de meros analisadores para criadores, com o potencial de transformar radicalmente a forma como interagimos com a tecnologia e criamos conteúdo. \n",
            "\n",
            "Digite sua pergunta: Quand foi lançado o ChatGPT ?\n",
            "A **Inteligência Artificial Generativa** (ou **IA Generativa**) é um tipo de inteligência artificial capaz de **criar conteúdo novo e original** que não existia antes, em vez de apenas analisar, classificar ou prever com base em dados existentes.\n",
            "\n",
            "Pense nela como uma IA que consegue \"imaginar\" e \"produzir\" algo, em contraste com a IA tradicional que muitas vezes \"reconhece\" ou \"interpreta\".\n",
            "\n",
            "### Como Funciona a IA Generativa?\n",
            "\n",
            "1.  **Aprendizado com Dados Massivos:** A IA generativa é treinada em quantidades gigantescas de dados existentes (textos, imagens, áudios, vídeos, códigos, etc.).\n",
            "2.  **Identificação de Padrões:** Durante o treinamento, ela aprende os padrões, estruturas, estilos e relações complexas presentes nesses dados. Por exemplo, ela aprende como as palavras se conectam em uma frase, como cores e formas se combinam em uma imagem, ou como notas musicais formam uma melodia.\n",
            "3.  **Geração de Conteúdo Novo:** Com base nesse aprendizado, quando recebe uma instrução (chamada de \"prompt\"), a IA consegue gerar algo completamente novo que segue os padrões e a \"lógica\" que aprendeu, mas que não é uma cópia exata de nada que viu durante o treinamento. Ela *sintetiza* novas informações.\n",
            "\n",
            "### O Que Ela Pode Gerar?\n",
            "\n",
            "A IA Generativa pode criar uma vasta gama de conteúdos, incluindo:\n",
            "\n",
            "*   **Texto:** Escrever artigos, poemas, roteiros, e-mails, resumos, código de programação, responder a perguntas complexas (como o ChatGPT).\n",
            "*   **Imagens:** Criar ilustrações, fotos realistas ou artísticas a partir de descrições textuais (ex: DALL-E, Midjourney, Stable Diffusion).\n",
            "*   **Áudio:** Gerar músicas, efeitos sonoros, vozes sintéticas realistas (text-to-speech).\n",
            "*   **Vídeo:** Criar pequenos clipes, animações, ou modificar vídeos existentes.\n",
            "*   **Código:** Gerar trechos de código em diversas linguagens de programação.\n",
            "*   **Modelos 3D:** Criar objetos e cenários tridimensionais.\n",
            "*   **Dados Sintéticos:** Gerar dados artificiais para treinamento de outros modelos de IA, especialmente quando os dados reais são escassos ou sensíveis.\n",
            "\n",
            "### Exemplos Notáveis de IA Generativa:\n",
            "\n",
            "*   **ChatGPT (e outros Large Language Models - LLMs):** Gera texto, responde a perguntas, escreve histórias e código.\n",
            "*   **DALL-E 2, Midjourney, Stable Diffusion:** Geram imagens a partir de descrições textuais.\n",
            "*   **Google Bard (agora Gemini):** Outro LLM para conversação e geração de texto.\n",
            "*   **Ferramentas de geração de música:** Capazes de compor melodias e arranjos.\n",
            "\n",
            "### Por Que a IA Generativa é Tão Impactante?\n",
            "\n",
            "*   **Acelera a Criação:** Permite gerar conteúdo em minutos ou segundos que levariam horas ou dias para humanos.\n",
            "*   **Democratiza a Criação:** Reduz a barreira para a criação de conteúdo complexo, permitindo que pessoas sem habilidades técnicas ou artísticas específicas produzam resultados impressionantes.\n",
            "*   **Inovação:** Abre novas fronteiras para a criatividade e a resolução de problemas em diversas indústrias.\n",
            "*   **Personalização:** Pode gerar conteúdo altamente personalizado para indivíduos ou grupos.\n",
            "\n",
            "### Desafios e Considerações:\n",
            "\n",
            "Apesar do seu potencial, a IA Generativa também levanta questões importantes sobre:\n",
            "\n",
            "*   **Autenticidade e Falsificações (Deepfakes):** A capacidade de gerar conteúdo realista pode ser usada para enganar ou manipular.\n",
            "*   **Viés (Bias):** Se os dados de treinamento contiverem preconceitos, a IA pode replicá-los ou até amplificá-los.\n",
            "*   **Direitos Autorais e Propriedade Intelectual:** Quem detém os direitos sobre o conteúdo gerado por IA? E sobre os dados usados para treiná-la?\n",
            "*   **\"Alucinações\":** Especialmente em modelos de linguagem, a IA pode gerar informações que soam convincentes, mas são factualmente incorretas.\n",
            "\n",
            "Em resumo, a IA Generativa representa um salto significativo na capacidade das máquinas, passando de meros analisadores para criadores, com o potencial de transformar radicalmente a forma como interagimos com a tecnologia e criamos conteúdo.\n",
            "O ChatGPT foi lançado pela OpenAI em **30 de novembro de 2022**. \n",
            "\n",
            "Digite sua pergunta: Quando foi lançado o ChatGPT ?\n",
            "O ChatGPT foi lançado pela OpenAI em **30 de novembro de 2022**.\n",
            "O ChatGPT foi lançado pela OpenAI em **30 de novembro de 2022**. \n",
            "\n",
            "Digite sua pergunta: fim\n",
            "O ChatGPT foi lançado pela OpenAI em **30 de novembro de 2022**.\n"
          ]
        }
      ]
    },
    {
      "cell_type": "markdown",
      "source": [
        "### Estruturas de Dados"
      ],
      "metadata": {
        "id": "F1IIs4jyT1SH"
      }
    },
    {
      "cell_type": "code",
      "source": [
        "lista_de_nomes = [\"Maria Silva\", \"João Santos\", \"Ana Oliveira\", \"Pedro Costa\", \"juliana Pereira\"]"
      ],
      "metadata": {
        "id": "CXidPaV7D8x_"
      },
      "execution_count": 76,
      "outputs": []
    },
    {
      "cell_type": "code",
      "source": [
        "print(lista_de_nomes[3])"
      ],
      "metadata": {
        "colab": {
          "base_uri": "https://localhost:8080/"
        },
        "id": "yzq5cGZPUTIu",
        "outputId": "659c606f-ab76-4f5d-c11b-f02c984d5067"
      },
      "execution_count": 77,
      "outputs": [
        {
          "output_type": "stream",
          "name": "stdout",
          "text": [
            "Pedro Costa\n"
          ]
        }
      ]
    },
    {
      "cell_type": "code",
      "source": [
        "lista_de_medias = [8.9, 7.5, 4.2, 1.4, 9.5]"
      ],
      "metadata": {
        "id": "ub7ZyUPAUTL8"
      },
      "execution_count": 78,
      "outputs": []
    },
    {
      "cell_type": "code",
      "source": [
        "print(lista_de_nomes[3])"
      ],
      "metadata": {
        "colab": {
          "base_uri": "https://localhost:8080/"
        },
        "id": "D2LFpaIgUTPN",
        "outputId": "46726dd8-3de7-4f46-82e0-2367cb52b14b"
      },
      "execution_count": 79,
      "outputs": [
        {
          "output_type": "stream",
          "name": "stdout",
          "text": [
            "Pedro Costa\n"
          ]
        }
      ]
    },
    {
      "cell_type": "code",
      "source": [
        "for i in range(len(lista_de_medias)):   # Percorre a lista de médias e some 1 ao valor de cada média.\n",
        "\n",
        "  lista_de_medias[i] = lista_de_medias[i] + 1.0\n",
        "\n",
        "  if lista_de_medias[i] > 10.0:\n",
        "    lista_de_medias[i] = 10.0\n",
        "\n",
        "  print(lista_de_medias[i])"
      ],
      "metadata": {
        "colab": {
          "base_uri": "https://localhost:8080/"
        },
        "id": "p12nKWipUTSN",
        "outputId": "e77346e7-6df3-445d-c7c4-beb32c41451b"
      },
      "execution_count": 80,
      "outputs": [
        {
          "output_type": "stream",
          "name": "stdout",
          "text": [
            "9.9\n",
            "8.5\n",
            "5.2\n",
            "2.4\n",
            "10.0\n"
          ]
        }
      ]
    },
    {
      "cell_type": "code",
      "source": [
        "lista_de_medias = [8.9, 7.5, 4.2, 1.4, 9.5]"
      ],
      "metadata": {
        "id": "CzVxYdaHaO5G"
      },
      "execution_count": 81,
      "outputs": []
    },
    {
      "cell_type": "code",
      "source": [
        "n = 0\n",
        "\n",
        "while n < len(lista_de_medias):\n",
        "\n",
        "  lista_de_medias[n] += 1.0\n",
        "\n",
        "  if lista_de_medias[n] > 10.0:\n",
        "    lista_de_medias[n] = 10.0\n",
        "\n",
        "  print(lista_de_medias[n])\n",
        "\n",
        "  n += 1"
      ],
      "metadata": {
        "colab": {
          "base_uri": "https://localhost:8080/"
        },
        "id": "jZbvdqTlUTVN",
        "outputId": "6e242b18-f835-4b1a-e238-5569c7c03520"
      },
      "execution_count": 82,
      "outputs": [
        {
          "output_type": "stream",
          "name": "stdout",
          "text": [
            "9.9\n",
            "8.5\n",
            "5.2\n",
            "2.4\n",
            "10.0\n"
          ]
        }
      ]
    },
    {
      "cell_type": "code",
      "source": [
        "len(lista_de_medias)"
      ],
      "metadata": {
        "id": "cTT5XjwaZqUy",
        "colab": {
          "base_uri": "https://localhost:8080/"
        },
        "outputId": "03fa8505-3d3d-4928-ca50-1acdbf8a8b38"
      },
      "execution_count": 83,
      "outputs": [
        {
          "output_type": "execute_result",
          "data": {
            "text/plain": [
              "5"
            ]
          },
          "metadata": {},
          "execution_count": 83
        }
      ]
    },
    {
      "cell_type": "code",
      "source": [
        "lista_de_medias[len(lista_de_medias) - 1 ]"
      ],
      "metadata": {
        "id": "SHzHpPt5ZqYX",
        "colab": {
          "base_uri": "https://localhost:8080/"
        },
        "outputId": "86b4e100-278b-4c25-dd20-f8a22c1cf83e"
      },
      "execution_count": 84,
      "outputs": [
        {
          "output_type": "execute_result",
          "data": {
            "text/plain": [
              "10.0"
            ]
          },
          "metadata": {},
          "execution_count": 84
        }
      ]
    },
    {
      "cell_type": "code",
      "source": [
        "lista_de_medias[-1]"
      ],
      "metadata": {
        "id": "sAV00QWXZqcV",
        "colab": {
          "base_uri": "https://localhost:8080/"
        },
        "outputId": "2006ddc8-97be-47f7-d8b0-825cbad60ae4"
      },
      "execution_count": 85,
      "outputs": [
        {
          "output_type": "execute_result",
          "data": {
            "text/plain": [
              "10.0"
            ]
          },
          "metadata": {},
          "execution_count": 85
        }
      ]
    },
    {
      "cell_type": "code",
      "source": [
        "lista_de_nomes"
      ],
      "metadata": {
        "id": "RY6eSeG7ZqtC",
        "colab": {
          "base_uri": "https://localhost:8080/"
        },
        "outputId": "9c77b44a-5bb4-49dc-bf9c-d5979bc72334"
      },
      "execution_count": 86,
      "outputs": [
        {
          "output_type": "execute_result",
          "data": {
            "text/plain": [
              "['Maria Silva',\n",
              " 'João Santos',\n",
              " 'Ana Oliveira',\n",
              " 'Pedro Costa',\n",
              " 'juliana Pereira']"
            ]
          },
          "metadata": {},
          "execution_count": 86
        }
      ]
    },
    {
      "cell_type": "code",
      "source": [
        "lista_de_nomes[1:]"
      ],
      "metadata": {
        "id": "nK6LT53_6psL",
        "colab": {
          "base_uri": "https://localhost:8080/"
        },
        "outputId": "968b0e5f-0d2b-4cc8-b1ca-bcf72b1606aa"
      },
      "execution_count": 87,
      "outputs": [
        {
          "output_type": "execute_result",
          "data": {
            "text/plain": [
              "['João Santos', 'Ana Oliveira', 'Pedro Costa', 'juliana Pereira']"
            ]
          },
          "metadata": {},
          "execution_count": 87
        }
      ]
    },
    {
      "cell_type": "code",
      "source": [
        "lista_de_nomes[0:]"
      ],
      "metadata": {
        "id": "2H1FRq7v6pvu",
        "colab": {
          "base_uri": "https://localhost:8080/"
        },
        "outputId": "716cc580-1a58-4080-fbe7-3543325a193f"
      },
      "execution_count": 88,
      "outputs": [
        {
          "output_type": "execute_result",
          "data": {
            "text/plain": [
              "['Maria Silva',\n",
              " 'João Santos',\n",
              " 'Ana Oliveira',\n",
              " 'Pedro Costa',\n",
              " 'juliana Pereira']"
            ]
          },
          "metadata": {},
          "execution_count": 88
        }
      ]
    },
    {
      "cell_type": "code",
      "source": [
        "lista_de_nomes[:]"
      ],
      "metadata": {
        "colab": {
          "base_uri": "https://localhost:8080/"
        },
        "id": "IP_IyHrGfMbi",
        "outputId": "874e2fb6-7c54-4df6-e1f6-813771cb8655"
      },
      "execution_count": 89,
      "outputs": [
        {
          "output_type": "execute_result",
          "data": {
            "text/plain": [
              "['Maria Silva',\n",
              " 'João Santos',\n",
              " 'Ana Oliveira',\n",
              " 'Pedro Costa',\n",
              " 'juliana Pereira']"
            ]
          },
          "metadata": {},
          "execution_count": 89
        }
      ]
    },
    {
      "cell_type": "code",
      "source": [
        "lista_de_nomes[1:4]"
      ],
      "metadata": {
        "colab": {
          "base_uri": "https://localhost:8080/"
        },
        "id": "YsrY_ZTwfMpG",
        "outputId": "0c56bd94-dc87-4758-dd64-c50846daa9bc"
      },
      "execution_count": 92,
      "outputs": [
        {
          "output_type": "execute_result",
          "data": {
            "text/plain": [
              "['João Santos', 'Ana Oliveira', 'Pedro Costa']"
            ]
          },
          "metadata": {},
          "execution_count": 92
        }
      ]
    },
    {
      "cell_type": "code",
      "source": [
        "lista_de_nomes[:4]"
      ],
      "metadata": {
        "colab": {
          "base_uri": "https://localhost:8080/"
        },
        "id": "_b0Lv1H6fMt5",
        "outputId": "a1714fe8-4889-48fe-93a3-c05d26a3369b"
      },
      "execution_count": 93,
      "outputs": [
        {
          "output_type": "execute_result",
          "data": {
            "text/plain": [
              "['Maria Silva', 'João Santos', 'Ana Oliveira', 'Pedro Costa']"
            ]
          },
          "metadata": {},
          "execution_count": 93
        }
      ]
    },
    {
      "cell_type": "code",
      "source": [
        "lista_de_nomes.append(\"Fabrício\")"
      ],
      "metadata": {
        "id": "BgGxcCHIfMxR"
      },
      "execution_count": 94,
      "outputs": []
    },
    {
      "cell_type": "code",
      "source": [
        "lista_de_nomes"
      ],
      "metadata": {
        "colab": {
          "base_uri": "https://localhost:8080/"
        },
        "id": "7cAsoz5Hfvgn",
        "outputId": "4b5a6983-ca9a-4826-9a9e-aa4bee8adecb"
      },
      "execution_count": 95,
      "outputs": [
        {
          "output_type": "execute_result",
          "data": {
            "text/plain": [
              "['Maria Silva',\n",
              " 'João Santos',\n",
              " 'Ana Oliveira',\n",
              " 'Pedro Costa',\n",
              " 'juliana Pereira',\n",
              " 'Fabrício']"
            ]
          },
          "metadata": {},
          "execution_count": 95
        }
      ]
    },
    {
      "cell_type": "code",
      "source": [
        "lista_de_nomes.extend([\"Joana da Silva\", \"Paulo Silveira\"])"
      ],
      "metadata": {
        "id": "g0Aqz5ZRfvuH"
      },
      "execution_count": 99,
      "outputs": []
    },
    {
      "cell_type": "code",
      "source": [
        "lista_de_nomes"
      ],
      "metadata": {
        "colab": {
          "base_uri": "https://localhost:8080/"
        },
        "id": "wc6oOtC0fvxZ",
        "outputId": "2c5e80c1-df55-4524-999c-a19ec930503f"
      },
      "execution_count": 100,
      "outputs": [
        {
          "output_type": "execute_result",
          "data": {
            "text/plain": [
              "['Maria Silva',\n",
              " 'João Santos',\n",
              " 'Ana Oliveira',\n",
              " 'Pedro Costa',\n",
              " 'juliana Pereira',\n",
              " 'Fabrício',\n",
              " 'Joana da Silva',\n",
              " 'Paulo Silveira']"
            ]
          },
          "metadata": {},
          "execution_count": 100
        }
      ]
    },
    {
      "cell_type": "code",
      "source": [
        "lista_de_nomes.append([\"Marcio Costa\",\"Natalia Pedreira\"])"
      ],
      "metadata": {
        "id": "tG6rVTonioDv"
      },
      "execution_count": 101,
      "outputs": []
    },
    {
      "cell_type": "code",
      "source": [
        "lista_de_nomes[8]"
      ],
      "metadata": {
        "colab": {
          "base_uri": "https://localhost:8080/"
        },
        "id": "stOW0Cqtfv4R",
        "outputId": "58a98a4b-4de1-4787-a01c-0a1c237c6389"
      },
      "execution_count": 102,
      "outputs": [
        {
          "output_type": "execute_result",
          "data": {
            "text/plain": [
              "['Marcio Costa', 'Natalia Pedreira']"
            ]
          },
          "metadata": {},
          "execution_count": 102
        }
      ]
    },
    {
      "cell_type": "code",
      "source": [
        "lista_de_nomes[8][0]"
      ],
      "metadata": {
        "id": "Xmu_YZP-i5Ho",
        "outputId": "e562974b-2ee6-40ad-e3c8-7d200ce59f50",
        "colab": {
          "base_uri": "https://localhost:8080/",
          "height": 35
        }
      },
      "execution_count": 103,
      "outputs": [
        {
          "output_type": "execute_result",
          "data": {
            "text/plain": [
              "'Marcio Costa'"
            ],
            "application/vnd.google.colaboratory.intrinsic+json": {
              "type": "string"
            }
          },
          "metadata": {},
          "execution_count": 103
        }
      ]
    },
    {
      "cell_type": "code",
      "source": [
        "lista_de_nomes = [\"Maria Silva\", \"João Santos\", \"Ana Oliveira\", \"Pedro Costa\", \"juliana Pereira\"]"
      ],
      "metadata": {
        "id": "2hIjUfTMkuPn"
      },
      "execution_count": 104,
      "outputs": []
    },
    {
      "cell_type": "code",
      "source": [
        "lista_de_nomes.extend([\"Joana da Silva\", \"Paulo Silveira\"])"
      ],
      "metadata": {
        "id": "Ge17ZIl8kys1"
      },
      "execution_count": 105,
      "outputs": []
    },
    {
      "cell_type": "code",
      "source": [
        "lista_de_nomes"
      ],
      "metadata": {
        "colab": {
          "base_uri": "https://localhost:8080/"
        },
        "id": "wnTuVuZrfv7w",
        "outputId": "f1fa197f-cadc-49cc-c17c-e721b9621f95"
      },
      "execution_count": 106,
      "outputs": [
        {
          "output_type": "execute_result",
          "data": {
            "text/plain": [
              "['Maria Silva',\n",
              " 'João Santos',\n",
              " 'Ana Oliveira',\n",
              " 'Pedro Costa',\n",
              " 'juliana Pereira',\n",
              " 'Joana da Silva',\n",
              " 'Paulo Silveira']"
            ]
          },
          "metadata": {},
          "execution_count": 106
        }
      ]
    },
    {
      "cell_type": "code",
      "source": [
        "lista_de_nomes.remove(\"Paulo Silveira\")"
      ],
      "metadata": {
        "id": "q48_4R2Ck2Nv"
      },
      "execution_count": 107,
      "outputs": []
    },
    {
      "cell_type": "code",
      "source": [
        "lista_de_nomes"
      ],
      "metadata": {
        "id": "jCQHOVNuk2bJ",
        "outputId": "b0ed28a9-746b-4ef8-c747-a8d7c21145f1",
        "colab": {
          "base_uri": "https://localhost:8080/"
        }
      },
      "execution_count": 108,
      "outputs": [
        {
          "output_type": "execute_result",
          "data": {
            "text/plain": [
              "['Maria Silva',\n",
              " 'João Santos',\n",
              " 'Ana Oliveira',\n",
              " 'Pedro Costa',\n",
              " 'juliana Pereira',\n",
              " 'Joana da Silva']"
            ]
          },
          "metadata": {},
          "execution_count": 108
        }
      ]
    },
    {
      "cell_type": "code",
      "source": [
        "lista_de_nomes.pop()"
      ],
      "metadata": {
        "id": "SQmOve3Uk2fr",
        "outputId": "2deba0cc-d2bd-4f22-e714-ff6c062d20ae",
        "colab": {
          "base_uri": "https://localhost:8080/",
          "height": 35
        }
      },
      "execution_count": 109,
      "outputs": [
        {
          "output_type": "execute_result",
          "data": {
            "text/plain": [
              "'Joana da Silva'"
            ],
            "application/vnd.google.colaboratory.intrinsic+json": {
              "type": "string"
            }
          },
          "metadata": {},
          "execution_count": 109
        }
      ]
    },
    {
      "cell_type": "code",
      "source": [
        "lista_de_nomes"
      ],
      "metadata": {
        "id": "_A_Dbph4k_dt",
        "outputId": "beab11df-dd8c-41b4-8e5a-998e20b40053",
        "colab": {
          "base_uri": "https://localhost:8080/"
        }
      },
      "execution_count": 110,
      "outputs": [
        {
          "output_type": "execute_result",
          "data": {
            "text/plain": [
              "['Maria Silva',\n",
              " 'João Santos',\n",
              " 'Ana Oliveira',\n",
              " 'Pedro Costa',\n",
              " 'juliana Pereira']"
            ]
          },
          "metadata": {},
          "execution_count": 110
        }
      ]
    },
    {
      "cell_type": "code",
      "source": [
        "lista_de_nomes.pop(2)"
      ],
      "metadata": {
        "id": "1vLlYUstk_kA",
        "outputId": "70b1d756-f842-4c4c-c612-1d42d7b532c2",
        "colab": {
          "base_uri": "https://localhost:8080/",
          "height": 35
        }
      },
      "execution_count": 111,
      "outputs": [
        {
          "output_type": "execute_result",
          "data": {
            "text/plain": [
              "'Ana Oliveira'"
            ],
            "application/vnd.google.colaboratory.intrinsic+json": {
              "type": "string"
            }
          },
          "metadata": {},
          "execution_count": 111
        }
      ]
    },
    {
      "cell_type": "code",
      "source": [
        "lista_de_nomes"
      ],
      "metadata": {
        "id": "RH4G9Rlpk_73",
        "outputId": "db2abcf1-a1ad-47a0-c404-cad3b1ba44dd",
        "colab": {
          "base_uri": "https://localhost:8080/"
        }
      },
      "execution_count": 112,
      "outputs": [
        {
          "output_type": "execute_result",
          "data": {
            "text/plain": [
              "['Maria Silva', 'João Santos', 'Pedro Costa', 'juliana Pereira']"
            ]
          },
          "metadata": {},
          "execution_count": 112
        }
      ]
    },
    {
      "cell_type": "code",
      "source": [],
      "metadata": {
        "id": "diSGExmRnQma"
      },
      "execution_count": null,
      "outputs": []
    }
  ]
}