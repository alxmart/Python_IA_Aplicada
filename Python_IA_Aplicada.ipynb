{
  "nbformat": 4,
  "nbformat_minor": 0,
  "metadata": {
    "colab": {
      "provenance": [],
      "toc_visible": true,
      "authorship_tag": "ABX9TyOhSICb2vFk/egGi+gfamlu"
    },
    "kernelspec": {
      "name": "python3",
      "display_name": "Python 3"
    },
    "language_info": {
      "name": "python"
    }
  },
  "cells": [
    {
      "cell_type": "code",
      "execution_count": 1,
      "metadata": {
        "colab": {
          "base_uri": "https://localhost:8080/"
        },
        "id": "4TL3NdShNBC6",
        "outputId": "d1ec6233-63c3-4977-d71b-1aabff4cc678"
      },
      "outputs": [
        {
          "output_type": "execute_result",
          "data": {
            "text/plain": [
              "5"
            ]
          },
          "metadata": {},
          "execution_count": 1
        }
      ],
      "source": [
        "5"
      ]
    },
    {
      "cell_type": "code",
      "source": [
        "print(5)"
      ],
      "metadata": {
        "colab": {
          "base_uri": "https://localhost:8080/"
        },
        "id": "GRQB0MiGOLKX",
        "outputId": "51e0ffcf-66ab-4ebe-bbde-0981b03c7172"
      },
      "execution_count": 2,
      "outputs": [
        {
          "output_type": "stream",
          "name": "stdout",
          "text": [
            "5\n"
          ]
        }
      ]
    },
    {
      "cell_type": "code",
      "source": [
        "print(\"Hello World !\")"
      ],
      "metadata": {
        "colab": {
          "base_uri": "https://localhost:8080/"
        },
        "id": "8Kmty75QNMIu",
        "outputId": "5b363e19-7fd4-4d33-fcfb-dc4a3fac78d2"
      },
      "execution_count": 3,
      "outputs": [
        {
          "output_type": "stream",
          "name": "stdout",
          "text": [
            "Hello World !\n"
          ]
        }
      ]
    },
    {
      "cell_type": "code",
      "source": [
        "print('Hello World !')"
      ],
      "metadata": {
        "colab": {
          "base_uri": "https://localhost:8080/"
        },
        "id": "2G-mdnRmNMOp",
        "outputId": "3991be39-ef8b-425f-fd43-fbed0d81f83f"
      },
      "execution_count": 4,
      "outputs": [
        {
          "output_type": "stream",
          "name": "stdout",
          "text": [
            "Hello World !\n"
          ]
        }
      ]
    },
    {
      "cell_type": "code",
      "source": [
        "print(\"Olá Mundo ! \" + \"5\")"
      ],
      "metadata": {
        "colab": {
          "base_uri": "https://localhost:8080/"
        },
        "id": "yLGq538iOnLw",
        "outputId": "961aa51a-0f79-4ffa-8fab-2cd9542b8886"
      },
      "execution_count": 5,
      "outputs": [
        {
          "output_type": "stream",
          "name": "stdout",
          "text": [
            "Olá Mundo ! 5\n"
          ]
        }
      ]
    },
    {
      "cell_type": "code",
      "source": [
        "5 + 2"
      ],
      "metadata": {
        "colab": {
          "base_uri": "https://localhost:8080/"
        },
        "id": "PMtH1rBNPA1d",
        "outputId": "2e0f4086-da57-45ed-db4e-b4985fb626fd"
      },
      "execution_count": 6,
      "outputs": [
        {
          "output_type": "execute_result",
          "data": {
            "text/plain": [
              "7"
            ]
          },
          "metadata": {},
          "execution_count": 6
        }
      ]
    },
    {
      "cell_type": "code",
      "source": [
        "print(5 + 2)"
      ],
      "metadata": {
        "colab": {
          "base_uri": "https://localhost:8080/"
        },
        "id": "_wLU8f6jQcWJ",
        "outputId": "fa0ecbfd-3c8a-4035-ea22-ffaac17d8165"
      },
      "execution_count": 7,
      "outputs": [
        {
          "output_type": "stream",
          "name": "stdout",
          "text": [
            "7\n"
          ]
        }
      ]
    },
    {
      "cell_type": "code",
      "source": [
        "produto1 = 5.00"
      ],
      "metadata": {
        "id": "TJUlryW1QgWp"
      },
      "execution_count": 8,
      "outputs": []
    },
    {
      "cell_type": "code",
      "source": [
        "produto1"
      ],
      "metadata": {
        "colab": {
          "base_uri": "https://localhost:8080/"
        },
        "id": "JMmhf6CPWyMz",
        "outputId": "f68dee0c-25a9-4b7a-c578-7992474f75dc"
      },
      "execution_count": 9,
      "outputs": [
        {
          "output_type": "execute_result",
          "data": {
            "text/plain": [
              "5.0"
            ]
          },
          "metadata": {},
          "execution_count": 9
        }
      ]
    },
    {
      "cell_type": "code",
      "source": [
        "print(produto1)"
      ],
      "metadata": {
        "colab": {
          "base_uri": "https://localhost:8080/"
        },
        "id": "3ULtReFRW6yW",
        "outputId": "c3832275-9145-4c51-ff7a-d9a2203d1c83"
      },
      "execution_count": 10,
      "outputs": [
        {
          "output_type": "stream",
          "name": "stdout",
          "text": [
            "5.0\n"
          ]
        }
      ]
    },
    {
      "cell_type": "code",
      "source": [
        "produto2 = 2000.00"
      ],
      "metadata": {
        "id": "OO9VuVgLNMTt"
      },
      "execution_count": 11,
      "outputs": []
    },
    {
      "cell_type": "code",
      "source": [
        "print(produto2)"
      ],
      "metadata": {
        "colab": {
          "base_uri": "https://localhost:8080/"
        },
        "id": "j2Mwh4sFXDEu",
        "outputId": "8e449c22-55cf-4636-a94c-67eee7e413a9"
      },
      "execution_count": 12,
      "outputs": [
        {
          "output_type": "stream",
          "name": "stdout",
          "text": [
            "2000.0\n"
          ]
        }
      ]
    },
    {
      "cell_type": "code",
      "source": [
        "produto3 = 1.00"
      ],
      "metadata": {
        "id": "_fXu8hvsNMYv"
      },
      "execution_count": 13,
      "outputs": []
    },
    {
      "cell_type": "code",
      "source": [
        "print(produto1 + produto2 + produto3)"
      ],
      "metadata": {
        "id": "wdnykXJONMdm",
        "colab": {
          "base_uri": "https://localhost:8080/"
        },
        "outputId": "f250db3c-93a8-4876-f877-d1193e043eb1"
      },
      "execution_count": 14,
      "outputs": [
        {
          "output_type": "stream",
          "name": "stdout",
          "text": [
            "2006.0\n"
          ]
        }
      ]
    },
    {
      "cell_type": "code",
      "source": [
        "nome_do_produto1 = \"Macarrão\""
      ],
      "metadata": {
        "id": "_Eq71fzINMiG"
      },
      "execution_count": 15,
      "outputs": []
    },
    {
      "cell_type": "code",
      "source": [
        "nome_do_produto2 = \"Celular\""
      ],
      "metadata": {
        "id": "94lcodEHNMmw"
      },
      "execution_count": 16,
      "outputs": []
    },
    {
      "cell_type": "code",
      "source": [
        "nome_do_produto3 = \"Bala\""
      ],
      "metadata": {
        "id": "QWDotFnrNMrv"
      },
      "execution_count": 17,
      "outputs": []
    },
    {
      "cell_type": "code",
      "source": [
        "print(nome_do_produto1 + \" \" + nome_do_produto2 + \" \" + nome_do_produto3)"
      ],
      "metadata": {
        "colab": {
          "base_uri": "https://localhost:8080/"
        },
        "id": "-JbiJgM3XXOu",
        "outputId": "4af7d477-c01e-4f5a-a7da-0d5bcc57cb8f"
      },
      "execution_count": 18,
      "outputs": [
        {
          "output_type": "stream",
          "name": "stdout",
          "text": [
            "Macarrão Celular Bala\n"
          ]
        }
      ]
    },
    {
      "cell_type": "code",
      "source": [
        "amigos = 5\n",
        "aluguel = 1000.00\n",
        "supermercado = 500.00\n",
        "carro = 400.00"
      ],
      "metadata": {
        "id": "ebFzePmIXdl7"
      },
      "execution_count": 19,
      "outputs": []
    },
    {
      "cell_type": "code",
      "source": [
        "total = aluguel + supermercado + carro"
      ],
      "metadata": {
        "id": "uGd4v-LXYZcQ"
      },
      "execution_count": 20,
      "outputs": []
    },
    {
      "cell_type": "code",
      "source": [
        "print(total)"
      ],
      "metadata": {
        "colab": {
          "base_uri": "https://localhost:8080/"
        },
        "id": "xCjZjbowYgjN",
        "outputId": "900d51d8-d0b1-41d2-9ccf-dca97de88f8b"
      },
      "execution_count": 21,
      "outputs": [
        {
          "output_type": "stream",
          "name": "stdout",
          "text": [
            "1900.0\n"
          ]
        }
      ]
    },
    {
      "cell_type": "code",
      "source": [
        "aluguel = 900.0"
      ],
      "metadata": {
        "id": "1Oh-7c_FYp5X"
      },
      "execution_count": 22,
      "outputs": []
    },
    {
      "cell_type": "code",
      "source": [
        "print(total)"
      ],
      "metadata": {
        "colab": {
          "base_uri": "https://localhost:8080/"
        },
        "id": "D_gY48A7YvWb",
        "outputId": "57f0ea92-d089-41de-f58f-51af57b33f79"
      },
      "execution_count": 23,
      "outputs": [
        {
          "output_type": "stream",
          "name": "stdout",
          "text": [
            "1900.0\n"
          ]
        }
      ]
    },
    {
      "cell_type": "code",
      "source": [
        "total = aluguel + supermercado + carro"
      ],
      "metadata": {
        "id": "GToJeChjYx-c"
      },
      "execution_count": 24,
      "outputs": []
    },
    {
      "cell_type": "code",
      "source": [
        "print(total)"
      ],
      "metadata": {
        "colab": {
          "base_uri": "https://localhost:8080/"
        },
        "id": "EtIGlaYHY86P",
        "outputId": "405e2e6e-93e9-4b62-9a43-e237088093af"
      },
      "execution_count": 25,
      "outputs": [
        {
          "output_type": "stream",
          "name": "stdout",
          "text": [
            "1800.0\n"
          ]
        }
      ]
    },
    {
      "cell_type": "code",
      "source": [
        "print(aluguel)"
      ],
      "metadata": {
        "colab": {
          "base_uri": "https://localhost:8080/"
        },
        "id": "wpUQLdSZY-ZA",
        "outputId": "3407c192-9ef9-481b-9bea-c334aebc99f9"
      },
      "execution_count": 26,
      "outputs": [
        {
          "output_type": "stream",
          "name": "stdout",
          "text": [
            "900.0\n"
          ]
        }
      ]
    },
    {
      "cell_type": "code",
      "source": [
        "aluguel -= 100.0"
      ],
      "metadata": {
        "id": "lNZhqANQZWbk"
      },
      "execution_count": 27,
      "outputs": []
    },
    {
      "cell_type": "code",
      "source": [
        "print(aluguel)"
      ],
      "metadata": {
        "colab": {
          "base_uri": "https://localhost:8080/"
        },
        "id": "qhA0E3ZJZYvQ",
        "outputId": "7d6ecc95-ad4c-4679-a435-bdb4cda65d69"
      },
      "execution_count": 28,
      "outputs": [
        {
          "output_type": "stream",
          "name": "stdout",
          "text": [
            "800.0\n"
          ]
        }
      ]
    },
    {
      "cell_type": "code",
      "source": [
        "aluguel -= 100.0"
      ],
      "metadata": {
        "id": "pOi4TEjQZaTt"
      },
      "execution_count": 29,
      "outputs": []
    },
    {
      "cell_type": "code",
      "source": [
        "print(aluguel)"
      ],
      "metadata": {
        "colab": {
          "base_uri": "https://localhost:8080/"
        },
        "id": "zffiADcjYwj5",
        "outputId": "f38220c2-317f-4ed4-ed0c-4d066a90f6f5"
      },
      "execution_count": 30,
      "outputs": [
        {
          "output_type": "stream",
          "name": "stdout",
          "text": [
            "700.0\n"
          ]
        }
      ]
    },
    {
      "cell_type": "code",
      "source": [
        "amigos = 6\n",
        "aluguel = 1000.00\n",
        "supermercado = 500.00\n",
        "carro = 400.00"
      ],
      "metadata": {
        "id": "o9RDRcheYkLU"
      },
      "execution_count": 31,
      "outputs": []
    },
    {
      "cell_type": "code",
      "source": [
        "print(amigos)"
      ],
      "metadata": {
        "id": "eqohovxLNNSS",
        "colab": {
          "base_uri": "https://localhost:8080/"
        },
        "outputId": "830c8089-5361-4010-eee4-cea173c12e73"
      },
      "execution_count": 32,
      "outputs": [
        {
          "output_type": "stream",
          "name": "stdout",
          "text": [
            "6\n"
          ]
        }
      ]
    },
    {
      "cell_type": "code",
      "source": [
        "total_de_carro = carro * 2"
      ],
      "metadata": {
        "id": "vvyNh1i5aPuk"
      },
      "execution_count": 33,
      "outputs": []
    },
    {
      "cell_type": "code",
      "source": [
        "total = aluguel + supermercado + total_de_carro"
      ],
      "metadata": {
        "id": "M6THF_ZCb1rJ"
      },
      "execution_count": 34,
      "outputs": []
    },
    {
      "cell_type": "code",
      "source": [
        "print(total)"
      ],
      "metadata": {
        "colab": {
          "base_uri": "https://localhost:8080/"
        },
        "id": "19Nwt0kRb5JD",
        "outputId": "207cc011-4947-412b-d619-112cbbd70d62"
      },
      "execution_count": 35,
      "outputs": [
        {
          "output_type": "stream",
          "name": "stdout",
          "text": [
            "2300.0\n"
          ]
        }
      ]
    },
    {
      "cell_type": "code",
      "source": [
        "total_por_pessoa = total / amigos"
      ],
      "metadata": {
        "id": "P8ZpoRvCb6OS"
      },
      "execution_count": 36,
      "outputs": []
    },
    {
      "cell_type": "code",
      "source": [
        "print(total_por_pessoa)"
      ],
      "metadata": {
        "colab": {
          "base_uri": "https://localhost:8080/"
        },
        "id": "ovIy3NuCcH_T",
        "outputId": "927ff764-6cc6-4da0-9723-c6b176919e5a"
      },
      "execution_count": 37,
      "outputs": [
        {
          "output_type": "stream",
          "name": "stdout",
          "text": [
            "383.3333333333333\n"
          ]
        }
      ]
    },
    {
      "cell_type": "code",
      "source": [
        "type(aluguel)"
      ],
      "metadata": {
        "colab": {
          "base_uri": "https://localhost:8080/"
        },
        "id": "lJEMOpeIXZ2s",
        "outputId": "f38b4680-d862-4df9-85ae-979a18be159a"
      },
      "execution_count": 38,
      "outputs": [
        {
          "output_type": "execute_result",
          "data": {
            "text/plain": [
              "float"
            ]
          },
          "metadata": {},
          "execution_count": 38
        }
      ]
    },
    {
      "cell_type": "code",
      "source": [
        "type(total_por_pessoa)"
      ],
      "metadata": {
        "colab": {
          "base_uri": "https://localhost:8080/"
        },
        "id": "wsiZ-VxGdNhv",
        "outputId": "a9241937-50d4-4bf9-f738-8c66c18cb92f"
      },
      "execution_count": 39,
      "outputs": [
        {
          "output_type": "execute_result",
          "data": {
            "text/plain": [
              "float"
            ]
          },
          "metadata": {},
          "execution_count": 39
        }
      ]
    },
    {
      "cell_type": "code",
      "source": [
        "type(nome_do_produto1)"
      ],
      "metadata": {
        "colab": {
          "base_uri": "https://localhost:8080/"
        },
        "id": "DQW4-Z5xdTvS",
        "outputId": "7a0b7413-5a23-42a4-d6eb-d3bdf70ef64e"
      },
      "execution_count": 40,
      "outputs": [
        {
          "output_type": "execute_result",
          "data": {
            "text/plain": [
              "str"
            ]
          },
          "metadata": {},
          "execution_count": 40
        }
      ]
    },
    {
      "cell_type": "code",
      "source": [
        "pedro_tem_carteira_motorista = True\n",
        "\n",
        "mario_tem_carteira_motorista = False"
      ],
      "metadata": {
        "id": "VZVA4MobXZ6Q"
      },
      "execution_count": 41,
      "outputs": []
    },
    {
      "cell_type": "code",
      "source": [
        "type(pedro_tem_carteira_motorista)"
      ],
      "metadata": {
        "colab": {
          "base_uri": "https://localhost:8080/"
        },
        "id": "kJhtBHfNdnh5",
        "outputId": "deda4b1e-e058-4b45-ce8a-4be8f7feaee2"
      },
      "execution_count": 42,
      "outputs": [
        {
          "output_type": "execute_result",
          "data": {
            "text/plain": [
              "bool"
            ]
          },
          "metadata": {},
          "execution_count": 42
        }
      ]
    },
    {
      "cell_type": "code",
      "source": [
        "type(mario_tem_carteira_motorista)"
      ],
      "metadata": {
        "colab": {
          "base_uri": "https://localhost:8080/"
        },
        "id": "FlUabwKtdqx6",
        "outputId": "8ae80cc9-be21-4f4d-c9d4-3da18636afa6"
      },
      "execution_count": 43,
      "outputs": [
        {
          "output_type": "execute_result",
          "data": {
            "text/plain": [
              "bool"
            ]
          },
          "metadata": {},
          "execution_count": 43
        }
      ]
    },
    {
      "cell_type": "code",
      "source": [
        "texto = \"    Fabrício CARRaro  da alura   \"\n",
        "print(texto)"
      ],
      "metadata": {
        "colab": {
          "base_uri": "https://localhost:8080/"
        },
        "id": "S36WcYXedsxy",
        "outputId": "e25a44c5-43ff-4e2d-a8c0-65282026be0b"
      },
      "execution_count": 44,
      "outputs": [
        {
          "output_type": "stream",
          "name": "stdout",
          "text": [
            "    Fabrício CARRaro  da alura   \n"
          ]
        }
      ]
    },
    {
      "cell_type": "code",
      "source": [
        "print(texto.lower())"
      ],
      "metadata": {
        "colab": {
          "base_uri": "https://localhost:8080/"
        },
        "id": "7N776qgbde25",
        "outputId": "75b423a8-af75-443e-ac80-520a9d367c62"
      },
      "execution_count": 45,
      "outputs": [
        {
          "output_type": "stream",
          "name": "stdout",
          "text": [
            "    fabrício carraro  da alura   \n"
          ]
        }
      ]
    },
    {
      "cell_type": "code",
      "source": [
        "print(texto.upper())\n",
        "\n"
      ],
      "metadata": {
        "id": "0Vj7inoiifiA",
        "outputId": "38f5a456-99a2-4831-dd28-3af69b0714e3",
        "colab": {
          "base_uri": "https://localhost:8080/"
        }
      },
      "execution_count": 46,
      "outputs": [
        {
          "output_type": "stream",
          "name": "stdout",
          "text": [
            "    FABRÍCIO CARRARO  DA ALURA   \n"
          ]
        }
      ]
    },
    {
      "cell_type": "code",
      "source": [
        "print(texto.strip())"
      ],
      "metadata": {
        "id": "cGqrdz8zipkd",
        "outputId": "370035a7-8007-4dd2-8f23-f0e1d8dea7b6",
        "colab": {
          "base_uri": "https://localhost:8080/"
        }
      },
      "execution_count": 47,
      "outputs": [
        {
          "output_type": "stream",
          "name": "stdout",
          "text": [
            "Fabrício CARRaro  da alura\n"
          ]
        }
      ]
    },
    {
      "cell_type": "code",
      "source": [
        "print(texto.replace(\"  \",\" \"))"
      ],
      "metadata": {
        "id": "ABjx6ULLit_F",
        "outputId": "65f3327b-2d18-44cc-d6d8-0fc6fce59b53",
        "colab": {
          "base_uri": "https://localhost:8080/"
        }
      },
      "execution_count": 48,
      "outputs": [
        {
          "output_type": "stream",
          "name": "stdout",
          "text": [
            "  Fabrício CARRaro da alura  \n"
          ]
        }
      ]
    },
    {
      "cell_type": "code",
      "source": [
        "texto = texto.strip().upper().replace(\"  \", \" \")"
      ],
      "metadata": {
        "id": "9Ij6teekjDhk"
      },
      "execution_count": 49,
      "outputs": []
    },
    {
      "cell_type": "code",
      "source": [
        "print(texto)"
      ],
      "metadata": {
        "id": "TJCqh1UxjoR-",
        "outputId": "3c0b9484-996c-415b-9e71-268807d938e9",
        "colab": {
          "base_uri": "https://localhost:8080/"
        }
      },
      "execution_count": 50,
      "outputs": [
        {
          "output_type": "stream",
          "name": "stdout",
          "text": [
            "FABRÍCIO CARRARO DA ALURA\n"
          ]
        }
      ]
    },
    {
      "cell_type": "code",
      "source": [
        "nome = input(\"Digite seu nome: \")"
      ],
      "metadata": {
        "id": "BwKDDXbfjp3c",
        "colab": {
          "base_uri": "https://localhost:8080/"
        },
        "outputId": "6848e160-c32e-4150-b9f8-7b33ca1b650a"
      },
      "execution_count": 51,
      "outputs": [
        {
          "name": "stdout",
          "output_type": "stream",
          "text": [
            "Digite seu nome: John Doe\n"
          ]
        }
      ]
    },
    {
      "cell_type": "code",
      "source": [
        "print(nome)"
      ],
      "metadata": {
        "id": "VIT9iQsJipsQ",
        "colab": {
          "base_uri": "https://localhost:8080/"
        },
        "outputId": "cd07bdcd-b299-440f-d5da-e0a0a6c92ade"
      },
      "execution_count": 52,
      "outputs": [
        {
          "output_type": "stream",
          "name": "stdout",
          "text": [
            "John Doe\n"
          ]
        }
      ]
    },
    {
      "cell_type": "code",
      "source": [
        "idade = input(\"Digite sua idade: \")"
      ],
      "metadata": {
        "colab": {
          "base_uri": "https://localhost:8080/"
        },
        "id": "8OxkQz8q7FlS",
        "outputId": "61be411c-4c4f-42ad-f271-e140d8f50893"
      },
      "execution_count": 53,
      "outputs": [
        {
          "name": "stdout",
          "output_type": "stream",
          "text": [
            "Digite sua idade: 18\n"
          ]
        }
      ]
    },
    {
      "cell_type": "code",
      "source": [
        "print(idade)"
      ],
      "metadata": {
        "id": "gNaMDipDip01",
        "colab": {
          "base_uri": "https://localhost:8080/"
        },
        "outputId": "58b95941-bfd3-46bb-a9da-7e956073d36a"
      },
      "execution_count": 54,
      "outputs": [
        {
          "output_type": "stream",
          "name": "stdout",
          "text": [
            "18\n"
          ]
        }
      ]
    },
    {
      "cell_type": "code",
      "source": [
        "type(nome)"
      ],
      "metadata": {
        "colab": {
          "base_uri": "https://localhost:8080/"
        },
        "id": "lQtL1wn07XVz",
        "outputId": "a4bffbd8-d499-43b5-8918-47526752f0e5"
      },
      "execution_count": 55,
      "outputs": [
        {
          "output_type": "execute_result",
          "data": {
            "text/plain": [
              "str"
            ]
          },
          "metadata": {},
          "execution_count": 55
        }
      ]
    },
    {
      "cell_type": "code",
      "source": [
        "type(idade)"
      ],
      "metadata": {
        "colab": {
          "base_uri": "https://localhost:8080/"
        },
        "id": "9R6a0XdC7XZc",
        "outputId": "53cb7a16-5320-4004-b44b-482d6c62ae36"
      },
      "execution_count": 56,
      "outputs": [
        {
          "output_type": "execute_result",
          "data": {
            "text/plain": [
              "str"
            ]
          },
          "metadata": {},
          "execution_count": 56
        }
      ]
    },
    {
      "cell_type": "code",
      "source": [
        "idade = int(idade)"
      ],
      "metadata": {
        "id": "r6bvVZAI7Xc2"
      },
      "execution_count": 57,
      "outputs": []
    },
    {
      "cell_type": "code",
      "source": [
        "type(idade)"
      ],
      "metadata": {
        "colab": {
          "base_uri": "https://localhost:8080/"
        },
        "id": "gyTBbEZD7Xgh",
        "outputId": "7a4aa999-9cd0-4d57-e225-8520bd8ae77b"
      },
      "execution_count": 58,
      "outputs": [
        {
          "output_type": "execute_result",
          "data": {
            "text/plain": [
              "int"
            ]
          },
          "metadata": {},
          "execution_count": 58
        }
      ]
    },
    {
      "cell_type": "code",
      "source": [
        "print(f'A pessoa se chama {nome} e tem {idade} anos de idade')"
      ],
      "metadata": {
        "colab": {
          "base_uri": "https://localhost:8080/"
        },
        "id": "vXPbXhRD7-IX",
        "outputId": "45eb0134-91cc-4ef5-b189-8b29d8dede29"
      },
      "execution_count": 59,
      "outputs": [
        {
          "output_type": "stream",
          "name": "stdout",
          "text": [
            "A pessoa se chama John Doe e tem 18 anos de idade\n"
          ]
        }
      ]
    },
    {
      "cell_type": "code",
      "source": [
        "idade = int(input(\"Digite sua idade: \"))"
      ],
      "metadata": {
        "colab": {
          "base_uri": "https://localhost:8080/"
        },
        "id": "ZrX38-5h7-Ni",
        "outputId": "79ba977c-ef6b-43a0-f366-2e69123f744a"
      },
      "execution_count": 60,
      "outputs": [
        {
          "name": "stdout",
          "output_type": "stream",
          "text": [
            "Digite sua idade: 15\n"
          ]
        }
      ]
    },
    {
      "cell_type": "code",
      "source": [
        "type(idade)"
      ],
      "metadata": {
        "colab": {
          "base_uri": "https://localhost:8080/"
        },
        "id": "Iq1FL1Kt7-gC",
        "outputId": "4fd5a6bc-6fcb-40b7-a6d7-b8ec457881b7"
      },
      "execution_count": 61,
      "outputs": [
        {
          "output_type": "execute_result",
          "data": {
            "text/plain": [
              "int"
            ]
          },
          "metadata": {},
          "execution_count": 61
        }
      ]
    },
    {
      "cell_type": "code",
      "source": [
        "if idade >= 18:\n",
        "    print(f\"O {nome} pode entrar na festa porque ele é maior de idade\")\n",
        "    print(f\"Ele tem {idade} anos de idade\")\n",
        "else:\n",
        "    print(\"Menor de idade\")"
      ],
      "metadata": {
        "colab": {
          "base_uri": "https://localhost:8080/"
        },
        "id": "g-ioxhUf7XjZ",
        "outputId": "3dfa0e55-7927-4aa4-bf53-e61bb29c3dd0"
      },
      "execution_count": 62,
      "outputs": [
        {
          "output_type": "stream",
          "name": "stdout",
          "text": [
            "Menor de idade\n"
          ]
        }
      ]
    },
    {
      "cell_type": "code",
      "source": [
        "media = float(input(\"Digite sua media: \"))"
      ],
      "metadata": {
        "colab": {
          "base_uri": "https://localhost:8080/"
        },
        "id": "FM2X49E0UV9O",
        "outputId": "98fc4c9b-ab2f-4ba9-de79-45ed73e76d64"
      },
      "execution_count": 63,
      "outputs": [
        {
          "name": "stdout",
          "output_type": "stream",
          "text": [
            "Digite sua media: 9\n"
          ]
        }
      ]
    },
    {
      "cell_type": "code",
      "source": [
        "media = float(input(\"Digite sua media: \"))\n",
        "\n",
        "if media >= 7.0:\n",
        "  print(\"Aprovado\")\n",
        "elif media >= 5.0 and media < 7.0:\n",
        "  print(\"Recuperação\")\n",
        "else:\n",
        "  print(\"Reprovado\")"
      ],
      "metadata": {
        "colab": {
          "base_uri": "https://localhost:8080/"
        },
        "id": "YEPsk14bUWDs",
        "outputId": "af8f43c8-77c3-49e4-a791-c0bf07749322"
      },
      "execution_count": 64,
      "outputs": [
        {
          "output_type": "stream",
          "name": "stdout",
          "text": [
            "Digite sua media: 9\n",
            "Aprovado\n"
          ]
        }
      ]
    },
    {
      "cell_type": "markdown",
      "source": [
        "### **Rodando a IA no Google Colab (Gemini)**"
      ],
      "metadata": {
        "id": "nYJgf0wj-TkU"
      }
    },
    {
      "cell_type": "code",
      "source": [
        "import os\n",
        "\n",
        "from google.colab import userdata\n",
        "\n",
        "os.environ[\"GOOGLE_API_KEY\"] = userdata.get('Gemini_API_Key')"
      ],
      "metadata": {
        "id": "dGs8TPahUWJD"
      },
      "execution_count": 65,
      "outputs": []
    },
    {
      "cell_type": "code",
      "source": [
        "from google import genai\n",
        "\n",
        "client = genai.Client()"
      ],
      "metadata": {
        "id": "P6LEB1H6UWNC"
      },
      "execution_count": 66,
      "outputs": []
    },
    {
      "cell_type": "code",
      "source": [
        "resposta = client.models.generate_content(model='gemini-2.5-flash', contents=\"What is Generative AI ?\")"
      ],
      "metadata": {
        "id": "JOiaki2FUWQa"
      },
      "execution_count": 67,
      "outputs": []
    },
    {
      "cell_type": "code",
      "source": [
        "print(resposta.text)"
      ],
      "metadata": {
        "colab": {
          "base_uri": "https://localhost:8080/"
        },
        "id": "QwOupoe37Xng",
        "outputId": "a19c7010-fcd0-4316-cc26-6510b45269ee"
      },
      "execution_count": 68,
      "outputs": [
        {
          "output_type": "stream",
          "name": "stdout",
          "text": [
            "**Generative AI** is a type of Artificial Intelligence that is capable of producing novel and realistic content, rather than just analyzing or classifying existing data. Unlike traditional AI models that might predict an outcome or categorize an input (e.g., \"is this a cat or a dog?\"), generative AI aims to *create* something new.\n",
            "\n",
            "Think of it like an artist learning various styles and techniques and then using that knowledge to create new, original pieces, rather than just identifying existing paintings.\n",
            "\n",
            "### How it Works (in a simplified way):\n",
            "\n",
            "1.  **Training on Vast Data:** Generative AI models are trained on immense datasets of existing content (text, images, audio, video, code, etc.). During this training, the model doesn't just memorize the data; it learns the underlying patterns, structures, styles, and relationships within that data.\n",
            "2.  **Learning Distributions:** It essentially learns the \"rules\" and \"statistics\" of how that data is formed. For example, a text model learns grammar, syntax, common phrases, and contextual meanings. An image model learns about shapes, colors, textures, and object relationships.\n",
            "3.  **Generating New Content:** Once trained, when given a prompt or an initial input (e.g., \"Write a poem about a flying cat,\" or \"Generate an image of a futuristic city at sunset\"), the model uses its learned understanding to produce entirely new content that adheres to the patterns it observed in its training data, but is unique and hasn't been seen before.\n",
            "\n",
            "### Key Characteristics:\n",
            "\n",
            "*   **Creation:** Its primary function is to create new outputs.\n",
            "*   **Novelty:** The generated content is not just a copy-paste; it's unique and original.\n",
            "*   **Realism:** The output often looks or sounds authentic and coherent, mimicking human-created content.\n",
            "*   **Versatility:** Capable of generating various types of content across different modalities.\n",
            "\n",
            "### What Generative AI Can Do (Examples):\n",
            "\n",
            "*   **Text:** Write articles, poems, stories, emails, code, scripts, summaries, answer questions, translate languages (e.g., ChatGPT, Bard, LLaMA).\n",
            "*   **Images:** Create photorealistic images from text descriptions, generate art in various styles, modify existing images, generate deepfakes (e.g., DALL-E, Midjourney, Stable Diffusion).\n",
            "*   **Audio:** Generate music, synthesize realistic voices, create sound effects (e.g., Google's AudioLM).\n",
            "*   **Video:** Create short video clips from text, animate still images, generate deepfake videos.\n",
            "*   **Code:** Write code snippets, debug programs, autocomplete code.\n",
            "*   **Other:** Design new proteins for drug discovery, generate 3D models, create synthetic data for training other AI models.\n",
            "\n",
            "### Common Architectures:\n",
            "\n",
            "Some of the most prominent types of generative AI models include:\n",
            "\n",
            "*   **Generative Adversarial Networks (GANs):** Involve two neural networks (a generator and a discriminator) that compete against each other to produce increasingly realistic output.\n",
            "*   **Variational Autoencoders (VAEs):** Learn to encode data into a lower-dimensional representation and then decode it back into a generated output.\n",
            "*   **Transformers:** Especially effective for sequential data like text (and increasingly images/audio). Models like GPT (Generative Pre-trained Transformer) are based on this architecture.\n",
            "*   **Diffusion Models:** A newer architecture that has shown impressive results in image generation, gradually denoising an image from pure noise.\n",
            "\n",
            "### Significance and Impact:\n",
            "\n",
            "Generative AI is considered a paradigm shift in AI, with the potential to revolutionize numerous industries, from creative arts and entertainment to science, engineering, and business. It offers unprecedented tools for creativity, automation, personalization, and discovery, but also raises important ethical considerations regarding authenticity, bias, and misuse.\n"
          ]
        }
      ]
    },
    {
      "cell_type": "markdown",
      "source": [
        "**Loops**"
      ],
      "metadata": {
        "id": "3-JH1iTKWPXt"
      }
    },
    {
      "cell_type": "code",
      "source": [
        "n = 1\n",
        "\n",
        "while n <= 5:\n",
        "  print(\"*\")\n",
        "  n += 1"
      ],
      "metadata": {
        "id": "qYlyMLMs7XqU",
        "outputId": "3f1c4d14-122b-4acb-ca7c-8b76a274934e",
        "colab": {
          "base_uri": "https://localhost:8080/"
        }
      },
      "execution_count": 69,
      "outputs": [
        {
          "output_type": "stream",
          "name": "stdout",
          "text": [
            "*\n",
            "*\n",
            "*\n",
            "*\n",
            "*\n"
          ]
        }
      ]
    },
    {
      "cell_type": "code",
      "source": [
        "chat = client.chats.create(model='gemini-2.5-flash')"
      ],
      "metadata": {
        "id": "Im5Tr-RL-CgF"
      },
      "execution_count": 70,
      "outputs": []
    },
    {
      "cell_type": "code",
      "source": [
        "resposta2 = chat.send_message(\"O que é a Inteligência Artificial ?\")"
      ],
      "metadata": {
        "id": "7VJzS54s-Cp9"
      },
      "execution_count": 71,
      "outputs": []
    },
    {
      "cell_type": "code",
      "source": [
        "#print(resposta2)\n",
        "print(resposta2.text)"
      ],
      "metadata": {
        "id": "uGrwIQF0-Ct6",
        "outputId": "71903501-ee18-4d23-f8d6-a691bf5784ca",
        "colab": {
          "base_uri": "https://localhost:8080/"
        }
      },
      "execution_count": 72,
      "outputs": [
        {
          "output_type": "stream",
          "name": "stdout",
          "text": [
            "A **Inteligência Artificial (IA)** é um campo da ciência da computação focado na criação de máquinas que podem realizar tarefas que tipicamente requerem inteligência humana, ou simular funções cognitivas humanas.\n",
            "\n",
            "Em termos mais simples, a IA busca fazer com que computadores e sistemas de software possam **\"pensar\"** e **\"aprender\"** de uma forma que se assemelhe à capacidade humana.\n",
            "\n",
            "Aqui estão os pilares e as características principais da IA:\n",
            "\n",
            "1.  **Aprendizagem (Machine Learning - ML):** A capacidade de sistemas de IA aprenderem com dados, identificando padrões e fazendo previsões ou tomando decisões sem serem explicitamente programados para cada cenário. Isso pode incluir:\n",
            "    *   **Aprendizagem Supervisionada:** O sistema aprende a partir de dados rotulados (ex: \"isto é um gato\", \"isto não é um gato\").\n",
            "    *   **Aprendizagem Não Supervisionada:** O sistema encontra padrões em dados não rotulados (ex: agrupando clientes com comportamentos semelhantes).\n",
            "    *   **Aprendizagem por Reforço:** O sistema aprende por tentativa e erro, recebendo recompensas por ações corretas e penalidades por ações incorretas (muito usado em jogos e robótica).\n",
            "\n",
            "2.  **Raciocínio e Resolução de Problemas:** A capacidade de um sistema de IA de usar a lógica e a inferência para resolver problemas complexos, fazer deduções e planejar ações.\n",
            "\n",
            "3.  **Percepção:** A capacidade de um sistema de \"sentir\" e interpretar o mundo através de dados sensoriais, como:\n",
            "    *   **Visão Computacional:** Processar e compreender imagens e vídeos (reconhecimento facial, detecção de objetos).\n",
            "    *   **Processamento de Linguagem Natural (PLN):** Compreender e gerar linguagem humana, tanto escrita quanto falada (assistentes de voz, tradução automática).\n",
            "\n",
            "4.  **Tomada de Decisão:** Avaliar diferentes opções e escolher a melhor ação com base em critérios e objetivos definidos, muitas vezes com base em dados e probabilidades.\n",
            "\n",
            "5.  **Representação do Conhecimento:** A forma como a IA armazena e organiza informações sobre o mundo para que possa acessá-las e usá-las para raciocinar.\n",
            "\n",
            "---\n",
            "\n",
            "**Tipos de IA:**\n",
            "\n",
            "*   **IA Fraca (ou Estreita - Narrow AI):** É a maioria da IA que vemos hoje. Ela é projetada e treinada para uma tarefa específica (ex: jogar xadrez, reconhecimento facial, assistentes virtuais como Siri/Alexa). Ela não possui consciência ou capacidade de generalizar seu conhecimento para outras tarefas.\n",
            "*   **IA Forte (ou Geral - Artificial General Intelligence - AGI):** É uma IA hipotética que possui inteligência em nível humano em todas as áreas cognitivas, capaz de aprender, entender e aplicar inteligência a qualquer problema que um ser humano possa. Ainda é um objetivo de pesquisa e desenvolvimento.\n",
            "*   **Superinteligência Artificial (ASI):** Uma IA hipotética que superaria a inteligência humana em todos os aspectos, incluindo criatividade, resolução de problemas e habilidades sociais.\n",
            "\n",
            "---\n",
            "\n",
            "**Exemplos de Aplicações da IA no dia a dia:**\n",
            "\n",
            "*   **Assistentes Virtuais:** Siri, Alexa, Google Assistant.\n",
            "*   **Carros Autônomos:** Sistemas de direção autônoma.\n",
            "*   **Recomendações:** Netflix, Amazon, Spotify usam IA para sugerir produtos ou conteúdos.\n",
            "*   **Tradutores Automáticos:** Google Translate.\n",
            "*   **Filtros de Spam e Fraude:** Identificam e bloqueiam e-mails indesejados ou transações suspeitas.\n",
            "*   **Diagnóstico Médico:** Análise de imagens médicas para detecção de doenças.\n",
            "*   **Jogos:** Jogadores de IA em videogames ou sistemas que jogam xadrez/Go em alto nível.\n",
            "*   **Reconhecimento Facial e de Voz:** Desbloqueio de celulares, segurança.\n",
            "\n",
            "A Inteligência Artificial é um campo em constante evolução, com o potencial de transformar quase todos os aspectos da nossa vida e sociedade.\n"
          ]
        }
      ]
    },
    {
      "cell_type": "code",
      "source": [
        "resposta3 = chat.send_message(\"Quando foi lançado o ChatGPT ?\")\n",
        "\n",
        "print(resposta3.text)\n"
      ],
      "metadata": {
        "id": "0lax2whO6vi8",
        "outputId": "df0cad4e-9f82-465a-fa9f-38c22a16e5c4",
        "colab": {
          "base_uri": "https://localhost:8080/"
        }
      },
      "execution_count": 73,
      "outputs": [
        {
          "output_type": "stream",
          "name": "stdout",
          "text": [
            "O ChatGPT foi lançado pela OpenAI em **30 de novembro de 2022**.\n",
            "\n",
            "Foi a partir dessa data que ele se tornou amplamente disponível ao público e rapidamente ganhou enorme popularidade devido à sua capacidade de gerar texto de forma conversacional e coerente.\n"
          ]
        }
      ]
    },
    {
      "cell_type": "code",
      "source": [
        "chat.get_history()"
      ],
      "metadata": {
        "id": "hx_JSQbf2okI",
        "outputId": "eca5024c-4b6a-4a55-820c-23fafc9df26c",
        "colab": {
          "base_uri": "https://localhost:8080/"
        }
      },
      "execution_count": 74,
      "outputs": [
        {
          "output_type": "execute_result",
          "data": {
            "text/plain": [
              "[UserContent(\n",
              "   parts=[\n",
              "     Part(\n",
              "       text='O que é a Inteligência Artificial ?'\n",
              "     ),\n",
              "   ],\n",
              "   role='user'\n",
              " ),\n",
              " Content(\n",
              "   parts=[\n",
              "     Part(\n",
              "       text=\"\"\"A **Inteligência Artificial (IA)** é um campo da ciência da computação focado na criação de máquinas que podem realizar tarefas que tipicamente requerem inteligência humana, ou simular funções cognitivas humanas.\n",
              " \n",
              " Em termos mais simples, a IA busca fazer com que computadores e sistemas de software possam **\"pensar\"** e **\"aprender\"** de uma forma que se assemelhe à capacidade humana.\n",
              " \n",
              " Aqui estão os pilares e as características principais da IA:\n",
              " \n",
              " 1.  **Aprendizagem (Machine Learning - ML):** A capacidade de sistemas de IA aprenderem com dados, identificando padrões e fazendo previsões ou tomando decisões sem serem explicitamente programados para cada cenário. Isso pode incluir:\n",
              "     *   **Aprendizagem Supervisionada:** O sistema aprende a partir de dados rotulados (ex: \"isto é um gato\", \"isto não é um gato\").\n",
              "     *   **Aprendizagem Não Supervisionada:** O sistema encontra padrões em dados não rotulados (ex: agrupando clientes com comportamentos semelhantes).\n",
              "     *   **Aprendizagem por Reforço:** O sistema aprende por tentativa e erro, recebendo recompensas por ações corretas e penalidades por ações incorretas (muito usado em jogos e robótica).\n",
              " \n",
              " 2.  **Raciocínio e Resolução de Problemas:** A capacidade de um sistema de IA de usar a lógica e a inferência para resolver problemas complexos, fazer deduções e planejar ações.\n",
              " \n",
              " 3.  **Percepção:** A capacidade de um sistema de \"sentir\" e interpretar o mundo através de dados sensoriais, como:\n",
              "     *   **Visão Computacional:** Processar e compreender imagens e vídeos (reconhecimento facial, detecção de objetos).\n",
              "     *   **Processamento de Linguagem Natural (PLN):** Compreender e gerar linguagem humana, tanto escrita quanto falada (assistentes de voz, tradução automática).\n",
              " \n",
              " 4.  **Tomada de Decisão:** Avaliar diferentes opções e escolher a melhor ação com base em critérios e objetivos definidos, muitas vezes com base em dados e probabilidades.\n",
              " \n",
              " 5.  **Representação do Conhecimento:** A forma como a IA armazena e organiza informações sobre o mundo para que possa acessá-las e usá-las para raciocinar.\n",
              " \n",
              " ---\n",
              " \n",
              " **Tipos de IA:**\n",
              " \n",
              " *   **IA Fraca (ou Estreita - Narrow AI):** É a maioria da IA que vemos hoje. Ela é projetada e treinada para uma tarefa específica (ex: jogar xadrez, reconhecimento facial, assistentes virtuais como Siri/Alexa). Ela não possui consciência ou capacidade de generalizar seu conhecimento para outras tarefas.\n",
              " *   **IA Forte (ou Geral - Artificial General Intelligence - AGI):** É uma IA hipotética que possui inteligência em nível humano em todas as áreas cognitivas, capaz de aprender, entender e aplicar inteligência a qualquer problema que um ser humano possa. Ainda é um objetivo de pesquisa e desenvolvimento.\n",
              " *   **Superinteligência Artificial (ASI):** Uma IA hipotética que superaria a inteligência humana em todos os aspectos, incluindo criatividade, resolução de problemas e habilidades sociais.\n",
              " \n",
              " ---\n",
              " \n",
              " **Exemplos de Aplicações da IA no dia a dia:**\n",
              " \n",
              " *   **Assistentes Virtuais:** Siri, Alexa, Google Assistant.\n",
              " *   **Carros Autônomos:** Sistemas de direção autônoma.\n",
              " *   **Recomendações:** Netflix, Amazon, Spotify usam IA para sugerir produtos ou conteúdos.\n",
              " *   **Tradutores Automáticos:** Google Translate.\n",
              " *   **Filtros de Spam e Fraude:** Identificam e bloqueiam e-mails indesejados ou transações suspeitas.\n",
              " *   **Diagnóstico Médico:** Análise de imagens médicas para detecção de doenças.\n",
              " *   **Jogos:** Jogadores de IA em videogames ou sistemas que jogam xadrez/Go em alto nível.\n",
              " *   **Reconhecimento Facial e de Voz:** Desbloqueio de celulares, segurança.\n",
              " \n",
              " A Inteligência Artificial é um campo em constante evolução, com o potencial de transformar quase todos os aspectos da nossa vida e sociedade.\"\"\"\n",
              "     ),\n",
              "   ],\n",
              "   role='model'\n",
              " ),\n",
              " UserContent(\n",
              "   parts=[\n",
              "     Part(\n",
              "       text='Quando foi lançado o ChatGPT ?'\n",
              "     ),\n",
              "   ],\n",
              "   role='user'\n",
              " ),\n",
              " Content(\n",
              "   parts=[\n",
              "     Part(\n",
              "       text=\"\"\"O ChatGPT foi lançado pela OpenAI em **30 de novembro de 2022**.\n",
              " \n",
              " Foi a partir dessa data que ele se tornou amplamente disponível ao público e rapidamente ganhou enorme popularidade devido à sua capacidade de gerar texto de forma conversacional e coerente.\"\"\"\n",
              "     ),\n",
              "   ],\n",
              "   role='model'\n",
              " )]"
            ]
          },
          "metadata": {},
          "execution_count": 74
        }
      ]
    },
    {
      "cell_type": "code",
      "source": [
        "prompt = input(\"Digite sua pergunta: \")\n",
        "\n",
        "while prompt != \"fim\":\n",
        "  resposta4 = chat.send_message(prompt)\n",
        "  print(f\"{resposta4.text} \\n\")\n",
        "  prompt = input(\"Digite sua pergunta: \")\n",
        "\n",
        "  print(resposta4.text)\n",
        ""
      ],
      "metadata": {
        "colab": {
          "base_uri": "https://localhost:8080/"
        },
        "id": "ulhh0U-N6phf",
        "outputId": "0ab163a6-cd1b-4f82-ad6f-a605a32ea4d7"
      },
      "execution_count": 75,
      "outputs": [
        {
          "output_type": "stream",
          "name": "stdout",
          "text": [
            "Digite sua pergunta: O que é a Inteligência Artificial ?\n",
            "A **Inteligência Artificial (IA)** é um campo da ciência da computação dedicado a criar máquinas e sistemas que podem simular ou realizar tarefas que normalmente exigiriam inteligência humana.\n",
            "\n",
            "Em sua essência, a IA busca dotar computadores com a capacidade de **\"pensar\"**, **\"aprender\"**, **\"raciocinar\"** e **\"perceber\"** o mundo de uma forma que se assemelhe às capacidades cognitivas humanas.\n",
            "\n",
            "Aqui estão os pontos-chave para entender o que é IA:\n",
            "\n",
            "1.  **Aprendizagem (Machine Learning - ML):** É uma das áreas mais importantes da IA. Os sistemas de IA aprendem com dados, identificando padrões, fazendo previsões ou tomando decisões sem serem explicitamente programados para cada cenário. Isso pode ser:\n",
            "    *   **Aprendizagem Supervisionada:** Aprende com dados rotulados.\n",
            "    *   **Aprendizagem Não Supervisionada:** Encontra padrões em dados sem rótulos.\n",
            "    *   **Aprendizagem por Reforço:** Aprende por tentativa e erro, recebendo recompensas.\n",
            "\n",
            "2.  **Raciocínio e Resolução de Problemas:** A capacidade de um sistema de IA de usar a lógica e as informações disponíveis para resolver problemas complexos, fazer deduções e planejar ações.\n",
            "\n",
            "3.  **Percepção:** A habilidade de \"sentir\" e interpretar o ambiente através de dados sensoriais, como:\n",
            "    *   **Visão Computacional:** Entender e processar imagens e vídeos (reconhecimento facial, detecção de objetos).\n",
            "    *   **Processamento de Linguagem Natural (PLN):** Compreender e gerar linguagem humana, seja escrita ou falada (tradutores, assistentes de voz).\n",
            "\n",
            "4.  **Tomada de Decisão:** Avaliar diferentes opções e escolher a melhor ação com base em objetivos definidos e análises de dados.\n",
            "\n",
            "5.  **Representação do Conhecimento:** A forma como a IA organiza e armazena informações sobre o mundo para que possa acessá-las e usá-las de forma inteligente.\n",
            "\n",
            "---\n",
            "\n",
            "**Em resumo, a IA busca fazer com que computadores possam:**\n",
            "\n",
            "*   **Aprender com dados** (em vez de serem apenas programados para cada situação).\n",
            "*   **Reconhecer padrões** (em imagens, sons, texto).\n",
            "*   **Compreender e gerar linguagem humana.**\n",
            "*   **Resolver problemas complexos.**\n",
            "*   **Tomar decisões.**\n",
            "\n",
            "---\n",
            "\n",
            "**Exemplos comuns de IA no dia a dia:**\n",
            "\n",
            "*   **Assistentes virtuais:** Siri, Alexa, Google Assistant.\n",
            "*   **Sistemas de recomendação:** Netflix, Spotify, Amazon.\n",
            "*   **Carros autônomos.**\n",
            "*   **Tradutores automáticos:** Google Translate.\n",
            "*   **Filtros de spam e detecção de fraudes.**\n",
            "*   **Diagnóstico médico** (análise de imagens).\n",
            "*   **Reconhecimento facial e de voz.**\n",
            "\n",
            "A IA é um campo vasto e em rápida evolução, com o potencial de transformar quase todos os aspectos da nossa sociedade e economia. \n",
            "\n",
            "Digite sua pergunta: fim\n",
            "A **Inteligência Artificial (IA)** é um campo da ciência da computação dedicado a criar máquinas e sistemas que podem simular ou realizar tarefas que normalmente exigiriam inteligência humana.\n",
            "\n",
            "Em sua essência, a IA busca dotar computadores com a capacidade de **\"pensar\"**, **\"aprender\"**, **\"raciocinar\"** e **\"perceber\"** o mundo de uma forma que se assemelhe às capacidades cognitivas humanas.\n",
            "\n",
            "Aqui estão os pontos-chave para entender o que é IA:\n",
            "\n",
            "1.  **Aprendizagem (Machine Learning - ML):** É uma das áreas mais importantes da IA. Os sistemas de IA aprendem com dados, identificando padrões, fazendo previsões ou tomando decisões sem serem explicitamente programados para cada cenário. Isso pode ser:\n",
            "    *   **Aprendizagem Supervisionada:** Aprende com dados rotulados.\n",
            "    *   **Aprendizagem Não Supervisionada:** Encontra padrões em dados sem rótulos.\n",
            "    *   **Aprendizagem por Reforço:** Aprende por tentativa e erro, recebendo recompensas.\n",
            "\n",
            "2.  **Raciocínio e Resolução de Problemas:** A capacidade de um sistema de IA de usar a lógica e as informações disponíveis para resolver problemas complexos, fazer deduções e planejar ações.\n",
            "\n",
            "3.  **Percepção:** A habilidade de \"sentir\" e interpretar o ambiente através de dados sensoriais, como:\n",
            "    *   **Visão Computacional:** Entender e processar imagens e vídeos (reconhecimento facial, detecção de objetos).\n",
            "    *   **Processamento de Linguagem Natural (PLN):** Compreender e gerar linguagem humana, seja escrita ou falada (tradutores, assistentes de voz).\n",
            "\n",
            "4.  **Tomada de Decisão:** Avaliar diferentes opções e escolher a melhor ação com base em objetivos definidos e análises de dados.\n",
            "\n",
            "5.  **Representação do Conhecimento:** A forma como a IA organiza e armazena informações sobre o mundo para que possa acessá-las e usá-las de forma inteligente.\n",
            "\n",
            "---\n",
            "\n",
            "**Em resumo, a IA busca fazer com que computadores possam:**\n",
            "\n",
            "*   **Aprender com dados** (em vez de serem apenas programados para cada situação).\n",
            "*   **Reconhecer padrões** (em imagens, sons, texto).\n",
            "*   **Compreender e gerar linguagem humana.**\n",
            "*   **Resolver problemas complexos.**\n",
            "*   **Tomar decisões.**\n",
            "\n",
            "---\n",
            "\n",
            "**Exemplos comuns de IA no dia a dia:**\n",
            "\n",
            "*   **Assistentes virtuais:** Siri, Alexa, Google Assistant.\n",
            "*   **Sistemas de recomendação:** Netflix, Spotify, Amazon.\n",
            "*   **Carros autônomos.**\n",
            "*   **Tradutores automáticos:** Google Translate.\n",
            "*   **Filtros de spam e detecção de fraudes.**\n",
            "*   **Diagnóstico médico** (análise de imagens).\n",
            "*   **Reconhecimento facial e de voz.**\n",
            "\n",
            "A IA é um campo vasto e em rápida evolução, com o potencial de transformar quase todos os aspectos da nossa sociedade e economia.\n"
          ]
        }
      ]
    },
    {
      "cell_type": "markdown",
      "source": [
        "### Estruturas de Dados"
      ],
      "metadata": {
        "id": "F1IIs4jyT1SH"
      }
    },
    {
      "cell_type": "code",
      "source": [
        "lista_de_nomes = [\"Maria Silva\", \"João Santos\", \"Ana Oliveira\", \"Pedro Costa\", \"juliana Pereira\"]"
      ],
      "metadata": {
        "id": "CXidPaV7D8x_"
      },
      "execution_count": 76,
      "outputs": []
    },
    {
      "cell_type": "code",
      "source": [
        "print(lista_de_nomes[3])"
      ],
      "metadata": {
        "colab": {
          "base_uri": "https://localhost:8080/"
        },
        "id": "yzq5cGZPUTIu",
        "outputId": "14c14f83-0cf9-493a-908a-19d352849c72"
      },
      "execution_count": 77,
      "outputs": [
        {
          "output_type": "stream",
          "name": "stdout",
          "text": [
            "Pedro Costa\n"
          ]
        }
      ]
    },
    {
      "cell_type": "code",
      "source": [
        "lista_de_medias = [8.9, 7.5, 4.2, 1.4, 9.5]"
      ],
      "metadata": {
        "id": "ub7ZyUPAUTL8"
      },
      "execution_count": 84,
      "outputs": []
    },
    {
      "cell_type": "code",
      "source": [
        "print(lista_de_nomes[3])"
      ],
      "metadata": {
        "colab": {
          "base_uri": "https://localhost:8080/"
        },
        "id": "D2LFpaIgUTPN",
        "outputId": "40a10309-c3a8-4b5e-e2e0-97d973b412f7"
      },
      "execution_count": 85,
      "outputs": [
        {
          "output_type": "stream",
          "name": "stdout",
          "text": [
            "Pedro Costa\n"
          ]
        }
      ]
    },
    {
      "cell_type": "code",
      "source": [
        "for i in range(len(lista_de_medias)):   # Percorre a lista de médias e some 1 ao valor de cada média.\n",
        "\n",
        "  lista_de_medias[i] = lista_de_medias[i] + 1.0\n",
        "\n",
        "  if lista_de_medias[i] > 10.0:\n",
        "    lista_de_medias[i] = 10.0\n",
        "\n",
        "  print(lista_de_medias[i])"
      ],
      "metadata": {
        "colab": {
          "base_uri": "https://localhost:8080/"
        },
        "id": "p12nKWipUTSN",
        "outputId": "542cba1e-00f8-4fc2-9d7a-ff1eda1a0ad1"
      },
      "execution_count": 86,
      "outputs": [
        {
          "output_type": "stream",
          "name": "stdout",
          "text": [
            "9.9\n",
            "8.5\n",
            "5.2\n",
            "2.4\n",
            "10.0\n"
          ]
        }
      ]
    },
    {
      "cell_type": "code",
      "source": [
        "lista_de_medias = [8.9, 7.5, 4.2, 1.4, 9.5]"
      ],
      "metadata": {
        "id": "CzVxYdaHaO5G"
      },
      "execution_count": 87,
      "outputs": []
    },
    {
      "cell_type": "code",
      "source": [
        "n = 0\n",
        "\n",
        "while n < len(lista_de_medias):\n",
        "\n",
        "  lista_de_medias[n] += 1.0\n",
        "\n",
        "  if lista_de_medias[n] > 10.0:\n",
        "    lista_de_medias[n] = 10.0\n",
        "\n",
        "  print(lista_de_medias[n])\n",
        "\n",
        "  n += 1"
      ],
      "metadata": {
        "colab": {
          "base_uri": "https://localhost:8080/"
        },
        "id": "jZbvdqTlUTVN",
        "outputId": "3d07564b-0d7b-46b2-f09e-1711b6d206cd"
      },
      "execution_count": 88,
      "outputs": [
        {
          "output_type": "stream",
          "name": "stdout",
          "text": [
            "9.9\n",
            "8.5\n",
            "5.2\n",
            "2.4\n",
            "10.0\n"
          ]
        }
      ]
    },
    {
      "cell_type": "code",
      "source": [],
      "metadata": {
        "id": "cTT5XjwaZqUy"
      },
      "execution_count": null,
      "outputs": []
    },
    {
      "cell_type": "code",
      "source": [],
      "metadata": {
        "id": "SHzHpPt5ZqYX"
      },
      "execution_count": null,
      "outputs": []
    },
    {
      "cell_type": "code",
      "source": [],
      "metadata": {
        "id": "sAV00QWXZqcV"
      },
      "execution_count": null,
      "outputs": []
    },
    {
      "cell_type": "code",
      "source": [],
      "metadata": {
        "id": "RY6eSeG7ZqtC"
      },
      "execution_count": null,
      "outputs": []
    },
    {
      "cell_type": "code",
      "source": [],
      "metadata": {
        "id": "nK6LT53_6psL"
      },
      "execution_count": null,
      "outputs": []
    },
    {
      "cell_type": "code",
      "source": [],
      "metadata": {
        "id": "2H1FRq7v6pvu"
      },
      "execution_count": null,
      "outputs": []
    }
  ]
}