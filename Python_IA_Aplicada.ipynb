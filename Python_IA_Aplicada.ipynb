{
  "nbformat": 4,
  "nbformat_minor": 0,
  "metadata": {
    "colab": {
      "provenance": [],
      "toc_visible": true,
      "authorship_tag": "ABX9TyPlwdJX/cmAqOojhcXTvJG8"
    },
    "kernelspec": {
      "name": "python3",
      "display_name": "Python 3"
    },
    "language_info": {
      "name": "python"
    }
  },
  "cells": [
    {
      "cell_type": "code",
      "execution_count": null,
      "metadata": {
        "colab": {
          "base_uri": "https://localhost:8080/"
        },
        "id": "4TL3NdShNBC6",
        "outputId": "fd9cd0ea-e2e6-4f0a-aaab-03f16f1bd125"
      },
      "outputs": [
        {
          "output_type": "execute_result",
          "data": {
            "text/plain": [
              "5"
            ]
          },
          "metadata": {},
          "execution_count": 1
        }
      ],
      "source": [
        "5"
      ]
    },
    {
      "cell_type": "code",
      "source": [
        "print(5)"
      ],
      "metadata": {
        "colab": {
          "base_uri": "https://localhost:8080/"
        },
        "id": "GRQB0MiGOLKX",
        "outputId": "6d39ca78-aa01-4b8a-955c-d21f7c2e1cb6"
      },
      "execution_count": null,
      "outputs": [
        {
          "output_type": "stream",
          "name": "stdout",
          "text": [
            "5\n"
          ]
        }
      ]
    },
    {
      "cell_type": "code",
      "source": [],
      "metadata": {
        "id": "LGGslsUzONl3"
      },
      "execution_count": null,
      "outputs": []
    },
    {
      "cell_type": "code",
      "source": [
        "print(\"Hello World !\")"
      ],
      "metadata": {
        "colab": {
          "base_uri": "https://localhost:8080/"
        },
        "id": "8Kmty75QNMIu",
        "outputId": "2d041ffd-8130-445f-9a8b-1359e6a5b030"
      },
      "execution_count": null,
      "outputs": [
        {
          "output_type": "stream",
          "name": "stdout",
          "text": [
            "Hello World !\n"
          ]
        }
      ]
    },
    {
      "cell_type": "code",
      "source": [
        "print('Hello World !')"
      ],
      "metadata": {
        "colab": {
          "base_uri": "https://localhost:8080/"
        },
        "id": "2G-mdnRmNMOp",
        "outputId": "c2a9debd-8b3f-4660-a033-2b66fbfc44f2"
      },
      "execution_count": null,
      "outputs": [
        {
          "output_type": "stream",
          "name": "stdout",
          "text": [
            "Hello World !\n"
          ]
        }
      ]
    },
    {
      "cell_type": "code",
      "source": [
        "print(\"Olá Mundo ! \" + \"5\")"
      ],
      "metadata": {
        "colab": {
          "base_uri": "https://localhost:8080/"
        },
        "id": "yLGq538iOnLw",
        "outputId": "a4e4a70b-c6ad-4fb5-a472-9d22ca2458a0"
      },
      "execution_count": null,
      "outputs": [
        {
          "output_type": "stream",
          "name": "stdout",
          "text": [
            "Olá Mundo ! 5\n"
          ]
        }
      ]
    },
    {
      "cell_type": "code",
      "source": [
        "5 + 2"
      ],
      "metadata": {
        "colab": {
          "base_uri": "https://localhost:8080/"
        },
        "id": "PMtH1rBNPA1d",
        "outputId": "6c80c897-9555-4826-eff9-6e1bd4ad4885"
      },
      "execution_count": null,
      "outputs": [
        {
          "output_type": "execute_result",
          "data": {
            "text/plain": [
              "7"
            ]
          },
          "metadata": {},
          "execution_count": 6
        }
      ]
    },
    {
      "cell_type": "code",
      "source": [
        "print(5 + 2)"
      ],
      "metadata": {
        "colab": {
          "base_uri": "https://localhost:8080/"
        },
        "id": "_wLU8f6jQcWJ",
        "outputId": "c2f861f0-4f94-43f8-922d-8b551e288831"
      },
      "execution_count": null,
      "outputs": [
        {
          "output_type": "stream",
          "name": "stdout",
          "text": [
            "7\n"
          ]
        }
      ]
    },
    {
      "cell_type": "code",
      "source": [
        "produto1 = 5.00"
      ],
      "metadata": {
        "id": "TJUlryW1QgWp"
      },
      "execution_count": null,
      "outputs": []
    },
    {
      "cell_type": "code",
      "source": [
        "produto1"
      ],
      "metadata": {
        "colab": {
          "base_uri": "https://localhost:8080/"
        },
        "id": "JMmhf6CPWyMz",
        "outputId": "f08f56a8-7d8b-4486-c3f6-ef0fb0c974a2"
      },
      "execution_count": null,
      "outputs": [
        {
          "output_type": "execute_result",
          "data": {
            "text/plain": [
              "5.0"
            ]
          },
          "metadata": {},
          "execution_count": 9
        }
      ]
    },
    {
      "cell_type": "code",
      "source": [
        "print(produto1)"
      ],
      "metadata": {
        "colab": {
          "base_uri": "https://localhost:8080/"
        },
        "id": "3ULtReFRW6yW",
        "outputId": "9fd6aa9f-ad86-4b6f-abfe-c40165273b23"
      },
      "execution_count": null,
      "outputs": [
        {
          "output_type": "stream",
          "name": "stdout",
          "text": [
            "5.0\n"
          ]
        }
      ]
    },
    {
      "cell_type": "code",
      "source": [
        "produto2 = 2000.00"
      ],
      "metadata": {
        "id": "OO9VuVgLNMTt"
      },
      "execution_count": null,
      "outputs": []
    },
    {
      "cell_type": "code",
      "source": [
        "print(produto2)"
      ],
      "metadata": {
        "colab": {
          "base_uri": "https://localhost:8080/"
        },
        "id": "j2Mwh4sFXDEu",
        "outputId": "0c3ac0d6-e31f-4847-e71a-b7cf93aafee6"
      },
      "execution_count": null,
      "outputs": [
        {
          "output_type": "stream",
          "name": "stdout",
          "text": [
            "2000.0\n"
          ]
        }
      ]
    },
    {
      "cell_type": "code",
      "source": [
        "produto3 = 1.00"
      ],
      "metadata": {
        "id": "_fXu8hvsNMYv"
      },
      "execution_count": null,
      "outputs": []
    },
    {
      "cell_type": "code",
      "source": [
        "print(produto1 + produto2 + produto3)"
      ],
      "metadata": {
        "id": "wdnykXJONMdm",
        "colab": {
          "base_uri": "https://localhost:8080/"
        },
        "outputId": "e2d49a42-f253-42a3-b5ad-fd6bc1b4fc32"
      },
      "execution_count": null,
      "outputs": [
        {
          "output_type": "stream",
          "name": "stdout",
          "text": [
            "2006.0\n"
          ]
        }
      ]
    },
    {
      "cell_type": "code",
      "source": [
        "nome_do_produto1 = \"Macarrão\""
      ],
      "metadata": {
        "id": "_Eq71fzINMiG"
      },
      "execution_count": null,
      "outputs": []
    },
    {
      "cell_type": "code",
      "source": [
        "nome_do_produto2 = \"Celular\""
      ],
      "metadata": {
        "id": "94lcodEHNMmw"
      },
      "execution_count": null,
      "outputs": []
    },
    {
      "cell_type": "code",
      "source": [
        "nome_do_produto3 = \"Bala\""
      ],
      "metadata": {
        "id": "QWDotFnrNMrv"
      },
      "execution_count": null,
      "outputs": []
    },
    {
      "cell_type": "code",
      "source": [
        "print(nome_do_produto1 + \" \" + nome_do_produto2 + \" \" + nome_do_produto3)"
      ],
      "metadata": {
        "colab": {
          "base_uri": "https://localhost:8080/"
        },
        "id": "-JbiJgM3XXOu",
        "outputId": "0d7b2280-a284-472e-eb49-a9f87581ba4e"
      },
      "execution_count": null,
      "outputs": [
        {
          "output_type": "stream",
          "name": "stdout",
          "text": [
            "Macarrão Celular Bala\n"
          ]
        }
      ]
    },
    {
      "cell_type": "code",
      "source": [
        "amigos = 5\n",
        "aluguel = 1000.00\n",
        "supermercado = 500.00\n",
        "carro = 400.00"
      ],
      "metadata": {
        "id": "ebFzePmIXdl7"
      },
      "execution_count": null,
      "outputs": []
    },
    {
      "cell_type": "code",
      "source": [
        "total = aluguel + supermercado + carro"
      ],
      "metadata": {
        "id": "uGd4v-LXYZcQ"
      },
      "execution_count": null,
      "outputs": []
    },
    {
      "cell_type": "code",
      "source": [
        "print(total)"
      ],
      "metadata": {
        "colab": {
          "base_uri": "https://localhost:8080/"
        },
        "id": "xCjZjbowYgjN",
        "outputId": "dc3980dc-3855-4f1e-e954-137f8285ec55"
      },
      "execution_count": null,
      "outputs": [
        {
          "output_type": "stream",
          "name": "stdout",
          "text": [
            "1900.0\n"
          ]
        }
      ]
    },
    {
      "cell_type": "code",
      "source": [
        "aluguel = 900.0"
      ],
      "metadata": {
        "id": "1Oh-7c_FYp5X"
      },
      "execution_count": null,
      "outputs": []
    },
    {
      "cell_type": "code",
      "source": [
        "print(total)"
      ],
      "metadata": {
        "colab": {
          "base_uri": "https://localhost:8080/"
        },
        "id": "D_gY48A7YvWb",
        "outputId": "718d304e-e182-4436-9031-28422dc3e408"
      },
      "execution_count": null,
      "outputs": [
        {
          "output_type": "stream",
          "name": "stdout",
          "text": [
            "1900.0\n"
          ]
        }
      ]
    },
    {
      "cell_type": "code",
      "source": [
        "total = aluguel + supermercado + carro"
      ],
      "metadata": {
        "id": "GToJeChjYx-c"
      },
      "execution_count": null,
      "outputs": []
    },
    {
      "cell_type": "code",
      "source": [
        "print(total)"
      ],
      "metadata": {
        "colab": {
          "base_uri": "https://localhost:8080/"
        },
        "id": "EtIGlaYHY86P",
        "outputId": "4fb1cee0-b35c-48bc-d71f-d264bdbdb792"
      },
      "execution_count": null,
      "outputs": [
        {
          "output_type": "stream",
          "name": "stdout",
          "text": [
            "1800.0\n"
          ]
        }
      ]
    },
    {
      "cell_type": "code",
      "source": [
        "print(aluguel)"
      ],
      "metadata": {
        "colab": {
          "base_uri": "https://localhost:8080/"
        },
        "id": "wpUQLdSZY-ZA",
        "outputId": "759cb591-c9d8-40de-ca05-240230a7c622"
      },
      "execution_count": null,
      "outputs": [
        {
          "output_type": "stream",
          "name": "stdout",
          "text": [
            "900.0\n"
          ]
        }
      ]
    },
    {
      "cell_type": "code",
      "source": [
        "aluguel -= 100.0"
      ],
      "metadata": {
        "id": "lNZhqANQZWbk"
      },
      "execution_count": null,
      "outputs": []
    },
    {
      "cell_type": "code",
      "source": [
        "print(aluguel)"
      ],
      "metadata": {
        "colab": {
          "base_uri": "https://localhost:8080/"
        },
        "id": "qhA0E3ZJZYvQ",
        "outputId": "c64b05ee-0894-418e-ac19-9b8b9af9d1db"
      },
      "execution_count": null,
      "outputs": [
        {
          "output_type": "stream",
          "name": "stdout",
          "text": [
            "800.0\n"
          ]
        }
      ]
    },
    {
      "cell_type": "code",
      "source": [
        "aluguel -= 100.0"
      ],
      "metadata": {
        "id": "pOi4TEjQZaTt"
      },
      "execution_count": null,
      "outputs": []
    },
    {
      "cell_type": "code",
      "source": [
        "print(aluguel)"
      ],
      "metadata": {
        "colab": {
          "base_uri": "https://localhost:8080/"
        },
        "id": "zffiADcjYwj5",
        "outputId": "7d8ba283-fb35-48f0-eeba-432fb7f57f20"
      },
      "execution_count": null,
      "outputs": [
        {
          "output_type": "stream",
          "name": "stdout",
          "text": [
            "700.0\n"
          ]
        }
      ]
    },
    {
      "cell_type": "code",
      "source": [
        "amigos = 6\n",
        "aluguel = 1000.00\n",
        "supermercado = 500.00\n",
        "carro = 400.00"
      ],
      "metadata": {
        "id": "o9RDRcheYkLU"
      },
      "execution_count": null,
      "outputs": []
    },
    {
      "cell_type": "code",
      "source": [
        "print(amigos)"
      ],
      "metadata": {
        "id": "eqohovxLNNSS",
        "colab": {
          "base_uri": "https://localhost:8080/"
        },
        "outputId": "5266f700-cb9a-4c12-dde8-25c74eb3c429"
      },
      "execution_count": null,
      "outputs": [
        {
          "output_type": "stream",
          "name": "stdout",
          "text": [
            "6\n"
          ]
        }
      ]
    },
    {
      "cell_type": "code",
      "source": [
        "total_de_carro = carro * 2"
      ],
      "metadata": {
        "id": "vvyNh1i5aPuk"
      },
      "execution_count": null,
      "outputs": []
    },
    {
      "cell_type": "code",
      "source": [
        "total = aluguel + supermercado + total_de_carro"
      ],
      "metadata": {
        "id": "M6THF_ZCb1rJ"
      },
      "execution_count": null,
      "outputs": []
    },
    {
      "cell_type": "code",
      "source": [
        "print(total)"
      ],
      "metadata": {
        "colab": {
          "base_uri": "https://localhost:8080/"
        },
        "id": "19Nwt0kRb5JD",
        "outputId": "26e2e780-c596-4f03-abd6-56f6869af164"
      },
      "execution_count": null,
      "outputs": [
        {
          "output_type": "stream",
          "name": "stdout",
          "text": [
            "2300.0\n"
          ]
        }
      ]
    },
    {
      "cell_type": "code",
      "source": [
        "total_por_pessoa = total / amigos"
      ],
      "metadata": {
        "id": "P8ZpoRvCb6OS"
      },
      "execution_count": null,
      "outputs": []
    },
    {
      "cell_type": "code",
      "source": [
        "print(total_por_pessoa)"
      ],
      "metadata": {
        "colab": {
          "base_uri": "https://localhost:8080/"
        },
        "id": "ovIy3NuCcH_T",
        "outputId": "10d34015-bba5-4f6d-e0a2-2c4ec2a97048"
      },
      "execution_count": null,
      "outputs": [
        {
          "output_type": "stream",
          "name": "stdout",
          "text": [
            "383.3333333333333\n"
          ]
        }
      ]
    },
    {
      "cell_type": "code",
      "source": [
        "type(aluguel)"
      ],
      "metadata": {
        "colab": {
          "base_uri": "https://localhost:8080/"
        },
        "id": "lJEMOpeIXZ2s",
        "outputId": "a6930585-93e5-4fbd-ae7c-550cc95f46c0"
      },
      "execution_count": null,
      "outputs": [
        {
          "output_type": "execute_result",
          "data": {
            "text/plain": [
              "float"
            ]
          },
          "metadata": {},
          "execution_count": 38
        }
      ]
    },
    {
      "cell_type": "code",
      "source": [
        "type(total_por_pessoa)"
      ],
      "metadata": {
        "colab": {
          "base_uri": "https://localhost:8080/"
        },
        "id": "wsiZ-VxGdNhv",
        "outputId": "dbb7138e-3219-43b9-a574-45a45adde823"
      },
      "execution_count": null,
      "outputs": [
        {
          "output_type": "execute_result",
          "data": {
            "text/plain": [
              "float"
            ]
          },
          "metadata": {},
          "execution_count": 41
        }
      ]
    },
    {
      "cell_type": "code",
      "source": [
        "type(nome_do_produto1)"
      ],
      "metadata": {
        "colab": {
          "base_uri": "https://localhost:8080/"
        },
        "id": "DQW4-Z5xdTvS",
        "outputId": "8f34b469-05de-4fa8-87a8-fcf7035a6c3f"
      },
      "execution_count": null,
      "outputs": [
        {
          "output_type": "execute_result",
          "data": {
            "text/plain": [
              "str"
            ]
          },
          "metadata": {},
          "execution_count": 42
        }
      ]
    },
    {
      "cell_type": "code",
      "source": [
        "pedro_tem_carteira_motorista = True\n",
        "mario_tem_carteira_motorista = False"
      ],
      "metadata": {
        "id": "VZVA4MobXZ6Q"
      },
      "execution_count": null,
      "outputs": []
    },
    {
      "cell_type": "code",
      "source": [
        "type(pedro_tem_carteira_motorista)"
      ],
      "metadata": {
        "colab": {
          "base_uri": "https://localhost:8080/"
        },
        "id": "kJhtBHfNdnh5",
        "outputId": "a808acf7-af97-4b9e-9f2b-31b8cf37c4ee"
      },
      "execution_count": null,
      "outputs": [
        {
          "output_type": "execute_result",
          "data": {
            "text/plain": [
              "bool"
            ]
          },
          "metadata": {},
          "execution_count": 45
        }
      ]
    },
    {
      "cell_type": "code",
      "source": [
        "type(mario_tem_carteira_motorista)"
      ],
      "metadata": {
        "colab": {
          "base_uri": "https://localhost:8080/"
        },
        "id": "FlUabwKtdqx6",
        "outputId": "3fc14ea1-4643-446f-86f6-7f8a7024d612"
      },
      "execution_count": null,
      "outputs": [
        {
          "output_type": "execute_result",
          "data": {
            "text/plain": [
              "bool"
            ]
          },
          "metadata": {},
          "execution_count": 46
        }
      ]
    },
    {
      "cell_type": "code",
      "source": [
        "texto = \"    Fabrício CARRaro  da alura   \"\n",
        "print(texto)"
      ],
      "metadata": {
        "colab": {
          "base_uri": "https://localhost:8080/"
        },
        "id": "S36WcYXedsxy",
        "outputId": "59ad8fd5-68c7-4bd9-8c56-7721e285cbf3"
      },
      "execution_count": null,
      "outputs": [
        {
          "output_type": "stream",
          "name": "stdout",
          "text": [
            "    Fabrício CARRaro  da alura   \n"
          ]
        }
      ]
    },
    {
      "cell_type": "code",
      "source": [
        "print(texto.lower())"
      ],
      "metadata": {
        "colab": {
          "base_uri": "https://localhost:8080/"
        },
        "id": "7N776qgbde25",
        "outputId": "61f89a40-743a-4c5c-aca1-96e8c9c8b088"
      },
      "execution_count": null,
      "outputs": [
        {
          "output_type": "stream",
          "name": "stdout",
          "text": [
            "    fabrício carraro  da alura   \n"
          ]
        }
      ]
    },
    {
      "cell_type": "code",
      "source": [
        "print(texto.upper())\n",
        "\n"
      ],
      "metadata": {
        "id": "0Vj7inoiifiA",
        "outputId": "853e1cc8-c496-4fbb-f305-ed8d1f969deb",
        "colab": {
          "base_uri": "https://localhost:8080/"
        }
      },
      "execution_count": null,
      "outputs": [
        {
          "output_type": "stream",
          "name": "stdout",
          "text": [
            "    FABRÍCIO CARRARO  DA ALURA   \n"
          ]
        }
      ]
    },
    {
      "cell_type": "code",
      "source": [
        "print(texto.strip())"
      ],
      "metadata": {
        "id": "cGqrdz8zipkd",
        "outputId": "6dc50533-992b-4fd0-e93c-f249b8f02af2",
        "colab": {
          "base_uri": "https://localhost:8080/"
        }
      },
      "execution_count": null,
      "outputs": [
        {
          "output_type": "stream",
          "name": "stdout",
          "text": [
            "Fabrício CARRaro  da alura\n"
          ]
        }
      ]
    },
    {
      "cell_type": "code",
      "source": [
        "print(texto.replace(\"  \",\" \"))"
      ],
      "metadata": {
        "id": "ABjx6ULLit_F",
        "outputId": "ab7f7a0f-b7c1-44de-891a-d22201cd99ab",
        "colab": {
          "base_uri": "https://localhost:8080/"
        }
      },
      "execution_count": null,
      "outputs": [
        {
          "output_type": "stream",
          "name": "stdout",
          "text": [
            "  Fabrício CARRaro da alura  \n"
          ]
        }
      ]
    },
    {
      "cell_type": "code",
      "source": [
        "texto = texto.strip().upper().replace(\"  \", \" \")"
      ],
      "metadata": {
        "id": "9Ij6teekjDhk"
      },
      "execution_count": null,
      "outputs": []
    },
    {
      "cell_type": "code",
      "source": [
        "print(texto)"
      ],
      "metadata": {
        "id": "TJCqh1UxjoR-",
        "outputId": "44c8a4de-15ed-4082-f014-ea422d7e42d0",
        "colab": {
          "base_uri": "https://localhost:8080/"
        }
      },
      "execution_count": null,
      "outputs": [
        {
          "output_type": "stream",
          "name": "stdout",
          "text": [
            "FABRÍCIO CARRARO DA ALURA\n"
          ]
        }
      ]
    },
    {
      "cell_type": "code",
      "source": [
        "nome = input(\"Digite seu nome: \")"
      ],
      "metadata": {
        "id": "BwKDDXbfjp3c",
        "colab": {
          "base_uri": "https://localhost:8080/"
        },
        "outputId": "665e35b3-bfc1-4a2d-f2e0-042f27de249e"
      },
      "execution_count": 12,
      "outputs": [
        {
          "name": "stdout",
          "output_type": "stream",
          "text": [
            "Digite seu nome: Homer\n"
          ]
        }
      ]
    },
    {
      "cell_type": "code",
      "source": [
        "print(nome)"
      ],
      "metadata": {
        "id": "VIT9iQsJipsQ",
        "colab": {
          "base_uri": "https://localhost:8080/"
        },
        "outputId": "818cb072-8b23-423e-f57e-7c62ad1915b7"
      },
      "execution_count": 13,
      "outputs": [
        {
          "output_type": "stream",
          "name": "stdout",
          "text": [
            "Homer\n"
          ]
        }
      ]
    },
    {
      "cell_type": "code",
      "source": [
        "idade = input(\"Digite sua idade: \")"
      ],
      "metadata": {
        "colab": {
          "base_uri": "https://localhost:8080/"
        },
        "id": "8OxkQz8q7FlS",
        "outputId": "4c8f1193-4ce9-4b93-c610-38ddae32a184"
      },
      "execution_count": 14,
      "outputs": [
        {
          "name": "stdout",
          "output_type": "stream",
          "text": [
            "Digite sua idade: 38\n"
          ]
        }
      ]
    },
    {
      "cell_type": "code",
      "source": [
        "print(idade)"
      ],
      "metadata": {
        "id": "gNaMDipDip01",
        "colab": {
          "base_uri": "https://localhost:8080/"
        },
        "outputId": "79dd7eef-e893-4ea0-8494-5a13e04c0630"
      },
      "execution_count": 15,
      "outputs": [
        {
          "output_type": "stream",
          "name": "stdout",
          "text": [
            "38\n"
          ]
        }
      ]
    },
    {
      "cell_type": "code",
      "source": [
        "type(nome)"
      ],
      "metadata": {
        "colab": {
          "base_uri": "https://localhost:8080/"
        },
        "id": "lQtL1wn07XVz",
        "outputId": "97f4a657-d315-4590-afe6-a9e66da7e384"
      },
      "execution_count": 16,
      "outputs": [
        {
          "output_type": "execute_result",
          "data": {
            "text/plain": [
              "str"
            ]
          },
          "metadata": {},
          "execution_count": 16
        }
      ]
    },
    {
      "cell_type": "code",
      "source": [
        "type(idade)"
      ],
      "metadata": {
        "colab": {
          "base_uri": "https://localhost:8080/"
        },
        "id": "9R6a0XdC7XZc",
        "outputId": "23afec95-29ad-41c6-a848-e5d2540e367d"
      },
      "execution_count": 17,
      "outputs": [
        {
          "output_type": "execute_result",
          "data": {
            "text/plain": [
              "str"
            ]
          },
          "metadata": {},
          "execution_count": 17
        }
      ]
    },
    {
      "cell_type": "code",
      "source": [
        "idade = int(idade)"
      ],
      "metadata": {
        "id": "r6bvVZAI7Xc2"
      },
      "execution_count": 18,
      "outputs": []
    },
    {
      "cell_type": "code",
      "source": [
        "type(idade)"
      ],
      "metadata": {
        "colab": {
          "base_uri": "https://localhost:8080/"
        },
        "id": "gyTBbEZD7Xgh",
        "outputId": "df68791f-e031-4db2-9ac3-2c804ca6c308"
      },
      "execution_count": 19,
      "outputs": [
        {
          "output_type": "execute_result",
          "data": {
            "text/plain": [
              "int"
            ]
          },
          "metadata": {},
          "execution_count": 19
        }
      ]
    },
    {
      "cell_type": "code",
      "source": [
        "print(f'A pessoa se chama {nome} e tem {idade} anos de idade')"
      ],
      "metadata": {
        "colab": {
          "base_uri": "https://localhost:8080/"
        },
        "id": "vXPbXhRD7-IX",
        "outputId": "ada95eef-e9a0-4265-e48b-2a2b66ab055d"
      },
      "execution_count": 22,
      "outputs": [
        {
          "output_type": "stream",
          "name": "stdout",
          "text": [
            "A pessoa se chama Homer e tem 38 anos de idade\n"
          ]
        }
      ]
    },
    {
      "cell_type": "code",
      "source": [
        "idade = int(input(\"Digite sua idade: \"))"
      ],
      "metadata": {
        "colab": {
          "base_uri": "https://localhost:8080/"
        },
        "id": "ZrX38-5h7-Ni",
        "outputId": "e871b031-4a30-4259-9bd0-7306910ee3c3"
      },
      "execution_count": 24,
      "outputs": [
        {
          "name": "stdout",
          "output_type": "stream",
          "text": [
            "Digite sua idade: 18\n"
          ]
        }
      ]
    },
    {
      "cell_type": "code",
      "source": [
        "type(idade)"
      ],
      "metadata": {
        "colab": {
          "base_uri": "https://localhost:8080/"
        },
        "id": "Iq1FL1Kt7-gC",
        "outputId": "c1086acb-19c9-4779-aac7-1bd4471b9dfc"
      },
      "execution_count": 25,
      "outputs": [
        {
          "output_type": "execute_result",
          "data": {
            "text/plain": [
              "int"
            ]
          },
          "metadata": {},
          "execution_count": 25
        }
      ]
    },
    {
      "cell_type": "code",
      "source": [
        "if idade >= 18:\n",
        "    print(f\"O {nome} pode entrar na festa porque ele é maior de idade\")\n",
        "    print(f\"Ele tem {idade} anos de idade\")\n",
        "else:\n",
        "    print(\"Menor de idade\")"
      ],
      "metadata": {
        "colab": {
          "base_uri": "https://localhost:8080/"
        },
        "id": "g-ioxhUf7XjZ",
        "outputId": "2c58ad70-8eb2-4ed5-9dee-8c5761bc7bfb"
      },
      "execution_count": 28,
      "outputs": [
        {
          "output_type": "stream",
          "name": "stdout",
          "text": [
            "O Homer pode entrar na festa porque ele é maior de idade\n",
            "Ele tem 18 anos de idade\n"
          ]
        }
      ]
    },
    {
      "cell_type": "code",
      "source": [
        "media = float(input(\"Digite sua media: \"))"
      ],
      "metadata": {
        "id": "FM2X49E0UV9O",
        "outputId": "579c1258-01dc-4d4e-b13e-f5ddd7c8cd40",
        "colab": {
          "base_uri": "https://localhost:8080/"
        }
      },
      "execution_count": 34,
      "outputs": [
        {
          "name": "stdout",
          "output_type": "stream",
          "text": [
            "Digite sua media: 9\n"
          ]
        }
      ]
    },
    {
      "cell_type": "code",
      "source": [
        "media = float(input(\"Digite sua media: \"))\n",
        "\n",
        "if media >= 7.0:\n",
        "  print(\"Aprovado\")\n",
        "elif media >= 5.0 and media < 7.0:\n",
        "  print(\"Recuperação\")\n",
        "else:\n",
        "  print(\"Reprovado\")"
      ],
      "metadata": {
        "id": "YEPsk14bUWDs",
        "outputId": "da7689d8-a2d8-4d47-8078-960068da87a7",
        "colab": {
          "base_uri": "https://localhost:8080/"
        }
      },
      "execution_count": 45,
      "outputs": [
        {
          "output_type": "stream",
          "name": "stdout",
          "text": [
            "Digite sua media: 4.9\n",
            "Reprovado\n"
          ]
        }
      ]
    },
    {
      "cell_type": "code",
      "source": [],
      "metadata": {
        "id": "dGs8TPahUWJD"
      },
      "execution_count": null,
      "outputs": []
    },
    {
      "cell_type": "code",
      "source": [],
      "metadata": {
        "id": "P6LEB1H6UWNC"
      },
      "execution_count": null,
      "outputs": []
    },
    {
      "cell_type": "code",
      "source": [],
      "metadata": {
        "id": "JOiaki2FUWQa"
      },
      "execution_count": null,
      "outputs": []
    },
    {
      "cell_type": "code",
      "source": [],
      "metadata": {
        "id": "QwOupoe37Xng"
      },
      "execution_count": null,
      "outputs": []
    },
    {
      "cell_type": "code",
      "source": [],
      "metadata": {
        "id": "qYlyMLMs7XqU"
      },
      "execution_count": null,
      "outputs": []
    }
  ]
}