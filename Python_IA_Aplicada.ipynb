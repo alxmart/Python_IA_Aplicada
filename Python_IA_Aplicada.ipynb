{
  "nbformat": 4,
  "nbformat_minor": 0,
  "metadata": {
    "colab": {
      "provenance": [],
      "toc_visible": true,
      "authorship_tag": "ABX9TyPCXBUq1OCPu/MM5+MHMS8J"
    },
    "kernelspec": {
      "name": "python3",
      "display_name": "Python 3"
    },
    "language_info": {
      "name": "python"
    }
  },
  "cells": [
    {
      "cell_type": "code",
      "execution_count": 1,
      "metadata": {
        "colab": {
          "base_uri": "https://localhost:8080/"
        },
        "id": "4TL3NdShNBC6",
        "outputId": "8aacd5dd-a300-4c88-d20a-11eb66d7c211"
      },
      "outputs": [
        {
          "output_type": "execute_result",
          "data": {
            "text/plain": [
              "5"
            ]
          },
          "metadata": {},
          "execution_count": 1
        }
      ],
      "source": [
        "5"
      ]
    },
    {
      "cell_type": "code",
      "source": [
        "print(5)"
      ],
      "metadata": {
        "colab": {
          "base_uri": "https://localhost:8080/"
        },
        "id": "GRQB0MiGOLKX",
        "outputId": "d163e01a-9795-4d52-977c-99cb123bfffc"
      },
      "execution_count": 2,
      "outputs": [
        {
          "output_type": "stream",
          "name": "stdout",
          "text": [
            "5\n"
          ]
        }
      ]
    },
    {
      "cell_type": "code",
      "source": [
        "print(\"Hello World !\")"
      ],
      "metadata": {
        "colab": {
          "base_uri": "https://localhost:8080/"
        },
        "id": "8Kmty75QNMIu",
        "outputId": "b89ea29d-bb03-4628-9451-fe7615c245dc"
      },
      "execution_count": 3,
      "outputs": [
        {
          "output_type": "stream",
          "name": "stdout",
          "text": [
            "Hello World !\n"
          ]
        }
      ]
    },
    {
      "cell_type": "code",
      "source": [
        "print('Hello World !')"
      ],
      "metadata": {
        "colab": {
          "base_uri": "https://localhost:8080/"
        },
        "id": "2G-mdnRmNMOp",
        "outputId": "6f6f02eb-2d47-4d68-a4dd-0a86051b21ae"
      },
      "execution_count": 4,
      "outputs": [
        {
          "output_type": "stream",
          "name": "stdout",
          "text": [
            "Hello World !\n"
          ]
        }
      ]
    },
    {
      "cell_type": "code",
      "source": [
        "print(\"Olá Mundo ! \" + \"5\")"
      ],
      "metadata": {
        "colab": {
          "base_uri": "https://localhost:8080/"
        },
        "id": "yLGq538iOnLw",
        "outputId": "a57c42b9-da61-4202-f8e6-c9beee6af5bc"
      },
      "execution_count": 5,
      "outputs": [
        {
          "output_type": "stream",
          "name": "stdout",
          "text": [
            "Olá Mundo ! 5\n"
          ]
        }
      ]
    },
    {
      "cell_type": "code",
      "source": [
        "5 + 2"
      ],
      "metadata": {
        "colab": {
          "base_uri": "https://localhost:8080/"
        },
        "id": "PMtH1rBNPA1d",
        "outputId": "fc47c752-d871-4f05-f36d-d69a7e5d3b8c"
      },
      "execution_count": 6,
      "outputs": [
        {
          "output_type": "execute_result",
          "data": {
            "text/plain": [
              "7"
            ]
          },
          "metadata": {},
          "execution_count": 6
        }
      ]
    },
    {
      "cell_type": "code",
      "source": [
        "print(5 + 2)"
      ],
      "metadata": {
        "colab": {
          "base_uri": "https://localhost:8080/"
        },
        "id": "_wLU8f6jQcWJ",
        "outputId": "d4003776-8c9f-4a77-af49-835d483f15a1"
      },
      "execution_count": 7,
      "outputs": [
        {
          "output_type": "stream",
          "name": "stdout",
          "text": [
            "7\n"
          ]
        }
      ]
    },
    {
      "cell_type": "code",
      "source": [
        "produto1 = 5.00"
      ],
      "metadata": {
        "id": "TJUlryW1QgWp"
      },
      "execution_count": 8,
      "outputs": []
    },
    {
      "cell_type": "code",
      "source": [
        "produto1"
      ],
      "metadata": {
        "colab": {
          "base_uri": "https://localhost:8080/"
        },
        "id": "JMmhf6CPWyMz",
        "outputId": "c324ef35-eaca-4bdd-ac3e-40d517e098a0"
      },
      "execution_count": 9,
      "outputs": [
        {
          "output_type": "execute_result",
          "data": {
            "text/plain": [
              "5.0"
            ]
          },
          "metadata": {},
          "execution_count": 9
        }
      ]
    },
    {
      "cell_type": "code",
      "source": [
        "print(produto1)"
      ],
      "metadata": {
        "colab": {
          "base_uri": "https://localhost:8080/"
        },
        "id": "3ULtReFRW6yW",
        "outputId": "46a715f5-012c-403e-b9b8-e4e38d144100"
      },
      "execution_count": 10,
      "outputs": [
        {
          "output_type": "stream",
          "name": "stdout",
          "text": [
            "5.0\n"
          ]
        }
      ]
    },
    {
      "cell_type": "code",
      "source": [
        "produto2 = 2000.00"
      ],
      "metadata": {
        "id": "OO9VuVgLNMTt"
      },
      "execution_count": 11,
      "outputs": []
    },
    {
      "cell_type": "code",
      "source": [
        "print(produto2)"
      ],
      "metadata": {
        "colab": {
          "base_uri": "https://localhost:8080/"
        },
        "id": "j2Mwh4sFXDEu",
        "outputId": "b3b6987e-dc20-402c-d9a1-e3261c7c3936"
      },
      "execution_count": 12,
      "outputs": [
        {
          "output_type": "stream",
          "name": "stdout",
          "text": [
            "2000.0\n"
          ]
        }
      ]
    },
    {
      "cell_type": "code",
      "source": [
        "produto3 = 1.00"
      ],
      "metadata": {
        "id": "_fXu8hvsNMYv"
      },
      "execution_count": 13,
      "outputs": []
    },
    {
      "cell_type": "code",
      "source": [
        "print(produto1 + produto2 + produto3)"
      ],
      "metadata": {
        "id": "wdnykXJONMdm",
        "colab": {
          "base_uri": "https://localhost:8080/"
        },
        "outputId": "af7bcb64-def7-4451-96ac-05e0dfbff322"
      },
      "execution_count": 14,
      "outputs": [
        {
          "output_type": "stream",
          "name": "stdout",
          "text": [
            "2006.0\n"
          ]
        }
      ]
    },
    {
      "cell_type": "code",
      "source": [
        "nome_do_produto1 = \"Macarrão\""
      ],
      "metadata": {
        "id": "_Eq71fzINMiG"
      },
      "execution_count": 15,
      "outputs": []
    },
    {
      "cell_type": "code",
      "source": [
        "nome_do_produto2 = \"Celular\""
      ],
      "metadata": {
        "id": "94lcodEHNMmw"
      },
      "execution_count": 16,
      "outputs": []
    },
    {
      "cell_type": "code",
      "source": [
        "nome_do_produto3 = \"Bala\""
      ],
      "metadata": {
        "id": "QWDotFnrNMrv"
      },
      "execution_count": 17,
      "outputs": []
    },
    {
      "cell_type": "code",
      "source": [
        "print(nome_do_produto1 + \" \" + nome_do_produto2 + \" \" + nome_do_produto3)"
      ],
      "metadata": {
        "colab": {
          "base_uri": "https://localhost:8080/"
        },
        "id": "-JbiJgM3XXOu",
        "outputId": "48783a34-12aa-421a-d292-89f5e18a3f38"
      },
      "execution_count": 18,
      "outputs": [
        {
          "output_type": "stream",
          "name": "stdout",
          "text": [
            "Macarrão Celular Bala\n"
          ]
        }
      ]
    },
    {
      "cell_type": "code",
      "source": [
        "amigos = 5\n",
        "aluguel = 1000.00\n",
        "supermercado = 500.00\n",
        "carro = 400.00"
      ],
      "metadata": {
        "id": "ebFzePmIXdl7"
      },
      "execution_count": 19,
      "outputs": []
    },
    {
      "cell_type": "code",
      "source": [
        "total = aluguel + supermercado + carro"
      ],
      "metadata": {
        "id": "uGd4v-LXYZcQ"
      },
      "execution_count": 20,
      "outputs": []
    },
    {
      "cell_type": "code",
      "source": [
        "print(total)"
      ],
      "metadata": {
        "colab": {
          "base_uri": "https://localhost:8080/"
        },
        "id": "xCjZjbowYgjN",
        "outputId": "8356cc0a-372d-4836-dac6-96314cf88aef"
      },
      "execution_count": 21,
      "outputs": [
        {
          "output_type": "stream",
          "name": "stdout",
          "text": [
            "1900.0\n"
          ]
        }
      ]
    },
    {
      "cell_type": "code",
      "source": [
        "aluguel = 900.0"
      ],
      "metadata": {
        "id": "1Oh-7c_FYp5X"
      },
      "execution_count": 22,
      "outputs": []
    },
    {
      "cell_type": "code",
      "source": [
        "print(total)"
      ],
      "metadata": {
        "colab": {
          "base_uri": "https://localhost:8080/"
        },
        "id": "D_gY48A7YvWb",
        "outputId": "9c588e82-aada-4ad9-c15d-859c03335a9b"
      },
      "execution_count": 23,
      "outputs": [
        {
          "output_type": "stream",
          "name": "stdout",
          "text": [
            "1900.0\n"
          ]
        }
      ]
    },
    {
      "cell_type": "code",
      "source": [
        "total = aluguel + supermercado + carro"
      ],
      "metadata": {
        "id": "GToJeChjYx-c"
      },
      "execution_count": 24,
      "outputs": []
    },
    {
      "cell_type": "code",
      "source": [
        "print(total)"
      ],
      "metadata": {
        "colab": {
          "base_uri": "https://localhost:8080/"
        },
        "id": "EtIGlaYHY86P",
        "outputId": "6ea153f0-dc41-4ddd-926e-a638a2ff617d"
      },
      "execution_count": 25,
      "outputs": [
        {
          "output_type": "stream",
          "name": "stdout",
          "text": [
            "1800.0\n"
          ]
        }
      ]
    },
    {
      "cell_type": "code",
      "source": [
        "print(aluguel)"
      ],
      "metadata": {
        "colab": {
          "base_uri": "https://localhost:8080/"
        },
        "id": "wpUQLdSZY-ZA",
        "outputId": "3086ccff-a343-49ad-c6e4-7127c104bb64"
      },
      "execution_count": 26,
      "outputs": [
        {
          "output_type": "stream",
          "name": "stdout",
          "text": [
            "900.0\n"
          ]
        }
      ]
    },
    {
      "cell_type": "code",
      "source": [
        "aluguel -= 100.0"
      ],
      "metadata": {
        "id": "lNZhqANQZWbk"
      },
      "execution_count": 27,
      "outputs": []
    },
    {
      "cell_type": "code",
      "source": [
        "print(aluguel)"
      ],
      "metadata": {
        "colab": {
          "base_uri": "https://localhost:8080/"
        },
        "id": "qhA0E3ZJZYvQ",
        "outputId": "310e4469-576a-436d-e719-4823b75d6faf"
      },
      "execution_count": 28,
      "outputs": [
        {
          "output_type": "stream",
          "name": "stdout",
          "text": [
            "800.0\n"
          ]
        }
      ]
    },
    {
      "cell_type": "code",
      "source": [
        "aluguel -= 100.0"
      ],
      "metadata": {
        "id": "pOi4TEjQZaTt"
      },
      "execution_count": 29,
      "outputs": []
    },
    {
      "cell_type": "code",
      "source": [
        "print(aluguel)"
      ],
      "metadata": {
        "colab": {
          "base_uri": "https://localhost:8080/"
        },
        "id": "zffiADcjYwj5",
        "outputId": "ec9fb4f3-1cfb-40c9-9af6-8400f19959a0"
      },
      "execution_count": 30,
      "outputs": [
        {
          "output_type": "stream",
          "name": "stdout",
          "text": [
            "700.0\n"
          ]
        }
      ]
    },
    {
      "cell_type": "code",
      "source": [
        "amigos = 6\n",
        "aluguel = 1000.00\n",
        "supermercado = 500.00\n",
        "carro = 400.00"
      ],
      "metadata": {
        "id": "o9RDRcheYkLU"
      },
      "execution_count": 31,
      "outputs": []
    },
    {
      "cell_type": "code",
      "source": [
        "print(amigos)"
      ],
      "metadata": {
        "id": "eqohovxLNNSS",
        "colab": {
          "base_uri": "https://localhost:8080/"
        },
        "outputId": "cedd4ed5-108e-40aa-e8c9-8121c553e8d7"
      },
      "execution_count": 32,
      "outputs": [
        {
          "output_type": "stream",
          "name": "stdout",
          "text": [
            "6\n"
          ]
        }
      ]
    },
    {
      "cell_type": "code",
      "source": [
        "total_de_carro = carro * 2"
      ],
      "metadata": {
        "id": "vvyNh1i5aPuk"
      },
      "execution_count": 33,
      "outputs": []
    },
    {
      "cell_type": "code",
      "source": [
        "total = aluguel + supermercado + total_de_carro"
      ],
      "metadata": {
        "id": "M6THF_ZCb1rJ"
      },
      "execution_count": 34,
      "outputs": []
    },
    {
      "cell_type": "code",
      "source": [
        "print(total)"
      ],
      "metadata": {
        "colab": {
          "base_uri": "https://localhost:8080/"
        },
        "id": "19Nwt0kRb5JD",
        "outputId": "4be8a3ae-9829-45c8-a5d4-aba15b842653"
      },
      "execution_count": 35,
      "outputs": [
        {
          "output_type": "stream",
          "name": "stdout",
          "text": [
            "2300.0\n"
          ]
        }
      ]
    },
    {
      "cell_type": "code",
      "source": [
        "total_por_pessoa = total / amigos"
      ],
      "metadata": {
        "id": "P8ZpoRvCb6OS"
      },
      "execution_count": 36,
      "outputs": []
    },
    {
      "cell_type": "code",
      "source": [
        "print(total_por_pessoa)"
      ],
      "metadata": {
        "colab": {
          "base_uri": "https://localhost:8080/"
        },
        "id": "ovIy3NuCcH_T",
        "outputId": "0f52e4a3-8505-4996-a954-a16e55a62c14"
      },
      "execution_count": 37,
      "outputs": [
        {
          "output_type": "stream",
          "name": "stdout",
          "text": [
            "383.3333333333333\n"
          ]
        }
      ]
    },
    {
      "cell_type": "code",
      "source": [
        "type(aluguel)"
      ],
      "metadata": {
        "colab": {
          "base_uri": "https://localhost:8080/"
        },
        "id": "lJEMOpeIXZ2s",
        "outputId": "21a43a1b-f69c-4d7e-fb2d-2f184a6441cc"
      },
      "execution_count": 38,
      "outputs": [
        {
          "output_type": "execute_result",
          "data": {
            "text/plain": [
              "float"
            ]
          },
          "metadata": {},
          "execution_count": 38
        }
      ]
    },
    {
      "cell_type": "code",
      "source": [
        "type(total_por_pessoa)"
      ],
      "metadata": {
        "colab": {
          "base_uri": "https://localhost:8080/"
        },
        "id": "wsiZ-VxGdNhv",
        "outputId": "42f40517-5384-4d79-97e5-55786ce79a6c"
      },
      "execution_count": 39,
      "outputs": [
        {
          "output_type": "execute_result",
          "data": {
            "text/plain": [
              "float"
            ]
          },
          "metadata": {},
          "execution_count": 39
        }
      ]
    },
    {
      "cell_type": "code",
      "source": [
        "type(nome_do_produto1)"
      ],
      "metadata": {
        "colab": {
          "base_uri": "https://localhost:8080/"
        },
        "id": "DQW4-Z5xdTvS",
        "outputId": "57cd235e-3654-40a1-bc1d-d9a6209951e3"
      },
      "execution_count": 40,
      "outputs": [
        {
          "output_type": "execute_result",
          "data": {
            "text/plain": [
              "str"
            ]
          },
          "metadata": {},
          "execution_count": 40
        }
      ]
    },
    {
      "cell_type": "code",
      "source": [
        "pedro_tem_carteira_motorista = True\n",
        "\n",
        "mario_tem_carteira_motorista = False"
      ],
      "metadata": {
        "id": "VZVA4MobXZ6Q"
      },
      "execution_count": 41,
      "outputs": []
    },
    {
      "cell_type": "code",
      "source": [
        "type(pedro_tem_carteira_motorista)"
      ],
      "metadata": {
        "colab": {
          "base_uri": "https://localhost:8080/"
        },
        "id": "kJhtBHfNdnh5",
        "outputId": "34f50864-292b-4bea-f799-9f8f0361dac6"
      },
      "execution_count": 42,
      "outputs": [
        {
          "output_type": "execute_result",
          "data": {
            "text/plain": [
              "bool"
            ]
          },
          "metadata": {},
          "execution_count": 42
        }
      ]
    },
    {
      "cell_type": "code",
      "source": [
        "type(mario_tem_carteira_motorista)"
      ],
      "metadata": {
        "colab": {
          "base_uri": "https://localhost:8080/"
        },
        "id": "FlUabwKtdqx6",
        "outputId": "c8129ec0-119c-4dbe-a405-c0ed82778af4"
      },
      "execution_count": 43,
      "outputs": [
        {
          "output_type": "execute_result",
          "data": {
            "text/plain": [
              "bool"
            ]
          },
          "metadata": {},
          "execution_count": 43
        }
      ]
    },
    {
      "cell_type": "code",
      "source": [
        "texto = \"    Fabrício CARRaro  da alura   \"\n",
        "print(texto)"
      ],
      "metadata": {
        "colab": {
          "base_uri": "https://localhost:8080/"
        },
        "id": "S36WcYXedsxy",
        "outputId": "dd0cbb64-a6e8-48e6-ce94-c341830f9618"
      },
      "execution_count": 44,
      "outputs": [
        {
          "output_type": "stream",
          "name": "stdout",
          "text": [
            "    Fabrício CARRaro  da alura   \n"
          ]
        }
      ]
    },
    {
      "cell_type": "code",
      "source": [
        "print(texto.lower())"
      ],
      "metadata": {
        "colab": {
          "base_uri": "https://localhost:8080/"
        },
        "id": "7N776qgbde25",
        "outputId": "a3bc10f5-ea54-43e1-a065-a135ecf27d74"
      },
      "execution_count": 45,
      "outputs": [
        {
          "output_type": "stream",
          "name": "stdout",
          "text": [
            "    fabrício carraro  da alura   \n"
          ]
        }
      ]
    },
    {
      "cell_type": "code",
      "source": [
        "print(texto.upper())\n",
        "\n"
      ],
      "metadata": {
        "id": "0Vj7inoiifiA",
        "outputId": "73ca9fa3-4102-4457-fad7-be86b7b0fd6c",
        "colab": {
          "base_uri": "https://localhost:8080/"
        }
      },
      "execution_count": 46,
      "outputs": [
        {
          "output_type": "stream",
          "name": "stdout",
          "text": [
            "    FABRÍCIO CARRARO  DA ALURA   \n"
          ]
        }
      ]
    },
    {
      "cell_type": "code",
      "source": [
        "print(texto.strip())"
      ],
      "metadata": {
        "id": "cGqrdz8zipkd",
        "outputId": "b3baa389-dbcd-412c-a3c1-9ebc0a0ccf59",
        "colab": {
          "base_uri": "https://localhost:8080/"
        }
      },
      "execution_count": 47,
      "outputs": [
        {
          "output_type": "stream",
          "name": "stdout",
          "text": [
            "Fabrício CARRaro  da alura\n"
          ]
        }
      ]
    },
    {
      "cell_type": "code",
      "source": [
        "print(texto.replace(\"  \",\" \"))"
      ],
      "metadata": {
        "id": "ABjx6ULLit_F",
        "outputId": "ef66e131-d12c-41a8-df52-3a1ba3abf628",
        "colab": {
          "base_uri": "https://localhost:8080/"
        }
      },
      "execution_count": 48,
      "outputs": [
        {
          "output_type": "stream",
          "name": "stdout",
          "text": [
            "  Fabrício CARRaro da alura  \n"
          ]
        }
      ]
    },
    {
      "cell_type": "code",
      "source": [
        "texto = texto.strip().upper().replace(\"  \", \" \")"
      ],
      "metadata": {
        "id": "9Ij6teekjDhk"
      },
      "execution_count": 49,
      "outputs": []
    },
    {
      "cell_type": "code",
      "source": [
        "print(texto)"
      ],
      "metadata": {
        "id": "TJCqh1UxjoR-",
        "outputId": "c899b116-2125-45b1-b5fd-7728ced35f83",
        "colab": {
          "base_uri": "https://localhost:8080/"
        }
      },
      "execution_count": 51,
      "outputs": [
        {
          "output_type": "stream",
          "name": "stdout",
          "text": [
            "FABRÍCIO CARRARO DA ALURA\n"
          ]
        }
      ]
    },
    {
      "cell_type": "code",
      "source": [
        "nome = input(\"Digite seu nome: \")"
      ],
      "metadata": {
        "id": "BwKDDXbfjp3c",
        "colab": {
          "base_uri": "https://localhost:8080/"
        },
        "outputId": "3fe20630-d9d2-4cb0-ecad-2df714653bc6"
      },
      "execution_count": 52,
      "outputs": [
        {
          "name": "stdout",
          "output_type": "stream",
          "text": [
            "Digite seu nome: John Doe\n"
          ]
        }
      ]
    },
    {
      "cell_type": "code",
      "source": [
        "print(nome)"
      ],
      "metadata": {
        "id": "VIT9iQsJipsQ",
        "colab": {
          "base_uri": "https://localhost:8080/"
        },
        "outputId": "39cbb41a-9b1f-4ef6-df57-cf116addfdd8"
      },
      "execution_count": 53,
      "outputs": [
        {
          "output_type": "stream",
          "name": "stdout",
          "text": [
            "John Doe\n"
          ]
        }
      ]
    },
    {
      "cell_type": "code",
      "source": [
        "idade = input(\"Digite sua idade: \")"
      ],
      "metadata": {
        "colab": {
          "base_uri": "https://localhost:8080/"
        },
        "id": "8OxkQz8q7FlS",
        "outputId": "7c38880f-e0b8-4a8c-bf5e-76630c492f88"
      },
      "execution_count": 54,
      "outputs": [
        {
          "name": "stdout",
          "output_type": "stream",
          "text": [
            "Digite sua idade: 18\n"
          ]
        }
      ]
    },
    {
      "cell_type": "code",
      "source": [
        "print(idade)"
      ],
      "metadata": {
        "id": "gNaMDipDip01",
        "colab": {
          "base_uri": "https://localhost:8080/"
        },
        "outputId": "9cf11178-6574-41b6-e5a3-3f0b62d08dd1"
      },
      "execution_count": 55,
      "outputs": [
        {
          "output_type": "stream",
          "name": "stdout",
          "text": [
            "18\n"
          ]
        }
      ]
    },
    {
      "cell_type": "code",
      "source": [
        "type(nome)"
      ],
      "metadata": {
        "colab": {
          "base_uri": "https://localhost:8080/"
        },
        "id": "lQtL1wn07XVz",
        "outputId": "dce28358-cf8b-47cc-a99d-dec8e0a035c0"
      },
      "execution_count": 56,
      "outputs": [
        {
          "output_type": "execute_result",
          "data": {
            "text/plain": [
              "str"
            ]
          },
          "metadata": {},
          "execution_count": 56
        }
      ]
    },
    {
      "cell_type": "code",
      "source": [
        "type(idade)"
      ],
      "metadata": {
        "colab": {
          "base_uri": "https://localhost:8080/"
        },
        "id": "9R6a0XdC7XZc",
        "outputId": "93c9b8ff-bc1f-4bd6-ee64-2b348270acbe"
      },
      "execution_count": 57,
      "outputs": [
        {
          "output_type": "execute_result",
          "data": {
            "text/plain": [
              "str"
            ]
          },
          "metadata": {},
          "execution_count": 57
        }
      ]
    },
    {
      "cell_type": "code",
      "source": [
        "idade = int(idade)"
      ],
      "metadata": {
        "id": "r6bvVZAI7Xc2"
      },
      "execution_count": 58,
      "outputs": []
    },
    {
      "cell_type": "code",
      "source": [
        "type(idade)"
      ],
      "metadata": {
        "colab": {
          "base_uri": "https://localhost:8080/"
        },
        "id": "gyTBbEZD7Xgh",
        "outputId": "2ba670f2-20b6-4630-cc54-07cb72e7f28d"
      },
      "execution_count": 59,
      "outputs": [
        {
          "output_type": "execute_result",
          "data": {
            "text/plain": [
              "int"
            ]
          },
          "metadata": {},
          "execution_count": 59
        }
      ]
    },
    {
      "cell_type": "code",
      "source": [
        "print(f'A pessoa se chama {nome} e tem {idade} anos de idade')"
      ],
      "metadata": {
        "colab": {
          "base_uri": "https://localhost:8080/"
        },
        "id": "vXPbXhRD7-IX",
        "outputId": "c795c78d-aeab-4254-a1e1-7a63b2280803"
      },
      "execution_count": null,
      "outputs": [
        {
          "output_type": "stream",
          "name": "stdout",
          "text": [
            "A pessoa se chama Homer e tem 48 anos de idade\n"
          ]
        }
      ]
    },
    {
      "cell_type": "code",
      "source": [
        "idade = int(input(\"Digite sua idade: \"))"
      ],
      "metadata": {
        "colab": {
          "base_uri": "https://localhost:8080/"
        },
        "id": "ZrX38-5h7-Ni",
        "outputId": "22eadea6-b03a-48e7-ef25-4d4ef5f8cd65"
      },
      "execution_count": null,
      "outputs": [
        {
          "name": "stdout",
          "output_type": "stream",
          "text": [
            "Digite sua idade: 234\n"
          ]
        }
      ]
    },
    {
      "cell_type": "code",
      "source": [
        "type(idade)"
      ],
      "metadata": {
        "colab": {
          "base_uri": "https://localhost:8080/"
        },
        "id": "Iq1FL1Kt7-gC",
        "outputId": "e6c98dde-99b1-48b6-daa2-aa76cc03394a"
      },
      "execution_count": null,
      "outputs": [
        {
          "output_type": "execute_result",
          "data": {
            "text/plain": [
              "int"
            ]
          },
          "metadata": {},
          "execution_count": 66
        }
      ]
    },
    {
      "cell_type": "code",
      "source": [
        "if idade >= 18:\n",
        "    print(f\"O {nome} pode entrar na festa porque ele é maior de idade\")\n",
        "    print(f\"Ele tem {idade} anos de idade\")\n",
        "else:\n",
        "    print(\"Menor de idade\")"
      ],
      "metadata": {
        "colab": {
          "base_uri": "https://localhost:8080/"
        },
        "id": "g-ioxhUf7XjZ",
        "outputId": "83b2df54-95df-45e0-d690-607c0072eced"
      },
      "execution_count": null,
      "outputs": [
        {
          "output_type": "stream",
          "name": "stdout",
          "text": [
            "O Homer pode entrar na festa porque ele é maior de idade\n",
            "Ele tem 234 anos de idade\n"
          ]
        }
      ]
    },
    {
      "cell_type": "code",
      "source": [
        "media = float(input(\"Digite sua media: \"))"
      ],
      "metadata": {
        "colab": {
          "base_uri": "https://localhost:8080/"
        },
        "id": "FM2X49E0UV9O",
        "outputId": "784700fb-e049-4d6e-9315-61e6f5479c49"
      },
      "execution_count": null,
      "outputs": [
        {
          "name": "stdout",
          "output_type": "stream",
          "text": [
            "Digite sua media: 9.5\n"
          ]
        }
      ]
    },
    {
      "cell_type": "code",
      "source": [
        "media = float(input(\"Digite sua media: \"))\n",
        "\n",
        "if media >= 7.0:\n",
        "  print(\"Aprovado\")\n",
        "elif media >= 5.0 and media < 7.0:\n",
        "  print(\"Recuperação\")\n",
        "else:\n",
        "  print(\"Reprovado\")"
      ],
      "metadata": {
        "colab": {
          "base_uri": "https://localhost:8080/"
        },
        "id": "YEPsk14bUWDs",
        "outputId": "e1ee3528-8a6c-4ba9-81cf-b6272a12df5a"
      },
      "execution_count": null,
      "outputs": [
        {
          "output_type": "stream",
          "name": "stdout",
          "text": [
            "Digite sua media: 9.9\n",
            "Aprovado\n"
          ]
        }
      ]
    },
    {
      "cell_type": "markdown",
      "source": [
        "### **Rodando a IA no Google Colab (Gemini)**"
      ],
      "metadata": {
        "id": "nYJgf0wj-TkU"
      }
    },
    {
      "cell_type": "code",
      "source": [
        "import os\n",
        "from google.colab import userdata\n",
        "\n",
        "os.environ[\"GOOGLE_API_KEY\"] = userdata.get('Gemini_API_Key')"
      ],
      "metadata": {
        "id": "dGs8TPahUWJD"
      },
      "execution_count": null,
      "outputs": []
    },
    {
      "cell_type": "code",
      "source": [
        "from google import genai\n",
        "\n",
        "client = genai.Client()"
      ],
      "metadata": {
        "id": "P6LEB1H6UWNC"
      },
      "execution_count": null,
      "outputs": []
    },
    {
      "cell_type": "code",
      "source": [
        "resposta = client.models.generate_content(model='gemini-2.5-flash', contents=\"O que é a Inteligência Artificial ?\")"
      ],
      "metadata": {
        "id": "JOiaki2FUWQa"
      },
      "execution_count": null,
      "outputs": []
    },
    {
      "cell_type": "code",
      "source": [
        "print(resposta.text)"
      ],
      "metadata": {
        "colab": {
          "base_uri": "https://localhost:8080/"
        },
        "id": "QwOupoe37Xng",
        "outputId": "d5b28dc1-b091-4f84-acad-0b5efb6c05fa"
      },
      "execution_count": null,
      "outputs": [
        {
          "output_type": "stream",
          "name": "stdout",
          "text": [
            "A **Inteligência Artificial (IA)** é um campo da ciência da computação dedicado a criar máquinas e sistemas que podem simular ou executar tarefas que normalmente exigiriam inteligência humana. O objetivo principal é permitir que sistemas computacionais \"pensem\", \"raciocinem\", \"aprendam\" e \"tomem decisões\" de forma autônoma.\n",
            "\n",
            "**Em essência, a IA busca fazer com que os computadores possam:**\n",
            "\n",
            "1.  **Aprender:** Adquirir conhecimento e habilidades através da experiência (dados), sem serem explicitamente programados para cada cenário.\n",
            "2.  **Raciocinar:** Usar a lógica para resolver problemas e tomar decisões.\n",
            "3.  **Reconhecer padrões:** Identificar regularidades em grandes volumes de dados (imagens, sons, texto, números).\n",
            "4.  **Compreender a linguagem natural:** Interagir com humanos usando a linguagem falada ou escrita.\n",
            "5.  **Perceber:** Processar informações do mundo real (como visão e audição) para entender o ambiente.\n",
            "6.  **Manipular objetos:** (No caso da robótica avançada) interagir fisicamente com o ambiente.\n",
            "\n",
            "**Como funciona a IA?**\n",
            "\n",
            "A IA funciona através da combinação de:\n",
            "\n",
            "*   **Algoritmos complexos:** Conjuntos de regras e instruções que os sistemas seguem para processar dados e tomar decisões.\n",
            "*   **Grandes volumes de dados:** A \"matéria-prima\" que os algoritmos de IA usam para aprender e identificar padrões. Quanto mais dados de qualidade, melhor o aprendizado.\n",
            "*   **Poder computacional:** A capacidade de processar esses dados e algoritmos rapidamente, muitas vezes com hardware especializado (como GPUs).\n",
            "\n",
            "**Tipos de IA:**\n",
            "\n",
            "A IA é geralmente categorizada em dois tipos principais:\n",
            "\n",
            "1.  **IA Fraca ou Estreita (Narrow AI / Weak AI):** É o tipo de IA que existe atualmente e que usamos no dia a dia. É projetada e treinada para uma **tarefa específica**.\n",
            "    *   *Exemplos:* Assistentes virtuais (Siri, Alexa), sistemas de recomendação (Netflix, Spotify), carros autônomos (em um contexto específico), reconhecimento facial, filtros de spam, sistemas de diagnóstico médico.\n",
            "    *   Não possui consciência, emoção ou inteligência geral como a humana.\n",
            "\n",
            "2.  **IA Forte ou Geral (General AI / Strong AI):** É uma IA hipotética que possui capacidades cognitivas humanas em todas as áreas, incluindo consciência, autoconsciência e a capacidade de aplicar inteligência para resolver qualquer problema.\n",
            "    *   Ainda é um conceito teórico e está muito distante da realidade atual.\n",
            "\n",
            "**Subcampos e Técnicas Principais da IA:**\n",
            "\n",
            "*   **Aprendizado de Máquina (Machine Learning - ML):** Um subcampo da IA onde os sistemas aprendem a partir de dados, identificam padrões e tomam decisões com o mínimo de intervenção humana. Inclui aprendizado supervisionado, não supervisionado e por reforço.\n",
            "*   **Aprendizado Profundo (Deep Learning - DL):** Um subcampo do ML que usa redes neurais artificiais com múltiplas camadas (inspiradas no cérebro humano) para aprender representações complexas de dados. É extremamente eficaz para reconhecimento de imagem, voz e linguagem.\n",
            "*   **Processamento de Linguagem Natural (Natural Language Processing - NLP):** Permite que os computadores entendam, interpretem e gerem a linguagem humana (falada e escrita). Usado em chatbots, tradução automática e análise de sentimento.\n",
            "*   **Visão Computacional (Computer Vision):** Habilita os computadores a \"ver\" e interpretar imagens e vídeos digitais. Usado em reconhecimento facial, carros autônomos e diagnóstico médico por imagem.\n",
            "*   **Robótica:** Embora a robótica seja um campo mais amplo, a IA é frequentemente incorporada em robôs para torná-los autônomos, capazes de aprender, se adaptar e interagir com seu ambiente.\n",
            "\n",
            "**Exemplos Cotidianos de IA:**\n",
            "\n",
            "*   **Assistentes virtuais:** Siri, Google Assistant, Alexa.\n",
            "*   **Sistemas de recomendação:** O que assistir no Netflix, o que comprar na Amazon, músicas no Spotify.\n",
            "*   **Carros autônomos:** Tecnologias de pilotagem assistida e completamente autônoma.\n",
            "*   **Filtros de spam:** Que identificam e movem e-mails indesejados.\n",
            "*   **Tradução automática:** Google Translate.\n",
            "*   **Detecção de fraudes:** Em bancos e transações financeiras.\n",
            "*   **Diagnóstico médico:** Auxiliando médicos na identificação de doenças.\n",
            "\n",
            "A Inteligência Artificial é uma área em constante evolução, com o potencial de transformar todos os aspectos da nossa sociedade, desde a saúde e educação até a indústria e o entretenimento.\n"
          ]
        }
      ]
    },
    {
      "cell_type": "markdown",
      "source": [
        "**Loops**"
      ],
      "metadata": {
        "id": "3-JH1iTKWPXt"
      }
    },
    {
      "cell_type": "code",
      "source": [
        "n = 1\n",
        "while n <= 5:\n",
        "  print(\"*\")\n",
        "  n += 1"
      ],
      "metadata": {
        "id": "qYlyMLMs7XqU",
        "outputId": "3249e792-d192-4e30-dcfe-d86acd0f7fdc",
        "colab": {
          "base_uri": "https://localhost:8080/"
        }
      },
      "execution_count": null,
      "outputs": [
        {
          "output_type": "stream",
          "name": "stdout",
          "text": [
            "*\n",
            "*\n",
            "*\n",
            "*\n",
            "*\n"
          ]
        }
      ]
    },
    {
      "cell_type": "code",
      "source": [
        "chat = client.chats.create(model='gemini-2.5-flash')"
      ],
      "metadata": {
        "id": "Im5Tr-RL-CgF"
      },
      "execution_count": null,
      "outputs": []
    },
    {
      "cell_type": "code",
      "source": [
        "resposta2 = chat.send_message(\"O que é a Inteligência Artificial ?\")"
      ],
      "metadata": {
        "id": "7VJzS54s-Cp9"
      },
      "execution_count": null,
      "outputs": []
    },
    {
      "cell_type": "code",
      "source": [
        "print(resposta2.text)"
      ],
      "metadata": {
        "id": "uGrwIQF0-Ct6",
        "outputId": "0978fe63-c368-435d-f1c7-8fd3658bc065",
        "colab": {
          "base_uri": "https://localhost:8080/"
        }
      },
      "execution_count": null,
      "outputs": [
        {
          "output_type": "stream",
          "name": "stdout",
          "text": [
            "A **Inteligência Artificial (IA)** é um campo da ciência da computação que se dedica a criar sistemas e máquinas capazes de **simular ou replicar capacidades cognitivas humanas**. Em termos mais simples, é fazer com que computadores e softwares consigam realizar tarefas que normalmente exigiriam inteligência humana.\n",
            "\n",
            "O objetivo principal da IA é desenvolver sistemas que possam:\n",
            "\n",
            "1.  **Aprender:** Adquirir conhecimento e habilidades a partir de dados, sem serem explicitamente programados para cada tarefa específica. (Ex: aprender a reconhecer um gato em fotos).\n",
            "2.  **Raciocinar:** Utilizar a lógica e o conhecimento para tomar decisões e resolver problemas. (Ex: um sistema de navegação que encontra a melhor rota).\n",
            "3.  **Perceber:** Interpretar informações sensoriais, como imagens (visão computacional) ou sons (reconhecimento de fala).\n",
            "4.  **Compreender a Linguagem Natural:** Processar e interpretar a linguagem humana falada ou escrita. (Ex: assistentes de voz como Siri ou Alexa).\n",
            "5.  **Manipular e Mover:** Interagir com o mundo físico, como robôs que realizam tarefas em fábricas.\n",
            "\n",
            "**Como funciona (de forma simplificada)?**\n",
            "\n",
            "Em vez de serem programados com cada regra e instrução para todas as situações possíveis (o que seria impraticável para tarefas complexas), os sistemas de IA são \"treinados\". Isso envolve:\n",
            "\n",
            "*   **Dados:** Alimentar o sistema com grandes volumes de dados (textos, imagens, áudios, números).\n",
            "*   **Algoritmos:** Usar algoritmos complexos que permitem ao sistema identificar padrões, fazer previsões, classificar informações e aprender com esses dados.\n",
            "*   **Modelos:** Construir modelos matemáticos que representam o conhecimento adquirido e que podem ser usados para tomar decisões ou realizar tarefas em situações novas.\n",
            "\n",
            "**Principais ramos da IA:**\n",
            "\n",
            "*   **Machine Learning (Aprendizado de Máquina):** É o pilar central da IA moderna, onde os sistemas aprendem a partir de dados sem programação explícita.\n",
            "*   **Deep Learning (Aprendizado Profundo):** Um subcampo do Machine Learning que utiliza redes neurais artificiais com múltiplas camadas (inspiradas no cérebro humano) para lidar com dados complexos, como imagens e voz.\n",
            "*   **Processamento de Linguagem Natural (PLN/NLP):** Foca na interação entre computadores e linguagem humana (análise de texto, tradução automática, chatbots).\n",
            "*   **Visão Computacional:** Permite que computadores \"vejam\" e interpretem imagens e vídeos (reconhecimento facial, carros autônomos).\n",
            "*   **Robótica:** Envolve o design, construção, operação e aplicação de robôs, muitas vezes integrando IA para navegação, manipulação e interação.\n",
            "\n",
            "**Exemplos no dia a dia:**\n",
            "\n",
            "*   **Assistentes Virtuais:** Siri, Google Assistant, Alexa.\n",
            "*   **Sistemas de Recomendação:** Netflix, Spotify, Amazon (sugerem produtos ou conteúdos).\n",
            "*   **Filtros de Spam e Detecção de Fraudes:** Identificam padrões incomuns.\n",
            "*   **Carros Autônomos:** Usam visão computacional e IA para navegar e tomar decisões.\n",
            "*   **Diagnóstico Médico:** Auxiliam médicos na análise de imagens e dados para identificar doenças.\n",
            "*   **Tradutores Automáticos:** Google Translate.\n",
            "\n",
            "A Inteligência Artificial é uma área vasta e em constante evolução, com o potencial de transformar praticamente todos os aspectos da nossa sociedade, desde a saúde e a educação até a indústria e o entretenimento.\n"
          ]
        }
      ]
    },
    {
      "cell_type": "code",
      "source": [],
      "metadata": {
        "id": "d3hMvre26pSE"
      },
      "execution_count": null,
      "outputs": []
    },
    {
      "cell_type": "code",
      "source": [
        "resposta3 = chat.send_message(\"Quando foi lançado o ChatGPT ?\")\n",
        "print(resposta3.text)\n"
      ],
      "metadata": {
        "id": "0lax2whO6vi8",
        "outputId": "68262f55-ba92-4a63-9305-e7cca456eb19",
        "colab": {
          "base_uri": "https://localhost:8080/"
        }
      },
      "execution_count": null,
      "outputs": [
        {
          "output_type": "stream",
          "name": "stdout",
          "text": [
            "O ChatGPT foi lançado publicamente pela OpenAI em **30 de novembro de 2022**.\n",
            "\n",
            "Foi lançado como um protótipo de chatbot baseado na família de modelos GPT-3.5, e rapidamente ganhou enorme popularidade, demonstrando ao público o poder da inteligência artificial conversacional.\n"
          ]
        }
      ]
    },
    {
      "cell_type": "code",
      "source": [
        "prompt = input(\"Digite sua pergunta: \")\n",
        "\n",
        "while prompt != \"fim\":\n",
        "  resposta4 = chat.send_message(prompt)\n",
        "  print(f\"{resposta4.text} \\n\")\n",
        "  prompt = input(\"Digite sua pergunta: \")\n",
        "\n",
        "  rint(resposta4.text)"
      ],
      "metadata": {
        "colab": {
          "base_uri": "https://localhost:8080/"
        },
        "id": "ulhh0U-N6phf",
        "outputId": "476c3211-410d-4d8f-cdf4-dd80b2f2f117"
      },
      "execution_count": null,
      "outputs": [
        {
          "name": "stdout",
          "output_type": "stream",
          "text": [
            "Digite sua pergunta: O que é a Inteligência Artificial ? REsponda sucintamente\n",
            "A **Inteligência Artificial (IA)** é a área da ciência da computação que cria **máquinas e sistemas capazes de simular a inteligência humana** para aprender, raciocinar, perceber e resolver problemas. \n",
            "\n",
            "Digite sua pergunta: Quando foi lançado o ChatGPT ?\n",
            "O ChatGPT foi lançado em **30 de novembro de 2022**. \n",
            "\n",
            "Digite sua pergunta: fim\n"
          ]
        }
      ]
    },
    {
      "cell_type": "code",
      "source": [],
      "metadata": {
        "id": "E7m4eQsDD8tn"
      },
      "execution_count": null,
      "outputs": []
    },
    {
      "cell_type": "markdown",
      "source": [
        "### Estruturas de Dados"
      ],
      "metadata": {
        "id": "F1IIs4jyT1SH"
      }
    },
    {
      "cell_type": "code",
      "source": [
        "lista_de_nomes = [\"Maria Silva\", \"João Santos\", \"Ana Oliveira\", \"Pedro Costa\", \"juliana Pereira\"]"
      ],
      "metadata": {
        "id": "CXidPaV7D8x_"
      },
      "execution_count": null,
      "outputs": []
    },
    {
      "cell_type": "code",
      "source": [
        "print(lista_de_nomes[3])"
      ],
      "metadata": {
        "colab": {
          "base_uri": "https://localhost:8080/"
        },
        "id": "yzq5cGZPUTIu",
        "outputId": "9d157e83-2fb7-4b6f-9621-7d7e429043de"
      },
      "execution_count": null,
      "outputs": [
        {
          "output_type": "stream",
          "name": "stdout",
          "text": [
            "Pedro Costa\n"
          ]
        }
      ]
    },
    {
      "cell_type": "code",
      "source": [
        "lista_de_medias = [8.9, 7.5, 4.2, 1.4, 9.5]"
      ],
      "metadata": {
        "id": "ub7ZyUPAUTL8"
      },
      "execution_count": null,
      "outputs": []
    },
    {
      "cell_type": "code",
      "source": [
        "print(lista_de_nomes[3])"
      ],
      "metadata": {
        "colab": {
          "base_uri": "https://localhost:8080/"
        },
        "id": "D2LFpaIgUTPN",
        "outputId": "9925b80c-1aa6-4a59-8f7b-065791e3e89a"
      },
      "execution_count": null,
      "outputs": [
        {
          "output_type": "stream",
          "name": "stdout",
          "text": [
            "Pedro Costa\n"
          ]
        }
      ]
    },
    {
      "cell_type": "code",
      "source": [
        "for i in range(len(lista_de_medias)):\n",
        "  lista_de_medias[i] = lista_de_medias[i] + 1.0\n",
        "  if lista_de_medias[i] > 10.0:\n",
        "    lista_de_medias[i] = 10.0\n",
        "  print(lista_de_medias[i])"
      ],
      "metadata": {
        "colab": {
          "base_uri": "https://localhost:8080/"
        },
        "id": "p12nKWipUTSN",
        "outputId": "da1e6136-eaf7-426d-d4ea-3b17ee1b31b3"
      },
      "execution_count": null,
      "outputs": [
        {
          "output_type": "stream",
          "name": "stdout",
          "text": [
            "10.0\n",
            "9.5\n",
            "6.2\n",
            "3.4\n",
            "10.0\n"
          ]
        }
      ]
    },
    {
      "cell_type": "code",
      "source": [
        "lista_de_medias = [8.9, 7.5, 4.2, 1.4, 9.5]"
      ],
      "metadata": {
        "id": "CzVxYdaHaO5G"
      },
      "execution_count": null,
      "outputs": []
    },
    {
      "cell_type": "code",
      "source": [
        "n = 0\n",
        "while n < len(lista_de_medias):\n",
        "  lista_de_medias[n] += 1.0\n",
        "  if lista_de_medias[n] > 10.0:\n",
        "    lista_de_medias[n] = 10.0\n",
        "  print(lista_de_medias[n])\n",
        "  n += 1"
      ],
      "metadata": {
        "colab": {
          "base_uri": "https://localhost:8080/"
        },
        "id": "jZbvdqTlUTVN",
        "outputId": "0eeb252d-cf8d-4e7e-ce51-ee98ad9a98cb"
      },
      "execution_count": null,
      "outputs": [
        {
          "output_type": "stream",
          "name": "stdout",
          "text": [
            "9.9\n",
            "8.5\n",
            "5.2\n",
            "2.4\n",
            "10.0\n"
          ]
        }
      ]
    },
    {
      "cell_type": "code",
      "source": [],
      "metadata": {
        "id": "cTT5XjwaZqUy"
      },
      "execution_count": null,
      "outputs": []
    },
    {
      "cell_type": "code",
      "source": [],
      "metadata": {
        "id": "SHzHpPt5ZqYX"
      },
      "execution_count": null,
      "outputs": []
    },
    {
      "cell_type": "code",
      "source": [],
      "metadata": {
        "id": "sAV00QWXZqcV"
      },
      "execution_count": null,
      "outputs": []
    },
    {
      "cell_type": "code",
      "source": [],
      "metadata": {
        "id": "RY6eSeG7ZqtC"
      },
      "execution_count": null,
      "outputs": []
    },
    {
      "cell_type": "code",
      "source": [],
      "metadata": {
        "id": "nK6LT53_6psL"
      },
      "execution_count": null,
      "outputs": []
    },
    {
      "cell_type": "code",
      "source": [],
      "metadata": {
        "id": "2H1FRq7v6pvu"
      },
      "execution_count": null,
      "outputs": []
    }
  ]
}