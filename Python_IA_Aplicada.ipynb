{
  "nbformat": 4,
  "nbformat_minor": 0,
  "metadata": {
    "colab": {
      "provenance": [],
      "toc_visible": true,
      "authorship_tag": "ABX9TyN+IqdzTMKMl82kXLL6+Jur"
    },
    "kernelspec": {
      "name": "python3",
      "display_name": "Python 3"
    },
    "language_info": {
      "name": "python"
    }
  },
  "cells": [
    {
      "cell_type": "code",
      "execution_count": 1,
      "metadata": {
        "colab": {
          "base_uri": "https://localhost:8080/"
        },
        "id": "4TL3NdShNBC6",
        "outputId": "adfef0ae-9a89-490f-acfc-2eb0694bc81f"
      },
      "outputs": [
        {
          "output_type": "execute_result",
          "data": {
            "text/plain": [
              "5"
            ]
          },
          "metadata": {},
          "execution_count": 1
        }
      ],
      "source": [
        "5"
      ]
    },
    {
      "cell_type": "code",
      "source": [
        "print(5)"
      ],
      "metadata": {
        "colab": {
          "base_uri": "https://localhost:8080/"
        },
        "id": "GRQB0MiGOLKX",
        "outputId": "a8cf855b-bd6c-42dd-dc5a-143ee413cf0d"
      },
      "execution_count": 2,
      "outputs": [
        {
          "output_type": "stream",
          "name": "stdout",
          "text": [
            "5\n"
          ]
        }
      ]
    },
    {
      "cell_type": "code",
      "source": [
        "print(\"Hello World !\")"
      ],
      "metadata": {
        "colab": {
          "base_uri": "https://localhost:8080/"
        },
        "id": "8Kmty75QNMIu",
        "outputId": "9640a9d0-b200-41cc-8c14-084e7d7bedff"
      },
      "execution_count": 3,
      "outputs": [
        {
          "output_type": "stream",
          "name": "stdout",
          "text": [
            "Hello World !\n"
          ]
        }
      ]
    },
    {
      "cell_type": "code",
      "source": [
        "print('Hello World !')"
      ],
      "metadata": {
        "colab": {
          "base_uri": "https://localhost:8080/"
        },
        "id": "2G-mdnRmNMOp",
        "outputId": "f8487c2a-cf00-43ce-d6ab-83e72c26e8b1"
      },
      "execution_count": 4,
      "outputs": [
        {
          "output_type": "stream",
          "name": "stdout",
          "text": [
            "Hello World !\n"
          ]
        }
      ]
    },
    {
      "cell_type": "code",
      "source": [
        "print(\"Olá Mundo ! \" + \"5\")"
      ],
      "metadata": {
        "colab": {
          "base_uri": "https://localhost:8080/"
        },
        "id": "yLGq538iOnLw",
        "outputId": "a939caff-0eb0-4fee-b1c6-1be4e0e3ef43"
      },
      "execution_count": 5,
      "outputs": [
        {
          "output_type": "stream",
          "name": "stdout",
          "text": [
            "Olá Mundo ! 5\n"
          ]
        }
      ]
    },
    {
      "cell_type": "code",
      "source": [
        "5 + 2"
      ],
      "metadata": {
        "colab": {
          "base_uri": "https://localhost:8080/"
        },
        "id": "PMtH1rBNPA1d",
        "outputId": "bdf54ab6-2f90-49ad-8355-f07f46ff17be"
      },
      "execution_count": 6,
      "outputs": [
        {
          "output_type": "execute_result",
          "data": {
            "text/plain": [
              "7"
            ]
          },
          "metadata": {},
          "execution_count": 6
        }
      ]
    },
    {
      "cell_type": "code",
      "source": [
        "print(5 + 2)"
      ],
      "metadata": {
        "colab": {
          "base_uri": "https://localhost:8080/"
        },
        "id": "_wLU8f6jQcWJ",
        "outputId": "ccdcf6c4-1a9d-4054-83e8-5c2c5c8667cc"
      },
      "execution_count": 7,
      "outputs": [
        {
          "output_type": "stream",
          "name": "stdout",
          "text": [
            "7\n"
          ]
        }
      ]
    },
    {
      "cell_type": "code",
      "source": [
        "produto1 = 5.00"
      ],
      "metadata": {
        "id": "TJUlryW1QgWp"
      },
      "execution_count": 8,
      "outputs": []
    },
    {
      "cell_type": "code",
      "source": [
        "produto1"
      ],
      "metadata": {
        "colab": {
          "base_uri": "https://localhost:8080/"
        },
        "id": "JMmhf6CPWyMz",
        "outputId": "9d277e31-921d-4238-fbe2-fe5b07242516"
      },
      "execution_count": 9,
      "outputs": [
        {
          "output_type": "execute_result",
          "data": {
            "text/plain": [
              "5.0"
            ]
          },
          "metadata": {},
          "execution_count": 9
        }
      ]
    },
    {
      "cell_type": "code",
      "source": [
        "print(produto1)"
      ],
      "metadata": {
        "colab": {
          "base_uri": "https://localhost:8080/"
        },
        "id": "3ULtReFRW6yW",
        "outputId": "967f0e5b-8e26-452f-db61-88fddfe8bff4"
      },
      "execution_count": 10,
      "outputs": [
        {
          "output_type": "stream",
          "name": "stdout",
          "text": [
            "5.0\n"
          ]
        }
      ]
    },
    {
      "cell_type": "code",
      "source": [
        "produto2 = 2000.00"
      ],
      "metadata": {
        "id": "OO9VuVgLNMTt"
      },
      "execution_count": 11,
      "outputs": []
    },
    {
      "cell_type": "code",
      "source": [
        "print(produto2)"
      ],
      "metadata": {
        "colab": {
          "base_uri": "https://localhost:8080/"
        },
        "id": "j2Mwh4sFXDEu",
        "outputId": "dabe25f4-9c08-422a-a3c2-96a23a5c88cc"
      },
      "execution_count": 12,
      "outputs": [
        {
          "output_type": "stream",
          "name": "stdout",
          "text": [
            "2000.0\n"
          ]
        }
      ]
    },
    {
      "cell_type": "code",
      "source": [
        "produto3 = 1.00"
      ],
      "metadata": {
        "id": "_fXu8hvsNMYv"
      },
      "execution_count": 13,
      "outputs": []
    },
    {
      "cell_type": "code",
      "source": [
        "print(produto1 + produto2 + produto3)"
      ],
      "metadata": {
        "id": "wdnykXJONMdm",
        "colab": {
          "base_uri": "https://localhost:8080/"
        },
        "outputId": "c9af9c93-ce63-4aef-f0ce-f0eaa5b5c8aa"
      },
      "execution_count": 14,
      "outputs": [
        {
          "output_type": "stream",
          "name": "stdout",
          "text": [
            "2006.0\n"
          ]
        }
      ]
    },
    {
      "cell_type": "code",
      "source": [
        "nome_do_produto1 = \"Macarrão\""
      ],
      "metadata": {
        "id": "_Eq71fzINMiG"
      },
      "execution_count": 15,
      "outputs": []
    },
    {
      "cell_type": "code",
      "source": [
        "nome_do_produto2 = \"Celular\""
      ],
      "metadata": {
        "id": "94lcodEHNMmw"
      },
      "execution_count": 16,
      "outputs": []
    },
    {
      "cell_type": "code",
      "source": [
        "nome_do_produto3 = \"Bala\""
      ],
      "metadata": {
        "id": "QWDotFnrNMrv"
      },
      "execution_count": 17,
      "outputs": []
    },
    {
      "cell_type": "code",
      "source": [
        "print(nome_do_produto1 + \" \" + nome_do_produto2 + \" \" + nome_do_produto3)"
      ],
      "metadata": {
        "colab": {
          "base_uri": "https://localhost:8080/"
        },
        "id": "-JbiJgM3XXOu",
        "outputId": "89ae8c43-cd41-47ac-84bd-83333307e947"
      },
      "execution_count": 18,
      "outputs": [
        {
          "output_type": "stream",
          "name": "stdout",
          "text": [
            "Macarrão Celular Bala\n"
          ]
        }
      ]
    },
    {
      "cell_type": "code",
      "source": [
        "amigos = 5\n",
        "aluguel = 1000.00\n",
        "supermercado = 500.00\n",
        "carro = 400.00"
      ],
      "metadata": {
        "id": "ebFzePmIXdl7"
      },
      "execution_count": 19,
      "outputs": []
    },
    {
      "cell_type": "code",
      "source": [
        "total = aluguel + supermercado + carro"
      ],
      "metadata": {
        "id": "uGd4v-LXYZcQ"
      },
      "execution_count": 20,
      "outputs": []
    },
    {
      "cell_type": "code",
      "source": [
        "print(total)"
      ],
      "metadata": {
        "colab": {
          "base_uri": "https://localhost:8080/"
        },
        "id": "xCjZjbowYgjN",
        "outputId": "80a59c0f-d336-43b2-9fba-92e2833075b6"
      },
      "execution_count": 21,
      "outputs": [
        {
          "output_type": "stream",
          "name": "stdout",
          "text": [
            "1900.0\n"
          ]
        }
      ]
    },
    {
      "cell_type": "code",
      "source": [
        "aluguel = 900.0"
      ],
      "metadata": {
        "id": "1Oh-7c_FYp5X"
      },
      "execution_count": 22,
      "outputs": []
    },
    {
      "cell_type": "code",
      "source": [
        "print(total)"
      ],
      "metadata": {
        "colab": {
          "base_uri": "https://localhost:8080/"
        },
        "id": "D_gY48A7YvWb",
        "outputId": "4f5f17f1-fd43-478f-869c-d586a5521726"
      },
      "execution_count": 23,
      "outputs": [
        {
          "output_type": "stream",
          "name": "stdout",
          "text": [
            "1900.0\n"
          ]
        }
      ]
    },
    {
      "cell_type": "code",
      "source": [
        "total = aluguel + supermercado + carro"
      ],
      "metadata": {
        "id": "GToJeChjYx-c"
      },
      "execution_count": 24,
      "outputs": []
    },
    {
      "cell_type": "code",
      "source": [
        "print(total)"
      ],
      "metadata": {
        "colab": {
          "base_uri": "https://localhost:8080/"
        },
        "id": "EtIGlaYHY86P",
        "outputId": "6f94a485-2bd9-4444-9346-a51a21504374"
      },
      "execution_count": 25,
      "outputs": [
        {
          "output_type": "stream",
          "name": "stdout",
          "text": [
            "1800.0\n"
          ]
        }
      ]
    },
    {
      "cell_type": "code",
      "source": [
        "print(aluguel)"
      ],
      "metadata": {
        "colab": {
          "base_uri": "https://localhost:8080/"
        },
        "id": "wpUQLdSZY-ZA",
        "outputId": "8dbaca31-2a80-42c8-9a37-f5905e1487d9"
      },
      "execution_count": 26,
      "outputs": [
        {
          "output_type": "stream",
          "name": "stdout",
          "text": [
            "900.0\n"
          ]
        }
      ]
    },
    {
      "cell_type": "code",
      "source": [
        "aluguel -= 100.0"
      ],
      "metadata": {
        "id": "lNZhqANQZWbk"
      },
      "execution_count": 27,
      "outputs": []
    },
    {
      "cell_type": "code",
      "source": [
        "print(aluguel)"
      ],
      "metadata": {
        "colab": {
          "base_uri": "https://localhost:8080/"
        },
        "id": "qhA0E3ZJZYvQ",
        "outputId": "cca91bc3-9e85-42e9-dc8f-4c0e307dc6aa"
      },
      "execution_count": 28,
      "outputs": [
        {
          "output_type": "stream",
          "name": "stdout",
          "text": [
            "800.0\n"
          ]
        }
      ]
    },
    {
      "cell_type": "code",
      "source": [
        "aluguel -= 100.0"
      ],
      "metadata": {
        "id": "pOi4TEjQZaTt"
      },
      "execution_count": 29,
      "outputs": []
    },
    {
      "cell_type": "code",
      "source": [
        "print(aluguel)"
      ],
      "metadata": {
        "colab": {
          "base_uri": "https://localhost:8080/"
        },
        "id": "zffiADcjYwj5",
        "outputId": "7ddb5c74-723a-4fcd-8286-104ff977a6bd"
      },
      "execution_count": 30,
      "outputs": [
        {
          "output_type": "stream",
          "name": "stdout",
          "text": [
            "700.0\n"
          ]
        }
      ]
    },
    {
      "cell_type": "code",
      "source": [
        "amigos = 6\n",
        "aluguel = 1000.00\n",
        "supermercado = 500.00\n",
        "carro = 400.00"
      ],
      "metadata": {
        "id": "o9RDRcheYkLU"
      },
      "execution_count": 31,
      "outputs": []
    },
    {
      "cell_type": "code",
      "source": [
        "print(amigos)"
      ],
      "metadata": {
        "id": "eqohovxLNNSS",
        "colab": {
          "base_uri": "https://localhost:8080/"
        },
        "outputId": "c8cac376-a518-4879-d56c-b4ea9e1537e8"
      },
      "execution_count": 32,
      "outputs": [
        {
          "output_type": "stream",
          "name": "stdout",
          "text": [
            "6\n"
          ]
        }
      ]
    },
    {
      "cell_type": "code",
      "source": [
        "total_de_carro = carro * 2"
      ],
      "metadata": {
        "id": "vvyNh1i5aPuk"
      },
      "execution_count": 33,
      "outputs": []
    },
    {
      "cell_type": "code",
      "source": [
        "total = aluguel + supermercado + total_de_carro"
      ],
      "metadata": {
        "id": "M6THF_ZCb1rJ"
      },
      "execution_count": 34,
      "outputs": []
    },
    {
      "cell_type": "code",
      "source": [
        "print(total)"
      ],
      "metadata": {
        "colab": {
          "base_uri": "https://localhost:8080/"
        },
        "id": "19Nwt0kRb5JD",
        "outputId": "8a4f20d4-0867-4100-8904-13e2d811cfcf"
      },
      "execution_count": 35,
      "outputs": [
        {
          "output_type": "stream",
          "name": "stdout",
          "text": [
            "2300.0\n"
          ]
        }
      ]
    },
    {
      "cell_type": "code",
      "source": [
        "total_por_pessoa = total / amigos"
      ],
      "metadata": {
        "id": "P8ZpoRvCb6OS"
      },
      "execution_count": 36,
      "outputs": []
    },
    {
      "cell_type": "code",
      "source": [
        "print(total_por_pessoa)"
      ],
      "metadata": {
        "colab": {
          "base_uri": "https://localhost:8080/"
        },
        "id": "ovIy3NuCcH_T",
        "outputId": "177a51b5-4e60-4188-cfdb-72264ff2da68"
      },
      "execution_count": 37,
      "outputs": [
        {
          "output_type": "stream",
          "name": "stdout",
          "text": [
            "383.3333333333333\n"
          ]
        }
      ]
    },
    {
      "cell_type": "code",
      "source": [
        "type(aluguel)"
      ],
      "metadata": {
        "colab": {
          "base_uri": "https://localhost:8080/"
        },
        "id": "lJEMOpeIXZ2s",
        "outputId": "c098c5c3-2335-4388-9ad1-9d383e26032d"
      },
      "execution_count": 38,
      "outputs": [
        {
          "output_type": "execute_result",
          "data": {
            "text/plain": [
              "float"
            ]
          },
          "metadata": {},
          "execution_count": 38
        }
      ]
    },
    {
      "cell_type": "code",
      "source": [
        "type(total_por_pessoa)"
      ],
      "metadata": {
        "colab": {
          "base_uri": "https://localhost:8080/"
        },
        "id": "wsiZ-VxGdNhv",
        "outputId": "0d3b08d4-0322-4326-ab48-f1d232410e8b"
      },
      "execution_count": 39,
      "outputs": [
        {
          "output_type": "execute_result",
          "data": {
            "text/plain": [
              "float"
            ]
          },
          "metadata": {},
          "execution_count": 39
        }
      ]
    },
    {
      "cell_type": "code",
      "source": [
        "type(nome_do_produto1)"
      ],
      "metadata": {
        "colab": {
          "base_uri": "https://localhost:8080/"
        },
        "id": "DQW4-Z5xdTvS",
        "outputId": "1145f37a-5a44-47ad-d03a-0a4e1d7ddb23"
      },
      "execution_count": 40,
      "outputs": [
        {
          "output_type": "execute_result",
          "data": {
            "text/plain": [
              "str"
            ]
          },
          "metadata": {},
          "execution_count": 40
        }
      ]
    },
    {
      "cell_type": "code",
      "source": [
        "pedro_tem_carteira_motorista = True\n",
        "\n",
        "mario_tem_carteira_motorista = False"
      ],
      "metadata": {
        "id": "VZVA4MobXZ6Q"
      },
      "execution_count": 41,
      "outputs": []
    },
    {
      "cell_type": "code",
      "source": [
        "type(pedro_tem_carteira_motorista)"
      ],
      "metadata": {
        "colab": {
          "base_uri": "https://localhost:8080/"
        },
        "id": "kJhtBHfNdnh5",
        "outputId": "f448cbf9-bd7a-4662-f043-0c8012e5a603"
      },
      "execution_count": 42,
      "outputs": [
        {
          "output_type": "execute_result",
          "data": {
            "text/plain": [
              "bool"
            ]
          },
          "metadata": {},
          "execution_count": 42
        }
      ]
    },
    {
      "cell_type": "code",
      "source": [
        "type(mario_tem_carteira_motorista)"
      ],
      "metadata": {
        "colab": {
          "base_uri": "https://localhost:8080/"
        },
        "id": "FlUabwKtdqx6",
        "outputId": "35aa106e-0564-4033-f714-743312471fb7"
      },
      "execution_count": 43,
      "outputs": [
        {
          "output_type": "execute_result",
          "data": {
            "text/plain": [
              "bool"
            ]
          },
          "metadata": {},
          "execution_count": 43
        }
      ]
    },
    {
      "cell_type": "code",
      "source": [
        "texto = \"    Fabrício CARRaro  da alura   \"\n",
        "print(texto)"
      ],
      "metadata": {
        "colab": {
          "base_uri": "https://localhost:8080/"
        },
        "id": "S36WcYXedsxy",
        "outputId": "2d2203cd-affd-4dc1-afff-3314010a627d"
      },
      "execution_count": 44,
      "outputs": [
        {
          "output_type": "stream",
          "name": "stdout",
          "text": [
            "    Fabrício CARRaro  da alura   \n"
          ]
        }
      ]
    },
    {
      "cell_type": "code",
      "source": [
        "print(texto.lower())"
      ],
      "metadata": {
        "colab": {
          "base_uri": "https://localhost:8080/"
        },
        "id": "7N776qgbde25",
        "outputId": "6242c979-4a6f-474c-eba3-e8b083dbaada"
      },
      "execution_count": 45,
      "outputs": [
        {
          "output_type": "stream",
          "name": "stdout",
          "text": [
            "    fabrício carraro  da alura   \n"
          ]
        }
      ]
    },
    {
      "cell_type": "code",
      "source": [
        "print(texto.upper())\n",
        "\n"
      ],
      "metadata": {
        "id": "0Vj7inoiifiA",
        "outputId": "aed47574-9860-4030-9180-859c1c023526",
        "colab": {
          "base_uri": "https://localhost:8080/"
        }
      },
      "execution_count": 46,
      "outputs": [
        {
          "output_type": "stream",
          "name": "stdout",
          "text": [
            "    FABRÍCIO CARRARO  DA ALURA   \n"
          ]
        }
      ]
    },
    {
      "cell_type": "code",
      "source": [
        "print(texto.strip())"
      ],
      "metadata": {
        "id": "cGqrdz8zipkd",
        "outputId": "2f95bbc7-1898-4131-b00c-a146b8ec4aa1",
        "colab": {
          "base_uri": "https://localhost:8080/"
        }
      },
      "execution_count": 47,
      "outputs": [
        {
          "output_type": "stream",
          "name": "stdout",
          "text": [
            "Fabrício CARRaro  da alura\n"
          ]
        }
      ]
    },
    {
      "cell_type": "code",
      "source": [
        "print(texto.replace(\"  \",\" \"))"
      ],
      "metadata": {
        "id": "ABjx6ULLit_F",
        "outputId": "29873d92-5563-45eb-d46c-a961451f16e3",
        "colab": {
          "base_uri": "https://localhost:8080/"
        }
      },
      "execution_count": 48,
      "outputs": [
        {
          "output_type": "stream",
          "name": "stdout",
          "text": [
            "  Fabrício CARRaro da alura  \n"
          ]
        }
      ]
    },
    {
      "cell_type": "code",
      "source": [
        "texto = texto.strip().upper().replace(\"  \", \" \")"
      ],
      "metadata": {
        "id": "9Ij6teekjDhk"
      },
      "execution_count": 49,
      "outputs": []
    },
    {
      "cell_type": "code",
      "source": [
        "print(texto)"
      ],
      "metadata": {
        "id": "TJCqh1UxjoR-",
        "outputId": "20654076-2b8c-4d1f-91f7-fedddcbdd303",
        "colab": {
          "base_uri": "https://localhost:8080/"
        }
      },
      "execution_count": 50,
      "outputs": [
        {
          "output_type": "stream",
          "name": "stdout",
          "text": [
            "FABRÍCIO CARRARO DA ALURA\n"
          ]
        }
      ]
    },
    {
      "cell_type": "code",
      "source": [
        "nome = input(\"Digite seu nome: \")"
      ],
      "metadata": {
        "id": "BwKDDXbfjp3c",
        "colab": {
          "base_uri": "https://localhost:8080/"
        },
        "outputId": "da6c4ecc-79eb-4645-f58b-ea606139f75e"
      },
      "execution_count": 51,
      "outputs": [
        {
          "name": "stdout",
          "output_type": "stream",
          "text": [
            "Digite seu nome: John Doe\n"
          ]
        }
      ]
    },
    {
      "cell_type": "code",
      "source": [
        "print(nome)"
      ],
      "metadata": {
        "id": "VIT9iQsJipsQ",
        "colab": {
          "base_uri": "https://localhost:8080/"
        },
        "outputId": "ad5a72ed-365c-4a78-910d-260aa0d52e1f"
      },
      "execution_count": 52,
      "outputs": [
        {
          "output_type": "stream",
          "name": "stdout",
          "text": [
            "John Doe\n"
          ]
        }
      ]
    },
    {
      "cell_type": "code",
      "source": [
        "idade = input(\"Digite sua idade: \")"
      ],
      "metadata": {
        "colab": {
          "base_uri": "https://localhost:8080/"
        },
        "id": "8OxkQz8q7FlS",
        "outputId": "209a0518-4ece-418d-d754-5309ceb3b7c6"
      },
      "execution_count": 53,
      "outputs": [
        {
          "name": "stdout",
          "output_type": "stream",
          "text": [
            "Digite sua idade: 18\n"
          ]
        }
      ]
    },
    {
      "cell_type": "code",
      "source": [
        "print(idade)"
      ],
      "metadata": {
        "id": "gNaMDipDip01",
        "colab": {
          "base_uri": "https://localhost:8080/"
        },
        "outputId": "5689c1a3-3437-4e77-bdd1-61b5b1301f19"
      },
      "execution_count": 54,
      "outputs": [
        {
          "output_type": "stream",
          "name": "stdout",
          "text": [
            "18\n"
          ]
        }
      ]
    },
    {
      "cell_type": "code",
      "source": [
        "type(nome)"
      ],
      "metadata": {
        "colab": {
          "base_uri": "https://localhost:8080/"
        },
        "id": "lQtL1wn07XVz",
        "outputId": "2877e522-9100-4b8f-d7e6-b0f5dd9b7e9e"
      },
      "execution_count": 55,
      "outputs": [
        {
          "output_type": "execute_result",
          "data": {
            "text/plain": [
              "str"
            ]
          },
          "metadata": {},
          "execution_count": 55
        }
      ]
    },
    {
      "cell_type": "code",
      "source": [
        "type(idade)"
      ],
      "metadata": {
        "colab": {
          "base_uri": "https://localhost:8080/"
        },
        "id": "9R6a0XdC7XZc",
        "outputId": "a40c161e-6bdf-45a0-81c3-33f48a2418a0"
      },
      "execution_count": 56,
      "outputs": [
        {
          "output_type": "execute_result",
          "data": {
            "text/plain": [
              "str"
            ]
          },
          "metadata": {},
          "execution_count": 56
        }
      ]
    },
    {
      "cell_type": "code",
      "source": [
        "idade = int(idade)"
      ],
      "metadata": {
        "id": "r6bvVZAI7Xc2"
      },
      "execution_count": 57,
      "outputs": []
    },
    {
      "cell_type": "code",
      "source": [
        "type(idade)"
      ],
      "metadata": {
        "colab": {
          "base_uri": "https://localhost:8080/"
        },
        "id": "gyTBbEZD7Xgh",
        "outputId": "bf2582d8-0bad-4ce4-b5a7-0064a9c101d2"
      },
      "execution_count": 58,
      "outputs": [
        {
          "output_type": "execute_result",
          "data": {
            "text/plain": [
              "int"
            ]
          },
          "metadata": {},
          "execution_count": 58
        }
      ]
    },
    {
      "cell_type": "code",
      "source": [
        "print(f'A pessoa se chama {nome} e tem {idade} anos de idade')"
      ],
      "metadata": {
        "colab": {
          "base_uri": "https://localhost:8080/"
        },
        "id": "vXPbXhRD7-IX",
        "outputId": "a437325b-4905-4ae0-9d63-c6ceeb76a88c"
      },
      "execution_count": 59,
      "outputs": [
        {
          "output_type": "stream",
          "name": "stdout",
          "text": [
            "A pessoa se chama John Doe e tem 18 anos de idade\n"
          ]
        }
      ]
    },
    {
      "cell_type": "code",
      "source": [
        "idade = int(input(\"Digite sua idade: \"))"
      ],
      "metadata": {
        "colab": {
          "base_uri": "https://localhost:8080/"
        },
        "id": "ZrX38-5h7-Ni",
        "outputId": "c11e2c5f-e03b-410e-fedb-1c931d3123b8"
      },
      "execution_count": 63,
      "outputs": [
        {
          "name": "stdout",
          "output_type": "stream",
          "text": [
            "Digite sua idade: 12\n"
          ]
        }
      ]
    },
    {
      "cell_type": "code",
      "source": [
        "type(idade)"
      ],
      "metadata": {
        "colab": {
          "base_uri": "https://localhost:8080/"
        },
        "id": "Iq1FL1Kt7-gC",
        "outputId": "4aa4a712-e89e-4496-a6ed-a30cbb0d7be5"
      },
      "execution_count": 64,
      "outputs": [
        {
          "output_type": "execute_result",
          "data": {
            "text/plain": [
              "int"
            ]
          },
          "metadata": {},
          "execution_count": 64
        }
      ]
    },
    {
      "cell_type": "code",
      "source": [
        "if idade >= 18:\n",
        "    print(f\"O {nome} pode entrar na festa porque ele é maior de idade\")\n",
        "    print(f\"Ele tem {idade} anos de idade\")\n",
        "else:\n",
        "    print(\"Menor de idade\")"
      ],
      "metadata": {
        "colab": {
          "base_uri": "https://localhost:8080/"
        },
        "id": "g-ioxhUf7XjZ",
        "outputId": "d0ef6feb-64d2-4370-d6bb-6e58ee01e6ac"
      },
      "execution_count": 65,
      "outputs": [
        {
          "output_type": "stream",
          "name": "stdout",
          "text": [
            "Menor de idade\n"
          ]
        }
      ]
    },
    {
      "cell_type": "code",
      "source": [
        "media = float(input(\"Digite sua media: \"))"
      ],
      "metadata": {
        "colab": {
          "base_uri": "https://localhost:8080/"
        },
        "id": "FM2X49E0UV9O",
        "outputId": "b3f0f6a5-31ed-4411-e215-014c1a33eb31"
      },
      "execution_count": 68,
      "outputs": [
        {
          "name": "stdout",
          "output_type": "stream",
          "text": [
            "Digite sua media: 9\n"
          ]
        }
      ]
    },
    {
      "cell_type": "code",
      "source": [
        "media = float(input(\"Digite sua media: \"))\n",
        "\n",
        "if media >= 7.0:\n",
        "  print(\"Aprovado\")\n",
        "elif media >= 5.0 and media < 7.0:\n",
        "  print(\"Recuperação\")\n",
        "else:\n",
        "  print(\"Reprovado\")"
      ],
      "metadata": {
        "colab": {
          "base_uri": "https://localhost:8080/"
        },
        "id": "YEPsk14bUWDs",
        "outputId": "ce33ff83-11c4-4373-e16e-f79bb1076a88"
      },
      "execution_count": 69,
      "outputs": [
        {
          "output_type": "stream",
          "name": "stdout",
          "text": [
            "Digite sua media: 9\n",
            "Aprovado\n"
          ]
        }
      ]
    },
    {
      "cell_type": "markdown",
      "source": [
        "### **Rodando a IA no Google Colab (Gemini)**"
      ],
      "metadata": {
        "id": "nYJgf0wj-TkU"
      }
    },
    {
      "cell_type": "code",
      "source": [
        "import os\n",
        "\n",
        "from google.colab import userdata\n",
        "\n",
        "os.environ[\"GOOGLE_API_KEY\"] = userdata.get('Gemini_API_Key')"
      ],
      "metadata": {
        "id": "dGs8TPahUWJD"
      },
      "execution_count": 70,
      "outputs": []
    },
    {
      "cell_type": "code",
      "source": [
        "from google import genai\n",
        "\n",
        "client = genai.Client()"
      ],
      "metadata": {
        "id": "P6LEB1H6UWNC"
      },
      "execution_count": 75,
      "outputs": []
    },
    {
      "cell_type": "code",
      "source": [
        "resposta = client.models.generate_content(model='gemini-2.5-flash', contents=\"What is Generative AI ?\")"
      ],
      "metadata": {
        "id": "JOiaki2FUWQa"
      },
      "execution_count": 76,
      "outputs": []
    },
    {
      "cell_type": "code",
      "source": [
        "print(resposta.text)"
      ],
      "metadata": {
        "colab": {
          "base_uri": "https://localhost:8080/"
        },
        "id": "QwOupoe37Xng",
        "outputId": "dda7a1e0-196a-43a1-c56c-44e10a34c01a"
      },
      "execution_count": 77,
      "outputs": [
        {
          "output_type": "stream",
          "name": "stdout",
          "text": [
            "Generative AI is a type of artificial intelligence that can **create new, original content** that resembles the data it was trained on, but isn't just a copy. Unlike traditional AI that might analyze, classify, or predict, generative AI focuses on *producing* something new.\n",
            "\n",
            "Think of it this way:\n",
            "*   **Discriminative AI** (like the AI that detects spam or identifies objects in a photo) asks: \"Is this X or Y?\" or \"What is this?\"\n",
            "*   **Generative AI** asks: \"What could X look like?\" or \"Can I create a new X based on what I've seen?\"\n",
            "\n",
            "**Key Characteristics and How It Works:**\n",
            "\n",
            "1.  **Learns Patterns from Data:** Generative AI models are trained on massive datasets (e.g., millions of images, billions of text documents, hours of audio). During training, the model learns the underlying patterns, structures, styles, and relationships within that data. It builds a complex statistical model of *how things are put together*.\n",
            "2.  **Understands \"Rules\" (Statistically):** It doesn't \"understand\" in a human sense, but it learns the \"rules\" of the data distribution. For example, a text model learns grammar, syntax, common phrases, and even writing styles. An image model learns about composition, color theory, object shapes, and textures.\n",
            "3.  **Generates New Content:** Once trained, when given a \"prompt\" or input, the model uses its learned patterns to create something entirely new that adheres to those learned rules and the prompt's instructions. It essentially predicts what new content would be plausible and coherent given its training.\n",
            "4.  **Originality:** The output is not a direct copy of any single piece of its training data. Instead, it synthesizes new information by combining and transforming the patterns it has learned.\n",
            "\n",
            "**Common Types of Generative AI and Examples:**\n",
            "\n",
            "*   **Text Generation (Large Language Models - LLMs):**\n",
            "    *   **What it does:** Creates human-like text, writes stories, poems, articles, code, emails, answers questions, summarizes text, translates languages.\n",
            "    *   **Examples:** ChatGPT (OpenAI), Google Bard, Claude (Anthropic), Llama (Meta), GitHub Copilot (for code).\n",
            "\n",
            "*   **Image Generation (Text-to-Image Models):**\n",
            "    *   **What it does:** Generates images from text descriptions (prompts), creates photorealistic images, artwork, design concepts, modifies existing images.\n",
            "    *   **Examples:** DALL-E 2 (OpenAI), Midjourney, Stable Diffusion.\n",
            "\n",
            "*   **Audio/Music Generation:**\n",
            "    *   **What it does:** Synthesizes speech (text-to-speech), creates sound effects, generates original music compositions, clones voices.\n",
            "    *   **Examples:** Google Magenta, ElevenLabs (for voice synthesis).\n",
            "\n",
            "*   **Video Generation:**\n",
            "    *   **What it does:** Generates short video clips from text, animates still images, creates realistic virtual environments.\n",
            "    *   **Examples:** RunwayML, Sora (OpenAI, in development).\n",
            "\n",
            "*   **Code Generation:**\n",
            "    *   **What it does:** Writes code snippets, completes functions, suggests next lines of code, debugs, creates test cases.\n",
            "    *   **Examples:** GitHub Copilot, AlphaCode (DeepMind).\n",
            "\n",
            "**Underlying Technologies Often Used:**\n",
            "\n",
            "*   **Generative Adversarial Networks (GANs):** Two neural networks (a generator and a discriminator) compete against each other to produce increasingly realistic output.\n",
            "*   **Variational Autoencoders (VAEs):** Learn a compressed representation of data and then decode it to generate new samples.\n",
            "*   **Transformer Models:** Particularly dominant in LLMs and now increasingly in image and video generation, known for their ability to process sequential data and capture long-range dependencies.\n",
            "*   **Diffusion Models:** Currently very popular for image generation, these models learn to denoise a purely random input image step-by-step until it becomes a coherent image.\n",
            "\n",
            "**Why is it significant?**\n",
            "\n",
            "Generative AI has the potential to revolutionize creativity, content creation, research, and many industries by automating tasks, enabling new forms of expression, and accelerating innovation. However, it also brings challenges related to ethics, bias, misinformation, and the future of work.\n"
          ]
        }
      ]
    },
    {
      "cell_type": "markdown",
      "source": [
        "**Loops**"
      ],
      "metadata": {
        "id": "3-JH1iTKWPXt"
      }
    },
    {
      "cell_type": "code",
      "source": [
        "n = 1\n",
        "while n <= 5:\n",
        "  print(\"*\")\n",
        "  n += 1"
      ],
      "metadata": {
        "id": "qYlyMLMs7XqU",
        "outputId": "3249e792-d192-4e30-dcfe-d86acd0f7fdc",
        "colab": {
          "base_uri": "https://localhost:8080/"
        }
      },
      "execution_count": null,
      "outputs": [
        {
          "output_type": "stream",
          "name": "stdout",
          "text": [
            "*\n",
            "*\n",
            "*\n",
            "*\n",
            "*\n"
          ]
        }
      ]
    },
    {
      "cell_type": "code",
      "source": [
        "chat = client.chats.create(model='gemini-2.5-flash')"
      ],
      "metadata": {
        "id": "Im5Tr-RL-CgF"
      },
      "execution_count": null,
      "outputs": []
    },
    {
      "cell_type": "code",
      "source": [
        "resposta2 = chat.send_message(\"O que é a Inteligência Artificial ?\")"
      ],
      "metadata": {
        "id": "7VJzS54s-Cp9"
      },
      "execution_count": null,
      "outputs": []
    },
    {
      "cell_type": "code",
      "source": [
        "print(resposta2.text)"
      ],
      "metadata": {
        "id": "uGrwIQF0-Ct6",
        "outputId": "0978fe63-c368-435d-f1c7-8fd3658bc065",
        "colab": {
          "base_uri": "https://localhost:8080/"
        }
      },
      "execution_count": null,
      "outputs": [
        {
          "output_type": "stream",
          "name": "stdout",
          "text": [
            "A **Inteligência Artificial (IA)** é um campo da ciência da computação que se dedica a criar sistemas e máquinas capazes de **simular ou replicar capacidades cognitivas humanas**. Em termos mais simples, é fazer com que computadores e softwares consigam realizar tarefas que normalmente exigiriam inteligência humana.\n",
            "\n",
            "O objetivo principal da IA é desenvolver sistemas que possam:\n",
            "\n",
            "1.  **Aprender:** Adquirir conhecimento e habilidades a partir de dados, sem serem explicitamente programados para cada tarefa específica. (Ex: aprender a reconhecer um gato em fotos).\n",
            "2.  **Raciocinar:** Utilizar a lógica e o conhecimento para tomar decisões e resolver problemas. (Ex: um sistema de navegação que encontra a melhor rota).\n",
            "3.  **Perceber:** Interpretar informações sensoriais, como imagens (visão computacional) ou sons (reconhecimento de fala).\n",
            "4.  **Compreender a Linguagem Natural:** Processar e interpretar a linguagem humana falada ou escrita. (Ex: assistentes de voz como Siri ou Alexa).\n",
            "5.  **Manipular e Mover:** Interagir com o mundo físico, como robôs que realizam tarefas em fábricas.\n",
            "\n",
            "**Como funciona (de forma simplificada)?**\n",
            "\n",
            "Em vez de serem programados com cada regra e instrução para todas as situações possíveis (o que seria impraticável para tarefas complexas), os sistemas de IA são \"treinados\". Isso envolve:\n",
            "\n",
            "*   **Dados:** Alimentar o sistema com grandes volumes de dados (textos, imagens, áudios, números).\n",
            "*   **Algoritmos:** Usar algoritmos complexos que permitem ao sistema identificar padrões, fazer previsões, classificar informações e aprender com esses dados.\n",
            "*   **Modelos:** Construir modelos matemáticos que representam o conhecimento adquirido e que podem ser usados para tomar decisões ou realizar tarefas em situações novas.\n",
            "\n",
            "**Principais ramos da IA:**\n",
            "\n",
            "*   **Machine Learning (Aprendizado de Máquina):** É o pilar central da IA moderna, onde os sistemas aprendem a partir de dados sem programação explícita.\n",
            "*   **Deep Learning (Aprendizado Profundo):** Um subcampo do Machine Learning que utiliza redes neurais artificiais com múltiplas camadas (inspiradas no cérebro humano) para lidar com dados complexos, como imagens e voz.\n",
            "*   **Processamento de Linguagem Natural (PLN/NLP):** Foca na interação entre computadores e linguagem humana (análise de texto, tradução automática, chatbots).\n",
            "*   **Visão Computacional:** Permite que computadores \"vejam\" e interpretem imagens e vídeos (reconhecimento facial, carros autônomos).\n",
            "*   **Robótica:** Envolve o design, construção, operação e aplicação de robôs, muitas vezes integrando IA para navegação, manipulação e interação.\n",
            "\n",
            "**Exemplos no dia a dia:**\n",
            "\n",
            "*   **Assistentes Virtuais:** Siri, Google Assistant, Alexa.\n",
            "*   **Sistemas de Recomendação:** Netflix, Spotify, Amazon (sugerem produtos ou conteúdos).\n",
            "*   **Filtros de Spam e Detecção de Fraudes:** Identificam padrões incomuns.\n",
            "*   **Carros Autônomos:** Usam visão computacional e IA para navegar e tomar decisões.\n",
            "*   **Diagnóstico Médico:** Auxiliam médicos na análise de imagens e dados para identificar doenças.\n",
            "*   **Tradutores Automáticos:** Google Translate.\n",
            "\n",
            "A Inteligência Artificial é uma área vasta e em constante evolução, com o potencial de transformar praticamente todos os aspectos da nossa sociedade, desde a saúde e a educação até a indústria e o entretenimento.\n"
          ]
        }
      ]
    },
    {
      "cell_type": "code",
      "source": [],
      "metadata": {
        "id": "d3hMvre26pSE"
      },
      "execution_count": null,
      "outputs": []
    },
    {
      "cell_type": "code",
      "source": [
        "resposta3 = chat.send_message(\"Quando foi lançado o ChatGPT ?\")\n",
        "print(resposta3.text)\n"
      ],
      "metadata": {
        "id": "0lax2whO6vi8",
        "outputId": "68262f55-ba92-4a63-9305-e7cca456eb19",
        "colab": {
          "base_uri": "https://localhost:8080/"
        }
      },
      "execution_count": null,
      "outputs": [
        {
          "output_type": "stream",
          "name": "stdout",
          "text": [
            "O ChatGPT foi lançado publicamente pela OpenAI em **30 de novembro de 2022**.\n",
            "\n",
            "Foi lançado como um protótipo de chatbot baseado na família de modelos GPT-3.5, e rapidamente ganhou enorme popularidade, demonstrando ao público o poder da inteligência artificial conversacional.\n"
          ]
        }
      ]
    },
    {
      "cell_type": "code",
      "source": [
        "prompt = input(\"Digite sua pergunta: \")\n",
        "\n",
        "while prompt != \"fim\":\n",
        "  resposta4 = chat.send_message(prompt)\n",
        "  print(f\"{resposta4.text} \\n\")\n",
        "  prompt = input(\"Digite sua pergunta: \")\n",
        "\n",
        "  rint(resposta4.text)"
      ],
      "metadata": {
        "colab": {
          "base_uri": "https://localhost:8080/"
        },
        "id": "ulhh0U-N6phf",
        "outputId": "476c3211-410d-4d8f-cdf4-dd80b2f2f117"
      },
      "execution_count": null,
      "outputs": [
        {
          "name": "stdout",
          "output_type": "stream",
          "text": [
            "Digite sua pergunta: O que é a Inteligência Artificial ? REsponda sucintamente\n",
            "A **Inteligência Artificial (IA)** é a área da ciência da computação que cria **máquinas e sistemas capazes de simular a inteligência humana** para aprender, raciocinar, perceber e resolver problemas. \n",
            "\n",
            "Digite sua pergunta: Quando foi lançado o ChatGPT ?\n",
            "O ChatGPT foi lançado em **30 de novembro de 2022**. \n",
            "\n",
            "Digite sua pergunta: fim\n"
          ]
        }
      ]
    },
    {
      "cell_type": "code",
      "source": [],
      "metadata": {
        "id": "E7m4eQsDD8tn"
      },
      "execution_count": null,
      "outputs": []
    },
    {
      "cell_type": "markdown",
      "source": [
        "### Estruturas de Dados"
      ],
      "metadata": {
        "id": "F1IIs4jyT1SH"
      }
    },
    {
      "cell_type": "code",
      "source": [
        "lista_de_nomes = [\"Maria Silva\", \"João Santos\", \"Ana Oliveira\", \"Pedro Costa\", \"juliana Pereira\"]"
      ],
      "metadata": {
        "id": "CXidPaV7D8x_"
      },
      "execution_count": null,
      "outputs": []
    },
    {
      "cell_type": "code",
      "source": [
        "print(lista_de_nomes[3])"
      ],
      "metadata": {
        "colab": {
          "base_uri": "https://localhost:8080/"
        },
        "id": "yzq5cGZPUTIu",
        "outputId": "9d157e83-2fb7-4b6f-9621-7d7e429043de"
      },
      "execution_count": null,
      "outputs": [
        {
          "output_type": "stream",
          "name": "stdout",
          "text": [
            "Pedro Costa\n"
          ]
        }
      ]
    },
    {
      "cell_type": "code",
      "source": [
        "lista_de_medias = [8.9, 7.5, 4.2, 1.4, 9.5]"
      ],
      "metadata": {
        "id": "ub7ZyUPAUTL8"
      },
      "execution_count": null,
      "outputs": []
    },
    {
      "cell_type": "code",
      "source": [
        "print(lista_de_nomes[3])"
      ],
      "metadata": {
        "colab": {
          "base_uri": "https://localhost:8080/"
        },
        "id": "D2LFpaIgUTPN",
        "outputId": "9925b80c-1aa6-4a59-8f7b-065791e3e89a"
      },
      "execution_count": null,
      "outputs": [
        {
          "output_type": "stream",
          "name": "stdout",
          "text": [
            "Pedro Costa\n"
          ]
        }
      ]
    },
    {
      "cell_type": "code",
      "source": [
        "for i in range(len(lista_de_medias)):\n",
        "  lista_de_medias[i] = lista_de_medias[i] + 1.0\n",
        "  if lista_de_medias[i] > 10.0:\n",
        "    lista_de_medias[i] = 10.0\n",
        "  print(lista_de_medias[i])"
      ],
      "metadata": {
        "colab": {
          "base_uri": "https://localhost:8080/"
        },
        "id": "p12nKWipUTSN",
        "outputId": "da1e6136-eaf7-426d-d4ea-3b17ee1b31b3"
      },
      "execution_count": null,
      "outputs": [
        {
          "output_type": "stream",
          "name": "stdout",
          "text": [
            "10.0\n",
            "9.5\n",
            "6.2\n",
            "3.4\n",
            "10.0\n"
          ]
        }
      ]
    },
    {
      "cell_type": "code",
      "source": [
        "lista_de_medias = [8.9, 7.5, 4.2, 1.4, 9.5]"
      ],
      "metadata": {
        "id": "CzVxYdaHaO5G"
      },
      "execution_count": null,
      "outputs": []
    },
    {
      "cell_type": "code",
      "source": [
        "n = 0\n",
        "while n < len(lista_de_medias):\n",
        "  lista_de_medias[n] += 1.0\n",
        "  if lista_de_medias[n] > 10.0:\n",
        "    lista_de_medias[n] = 10.0\n",
        "  print(lista_de_medias[n])\n",
        "  n += 1"
      ],
      "metadata": {
        "colab": {
          "base_uri": "https://localhost:8080/"
        },
        "id": "jZbvdqTlUTVN",
        "outputId": "0eeb252d-cf8d-4e7e-ce51-ee98ad9a98cb"
      },
      "execution_count": null,
      "outputs": [
        {
          "output_type": "stream",
          "name": "stdout",
          "text": [
            "9.9\n",
            "8.5\n",
            "5.2\n",
            "2.4\n",
            "10.0\n"
          ]
        }
      ]
    },
    {
      "cell_type": "code",
      "source": [],
      "metadata": {
        "id": "cTT5XjwaZqUy"
      },
      "execution_count": null,
      "outputs": []
    },
    {
      "cell_type": "code",
      "source": [],
      "metadata": {
        "id": "SHzHpPt5ZqYX"
      },
      "execution_count": null,
      "outputs": []
    },
    {
      "cell_type": "code",
      "source": [],
      "metadata": {
        "id": "sAV00QWXZqcV"
      },
      "execution_count": null,
      "outputs": []
    },
    {
      "cell_type": "code",
      "source": [],
      "metadata": {
        "id": "RY6eSeG7ZqtC"
      },
      "execution_count": null,
      "outputs": []
    },
    {
      "cell_type": "code",
      "source": [],
      "metadata": {
        "id": "nK6LT53_6psL"
      },
      "execution_count": null,
      "outputs": []
    },
    {
      "cell_type": "code",
      "source": [],
      "metadata": {
        "id": "2H1FRq7v6pvu"
      },
      "execution_count": null,
      "outputs": []
    }
  ]
}