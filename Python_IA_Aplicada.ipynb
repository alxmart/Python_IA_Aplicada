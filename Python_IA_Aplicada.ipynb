{
  "nbformat": 4,
  "nbformat_minor": 0,
  "metadata": {
    "colab": {
      "provenance": [],
      "authorship_tag": "ABX9TyMr0ckXXbEJ47TgaHiGVe1t"
    },
    "kernelspec": {
      "name": "python3",
      "display_name": "Python 3"
    },
    "language_info": {
      "name": "python"
    }
  },
  "cells": [
    {
      "cell_type": "code",
      "execution_count": 10,
      "metadata": {
        "colab": {
          "base_uri": "https://localhost:8080/"
        },
        "id": "4TL3NdShNBC6",
        "outputId": "c61bc2c6-da06-4cd3-901c-db0ede67614a"
      },
      "outputs": [
        {
          "output_type": "execute_result",
          "data": {
            "text/plain": [
              "5"
            ]
          },
          "metadata": {},
          "execution_count": 10
        }
      ],
      "source": [
        "5"
      ]
    },
    {
      "cell_type": "code",
      "source": [
        "print(5)"
      ],
      "metadata": {
        "colab": {
          "base_uri": "https://localhost:8080/"
        },
        "id": "GRQB0MiGOLKX",
        "outputId": "9248e491-58a9-4488-de69-fd44c9f67e5c"
      },
      "execution_count": 11,
      "outputs": [
        {
          "output_type": "stream",
          "name": "stdout",
          "text": [
            "5\n"
          ]
        }
      ]
    },
    {
      "cell_type": "code",
      "source": [
        "print(\"Hello World !\")"
      ],
      "metadata": {
        "colab": {
          "base_uri": "https://localhost:8080/"
        },
        "id": "8Kmty75QNMIu",
        "outputId": "0d1dbb7d-7f9c-4c4a-ca88-f8dadb3481ad"
      },
      "execution_count": 12,
      "outputs": [
        {
          "output_type": "stream",
          "name": "stdout",
          "text": [
            "Hello World !\n"
          ]
        }
      ]
    },
    {
      "cell_type": "code",
      "source": [
        "print('Hello World !')"
      ],
      "metadata": {
        "colab": {
          "base_uri": "https://localhost:8080/"
        },
        "id": "2G-mdnRmNMOp",
        "outputId": "0f5e268e-af51-459b-a0da-d163fb3a9b1f"
      },
      "execution_count": 13,
      "outputs": [
        {
          "output_type": "stream",
          "name": "stdout",
          "text": [
            "Hello World !\n"
          ]
        }
      ]
    },
    {
      "cell_type": "code",
      "source": [
        "print(\"Olá Mundo ! \" + \"5\")"
      ],
      "metadata": {
        "colab": {
          "base_uri": "https://localhost:8080/"
        },
        "id": "yLGq538iOnLw",
        "outputId": "88c8d31a-5ab4-44de-b820-cdc6cf60f6b0"
      },
      "execution_count": 14,
      "outputs": [
        {
          "output_type": "stream",
          "name": "stdout",
          "text": [
            "Olá Mundo ! 5\n"
          ]
        }
      ]
    },
    {
      "cell_type": "code",
      "source": [
        "5 + 2"
      ],
      "metadata": {
        "colab": {
          "base_uri": "https://localhost:8080/"
        },
        "id": "PMtH1rBNPA1d",
        "outputId": "a88fe922-08fc-456b-c5f3-33827beb09a9"
      },
      "execution_count": 15,
      "outputs": [
        {
          "output_type": "execute_result",
          "data": {
            "text/plain": [
              "7"
            ]
          },
          "metadata": {},
          "execution_count": 15
        }
      ]
    },
    {
      "cell_type": "code",
      "source": [
        "print(5 + 2)"
      ],
      "metadata": {
        "colab": {
          "base_uri": "https://localhost:8080/"
        },
        "id": "_wLU8f6jQcWJ",
        "outputId": "3d8453c3-1b5b-4f44-8c0b-7f356f8e41c0"
      },
      "execution_count": 16,
      "outputs": [
        {
          "output_type": "stream",
          "name": "stdout",
          "text": [
            "7\n"
          ]
        }
      ]
    },
    {
      "cell_type": "code",
      "source": [
        "produto1 = 5.00"
      ],
      "metadata": {
        "id": "TJUlryW1QgWp"
      },
      "execution_count": 17,
      "outputs": []
    },
    {
      "cell_type": "code",
      "source": [
        "produto1"
      ],
      "metadata": {
        "colab": {
          "base_uri": "https://localhost:8080/"
        },
        "id": "JMmhf6CPWyMz",
        "outputId": "b709b560-158d-4dd8-ac16-aed369b91262"
      },
      "execution_count": 18,
      "outputs": [
        {
          "output_type": "execute_result",
          "data": {
            "text/plain": [
              "5.0"
            ]
          },
          "metadata": {},
          "execution_count": 18
        }
      ]
    },
    {
      "cell_type": "code",
      "source": [
        "print(produto1)"
      ],
      "metadata": {
        "colab": {
          "base_uri": "https://localhost:8080/"
        },
        "id": "3ULtReFRW6yW",
        "outputId": "40cfcee0-f4f5-4e44-a55e-4d09082a2356"
      },
      "execution_count": 19,
      "outputs": [
        {
          "output_type": "stream",
          "name": "stdout",
          "text": [
            "5.0\n"
          ]
        }
      ]
    },
    {
      "cell_type": "code",
      "source": [
        "produto2 = 2000.00"
      ],
      "metadata": {
        "id": "OO9VuVgLNMTt"
      },
      "execution_count": 20,
      "outputs": []
    },
    {
      "cell_type": "code",
      "source": [
        "print(produto2)"
      ],
      "metadata": {
        "colab": {
          "base_uri": "https://localhost:8080/"
        },
        "id": "j2Mwh4sFXDEu",
        "outputId": "85de6edb-6a98-44b5-eaf1-0c0677b6c077"
      },
      "execution_count": 21,
      "outputs": [
        {
          "output_type": "stream",
          "name": "stdout",
          "text": [
            "2000.0\n"
          ]
        }
      ]
    },
    {
      "cell_type": "code",
      "source": [
        "produto3 = 1.00"
      ],
      "metadata": {
        "id": "_fXu8hvsNMYv"
      },
      "execution_count": 22,
      "outputs": []
    },
    {
      "cell_type": "code",
      "source": [
        "print(produto1 + produto2 + produto3)"
      ],
      "metadata": {
        "id": "wdnykXJONMdm",
        "colab": {
          "base_uri": "https://localhost:8080/"
        },
        "outputId": "3614f683-793a-42ad-e2b8-4555246ae560"
      },
      "execution_count": 23,
      "outputs": [
        {
          "output_type": "stream",
          "name": "stdout",
          "text": [
            "2006.0\n"
          ]
        }
      ]
    },
    {
      "cell_type": "code",
      "source": [
        "nome_do_produto1 = \"Macarrão\""
      ],
      "metadata": {
        "id": "_Eq71fzINMiG"
      },
      "execution_count": 24,
      "outputs": []
    },
    {
      "cell_type": "code",
      "source": [
        "nome_do_produto2 = \"Celular\""
      ],
      "metadata": {
        "id": "94lcodEHNMmw"
      },
      "execution_count": 25,
      "outputs": []
    },
    {
      "cell_type": "code",
      "source": [
        "nome_do_produto3 = \"Bala\""
      ],
      "metadata": {
        "id": "QWDotFnrNMrv"
      },
      "execution_count": 26,
      "outputs": []
    },
    {
      "cell_type": "code",
      "source": [
        "print(nome_do_produto1 + \" \" + nome_do_produto2 + \" \" + nome_do_produto3)"
      ],
      "metadata": {
        "colab": {
          "base_uri": "https://localhost:8080/"
        },
        "id": "-JbiJgM3XXOu",
        "outputId": "690e637c-47a5-4a5e-827c-2956ac62f56b"
      },
      "execution_count": 27,
      "outputs": [
        {
          "output_type": "stream",
          "name": "stdout",
          "text": [
            "Macarrão Celular Bala\n"
          ]
        }
      ]
    },
    {
      "cell_type": "code",
      "source": [
        "amigos = 5\n",
        "aluguel = 1000.00\n",
        "supermercado = 500.00\n",
        "carro = 400.00"
      ],
      "metadata": {
        "id": "ebFzePmIXdl7"
      },
      "execution_count": 28,
      "outputs": []
    },
    {
      "cell_type": "code",
      "source": [
        "total = aluguel + supermercado + carro"
      ],
      "metadata": {
        "id": "uGd4v-LXYZcQ"
      },
      "execution_count": 29,
      "outputs": []
    },
    {
      "cell_type": "code",
      "source": [
        "print(total)"
      ],
      "metadata": {
        "colab": {
          "base_uri": "https://localhost:8080/"
        },
        "id": "xCjZjbowYgjN",
        "outputId": "4c28e1ac-e4ec-48e4-8dc9-9b60b526e00e"
      },
      "execution_count": 30,
      "outputs": [
        {
          "output_type": "stream",
          "name": "stdout",
          "text": [
            "1900.0\n"
          ]
        }
      ]
    },
    {
      "cell_type": "code",
      "source": [
        "aluguel = 900.0"
      ],
      "metadata": {
        "id": "1Oh-7c_FYp5X"
      },
      "execution_count": 31,
      "outputs": []
    },
    {
      "cell_type": "code",
      "source": [
        "print(total)"
      ],
      "metadata": {
        "colab": {
          "base_uri": "https://localhost:8080/"
        },
        "id": "D_gY48A7YvWb",
        "outputId": "6cba556f-bfcd-45a0-b5db-2a06d02173ce"
      },
      "execution_count": 32,
      "outputs": [
        {
          "output_type": "stream",
          "name": "stdout",
          "text": [
            "1900.0\n"
          ]
        }
      ]
    },
    {
      "cell_type": "code",
      "source": [
        "total = aluguel + supermercado + carro"
      ],
      "metadata": {
        "id": "GToJeChjYx-c"
      },
      "execution_count": 33,
      "outputs": []
    },
    {
      "cell_type": "code",
      "source": [
        "print(total)"
      ],
      "metadata": {
        "colab": {
          "base_uri": "https://localhost:8080/"
        },
        "id": "EtIGlaYHY86P",
        "outputId": "770a21e1-a026-4674-f8c4-30c5c2aea224"
      },
      "execution_count": 34,
      "outputs": [
        {
          "output_type": "stream",
          "name": "stdout",
          "text": [
            "1800.0\n"
          ]
        }
      ]
    },
    {
      "cell_type": "code",
      "source": [
        "print(aluguel)"
      ],
      "metadata": {
        "colab": {
          "base_uri": "https://localhost:8080/"
        },
        "id": "wpUQLdSZY-ZA",
        "outputId": "0bc3bd4a-34f5-488c-b579-9b51fc003949"
      },
      "execution_count": 35,
      "outputs": [
        {
          "output_type": "stream",
          "name": "stdout",
          "text": [
            "900.0\n"
          ]
        }
      ]
    },
    {
      "cell_type": "code",
      "source": [
        "aluguel -= 100.0"
      ],
      "metadata": {
        "id": "lNZhqANQZWbk"
      },
      "execution_count": 36,
      "outputs": []
    },
    {
      "cell_type": "code",
      "source": [
        "print(aluguel)"
      ],
      "metadata": {
        "colab": {
          "base_uri": "https://localhost:8080/"
        },
        "id": "qhA0E3ZJZYvQ",
        "outputId": "04ab8504-3abb-4813-b7de-83d1360825ef"
      },
      "execution_count": 37,
      "outputs": [
        {
          "output_type": "stream",
          "name": "stdout",
          "text": [
            "800.0\n"
          ]
        }
      ]
    },
    {
      "cell_type": "code",
      "source": [
        "aluguel -= 100.0"
      ],
      "metadata": {
        "id": "pOi4TEjQZaTt"
      },
      "execution_count": 38,
      "outputs": []
    },
    {
      "cell_type": "code",
      "source": [
        "print(aluguel)"
      ],
      "metadata": {
        "colab": {
          "base_uri": "https://localhost:8080/"
        },
        "id": "zffiADcjYwj5",
        "outputId": "9fda6714-5f46-4237-d5b1-4a55a2fd14f9"
      },
      "execution_count": 39,
      "outputs": [
        {
          "output_type": "stream",
          "name": "stdout",
          "text": [
            "700.0\n"
          ]
        }
      ]
    },
    {
      "cell_type": "code",
      "source": [
        "amigos = 6\n",
        "aluguel = 1000.00\n",
        "supermercado = 500.00\n",
        "carro = 400.00"
      ],
      "metadata": {
        "id": "o9RDRcheYkLU"
      },
      "execution_count": 40,
      "outputs": []
    },
    {
      "cell_type": "code",
      "source": [
        "print(amigos)"
      ],
      "metadata": {
        "id": "eqohovxLNNSS",
        "colab": {
          "base_uri": "https://localhost:8080/"
        },
        "outputId": "14161598-cf76-46e5-b012-366b44b7409f"
      },
      "execution_count": 41,
      "outputs": [
        {
          "output_type": "stream",
          "name": "stdout",
          "text": [
            "6\n"
          ]
        }
      ]
    },
    {
      "cell_type": "code",
      "source": [
        "total_de_carro = carro * 2"
      ],
      "metadata": {
        "id": "vvyNh1i5aPuk"
      },
      "execution_count": 42,
      "outputs": []
    },
    {
      "cell_type": "code",
      "source": [
        "total = aluguel + supermercado + total_de_carro"
      ],
      "metadata": {
        "id": "M6THF_ZCb1rJ"
      },
      "execution_count": 43,
      "outputs": []
    },
    {
      "cell_type": "code",
      "source": [
        "print(total)"
      ],
      "metadata": {
        "colab": {
          "base_uri": "https://localhost:8080/"
        },
        "id": "19Nwt0kRb5JD",
        "outputId": "5a204752-6a68-493b-c581-995135eec399"
      },
      "execution_count": 44,
      "outputs": [
        {
          "output_type": "stream",
          "name": "stdout",
          "text": [
            "2300.0\n"
          ]
        }
      ]
    },
    {
      "cell_type": "code",
      "source": [
        "total_por_pessoa = total / amigos"
      ],
      "metadata": {
        "id": "P8ZpoRvCb6OS"
      },
      "execution_count": 45,
      "outputs": []
    },
    {
      "cell_type": "code",
      "source": [
        "print(total_por_pessoa)"
      ],
      "metadata": {
        "colab": {
          "base_uri": "https://localhost:8080/"
        },
        "id": "ovIy3NuCcH_T",
        "outputId": "98a20bcd-8123-4db9-ed93-356d4ab5d5d8"
      },
      "execution_count": 46,
      "outputs": [
        {
          "output_type": "stream",
          "name": "stdout",
          "text": [
            "383.3333333333333\n"
          ]
        }
      ]
    },
    {
      "cell_type": "code",
      "source": [
        "type(aluguel)"
      ],
      "metadata": {
        "colab": {
          "base_uri": "https://localhost:8080/"
        },
        "id": "lJEMOpeIXZ2s",
        "outputId": "ef36a003-a2ff-4a16-cfb8-254a5155a747"
      },
      "execution_count": 47,
      "outputs": [
        {
          "output_type": "execute_result",
          "data": {
            "text/plain": [
              "float"
            ]
          },
          "metadata": {},
          "execution_count": 47
        }
      ]
    },
    {
      "cell_type": "code",
      "source": [
        "type(total_por_pessoa)"
      ],
      "metadata": {
        "colab": {
          "base_uri": "https://localhost:8080/"
        },
        "id": "wsiZ-VxGdNhv",
        "outputId": "8fff5cea-ca99-4161-9099-ec1306637b4c"
      },
      "execution_count": 48,
      "outputs": [
        {
          "output_type": "execute_result",
          "data": {
            "text/plain": [
              "float"
            ]
          },
          "metadata": {},
          "execution_count": 48
        }
      ]
    },
    {
      "cell_type": "code",
      "source": [
        "type(nome_do_produto1)"
      ],
      "metadata": {
        "colab": {
          "base_uri": "https://localhost:8080/"
        },
        "id": "DQW4-Z5xdTvS",
        "outputId": "97459c57-c60a-43ba-de77-6880c4f89ea9"
      },
      "execution_count": 49,
      "outputs": [
        {
          "output_type": "execute_result",
          "data": {
            "text/plain": [
              "str"
            ]
          },
          "metadata": {},
          "execution_count": 49
        }
      ]
    },
    {
      "cell_type": "code",
      "source": [
        "pedro_tem_carteira_motorista = True\n",
        "\n",
        "mario_tem_carteira_motorista = False"
      ],
      "metadata": {
        "id": "VZVA4MobXZ6Q"
      },
      "execution_count": 50,
      "outputs": []
    },
    {
      "cell_type": "code",
      "source": [
        "type(pedro_tem_carteira_motorista)"
      ],
      "metadata": {
        "colab": {
          "base_uri": "https://localhost:8080/"
        },
        "id": "kJhtBHfNdnh5",
        "outputId": "08525f90-2873-411f-ed6d-57dae9830c7a"
      },
      "execution_count": 51,
      "outputs": [
        {
          "output_type": "execute_result",
          "data": {
            "text/plain": [
              "bool"
            ]
          },
          "metadata": {},
          "execution_count": 51
        }
      ]
    },
    {
      "cell_type": "code",
      "source": [
        "type(mario_tem_carteira_motorista)"
      ],
      "metadata": {
        "colab": {
          "base_uri": "https://localhost:8080/"
        },
        "id": "FlUabwKtdqx6",
        "outputId": "825b2dab-d5d7-47e7-9bf7-1a72869a3c53"
      },
      "execution_count": 52,
      "outputs": [
        {
          "output_type": "execute_result",
          "data": {
            "text/plain": [
              "bool"
            ]
          },
          "metadata": {},
          "execution_count": 52
        }
      ]
    },
    {
      "cell_type": "code",
      "source": [
        "texto = \"    Fabrício CARRaro  da alura   \"\n",
        "print(texto)"
      ],
      "metadata": {
        "colab": {
          "base_uri": "https://localhost:8080/"
        },
        "id": "S36WcYXedsxy",
        "outputId": "f9dcb05e-180d-4ba8-ba5e-1c1dc6a02122"
      },
      "execution_count": 53,
      "outputs": [
        {
          "output_type": "stream",
          "name": "stdout",
          "text": [
            "    Fabrício CARRaro  da alura   \n"
          ]
        }
      ]
    },
    {
      "cell_type": "code",
      "source": [
        "print(texto.lower())"
      ],
      "metadata": {
        "colab": {
          "base_uri": "https://localhost:8080/"
        },
        "id": "7N776qgbde25",
        "outputId": "01c1b7a6-abae-4027-f265-4763dd020699"
      },
      "execution_count": 54,
      "outputs": [
        {
          "output_type": "stream",
          "name": "stdout",
          "text": [
            "    fabrício carraro  da alura   \n"
          ]
        }
      ]
    },
    {
      "cell_type": "code",
      "source": [
        "print(texto.upper())\n",
        "\n"
      ],
      "metadata": {
        "id": "0Vj7inoiifiA",
        "outputId": "9d2298d1-dd12-447e-ac56-3d6bfc864495",
        "colab": {
          "base_uri": "https://localhost:8080/"
        }
      },
      "execution_count": 55,
      "outputs": [
        {
          "output_type": "stream",
          "name": "stdout",
          "text": [
            "    FABRÍCIO CARRARO  DA ALURA   \n"
          ]
        }
      ]
    },
    {
      "cell_type": "code",
      "source": [
        "print(texto.strip())"
      ],
      "metadata": {
        "id": "cGqrdz8zipkd",
        "outputId": "75c61e50-1f57-4059-8fbd-1698d60b8217",
        "colab": {
          "base_uri": "https://localhost:8080/"
        }
      },
      "execution_count": 56,
      "outputs": [
        {
          "output_type": "stream",
          "name": "stdout",
          "text": [
            "Fabrício CARRaro  da alura\n"
          ]
        }
      ]
    },
    {
      "cell_type": "code",
      "source": [
        "print(texto.replace(\"  \",\" \"))"
      ],
      "metadata": {
        "id": "ABjx6ULLit_F",
        "outputId": "437a4e07-b6c2-4c1d-87c9-eb83eedaaaf2",
        "colab": {
          "base_uri": "https://localhost:8080/"
        }
      },
      "execution_count": 57,
      "outputs": [
        {
          "output_type": "stream",
          "name": "stdout",
          "text": [
            "  Fabrício CARRaro da alura  \n"
          ]
        }
      ]
    },
    {
      "cell_type": "code",
      "source": [
        "texto = texto.strip().upper().replace(\"  \", \" \")"
      ],
      "metadata": {
        "id": "9Ij6teekjDhk"
      },
      "execution_count": 58,
      "outputs": []
    },
    {
      "cell_type": "code",
      "source": [
        "print(texto)"
      ],
      "metadata": {
        "id": "TJCqh1UxjoR-",
        "outputId": "e9df87d4-0e41-4f90-825d-08085b8b4338",
        "colab": {
          "base_uri": "https://localhost:8080/"
        }
      },
      "execution_count": 59,
      "outputs": [
        {
          "output_type": "stream",
          "name": "stdout",
          "text": [
            "FABRÍCIO CARRARO DA ALURA\n"
          ]
        }
      ]
    },
    {
      "cell_type": "code",
      "source": [
        "nome = input(\"Digite seu nome: \")"
      ],
      "metadata": {
        "id": "BwKDDXbfjp3c",
        "colab": {
          "base_uri": "https://localhost:8080/"
        },
        "outputId": "5a3b9a53-be06-4406-de53-4f3ba901873f"
      },
      "execution_count": 60,
      "outputs": [
        {
          "name": "stdout",
          "output_type": "stream",
          "text": [
            "Digite seu nome: John Doe\n"
          ]
        }
      ]
    },
    {
      "cell_type": "code",
      "source": [
        "print(nome)"
      ],
      "metadata": {
        "id": "VIT9iQsJipsQ",
        "colab": {
          "base_uri": "https://localhost:8080/"
        },
        "outputId": "47e4eaab-6fa2-4a5c-c417-0956b7e399cc"
      },
      "execution_count": 61,
      "outputs": [
        {
          "output_type": "stream",
          "name": "stdout",
          "text": [
            "John Doe\n"
          ]
        }
      ]
    },
    {
      "cell_type": "code",
      "source": [
        "idade = input(\"Digite sua idade: \")"
      ],
      "metadata": {
        "colab": {
          "base_uri": "https://localhost:8080/"
        },
        "id": "8OxkQz8q7FlS",
        "outputId": "395a3583-7884-4796-da94-b53d18c0c413"
      },
      "execution_count": 62,
      "outputs": [
        {
          "name": "stdout",
          "output_type": "stream",
          "text": [
            "Digite sua idade: 19\n"
          ]
        }
      ]
    },
    {
      "cell_type": "code",
      "source": [
        "print(idade)"
      ],
      "metadata": {
        "id": "gNaMDipDip01",
        "colab": {
          "base_uri": "https://localhost:8080/"
        },
        "outputId": "72b7c6a4-d65f-4ef7-ede1-376bc1d3aee0"
      },
      "execution_count": 63,
      "outputs": [
        {
          "output_type": "stream",
          "name": "stdout",
          "text": [
            "19\n"
          ]
        }
      ]
    },
    {
      "cell_type": "code",
      "source": [
        "type(nome)"
      ],
      "metadata": {
        "colab": {
          "base_uri": "https://localhost:8080/"
        },
        "id": "lQtL1wn07XVz",
        "outputId": "e365f161-fc36-4e3f-aa7d-be690ff357cb"
      },
      "execution_count": 64,
      "outputs": [
        {
          "output_type": "execute_result",
          "data": {
            "text/plain": [
              "str"
            ]
          },
          "metadata": {},
          "execution_count": 64
        }
      ]
    },
    {
      "cell_type": "code",
      "source": [
        "type(idade)"
      ],
      "metadata": {
        "colab": {
          "base_uri": "https://localhost:8080/"
        },
        "id": "9R6a0XdC7XZc",
        "outputId": "68501c32-e4a4-4f3b-ee9b-f13422af73b9"
      },
      "execution_count": 65,
      "outputs": [
        {
          "output_type": "execute_result",
          "data": {
            "text/plain": [
              "str"
            ]
          },
          "metadata": {},
          "execution_count": 65
        }
      ]
    },
    {
      "cell_type": "code",
      "source": [
        "idade = int(idade)"
      ],
      "metadata": {
        "id": "r6bvVZAI7Xc2"
      },
      "execution_count": 66,
      "outputs": []
    },
    {
      "cell_type": "code",
      "source": [
        "type(idade)"
      ],
      "metadata": {
        "colab": {
          "base_uri": "https://localhost:8080/"
        },
        "id": "gyTBbEZD7Xgh",
        "outputId": "c092f6db-537a-4bc7-ed5a-69d8bd6b3c36"
      },
      "execution_count": 67,
      "outputs": [
        {
          "output_type": "execute_result",
          "data": {
            "text/plain": [
              "int"
            ]
          },
          "metadata": {},
          "execution_count": 67
        }
      ]
    },
    {
      "cell_type": "code",
      "source": [
        "print(f'A pessoa se chama {nome} e tem {idade} anos de idade')"
      ],
      "metadata": {
        "colab": {
          "base_uri": "https://localhost:8080/"
        },
        "id": "vXPbXhRD7-IX",
        "outputId": "7da9dbc4-089e-4371-8326-3d66bbd59044"
      },
      "execution_count": 68,
      "outputs": [
        {
          "output_type": "stream",
          "name": "stdout",
          "text": [
            "A pessoa se chama John Doe e tem 19 anos de idade\n"
          ]
        }
      ]
    },
    {
      "cell_type": "code",
      "source": [
        "idade = int(input(\"Digite sua idade: \"))"
      ],
      "metadata": {
        "colab": {
          "base_uri": "https://localhost:8080/"
        },
        "id": "ZrX38-5h7-Ni",
        "outputId": "b06c39db-a5cd-441f-d8dd-533917c559b3"
      },
      "execution_count": 69,
      "outputs": [
        {
          "name": "stdout",
          "output_type": "stream",
          "text": [
            "Digite sua idade: 15\n"
          ]
        }
      ]
    },
    {
      "cell_type": "code",
      "source": [
        "type(idade)"
      ],
      "metadata": {
        "colab": {
          "base_uri": "https://localhost:8080/"
        },
        "id": "Iq1FL1Kt7-gC",
        "outputId": "80fee13d-b39d-4afe-ceb9-5a8ea34fc6b9"
      },
      "execution_count": 70,
      "outputs": [
        {
          "output_type": "execute_result",
          "data": {
            "text/plain": [
              "int"
            ]
          },
          "metadata": {},
          "execution_count": 70
        }
      ]
    },
    {
      "cell_type": "code",
      "source": [
        "if idade >= 18:\n",
        "    print(f\"O {nome} pode entrar na festa porque ele é maior de idade\")\n",
        "    print(f\"Ele tem {idade} anos de idade\")\n",
        "else:\n",
        "    print(\"Menor de idade\")"
      ],
      "metadata": {
        "colab": {
          "base_uri": "https://localhost:8080/"
        },
        "id": "g-ioxhUf7XjZ",
        "outputId": "cb8634ca-700d-4a7e-9e3b-0995788ad6e5"
      },
      "execution_count": 71,
      "outputs": [
        {
          "output_type": "stream",
          "name": "stdout",
          "text": [
            "Menor de idade\n"
          ]
        }
      ]
    },
    {
      "cell_type": "code",
      "source": [
        "media = float(input(\"Digite sua media: \"))"
      ],
      "metadata": {
        "colab": {
          "base_uri": "https://localhost:8080/"
        },
        "id": "FM2X49E0UV9O",
        "outputId": "a3620f01-a24f-4fe6-9311-bf4c4696c685"
      },
      "execution_count": 72,
      "outputs": [
        {
          "name": "stdout",
          "output_type": "stream",
          "text": [
            "Digite sua media: 5\n"
          ]
        }
      ]
    },
    {
      "cell_type": "code",
      "source": [
        "media = float(input(\"Digite sua media: \"))\n",
        "\n",
        "if media >= 7.0:\n",
        "  print(\"Aprovado\")\n",
        "elif media >= 5.0 and media < 7.0:\n",
        "  print(\"Recuperação\")\n",
        "else:\n",
        "  print(\"Reprovado\")"
      ],
      "metadata": {
        "colab": {
          "base_uri": "https://localhost:8080/"
        },
        "id": "YEPsk14bUWDs",
        "outputId": "dd1562e1-7a1b-4cb2-912f-0babb3652861"
      },
      "execution_count": 73,
      "outputs": [
        {
          "output_type": "stream",
          "name": "stdout",
          "text": [
            "Digite sua media: 9\n",
            "Aprovado\n"
          ]
        }
      ]
    },
    {
      "cell_type": "markdown",
      "source": [
        "### **Rodando a IA no Google Colab (Gemini)**"
      ],
      "metadata": {
        "id": "nYJgf0wj-TkU"
      }
    },
    {
      "cell_type": "code",
      "source": [
        "import os\n",
        "\n",
        "from google.colab import userdata\n",
        "\n",
        "os.environ[\"GOOGLE_API_KEY\"] = userdata.get('Gemini_API_Key')"
      ],
      "metadata": {
        "id": "dGs8TPahUWJD"
      },
      "execution_count": 74,
      "outputs": []
    },
    {
      "cell_type": "code",
      "source": [
        "from google import genai\n",
        "\n",
        "client = genai.Client()"
      ],
      "metadata": {
        "id": "P6LEB1H6UWNC"
      },
      "execution_count": 75,
      "outputs": []
    },
    {
      "cell_type": "code",
      "source": [
        "resposta = client.models.generate_content(model='gemini-2.5-flash', contents=\"What is Generative AI ?\")"
      ],
      "metadata": {
        "id": "JOiaki2FUWQa"
      },
      "execution_count": 76,
      "outputs": []
    },
    {
      "cell_type": "code",
      "source": [
        "print(resposta.text)"
      ],
      "metadata": {
        "colab": {
          "base_uri": "https://localhost:8080/"
        },
        "id": "QwOupoe37Xng",
        "outputId": "d84d6b88-5e5b-46cb-cee2-11664e560101"
      },
      "execution_count": 77,
      "outputs": [
        {
          "output_type": "stream",
          "name": "stdout",
          "text": [
            "**Generative AI** is a category of artificial intelligence models that can **generate new, original content** based on patterns learned from vast amounts of existing data. Unlike traditional AI that might classify, predict, or analyze existing data, generative AI's primary function is to *create*.\n",
            "\n",
            "Here's a breakdown of what that means:\n",
            "\n",
            "1.  **Learning Patterns:** Generative AI models are trained on massive datasets (e.g., billions of text documents, millions of images, hours of audio). During this training, they learn the underlying structures, styles, relationships, and characteristics of the data. For instance, a text model learns grammar, syntax, common phrases, and various writing styles, while an image model learns what objects look like, how light interacts with them, and artistic styles.\n",
            "\n",
            "2.  **Generating New Content:** Once trained, the model can then take a \"prompt\" (an input or instruction, often in natural language) and use its learned knowledge to produce novel output that resembles the training data but is entirely new. It's not copying existing content; it's creating something unique based on its understanding of how such content is structured.\n",
            "\n",
            "**How it Works (Simplified):**\n",
            "\n",
            "Imagine an AI that has read every book ever written. When you ask it to \"write a short story about a detective solving a mystery in space,\" it doesn't search for an existing story. Instead, it uses its understanding of storytelling, detective tropes, science fiction elements, grammar, and vocabulary to construct a brand-new narrative.\n",
            "\n",
            "**Key Characteristics & Capabilities:**\n",
            "\n",
            "*   **Novelty:** Produces genuinely new, never-before-seen content.\n",
            "*   **Coherence/Realism:** The generated output often looks, sounds, or reads realistic and coherent, making it difficult to distinguish from human-created content.\n",
            "*   **Creativity (Simulated):** While not creative in a human sense, it can combine elements and patterns in surprising and innovative ways, leading to seemingly \"creative\" outputs.\n",
            "*   **Versatility:** Can generate a wide range of content types.\n",
            "*   **Prompt-Driven:** Users guide the generation process with specific instructions.\n",
            "\n",
            "**Examples of What Generative AI Can Create:**\n",
            "\n",
            "*   **Text:**\n",
            "    *   Stories, poems, scripts\n",
            "    *   Emails, articles, summaries\n",
            "    *   Code snippets, debug suggestions\n",
            "    *   Translations, different language styles (e.g., formal to informal)\n",
            "    *   (Examples: ChatGPT, Bard/Gemini, Llama)\n",
            "*   **Images:**\n",
            "    *   Realistic photos of people, places, or objects (that don't exist)\n",
            "    *   Art in various styles (e.g., impressionistic, futuristic)\n",
            "    *   Logos, design elements\n",
            "    *   Image modifications (e.g., changing time of day, adding elements)\n",
            "    *   (Examples: DALL-E, Midjourney, Stable Diffusion)\n",
            "*   **Audio:**\n",
            "    *   Music in different genres and styles\n",
            "    *   Speech synthesis (text-to-speech) in various voices and emotions\n",
            "    *   Sound effects\n",
            "    *   (Examples: Google's AudioLM, ElevenLabs)\n",
            "*   **Video:**\n",
            "    *   Short video clips from text prompts\n",
            "    *   Animations, deepfakes\n",
            "    *   (Examples: RunwayML, Pika Labs)\n",
            "*   **3D Models:**\n",
            "    *   Generate 3D objects for games, virtual reality, or product design.\n",
            "\n",
            "**Why is it Significant?**\n",
            "\n",
            "Generative AI is a powerful technological leap because it moves AI from analysis to creation. It has the potential to:\n",
            "\n",
            "*   **Automate and accelerate content creation** across many industries.\n",
            "*   **Empower individuals** to create high-quality content without specialized skills.\n",
            "*   **Spur innovation** by rapidly prototyping ideas or generating novel solutions.\n",
            "*   **Personalize experiences** on an unprecedented scale.\n",
            "\n",
            "However, it also presents challenges related to ethical use, copyright, misinformation, and the potential impact on various job markets.\n"
          ]
        }
      ]
    },
    {
      "cell_type": "markdown",
      "source": [
        "**Loops**"
      ],
      "metadata": {
        "id": "3-JH1iTKWPXt"
      }
    },
    {
      "cell_type": "code",
      "source": [
        "n = 1\n",
        "\n",
        "while n <= 5:\n",
        "  print(\"*\")\n",
        "  n += 1"
      ],
      "metadata": {
        "id": "qYlyMLMs7XqU",
        "outputId": "34f99853-fd8e-4504-cca7-0301388cc697",
        "colab": {
          "base_uri": "https://localhost:8080/"
        }
      },
      "execution_count": 78,
      "outputs": [
        {
          "output_type": "stream",
          "name": "stdout",
          "text": [
            "*\n",
            "*\n",
            "*\n",
            "*\n",
            "*\n"
          ]
        }
      ]
    },
    {
      "cell_type": "code",
      "source": [
        "chat = client.chats.create(model='gemini-2.5-flash')"
      ],
      "metadata": {
        "id": "Im5Tr-RL-CgF"
      },
      "execution_count": 79,
      "outputs": []
    },
    {
      "cell_type": "code",
      "source": [
        "resposta2 = chat.send_message(\"O que é a Inteligência Artificial ?\")"
      ],
      "metadata": {
        "id": "7VJzS54s-Cp9"
      },
      "execution_count": 80,
      "outputs": []
    },
    {
      "cell_type": "code",
      "source": [
        "#print(resposta2)\n",
        "print(resposta2.text)"
      ],
      "metadata": {
        "id": "uGrwIQF0-Ct6",
        "outputId": "bce79f88-380a-40ce-8f3e-7137c481529b",
        "colab": {
          "base_uri": "https://localhost:8080/"
        }
      },
      "execution_count": 81,
      "outputs": [
        {
          "output_type": "stream",
          "name": "stdout",
          "text": [
            "A Inteligência Artificial (IA) é um **campo da ciência da computação que se dedica à criação de sistemas capazes de realizar tarefas que, tipicamente, exigiriam inteligência humana.**\n",
            "\n",
            "Em termos mais simples, a IA busca fazer com que computadores e máquinas possam **\"pensar\" e agir de forma inteligente**, simulando habilidades cognitivas humanas como:\n",
            "\n",
            "1.  **Aprendizado:** A capacidade de adquirir conhecimento a partir de dados e experiências, sem ser explicitamente programado para cada cenário. É o que permite que a IA melhore seu desempenho ao longo do tempo. (Ex: Machine Learning).\n",
            "2.  **Raciocínio:** A habilidade de usar regras, lógica e dados para tirar conclusões e tomar decisões.\n",
            "3.  **Resolução de Problemas:** Encontrar soluções para desafios e tarefas complexas.\n",
            "4.  **Percepção:** Interpretar informações sensoriais, como imagens (visão computacional) ou sons (reconhecimento de fala).\n",
            "5.  **Compreensão da Linguagem Natural:** Processar e entender a linguagem humana falada ou escrita.\n",
            "\n",
            "---\n",
            "\n",
            "### Tipos de Inteligência Artificial:\n",
            "\n",
            "É comum dividir a IA em duas categorias principais:\n",
            "\n",
            "1.  **IA Fraca (Narrow AI ou Weak AI):** É a maioria da IA que temos hoje. São sistemas projetados e treinados para uma tarefa específica. Eles são muito bons no que fazem, mas não conseguem realizar outras tarefas.\n",
            "    *   **Exemplos:** Assistentes virtuais (Siri, Alexa), sistemas de recomendação (Netflix, Spotify), carros autônomos (em seu domínio de direção), filtros de spam, reconhecimento facial.\n",
            "2.  **IA Forte (General AI ou Strong AI / AGI - Artificial General Intelligence):** É um tipo de IA que teria a capacidade intelectual e cognitiva de um ser humano em todas as tarefas, ou seja, conseguiria aprender qualquer coisa que um humano consegue, raciocinar, planejar, resolver problemas e até mesmo ter consciência. Atualmente, a IA Forte é um objetivo de pesquisa e ainda pertence ao campo da ficção científica.\n",
            "\n",
            "---\n",
            "\n",
            "### Principais Subcampos e Técnicas da IA:\n",
            "\n",
            "*   **Machine Learning (Aprendizado de Máquina):** Um subcampo fundamental da IA onde os sistemas aprendem a partir de dados, identificando padrões e fazendo previsões ou decisões com mínima intervenção humana.\n",
            "    *   **Deep Learning (Aprendizado Profundo):** Uma técnica de Machine Learning que utiliza redes neurais artificiais com muitas camadas (daí o \"profundo\"), inspiradas na estrutura do cérebro humano, sendo muito eficaz para tarefas complexas como reconhecimento de imagem e fala.\n",
            "*   **Processamento de Linguagem Natural (NLP):** Permite que computadores compreendam, interpretem e gerem linguagem humana (ex: chatbots, tradução automática).\n",
            "*   **Visão Computacional:** Habilita computadores a \"ver\" e interpretar imagens e vídeos digitais.\n",
            "*   **Robótica:** Embora a robótica lide com a parte física das máquinas, a IA é crucial para a inteligência e autonomia dos robôs.\n",
            "*   **Sistemas Especialistas:** Sistemas baseados em conhecimento que emulam o processo de tomada de decisão de um especialista humano em um domínio específico (foi uma das primeiras abordagens da IA).\n",
            "\n",
            "---\n",
            "\n",
            "### Onde encontramos a IA no dia a dia?\n",
            "\n",
            "A IA está muito mais presente na nossa vida do que imaginamos:\n",
            "\n",
            "*   **Celulares:** Desbloqueio facial, assistentes de voz, correção automática de texto, melhoria de fotos.\n",
            "*   **Streaming:** Recomendações de filmes e músicas.\n",
            "*   **Busca online:** Algoritmos que ranqueiam resultados de pesquisa.\n",
            "*   **Saúde:** Diagnóstico de doenças, descoberta de medicamentos.\n",
            "*   **Finanças:** Detecção de fraudes, análises de risco.\n",
            "*   **Transporte:** Carros autônomos, otimização de rotas.\n",
            "*   **Jogos:** Inteligência dos adversários em videogames.\n",
            "\n",
            "Em resumo, a Inteligência Artificial é a ciência e a engenharia de criar máquinas inteligentes, especialmente programas de computador inteligentes, com o objetivo de estender e amplificar as capacidades humanas e resolver problemas complexos de forma mais eficiente.\n"
          ]
        }
      ]
    },
    {
      "cell_type": "code",
      "source": [
        "resposta3 = chat.send_message(\"Quando foi lançado o ChatGPT ?\")\n",
        "\n",
        "print(resposta3.text)\n"
      ],
      "metadata": {
        "id": "0lax2whO6vi8",
        "outputId": "82758bcf-6327-4ff2-d073-d40ef913b792",
        "colab": {
          "base_uri": "https://localhost:8080/"
        }
      },
      "execution_count": 82,
      "outputs": [
        {
          "output_type": "stream",
          "name": "stdout",
          "text": [
            "O **ChatGPT** foi lançado publicamente pela OpenAI em **30 de novembro de 2022**.\n"
          ]
        }
      ]
    },
    {
      "cell_type": "code",
      "source": [
        "chat.get_history()"
      ],
      "metadata": {
        "id": "hx_JSQbf2okI",
        "outputId": "a1e7b5f6-d508-481f-ba0e-a1164b10ef87",
        "colab": {
          "base_uri": "https://localhost:8080/"
        }
      },
      "execution_count": 83,
      "outputs": [
        {
          "output_type": "execute_result",
          "data": {
            "text/plain": [
              "[UserContent(\n",
              "   parts=[\n",
              "     Part(\n",
              "       text='O que é a Inteligência Artificial ?'\n",
              "     ),\n",
              "   ],\n",
              "   role='user'\n",
              " ),\n",
              " Content(\n",
              "   parts=[\n",
              "     Part(\n",
              "       text=\"\"\"A Inteligência Artificial (IA) é um **campo da ciência da computação que se dedica à criação de sistemas capazes de realizar tarefas que, tipicamente, exigiriam inteligência humana.**\n",
              " \n",
              " Em termos mais simples, a IA busca fazer com que computadores e máquinas possam **\"pensar\" e agir de forma inteligente**, simulando habilidades cognitivas humanas como:\n",
              " \n",
              " 1.  **Aprendizado:** A capacidade de adquirir conhecimento a partir de dados e experiências, sem ser explicitamente programado para cada cenário. É o que permite que a IA melhore seu desempenho ao longo do tempo. (Ex: Machine Learning).\n",
              " 2.  **Raciocínio:** A habilidade de usar regras, lógica e dados para tirar conclusões e tomar decisões.\n",
              " 3.  **Resolução de Problemas:** Encontrar soluções para desafios e tarefas complexas.\n",
              " 4.  **Percepção:** Interpretar informações sensoriais, como imagens (visão computacional) ou sons (reconhecimento de fala).\n",
              " 5.  **Compreensão da Linguagem Natural:** Processar e entender a linguagem humana falada ou escrita.\n",
              " \n",
              " ---\n",
              " \n",
              " ### Tipos de Inteligência Artificial:\n",
              " \n",
              " É comum dividir a IA em duas categorias principais:\n",
              " \n",
              " 1.  **IA Fraca (Narrow AI ou Weak AI):** É a maioria da IA que temos hoje. São sistemas projetados e treinados para uma tarefa específica. Eles são muito bons no que fazem, mas não conseguem realizar outras tarefas.\n",
              "     *   **Exemplos:** Assistentes virtuais (Siri, Alexa), sistemas de recomendação (Netflix, Spotify), carros autônomos (em seu domínio de direção), filtros de spam, reconhecimento facial.\n",
              " 2.  **IA Forte (General AI ou Strong AI / AGI - Artificial General Intelligence):** É um tipo de IA que teria a capacidade intelectual e cognitiva de um ser humano em todas as tarefas, ou seja, conseguiria aprender qualquer coisa que um humano consegue, raciocinar, planejar, resolver problemas e até mesmo ter consciência. Atualmente, a IA Forte é um objetivo de pesquisa e ainda pertence ao campo da ficção científica.\n",
              " \n",
              " ---\n",
              " \n",
              " ### Principais Subcampos e Técnicas da IA:\n",
              " \n",
              " *   **Machine Learning (Aprendizado de Máquina):** Um subcampo fundamental da IA onde os sistemas aprendem a partir de dados, identificando padrões e fazendo previsões ou decisões com mínima intervenção humana.\n",
              "     *   **Deep Learning (Aprendizado Profundo):** Uma técnica de Machine Learning que utiliza redes neurais artificiais com muitas camadas (daí o \"profundo\"), inspiradas na estrutura do cérebro humano, sendo muito eficaz para tarefas complexas como reconhecimento de imagem e fala.\n",
              " *   **Processamento de Linguagem Natural (NLP):** Permite que computadores compreendam, interpretem e gerem linguagem humana (ex: chatbots, tradução automática).\n",
              " *   **Visão Computacional:** Habilita computadores a \"ver\" e interpretar imagens e vídeos digitais.\n",
              " *   **Robótica:** Embora a robótica lide com a parte física das máquinas, a IA é crucial para a inteligência e autonomia dos robôs.\n",
              " *   **Sistemas Especialistas:** Sistemas baseados em conhecimento que emulam o processo de tomada de decisão de um especialista humano em um domínio específico (foi uma das primeiras abordagens da IA).\n",
              " \n",
              " ---\n",
              " \n",
              " ### Onde encontramos a IA no dia a dia?\n",
              " \n",
              " A IA está muito mais presente na nossa vida do que imaginamos:\n",
              " \n",
              " *   **Celulares:** Desbloqueio facial, assistentes de voz, correção automática de texto, melhoria de fotos.\n",
              " *   **Streaming:** Recomendações de filmes e músicas.\n",
              " *   **Busca online:** Algoritmos que ranqueiam resultados de pesquisa.\n",
              " *   **Saúde:** Diagnóstico de doenças, descoberta de medicamentos.\n",
              " *   **Finanças:** Detecção de fraudes, análises de risco.\n",
              " *   **Transporte:** Carros autônomos, otimização de rotas.\n",
              " *   **Jogos:** Inteligência dos adversários em videogames.\n",
              " \n",
              " Em resumo, a Inteligência Artificial é a ciência e a engenharia de criar máquinas inteligentes, especialmente programas de computador inteligentes, com o objetivo de estender e amplificar as capacidades humanas e resolver problemas complexos de forma mais eficiente.\"\"\"\n",
              "     ),\n",
              "   ],\n",
              "   role='model'\n",
              " ),\n",
              " UserContent(\n",
              "   parts=[\n",
              "     Part(\n",
              "       text='Quando foi lançado o ChatGPT ?'\n",
              "     ),\n",
              "   ],\n",
              "   role='user'\n",
              " ),\n",
              " Content(\n",
              "   parts=[\n",
              "     Part(\n",
              "       text='O **ChatGPT** foi lançado publicamente pela OpenAI em **30 de novembro de 2022**.'\n",
              "     ),\n",
              "   ],\n",
              "   role='model'\n",
              " )]"
            ]
          },
          "metadata": {},
          "execution_count": 83
        }
      ]
    },
    {
      "cell_type": "code",
      "source": [
        "prompt = input(\"Digite sua pergunta: \")\n",
        "\n",
        "while prompt != \"fim\":\n",
        "  resposta4 = chat.send_message(prompt)\n",
        "  print(f\"{resposta4.text} \\n\")\n",
        "  prompt = input(\"Digite sua pergunta: \")\n",
        "\n",
        "  print(resposta4.text)\n"
      ],
      "metadata": {
        "colab": {
          "base_uri": "https://localhost:8080/"
        },
        "id": "ulhh0U-N6phf",
        "outputId": "3312d1af-0314-4bbe-e07b-6ddd1155f2ec"
      },
      "execution_count": 84,
      "outputs": [
        {
          "output_type": "stream",
          "name": "stdout",
          "text": [
            "Digite sua pergunta: O que é Deep Learning ?\n",
            "O **Deep Learning** (Aprendizado Profundo) é um **subcampo do Machine Learning (Aprendizado de Máquina)**, que por sua vez é um subcampo da Inteligência Artificial.\n",
            "\n",
            "Ele se baseia em **redes neurais artificiais com múltiplas camadas (daí o \"profundo\")**, inspiradas na estrutura e funcionamento do cérebro humano.\n",
            "\n",
            "---\n",
            "\n",
            "### Entendendo os Componentes:\n",
            "\n",
            "1.  **Redes Neurais Artificiais:**\n",
            "    *   São modelos computacionais que tentam imitar a forma como os neurônios biológicos do cérebro processam informações.\n",
            "    *   Consistem em \"neurônios\" interconectados organizados em camadas.\n",
            "\n",
            "2.  **As \"Camadas\" (Onde entra o \"Deep\"):**\n",
            "    *   **Camada de Entrada (Input Layer):** Recebe os dados brutos (por exemplo, pixels de uma imagem, palavras de um texto).\n",
            "    *   **Camadas Ocultas (Hidden Layers):** É aqui que a \"mágica\" acontece. Diferente das redes neurais tradicionais que podem ter 1 ou 2 camadas ocultas, as redes de Deep Learning possuem **muitas camadas ocultas** (dezenas, centenas ou até milhares). Cada camada processa a saída da camada anterior, extraindo características cada vez mais complexas e abstratas dos dados.\n",
            "        *   *Exemplo visual:* Em uma tarefa de reconhecimento de imagem, a primeira camada oculta pode identificar bordas e cantos. A próxima pode combinar bordas para formar formas básicas. Camadas mais profundas podem identificar partes de objetos (olhos, nariz) e, finalmente, o objeto completo (um rosto).\n",
            "    *   **Camada de Saída (Output Layer):** Produz o resultado final, como a classificação da imagem (é um gato, um cachorro?), a tradução de uma frase, ou a previsão de um valor.\n",
            "\n",
            "---\n",
            "\n",
            "### Como o Deep Learning Funciona (de forma simplificada):\n",
            "\n",
            "1.  **Aprendizado de Características Automático (Feature Learning):**\n",
            "    *   Esta é a grande vantagem do Deep Learning. Ao invés de um engenheiro de dados ter que manualmente identificar e extrair características relevantes dos dados (o que é chamado de \"engenharia de características\" e é muito trabalhoso), as redes de Deep Learning são capazes de **aprender e descobrir essas características por conta própria** através de suas múltiplas camadas.\n",
            "\n",
            "2.  **Treinamento com Grandes Volumes de Dados:**\n",
            "    *   As redes de Deep Learning precisam de **grandes volumes de dados rotulados** (dados com as respostas corretas) para aprender de forma eficaz.\n",
            "    *   Durante o treinamento, a rede ajusta os pesos e vieses (parâmetros internos) das conexões entre os neurônios. Se a saída da rede estiver errada, um algoritmo chamado **retropropagação (backpropagation)** é usado para ajustar esses pesos, minimizando o erro.\n",
            "\n",
            "3.  **Processamento Distribuído:**\n",
            "    *   A natureza em camadas permite que a rede aprenda representações hierárquicas dos dados, onde cada camada aprende uma representação mais abstrata da anterior.\n",
            "\n",
            "---\n",
            "\n",
            "### Principais Vantagens do Deep Learning:\n",
            "\n",
            "*   **Extração Automática de Características:** Elimina a necessidade de engenharia manual de características, economizando tempo e melhorando o desempenho em tarefas complexas.\n",
            "*   **Desempenho Superior com Grandes Dados:** Quanto mais dados ele recebe, melhor tende a performar, superando outros algoritmos de Machine Learning em muitos cenários.\n",
            "*   **Versatilidade:** Pode ser aplicado a uma vasta gama de tipos de dados (imagens, texto, áudio, séries temporais).\n",
            "*   **Resultados de Ponta:** É responsável pelos avanços mais impressionantes na IA nos últimos anos.\n",
            "\n",
            "---\n",
            "\n",
            "### Desafios do Deep Learning:\n",
            "\n",
            "*   **Necessidade Massiva de Dados:** Exige grandes quantidades de dados rotulados, que podem ser caros e difíceis de obter.\n",
            "*   **Alto Poder Computacional:** O treinamento de modelos de Deep Learning é intensivo em recursos e geralmente requer GPUs (unidades de processamento gráfico) de alto desempenho.\n",
            "*   **\"Caixa Preta\" (Black Box):** Muitas vezes, é difícil entender por que um modelo de Deep Learning tomou uma determinada decisão, devido à sua complexidade. Isso levanta questões de explicabilidade e confiança.\n",
            "*   **Tempo de Treinamento:** Pode levar dias, semanas ou até meses para treinar um modelo complexo.\n",
            "\n",
            "---\n",
            "\n",
            "### Aplicações Comuns do Deep Learning:\n",
            "\n",
            "*   **Visão Computacional:** Reconhecimento facial, detecção de objetos, carros autônomos, diagnóstico médico por imagem.\n",
            "*   **Processamento de Linguagem Natural (NLP):** Tradução automática, chatbots (como o ChatGPT, que usa arquiteturas baseadas em Deep Learning como Transformers), análise de sentimento, sumariação de texto.\n",
            "*   **Reconhecimento de Fala:** Assistentes de voz (Siri, Alexa, Google Assistant).\n",
            "*   **Sistemas de Recomendação:** Sugestões de produtos, filmes, músicas.\n",
            "*   **Geração de Conteúdo:** Geração de imagens, texto e áudio realista (ex: DALL-E, Midjourney).\n",
            "*   **Jogos:** IA em jogos de computador (AlphaGo).\n",
            "*   **Saúde:** Descoberta de medicamentos, análise de dados genômicos.\n",
            "\n",
            "Em resumo, o Deep Learning é uma abordagem poderosa e transformadora dentro da Inteligência Artificial, que permitiu avanços significativos em diversas áreas ao capacitar máquinas a aprender padrões complexos diretamente de grandes volumes de dados. \n",
            "\n",
            "Digite sua pergunta: fim\n",
            "O **Deep Learning** (Aprendizado Profundo) é um **subcampo do Machine Learning (Aprendizado de Máquina)**, que por sua vez é um subcampo da Inteligência Artificial.\n",
            "\n",
            "Ele se baseia em **redes neurais artificiais com múltiplas camadas (daí o \"profundo\")**, inspiradas na estrutura e funcionamento do cérebro humano.\n",
            "\n",
            "---\n",
            "\n",
            "### Entendendo os Componentes:\n",
            "\n",
            "1.  **Redes Neurais Artificiais:**\n",
            "    *   São modelos computacionais que tentam imitar a forma como os neurônios biológicos do cérebro processam informações.\n",
            "    *   Consistem em \"neurônios\" interconectados organizados em camadas.\n",
            "\n",
            "2.  **As \"Camadas\" (Onde entra o \"Deep\"):**\n",
            "    *   **Camada de Entrada (Input Layer):** Recebe os dados brutos (por exemplo, pixels de uma imagem, palavras de um texto).\n",
            "    *   **Camadas Ocultas (Hidden Layers):** É aqui que a \"mágica\" acontece. Diferente das redes neurais tradicionais que podem ter 1 ou 2 camadas ocultas, as redes de Deep Learning possuem **muitas camadas ocultas** (dezenas, centenas ou até milhares). Cada camada processa a saída da camada anterior, extraindo características cada vez mais complexas e abstratas dos dados.\n",
            "        *   *Exemplo visual:* Em uma tarefa de reconhecimento de imagem, a primeira camada oculta pode identificar bordas e cantos. A próxima pode combinar bordas para formar formas básicas. Camadas mais profundas podem identificar partes de objetos (olhos, nariz) e, finalmente, o objeto completo (um rosto).\n",
            "    *   **Camada de Saída (Output Layer):** Produz o resultado final, como a classificação da imagem (é um gato, um cachorro?), a tradução de uma frase, ou a previsão de um valor.\n",
            "\n",
            "---\n",
            "\n",
            "### Como o Deep Learning Funciona (de forma simplificada):\n",
            "\n",
            "1.  **Aprendizado de Características Automático (Feature Learning):**\n",
            "    *   Esta é a grande vantagem do Deep Learning. Ao invés de um engenheiro de dados ter que manualmente identificar e extrair características relevantes dos dados (o que é chamado de \"engenharia de características\" e é muito trabalhoso), as redes de Deep Learning são capazes de **aprender e descobrir essas características por conta própria** através de suas múltiplas camadas.\n",
            "\n",
            "2.  **Treinamento com Grandes Volumes de Dados:**\n",
            "    *   As redes de Deep Learning precisam de **grandes volumes de dados rotulados** (dados com as respostas corretas) para aprender de forma eficaz.\n",
            "    *   Durante o treinamento, a rede ajusta os pesos e vieses (parâmetros internos) das conexões entre os neurônios. Se a saída da rede estiver errada, um algoritmo chamado **retropropagação (backpropagation)** é usado para ajustar esses pesos, minimizando o erro.\n",
            "\n",
            "3.  **Processamento Distribuído:**\n",
            "    *   A natureza em camadas permite que a rede aprenda representações hierárquicas dos dados, onde cada camada aprende uma representação mais abstrata da anterior.\n",
            "\n",
            "---\n",
            "\n",
            "### Principais Vantagens do Deep Learning:\n",
            "\n",
            "*   **Extração Automática de Características:** Elimina a necessidade de engenharia manual de características, economizando tempo e melhorando o desempenho em tarefas complexas.\n",
            "*   **Desempenho Superior com Grandes Dados:** Quanto mais dados ele recebe, melhor tende a performar, superando outros algoritmos de Machine Learning em muitos cenários.\n",
            "*   **Versatilidade:** Pode ser aplicado a uma vasta gama de tipos de dados (imagens, texto, áudio, séries temporais).\n",
            "*   **Resultados de Ponta:** É responsável pelos avanços mais impressionantes na IA nos últimos anos.\n",
            "\n",
            "---\n",
            "\n",
            "### Desafios do Deep Learning:\n",
            "\n",
            "*   **Necessidade Massiva de Dados:** Exige grandes quantidades de dados rotulados, que podem ser caros e difíceis de obter.\n",
            "*   **Alto Poder Computacional:** O treinamento de modelos de Deep Learning é intensivo em recursos e geralmente requer GPUs (unidades de processamento gráfico) de alto desempenho.\n",
            "*   **\"Caixa Preta\" (Black Box):** Muitas vezes, é difícil entender por que um modelo de Deep Learning tomou uma determinada decisão, devido à sua complexidade. Isso levanta questões de explicabilidade e confiança.\n",
            "*   **Tempo de Treinamento:** Pode levar dias, semanas ou até meses para treinar um modelo complexo.\n",
            "\n",
            "---\n",
            "\n",
            "### Aplicações Comuns do Deep Learning:\n",
            "\n",
            "*   **Visão Computacional:** Reconhecimento facial, detecção de objetos, carros autônomos, diagnóstico médico por imagem.\n",
            "*   **Processamento de Linguagem Natural (NLP):** Tradução automática, chatbots (como o ChatGPT, que usa arquiteturas baseadas em Deep Learning como Transformers), análise de sentimento, sumariação de texto.\n",
            "*   **Reconhecimento de Fala:** Assistentes de voz (Siri, Alexa, Google Assistant).\n",
            "*   **Sistemas de Recomendação:** Sugestões de produtos, filmes, músicas.\n",
            "*   **Geração de Conteúdo:** Geração de imagens, texto e áudio realista (ex: DALL-E, Midjourney).\n",
            "*   **Jogos:** IA em jogos de computador (AlphaGo).\n",
            "*   **Saúde:** Descoberta de medicamentos, análise de dados genômicos.\n",
            "\n",
            "Em resumo, o Deep Learning é uma abordagem poderosa e transformadora dentro da Inteligência Artificial, que permitiu avanços significativos em diversas áreas ao capacitar máquinas a aprender padrões complexos diretamente de grandes volumes de dados.\n"
          ]
        }
      ]
    },
    {
      "cell_type": "markdown",
      "source": [
        "### Estruturas de Dados"
      ],
      "metadata": {
        "id": "F1IIs4jyT1SH"
      }
    },
    {
      "cell_type": "code",
      "source": [
        "lista_de_nomes = [\"Maria Silva\", \"João Santos\", \"Ana Oliveira\", \"Pedro Costa\", \"juliana Pereira\"]"
      ],
      "metadata": {
        "id": "CXidPaV7D8x_"
      },
      "execution_count": 85,
      "outputs": []
    },
    {
      "cell_type": "code",
      "source": [
        "print(lista_de_nomes[3])"
      ],
      "metadata": {
        "colab": {
          "base_uri": "https://localhost:8080/"
        },
        "id": "yzq5cGZPUTIu",
        "outputId": "375f42f8-e67f-4ae2-c18b-dc5028aeb4f6"
      },
      "execution_count": 86,
      "outputs": [
        {
          "output_type": "stream",
          "name": "stdout",
          "text": [
            "Pedro Costa\n"
          ]
        }
      ]
    },
    {
      "cell_type": "code",
      "source": [
        "lista_de_medias = [8.9, 7.5, 4.2, 1.4, 9.5]"
      ],
      "metadata": {
        "id": "ub7ZyUPAUTL8"
      },
      "execution_count": 87,
      "outputs": []
    },
    {
      "cell_type": "code",
      "source": [
        "print(lista_de_nomes[3])"
      ],
      "metadata": {
        "colab": {
          "base_uri": "https://localhost:8080/"
        },
        "id": "D2LFpaIgUTPN",
        "outputId": "88ceb373-74cb-4e71-fc6e-215eceeb85a1"
      },
      "execution_count": 88,
      "outputs": [
        {
          "output_type": "stream",
          "name": "stdout",
          "text": [
            "Pedro Costa\n"
          ]
        }
      ]
    },
    {
      "cell_type": "code",
      "source": [
        "for i in range(len(lista_de_medias)):   # Percorre a lista de médias e some 1 ao valor de cada média.\n",
        "\n",
        "  lista_de_medias[i] = lista_de_medias[i] + 1.0\n",
        "\n",
        "  if lista_de_medias[i] > 10.0:\n",
        "    lista_de_medias[i] = 10.0\n",
        "\n",
        "  print(lista_de_medias[i])"
      ],
      "metadata": {
        "colab": {
          "base_uri": "https://localhost:8080/"
        },
        "id": "p12nKWipUTSN",
        "outputId": "156a5629-4fe1-41d5-86aa-ad99548132f7"
      },
      "execution_count": 89,
      "outputs": [
        {
          "output_type": "stream",
          "name": "stdout",
          "text": [
            "9.9\n",
            "8.5\n",
            "5.2\n",
            "2.4\n",
            "10.0\n"
          ]
        }
      ]
    },
    {
      "cell_type": "code",
      "source": [
        "lista_de_medias = [8.9, 7.5, 4.2, 1.4, 9.5]"
      ],
      "metadata": {
        "id": "CzVxYdaHaO5G"
      },
      "execution_count": 90,
      "outputs": []
    },
    {
      "cell_type": "code",
      "source": [
        "n = 0\n",
        "\n",
        "while n < len(lista_de_medias):\n",
        "\n",
        "  lista_de_medias[n] += 1.0\n",
        "\n",
        "  if lista_de_medias[n] > 10.0:\n",
        "    lista_de_medias[n] = 10.0\n",
        "\n",
        "  print(lista_de_medias[n])\n",
        "\n",
        "  n += 1"
      ],
      "metadata": {
        "colab": {
          "base_uri": "https://localhost:8080/"
        },
        "id": "jZbvdqTlUTVN",
        "outputId": "c7a336a4-be2f-48ed-f554-97f17b4b7874"
      },
      "execution_count": 91,
      "outputs": [
        {
          "output_type": "stream",
          "name": "stdout",
          "text": [
            "9.9\n",
            "8.5\n",
            "5.2\n",
            "2.4\n",
            "10.0\n"
          ]
        }
      ]
    },
    {
      "cell_type": "code",
      "source": [
        "len(lista_de_medias)"
      ],
      "metadata": {
        "id": "cTT5XjwaZqUy",
        "colab": {
          "base_uri": "https://localhost:8080/"
        },
        "outputId": "9922ab97-0d64-4bca-f92f-d7421c9e4018"
      },
      "execution_count": 92,
      "outputs": [
        {
          "output_type": "execute_result",
          "data": {
            "text/plain": [
              "5"
            ]
          },
          "metadata": {},
          "execution_count": 92
        }
      ]
    },
    {
      "cell_type": "code",
      "source": [
        "lista_de_medias[len(lista_de_medias) - 1 ]"
      ],
      "metadata": {
        "id": "SHzHpPt5ZqYX",
        "colab": {
          "base_uri": "https://localhost:8080/"
        },
        "outputId": "f4a6cdce-1bf0-4ed9-a762-2e85ca06a15e"
      },
      "execution_count": 93,
      "outputs": [
        {
          "output_type": "execute_result",
          "data": {
            "text/plain": [
              "10.0"
            ]
          },
          "metadata": {},
          "execution_count": 93
        }
      ]
    },
    {
      "cell_type": "code",
      "source": [
        "lista_de_medias[-1]"
      ],
      "metadata": {
        "id": "sAV00QWXZqcV",
        "colab": {
          "base_uri": "https://localhost:8080/"
        },
        "outputId": "3ad45fc9-12b4-4d4c-8818-1420c74a0cd3"
      },
      "execution_count": 94,
      "outputs": [
        {
          "output_type": "execute_result",
          "data": {
            "text/plain": [
              "10.0"
            ]
          },
          "metadata": {},
          "execution_count": 94
        }
      ]
    },
    {
      "cell_type": "code",
      "source": [
        "lista_de_nomes"
      ],
      "metadata": {
        "id": "RY6eSeG7ZqtC",
        "colab": {
          "base_uri": "https://localhost:8080/"
        },
        "outputId": "e4c9ddd0-5644-4dd0-ff05-06ac7ff05f9c"
      },
      "execution_count": 95,
      "outputs": [
        {
          "output_type": "execute_result",
          "data": {
            "text/plain": [
              "['Maria Silva',\n",
              " 'João Santos',\n",
              " 'Ana Oliveira',\n",
              " 'Pedro Costa',\n",
              " 'juliana Pereira']"
            ]
          },
          "metadata": {},
          "execution_count": 95
        }
      ]
    },
    {
      "cell_type": "code",
      "source": [
        "lista_de_nomes[1:]"
      ],
      "metadata": {
        "id": "nK6LT53_6psL",
        "colab": {
          "base_uri": "https://localhost:8080/"
        },
        "outputId": "63346271-917e-4c7f-e153-b2444b4b7b1d"
      },
      "execution_count": 96,
      "outputs": [
        {
          "output_type": "execute_result",
          "data": {
            "text/plain": [
              "['João Santos', 'Ana Oliveira', 'Pedro Costa', 'juliana Pereira']"
            ]
          },
          "metadata": {},
          "execution_count": 96
        }
      ]
    },
    {
      "cell_type": "code",
      "source": [
        "lista_de_nomes[0:]"
      ],
      "metadata": {
        "id": "2H1FRq7v6pvu",
        "colab": {
          "base_uri": "https://localhost:8080/"
        },
        "outputId": "646b9f70-bf37-4054-9f28-14e1b39f9507"
      },
      "execution_count": 97,
      "outputs": [
        {
          "output_type": "execute_result",
          "data": {
            "text/plain": [
              "['Maria Silva',\n",
              " 'João Santos',\n",
              " 'Ana Oliveira',\n",
              " 'Pedro Costa',\n",
              " 'juliana Pereira']"
            ]
          },
          "metadata": {},
          "execution_count": 97
        }
      ]
    },
    {
      "cell_type": "code",
      "source": [
        "lista_de_nomes[:]"
      ],
      "metadata": {
        "colab": {
          "base_uri": "https://localhost:8080/"
        },
        "id": "IP_IyHrGfMbi",
        "outputId": "70673ea1-8c30-444c-e570-ce1984576723"
      },
      "execution_count": 98,
      "outputs": [
        {
          "output_type": "execute_result",
          "data": {
            "text/plain": [
              "['Maria Silva',\n",
              " 'João Santos',\n",
              " 'Ana Oliveira',\n",
              " 'Pedro Costa',\n",
              " 'juliana Pereira']"
            ]
          },
          "metadata": {},
          "execution_count": 98
        }
      ]
    },
    {
      "cell_type": "code",
      "source": [
        "lista_de_nomes[1:4]"
      ],
      "metadata": {
        "colab": {
          "base_uri": "https://localhost:8080/"
        },
        "id": "YsrY_ZTwfMpG",
        "outputId": "d54f36c4-70be-49de-c818-c8be0c760e48"
      },
      "execution_count": 99,
      "outputs": [
        {
          "output_type": "execute_result",
          "data": {
            "text/plain": [
              "['João Santos', 'Ana Oliveira', 'Pedro Costa']"
            ]
          },
          "metadata": {},
          "execution_count": 99
        }
      ]
    },
    {
      "cell_type": "code",
      "source": [
        "lista_de_nomes[:4]"
      ],
      "metadata": {
        "colab": {
          "base_uri": "https://localhost:8080/"
        },
        "id": "_b0Lv1H6fMt5",
        "outputId": "fda7d5ed-4551-43fd-bbfa-e551e943d2f5"
      },
      "execution_count": 100,
      "outputs": [
        {
          "output_type": "execute_result",
          "data": {
            "text/plain": [
              "['Maria Silva', 'João Santos', 'Ana Oliveira', 'Pedro Costa']"
            ]
          },
          "metadata": {},
          "execution_count": 100
        }
      ]
    },
    {
      "cell_type": "code",
      "source": [
        "lista_de_nomes.append(\"Fabrício\")"
      ],
      "metadata": {
        "id": "BgGxcCHIfMxR"
      },
      "execution_count": 101,
      "outputs": []
    },
    {
      "cell_type": "code",
      "source": [
        "lista_de_nomes"
      ],
      "metadata": {
        "colab": {
          "base_uri": "https://localhost:8080/"
        },
        "id": "7cAsoz5Hfvgn",
        "outputId": "f3ae0895-9b35-4040-c9b3-d7e28ea27a71"
      },
      "execution_count": 102,
      "outputs": [
        {
          "output_type": "execute_result",
          "data": {
            "text/plain": [
              "['Maria Silva',\n",
              " 'João Santos',\n",
              " 'Ana Oliveira',\n",
              " 'Pedro Costa',\n",
              " 'juliana Pereira',\n",
              " 'Fabrício']"
            ]
          },
          "metadata": {},
          "execution_count": 102
        }
      ]
    },
    {
      "cell_type": "code",
      "source": [
        "lista_de_nomes.extend([\"Joana da Silva\", \"Paulo Silveira\"])"
      ],
      "metadata": {
        "id": "g0Aqz5ZRfvuH"
      },
      "execution_count": 103,
      "outputs": []
    },
    {
      "cell_type": "code",
      "source": [
        "lista_de_nomes"
      ],
      "metadata": {
        "colab": {
          "base_uri": "https://localhost:8080/"
        },
        "id": "wc6oOtC0fvxZ",
        "outputId": "7b9536b9-ba6e-4f2a-8d30-ebc858df0a76"
      },
      "execution_count": 104,
      "outputs": [
        {
          "output_type": "execute_result",
          "data": {
            "text/plain": [
              "['Maria Silva',\n",
              " 'João Santos',\n",
              " 'Ana Oliveira',\n",
              " 'Pedro Costa',\n",
              " 'juliana Pereira',\n",
              " 'Fabrício',\n",
              " 'Joana da Silva',\n",
              " 'Paulo Silveira']"
            ]
          },
          "metadata": {},
          "execution_count": 104
        }
      ]
    },
    {
      "cell_type": "code",
      "source": [
        "lista_de_nomes.append([\"Marcio Costa\",\"Natalia Pedreira\"])"
      ],
      "metadata": {
        "id": "tG6rVTonioDv"
      },
      "execution_count": 105,
      "outputs": []
    },
    {
      "cell_type": "code",
      "source": [
        "lista_de_nomes[8]"
      ],
      "metadata": {
        "colab": {
          "base_uri": "https://localhost:8080/"
        },
        "id": "stOW0Cqtfv4R",
        "outputId": "3c732641-1305-4f24-cbeb-4e03d2038840"
      },
      "execution_count": 106,
      "outputs": [
        {
          "output_type": "execute_result",
          "data": {
            "text/plain": [
              "['Marcio Costa', 'Natalia Pedreira']"
            ]
          },
          "metadata": {},
          "execution_count": 106
        }
      ]
    },
    {
      "cell_type": "code",
      "source": [
        "lista_de_nomes[8][0]"
      ],
      "metadata": {
        "colab": {
          "base_uri": "https://localhost:8080/",
          "height": 35
        },
        "id": "Xmu_YZP-i5Ho",
        "outputId": "ad7e78b8-1e6c-4fd0-bbd3-da1f42b016ed"
      },
      "execution_count": 107,
      "outputs": [
        {
          "output_type": "execute_result",
          "data": {
            "text/plain": [
              "'Marcio Costa'"
            ],
            "application/vnd.google.colaboratory.intrinsic+json": {
              "type": "string"
            }
          },
          "metadata": {},
          "execution_count": 107
        }
      ]
    },
    {
      "cell_type": "code",
      "source": [
        "lista_de_nomes = [\"Maria Silva\", \"João Santos\", \"Ana Oliveira\", \"Pedro Costa\", \"juliana Pereira\"]"
      ],
      "metadata": {
        "id": "2hIjUfTMkuPn"
      },
      "execution_count": 108,
      "outputs": []
    },
    {
      "cell_type": "code",
      "source": [
        "lista_de_nomes.extend([\"Joana da Silva\", \"Paulo Silveira\"])"
      ],
      "metadata": {
        "id": "Ge17ZIl8kys1"
      },
      "execution_count": 109,
      "outputs": []
    },
    {
      "cell_type": "code",
      "source": [
        "lista_de_nomes"
      ],
      "metadata": {
        "colab": {
          "base_uri": "https://localhost:8080/"
        },
        "id": "wnTuVuZrfv7w",
        "outputId": "b784d73f-df45-4cce-ce38-ce995ef0418e"
      },
      "execution_count": 110,
      "outputs": [
        {
          "output_type": "execute_result",
          "data": {
            "text/plain": [
              "['Maria Silva',\n",
              " 'João Santos',\n",
              " 'Ana Oliveira',\n",
              " 'Pedro Costa',\n",
              " 'juliana Pereira',\n",
              " 'Joana da Silva',\n",
              " 'Paulo Silveira']"
            ]
          },
          "metadata": {},
          "execution_count": 110
        }
      ]
    },
    {
      "cell_type": "code",
      "source": [
        "lista_de_nomes.remove(\"Paulo Silveira\")"
      ],
      "metadata": {
        "id": "q48_4R2Ck2Nv"
      },
      "execution_count": 111,
      "outputs": []
    },
    {
      "cell_type": "code",
      "source": [
        "lista_de_nomes"
      ],
      "metadata": {
        "colab": {
          "base_uri": "https://localhost:8080/"
        },
        "id": "jCQHOVNuk2bJ",
        "outputId": "e05ef05b-8542-43b0-ca09-024f0facd229"
      },
      "execution_count": 112,
      "outputs": [
        {
          "output_type": "execute_result",
          "data": {
            "text/plain": [
              "['Maria Silva',\n",
              " 'João Santos',\n",
              " 'Ana Oliveira',\n",
              " 'Pedro Costa',\n",
              " 'juliana Pereira',\n",
              " 'Joana da Silva']"
            ]
          },
          "metadata": {},
          "execution_count": 112
        }
      ]
    },
    {
      "cell_type": "code",
      "source": [
        "lista_de_nomes.pop()"
      ],
      "metadata": {
        "colab": {
          "base_uri": "https://localhost:8080/",
          "height": 35
        },
        "id": "SQmOve3Uk2fr",
        "outputId": "65105aab-f02d-4824-cefc-1a1621aca1c5"
      },
      "execution_count": 113,
      "outputs": [
        {
          "output_type": "execute_result",
          "data": {
            "text/plain": [
              "'Joana da Silva'"
            ],
            "application/vnd.google.colaboratory.intrinsic+json": {
              "type": "string"
            }
          },
          "metadata": {},
          "execution_count": 113
        }
      ]
    },
    {
      "cell_type": "code",
      "source": [
        "lista_de_nomes"
      ],
      "metadata": {
        "colab": {
          "base_uri": "https://localhost:8080/"
        },
        "id": "_A_Dbph4k_dt",
        "outputId": "d3fd0d22-1f2e-4b30-992c-5a6d82ee7e9b"
      },
      "execution_count": 114,
      "outputs": [
        {
          "output_type": "execute_result",
          "data": {
            "text/plain": [
              "['Maria Silva',\n",
              " 'João Santos',\n",
              " 'Ana Oliveira',\n",
              " 'Pedro Costa',\n",
              " 'juliana Pereira']"
            ]
          },
          "metadata": {},
          "execution_count": 114
        }
      ]
    },
    {
      "cell_type": "code",
      "source": [
        "lista_de_nomes.pop(2)"
      ],
      "metadata": {
        "colab": {
          "base_uri": "https://localhost:8080/",
          "height": 35
        },
        "id": "1vLlYUstk_kA",
        "outputId": "fd76944b-044e-4301-9333-f625f8bfc172"
      },
      "execution_count": 115,
      "outputs": [
        {
          "output_type": "execute_result",
          "data": {
            "text/plain": [
              "'Ana Oliveira'"
            ],
            "application/vnd.google.colaboratory.intrinsic+json": {
              "type": "string"
            }
          },
          "metadata": {},
          "execution_count": 115
        }
      ]
    },
    {
      "cell_type": "code",
      "source": [
        "lista_de_nomes"
      ],
      "metadata": {
        "colab": {
          "base_uri": "https://localhost:8080/"
        },
        "id": "RH4G9Rlpk_73",
        "outputId": "1fa8350c-453f-44fa-d759-2e14cb5a5646"
      },
      "execution_count": 116,
      "outputs": [
        {
          "output_type": "execute_result",
          "data": {
            "text/plain": [
              "['Maria Silva', 'João Santos', 'Pedro Costa', 'juliana Pereira']"
            ]
          },
          "metadata": {},
          "execution_count": 116
        }
      ]
    },
    {
      "cell_type": "code",
      "source": [],
      "metadata": {
        "id": "diSGExmRnQma"
      },
      "execution_count": 116,
      "outputs": []
    },
    {
      "cell_type": "markdown",
      "source": [
        "# Dicionários\n",
        "# \"chave\".valor"
      ],
      "metadata": {
        "id": "82HYEA_QoChz"
      }
    },
    {
      "cell_type": "code",
      "source": [
        "dict_de_nomes_e_medias = {\n",
        "    \"Maria Silva\": 8.9,\n",
        "    \"João Santos\": 7.5,\n",
        "    \"Ana Oliveira\": 4.2,\n",
        "    \"Pedro Costa\": 1.4,\n",
        "    \"juliana Pereira\": 9.5\n",
        "}"
      ],
      "metadata": {
        "id": "HD1l_v7unil3"
      },
      "execution_count": 117,
      "outputs": []
    },
    {
      "cell_type": "code",
      "source": [
        "dict_de_nomes_e_medias"
      ],
      "metadata": {
        "colab": {
          "base_uri": "https://localhost:8080/"
        },
        "id": "qs63L0udniud",
        "outputId": "15855aec-d169-4e66-fdb3-78c60cc78d03"
      },
      "execution_count": 118,
      "outputs": [
        {
          "output_type": "execute_result",
          "data": {
            "text/plain": [
              "{'Maria Silva': 8.9,\n",
              " 'João Santos': 7.5,\n",
              " 'Ana Oliveira': 4.2,\n",
              " 'Pedro Costa': 1.4,\n",
              " 'juliana Pereira': 9.5}"
            ]
          },
          "metadata": {},
          "execution_count": 118
        }
      ]
    },
    {
      "cell_type": "code",
      "source": [
        "dict_de_nomes_e_medias[\"Maria Silva\"]"
      ],
      "metadata": {
        "colab": {
          "base_uri": "https://localhost:8080/"
        },
        "id": "1hGm-TAeniyI",
        "outputId": "a4df1ef4-961f-42f1-b997-cd40061acfd2"
      },
      "execution_count": 119,
      "outputs": [
        {
          "output_type": "execute_result",
          "data": {
            "text/plain": [
              "8.9"
            ]
          },
          "metadata": {},
          "execution_count": 119
        }
      ]
    },
    {
      "cell_type": "code",
      "source": [
        "dict_de_nomes_e_medias.get(\"Maria Silva\")"
      ],
      "metadata": {
        "colab": {
          "base_uri": "https://localhost:8080/"
        },
        "id": "IuJNnCoqni38",
        "outputId": "070f446d-0ae3-421b-eac8-52c9d74b77db"
      },
      "execution_count": 120,
      "outputs": [
        {
          "output_type": "execute_result",
          "data": {
            "text/plain": [
              "8.9"
            ]
          },
          "metadata": {},
          "execution_count": 120
        }
      ]
    },
    {
      "cell_type": "code",
      "source": [
        "dict_de_nomes_e_medias"
      ],
      "metadata": {
        "colab": {
          "base_uri": "https://localhost:8080/"
        },
        "id": "5EqvdSPPs-0C",
        "outputId": "0a77e791-bd77-4535-cd2c-7257de5c37f9"
      },
      "execution_count": 121,
      "outputs": [
        {
          "output_type": "execute_result",
          "data": {
            "text/plain": [
              "{'Maria Silva': 8.9,\n",
              " 'João Santos': 7.5,\n",
              " 'Ana Oliveira': 4.2,\n",
              " 'Pedro Costa': 1.4,\n",
              " 'juliana Pereira': 9.5}"
            ]
          },
          "metadata": {},
          "execution_count": 121
        }
      ]
    },
    {
      "cell_type": "code",
      "source": [
        "dict_de_nomes_e_medias.pop(\"juliana Pereira\")"
      ],
      "metadata": {
        "colab": {
          "base_uri": "https://localhost:8080/"
        },
        "id": "Bt9m3HKjs-3i",
        "outputId": "0a92493c-d8c7-4d53-c43e-dc28ee1d52cf"
      },
      "execution_count": 122,
      "outputs": [
        {
          "output_type": "execute_result",
          "data": {
            "text/plain": [
              "9.5"
            ]
          },
          "metadata": {},
          "execution_count": 122
        }
      ]
    },
    {
      "cell_type": "code",
      "source": [
        "dict_de_nomes_e_medias"
      ],
      "metadata": {
        "colab": {
          "base_uri": "https://localhost:8080/"
        },
        "id": "UyCLTEXss-65",
        "outputId": "c90b35e7-1047-48bd-f321-4a08891f3d9b"
      },
      "execution_count": 123,
      "outputs": [
        {
          "output_type": "execute_result",
          "data": {
            "text/plain": [
              "{'Maria Silva': 8.9,\n",
              " 'João Santos': 7.5,\n",
              " 'Ana Oliveira': 4.2,\n",
              " 'Pedro Costa': 1.4}"
            ]
          },
          "metadata": {},
          "execution_count": 123
        }
      ]
    },
    {
      "cell_type": "code",
      "source": [
        "dict_de_nomes_e_medias.items()"
      ],
      "metadata": {
        "colab": {
          "base_uri": "https://localhost:8080/"
        },
        "id": "EgHEOc_Xs--F",
        "outputId": "3f1c7c76-cca8-4d44-f55b-3cbbfa025d29"
      },
      "execution_count": 124,
      "outputs": [
        {
          "output_type": "execute_result",
          "data": {
            "text/plain": [
              "dict_items([('Maria Silva', 8.9), ('João Santos', 7.5), ('Ana Oliveira', 4.2), ('Pedro Costa', 1.4)])"
            ]
          },
          "metadata": {},
          "execution_count": 124
        }
      ]
    },
    {
      "cell_type": "code",
      "source": [
        "dict_de_nomes_e_medias.keys()"
      ],
      "metadata": {
        "colab": {
          "base_uri": "https://localhost:8080/"
        },
        "id": "QFOGhawgs_Bp",
        "outputId": "277559cd-305f-41cb-f8eb-d7b21d347101"
      },
      "execution_count": 125,
      "outputs": [
        {
          "output_type": "execute_result",
          "data": {
            "text/plain": [
              "dict_keys(['Maria Silva', 'João Santos', 'Ana Oliveira', 'Pedro Costa'])"
            ]
          },
          "metadata": {},
          "execution_count": 125
        }
      ]
    },
    {
      "cell_type": "code",
      "source": [
        "dict_de_nomes_e_medias.values()"
      ],
      "metadata": {
        "colab": {
          "base_uri": "https://localhost:8080/"
        },
        "id": "YYN2ozoZs_FX",
        "outputId": "c767d45f-782f-46bd-9485-7ebec547f165"
      },
      "execution_count": 126,
      "outputs": [
        {
          "output_type": "execute_result",
          "data": {
            "text/plain": [
              "dict_values([8.9, 7.5, 4.2, 1.4])"
            ]
          },
          "metadata": {},
          "execution_count": 126
        }
      ]
    },
    {
      "cell_type": "markdown",
      "source": [
        "# Desafio: Usar dicionários de forma que as chaves sejam \"nome\" e \"média\" e os valores sejam os nomes e médias dos alunos"
      ],
      "metadata": {
        "id": "PvHJlfbwvqeD"
      }
    },
    {
      "cell_type": "code",
      "source": [
        "dict_desafio = [\n",
        "    {\"nome\": \"Maria Silva\",  \"media\": 8.9},\n",
        "    {\"nome\": \"João Santos\",  \"media\": 7.5},\n",
        "    {\"nome\": \"Ana Oliveira\", \"media\": 4.2},\n",
        "    {\"nome\": \"Pedro Costa\",  \"media\": 1.4},\n",
        "]"
      ],
      "metadata": {
        "id": "HHdHz6rDvEmi"
      },
      "execution_count": 127,
      "outputs": []
    },
    {
      "cell_type": "code",
      "source": [
        "dict_desafio[0]"
      ],
      "metadata": {
        "colab": {
          "base_uri": "https://localhost:8080/"
        },
        "id": "aouX4EjdvErN",
        "outputId": "0ce63b33-cdf7-4c2f-dea0-db1e5a1132d1"
      },
      "execution_count": 128,
      "outputs": [
        {
          "output_type": "execute_result",
          "data": {
            "text/plain": [
              "{'nome': 'Maria Silva', 'media': 8.9}"
            ]
          },
          "metadata": {},
          "execution_count": 128
        }
      ]
    },
    {
      "cell_type": "code",
      "source": [
        "dict_desafio[0][\"media\"]"
      ],
      "metadata": {
        "colab": {
          "base_uri": "https://localhost:8080/"
        },
        "id": "0GAtU9q5vEvN",
        "outputId": "b1daabeb-79cd-47c6-a033-9de7a40dfa38"
      },
      "execution_count": 129,
      "outputs": [
        {
          "output_type": "execute_result",
          "data": {
            "text/plain": [
              "8.9"
            ]
          },
          "metadata": {},
          "execution_count": 129
        }
      ]
    },
    {
      "cell_type": "code",
      "source": [
        "nomes = ['Maria', 'João', 'Ana', 'Pedro', 'Juliana']\n",
        "\n",
        "print(nomes[-1])  # Exibe 'Juliana'\n",
        "print(nomes[-2])  # Exibe 'Pedro'"
      ],
      "metadata": {
        "colab": {
          "base_uri": "https://localhost:8080/"
        },
        "id": "GZUx98YLvIV0",
        "outputId": "5fc4b374-a064-4222-a5bc-b2869f780745"
      },
      "execution_count": 130,
      "outputs": [
        {
          "output_type": "stream",
          "name": "stdout",
          "text": [
            "Juliana\n",
            "Pedro\n"
          ]
        }
      ]
    },
    {
      "cell_type": "code",
      "source": [
        "# Exemplo de slicing com índice negativo\n",
        "\n",
        "ultimos_tres = nomes[-3:]\n",
        "\n",
        "print(ultimos_tres)  # Exibe ['Ana', 'Pedro', 'Juliana']"
      ],
      "metadata": {
        "colab": {
          "base_uri": "https://localhost:8080/"
        },
        "id": "mxEvI0HBvKHC",
        "outputId": "a7fa99bb-b31d-4af6-8435-e23bd4e44dae"
      },
      "execution_count": 131,
      "outputs": [
        {
          "output_type": "stream",
          "name": "stdout",
          "text": [
            "['Ana', 'Pedro', 'Juliana']\n"
          ]
        }
      ]
    },
    {
      "cell_type": "code",
      "source": [
        "dict_desafio = [\n",
        "    {\"nome\": \"Maria Silva\",  \"media\": 8.9},\n",
        "    {\"nome\": \"João Santos\",  \"media\": 7.5},\n",
        "    {\"nome\": \"Ana Oliveira\", \"media\": 4.2},\n",
        "    {\"nome\": \"Pedro Costa\",  \"media\": 1.4},\n",
        "]"
      ],
      "metadata": {
        "id": "zj5rGgfJHGzh"
      },
      "execution_count": 132,
      "outputs": []
    },
    {
      "cell_type": "code",
      "source": [
        "n = 0\n",
        "while n < len(dict_desafio):\n",
        "    print (dict_desafio[n])\n",
        "    n += 1\n"
      ],
      "metadata": {
        "colab": {
          "base_uri": "https://localhost:8080/"
        },
        "id": "tXS86hTZDYuK",
        "outputId": "998b8acb-d5e9-45a0-d1c5-e335ad11a00a"
      },
      "execution_count": 133,
      "outputs": [
        {
          "output_type": "stream",
          "name": "stdout",
          "text": [
            "{'nome': 'Maria Silva', 'media': 8.9}\n",
            "{'nome': 'João Santos', 'media': 7.5}\n",
            "{'nome': 'Ana Oliveira', 'media': 4.2}\n",
            "{'nome': 'Pedro Costa', 'media': 1.4}\n"
          ]
        }
      ]
    },
    {
      "cell_type": "code",
      "source": [
        "for elemento in dict_desafio:\n",
        "    print(elemento)"
      ],
      "metadata": {
        "colab": {
          "base_uri": "https://localhost:8080/"
        },
        "id": "u_-u3RYnDYyH",
        "outputId": "7cc57285-4aa7-4714-8350-9f15a8853dca"
      },
      "execution_count": 134,
      "outputs": [
        {
          "output_type": "stream",
          "name": "stdout",
          "text": [
            "{'nome': 'Maria Silva', 'media': 8.9}\n",
            "{'nome': 'João Santos', 'media': 7.5}\n",
            "{'nome': 'Ana Oliveira', 'media': 4.2}\n",
            "{'nome': 'Pedro Costa', 'media': 1.4}\n"
          ]
        }
      ]
    },
    {
      "cell_type": "code",
      "source": [
        "for n in range(5):\n",
        "    print(n)"
      ],
      "metadata": {
        "colab": {
          "base_uri": "https://localhost:8080/"
        },
        "id": "1aiznBnBDY1q",
        "outputId": "94990d27-9adc-4537-d12e-d9a5a7911344"
      },
      "execution_count": 135,
      "outputs": [
        {
          "output_type": "stream",
          "name": "stdout",
          "text": [
            "0\n",
            "1\n",
            "2\n",
            "3\n",
            "4\n"
          ]
        }
      ]
    },
    {
      "cell_type": "code",
      "source": [
        "for n in range(2, 7):\n",
        "    print(n)"
      ],
      "metadata": {
        "colab": {
          "base_uri": "https://localhost:8080/"
        },
        "id": "k6vYlGDNDY5N",
        "outputId": "641710a6-973d-40c9-f8df-b0bc80af6015"
      },
      "execution_count": 136,
      "outputs": [
        {
          "output_type": "stream",
          "name": "stdout",
          "text": [
            "2\n",
            "3\n",
            "4\n",
            "5\n",
            "6\n"
          ]
        }
      ]
    },
    {
      "cell_type": "code",
      "source": [
        "for n in range(2, 7, 2):\n",
        "    print(n)"
      ],
      "metadata": {
        "id": "6nniLr5_MNkP",
        "outputId": "1b5cf5f7-ee06-46a7-c574-462ef6f1e521",
        "colab": {
          "base_uri": "https://localhost:8080/"
        }
      },
      "execution_count": 137,
      "outputs": [
        {
          "output_type": "stream",
          "name": "stdout",
          "text": [
            "2\n",
            "4\n",
            "6\n"
          ]
        }
      ]
    },
    {
      "cell_type": "code",
      "source": [
        "pessoa = {\n",
        "    \"nome\": \"Fabrício\",\n",
        "    \"idade\": 19,\n",
        "    \"altura\": 1.87\n",
        "}\n",
        "\n",
        "print(pessoa)"
      ],
      "metadata": {
        "id": "o9flXDY3MNXx",
        "outputId": "1525879a-1271-4544-e365-f037dab3e704",
        "colab": {
          "base_uri": "https://localhost:8080/"
        }
      },
      "execution_count": 138,
      "outputs": [
        {
          "output_type": "stream",
          "name": "stdout",
          "text": [
            "{'nome': 'Fabrício', 'idade': 19, 'altura': 1.87}\n"
          ]
        }
      ]
    },
    {
      "cell_type": "code",
      "source": [
        "for key in pessoa:\n",
        "    print(key)"
      ],
      "metadata": {
        "id": "Cu-kgeEEMNC9",
        "outputId": "1335b0c3-a355-41d3-c79a-10c6ba242fa2",
        "colab": {
          "base_uri": "https://localhost:8080/"
        }
      },
      "execution_count": 139,
      "outputs": [
        {
          "output_type": "stream",
          "name": "stdout",
          "text": [
            "nome\n",
            "idade\n",
            "altura\n"
          ]
        }
      ]
    },
    {
      "cell_type": "code",
      "source": [
        "pessoa.items()"
      ],
      "metadata": {
        "id": "TSPOnKE1Ncqi",
        "outputId": "e0602302-9761-4a49-cd8d-2d70fd9a83ef",
        "colab": {
          "base_uri": "https://localhost:8080/"
        }
      },
      "execution_count": 140,
      "outputs": [
        {
          "output_type": "execute_result",
          "data": {
            "text/plain": [
              "dict_items([('nome', 'Fabrício'), ('idade', 19), ('altura', 1.87)])"
            ]
          },
          "metadata": {},
          "execution_count": 140
        }
      ]
    },
    {
      "cell_type": "code",
      "source": [
        "for key,value in pessoa.items():\n",
        "    print(f\"A chave é {key} e o valor é {value}\")"
      ],
      "metadata": {
        "id": "0UnCDQiDNcfs",
        "outputId": "d234c386-b2b5-43fc-f09d-a2b463c3806e",
        "colab": {
          "base_uri": "https://localhost:8080/"
        }
      },
      "execution_count": 141,
      "outputs": [
        {
          "output_type": "stream",
          "name": "stdout",
          "text": [
            "A chave é nome e o valor é Fabrício\n",
            "A chave é idade e o valor é 19\n",
            "A chave é altura e o valor é 1.87\n"
          ]
        }
      ]
    },
    {
      "cell_type": "code",
      "source": [
        "for n in range(0,11):\n",
        "    if n % 2 == 0 :\n",
        "        print(n)"
      ],
      "metadata": {
        "id": "7mQ-EKbjNy8g",
        "outputId": "52001b74-3e58-4da8-a5e2-5a5b99904e64",
        "colab": {
          "base_uri": "https://localhost:8080/"
        }
      },
      "execution_count": 142,
      "outputs": [
        {
          "output_type": "stream",
          "name": "stdout",
          "text": [
            "0\n",
            "2\n",
            "4\n",
            "6\n",
            "8\n",
            "10\n"
          ]
        }
      ]
    },
    {
      "cell_type": "code",
      "source": [
        "texto1 = \"    Fabrício CARRaro  da alura   \"\n",
        "texto2 = \"mArIA    aNA     sAntoS.  pereiRA\"\n",
        "texto3 = \"  PeDRO.  alvaRes  cabrAl \"\n",
        "texto4 = \"   anA   caroLINa.    FerreirA  \"\n",
        "texto5 = \"  rObertO.   carlOS.     OliveiRa  \""
      ],
      "metadata": {
        "id": "m02lUth4NyqI"
      },
      "execution_count": 143,
      "outputs": []
    },
    {
      "cell_type": "code",
      "source": [
        "texto1.split()"
      ],
      "metadata": {
        "id": "5j8TdIPIUn94",
        "outputId": "ed902a72-d370-4409-d416-f8d9a72ce1fa",
        "colab": {
          "base_uri": "https://localhost:8080/"
        }
      },
      "execution_count": 144,
      "outputs": [
        {
          "output_type": "execute_result",
          "data": {
            "text/plain": [
              "['Fabrício', 'CARRaro', 'da', 'alura']"
            ]
          },
          "metadata": {},
          "execution_count": 144
        }
      ]
    },
    {
      "cell_type": "code",
      "source": [
        "def escreve_texto_corretamente(texto):\n",
        "    texto_novo = texto.upper()\n",
        "    lista_de_palavras = texto_novo.split()\n",
        "    nome_final = \" \".join(lista_de_palavras)\n",
        "    print(nome_final)"
      ],
      "metadata": {
        "id": "UGu6Q7LXNyko"
      },
      "execution_count": 145,
      "outputs": []
    },
    {
      "cell_type": "code",
      "source": [
        "escreve_texto_corretamente(texto1)\n"
      ],
      "metadata": {
        "id": "utsHIxfGNydN",
        "outputId": "4b4f2bad-b22f-4110-9ae2-d83280b6f14f",
        "colab": {
          "base_uri": "https://localhost:8080/"
        }
      },
      "execution_count": 146,
      "outputs": [
        {
          "output_type": "stream",
          "name": "stdout",
          "text": [
            "FABRÍCIO CARRARO DA ALURA\n"
          ]
        }
      ]
    },
    {
      "cell_type": "code",
      "source": [
        "escreve_texto_corretamente(texto2)"
      ],
      "metadata": {
        "id": "OxqG6y__NyWi",
        "outputId": "240de5d2-2f35-4414-955b-1dc97831bbe4",
        "colab": {
          "base_uri": "https://localhost:8080/"
        }
      },
      "execution_count": 147,
      "outputs": [
        {
          "output_type": "stream",
          "name": "stdout",
          "text": [
            "MARIA ANA SANTOS. PEREIRA\n"
          ]
        }
      ]
    },
    {
      "cell_type": "code",
      "source": [
        "def escreve_texto_corretamente_alternativa(texto):\n",
        "    nome_final = \" \".join(texto.upper().split())\n",
        "    return nome_final"
      ],
      "metadata": {
        "id": "kkIcLf0DBRkI"
      },
      "execution_count": 148,
      "outputs": []
    },
    {
      "cell_type": "code",
      "source": [
        "escreve_texto_corretamente_alternativa(texto1)"
      ],
      "metadata": {
        "id": "Ee7876RFnMhQ",
        "outputId": "65ce6295-ea90-4cf6-aeac-246ac42f5e4d",
        "colab": {
          "base_uri": "https://localhost:8080/",
          "height": 35
        }
      },
      "execution_count": 149,
      "outputs": [
        {
          "output_type": "execute_result",
          "data": {
            "text/plain": [
              "'FABRÍCIO CARRARO DA ALURA'"
            ],
            "application/vnd.google.colaboratory.intrinsic+json": {
              "type": "string"
            }
          },
          "metadata": {},
          "execution_count": 149
        }
      ]
    },
    {
      "cell_type": "code",
      "source": [
        "salas_de_aula = [\"sala 1\", \"sala 2\", \"sala 3\"]"
      ],
      "metadata": {
        "id": "QCgm4KkVCLMz"
      },
      "execution_count": 150,
      "outputs": []
    },
    {
      "cell_type": "code",
      "source": [
        "import random\n",
        "\n",
        "def aloca_alunos_em_salas(nome_do_aluno, lista_de_salas):\n",
        "    sala_do_aluno = random.choice(lista_de_salas)\n",
        "\n",
        "    dict_aluno = {\n",
        "        \"nome\": nome_do_aluno,\n",
        "        \"sala\": sala_do_aluno\n",
        "    }\n",
        "    print(dict_aluno)"
      ],
      "metadata": {
        "id": "6hQX2nrfCLHg"
      },
      "execution_count": 151,
      "outputs": []
    },
    {
      "cell_type": "code",
      "source": [
        "nome_processado = escreve_texto_corretamente_alternativa(texto1)"
      ],
      "metadata": {
        "id": "KcgsUhcRx3aS"
      },
      "execution_count": 152,
      "outputs": []
    },
    {
      "cell_type": "code",
      "source": [
        "#aloca_alunos_em_salas(nome_processado, salas_de_aula)\n",
        "aloca_alunos_em_salas(nome_processado, [\"Classe 1\", \"Classe 2\", \"Classe 3\"])"
      ],
      "metadata": {
        "id": "sglqEtuhCLDl",
        "outputId": "e53d6765-e96d-49c9-ad15-4c31b71a7968",
        "colab": {
          "base_uri": "https://localhost:8080/"
        }
      },
      "execution_count": 153,
      "outputs": [
        {
          "output_type": "stream",
          "name": "stdout",
          "text": [
            "{'nome': 'FABRÍCIO CARRARO DA ALURA', 'sala': 'Classe 3'}\n"
          ]
        }
      ]
    },
    {
      "cell_type": "code",
      "source": [
        "\"\"\"\n",
        "Desafio:\n",
        "\n",
        "1. Pedir para IA gerar em Python uma lista de 20 emails para você.\n",
        "2. Criar uma função que vai receber uma lista de emails , percorrer esta lista de emails e para cada email da lista,\n",
        " ela irá chamar o gemini e pedir para ela resumir todos os emails em apenas 1 linha, definindo o que a pessoa queria no\n",
        "  email.\n",
        "\"\"\""
      ],
      "metadata": {
        "outputId": "9c13ae55-eeaf-4fc5-9a1f-7b0ec2c4443c",
        "colab": {
          "base_uri": "https://localhost:8080/",
          "height": 70
        },
        "id": "ZLvTPF0v0ya9"
      },
      "execution_count": 154,
      "outputs": [
        {
          "output_type": "execute_result",
          "data": {
            "text/plain": [
              "'\\nDesafio:\\n\\n1. Pedir para IA gerar em Python uma lista de 20 emails para você.\\n2. Criar uma função que vai receber uma lista de emails , percorrer esta lista de emails e para cada email da lista,\\n ela irá chamar o gemini e pedir para ela resumir todos os emails em apenas 1 linha, definindo o que a pessoa queria no\\n  email.\\n'"
            ],
            "application/vnd.google.colaboratory.intrinsic+json": {
              "type": "string"
            }
          },
          "metadata": {},
          "execution_count": 154
        }
      ]
    },
    {
      "cell_type": "code",
      "source": [
        "emails_bodies = [\n",
        "    \"Olá! Esperamos que esteja bem. Gostaríamos de lembrá-lo(a) sobre a renovação do seu plano anual. Aproveite o desconto exclusivo até o final da semana!\",\n",
        "    \"Prezada cliente, informamos que sua encomenda foi enviada e o código de rastreio já está disponível em sua conta. Agradecemos por comprar conosco!\",\n",
        "    \"Caro aluno, as inscrições para o próximo módulo do curso de Programação Web estão abertas. Garanta sua vaga com 20% de desconto até sexta-feira.\",\n",
        "    \"Bom dia! Temos o prazer de anunciar o lançamento da nova linha de produtos ecológicos. Sustentabilidade e qualidade em um só lugar!\",\n",
        "    \"Olá! Notamos que você deixou alguns itens no carrinho. Finalize sua compra hoje e receba frete grátis em todo o Brasil.\",\n",
        "    \"Prezado parceiro, estamos organizando um evento exclusivo de networking para profissionais da área. Sua presença será muito bem-vinda!\",\n",
        "    \"Olá, tudo bem? Seu agendamento para a consulta médica foi confirmado para o dia 5 de novembro às 15h. Contamos com sua pontualidade!\",\n",
        "    \"Caro usuário, detectamos uma tentativa de login em sua conta. Se não foi você, altere sua senha imediatamente por segurança.\",\n",
        "    \"Olá! Aproveite nossa promoção relâmpago: até 50% de desconto em eletrônicos e acessórios. Somente hoje!\",\n",
        "    \"Bom dia! Sua reserva no Hotel Paraíso está confirmada. Estamos ansiosos para recebê-lo e tornar sua estadia inesquecível.\",\n",
        "    \"Prezada cliente, seu pagamento foi processado com sucesso. O comprovante segue em anexo. Obrigado pela preferência!\",\n",
        "    \"Olá, participante! Agradecemos por se inscrever no Workshop de Inovação. Em breve você receberá o link para acessar o evento online.\",\n",
        "    \"Boa tarde! Estamos contratando novos talentos para nossa equipe de marketing digital. Envie seu currículo até o dia 10/11.\",\n",
        "    \"Olá! Seu pedido de suporte foi recebido. Nossa equipe entrará em contato em até 24 horas para auxiliá-lo.\",\n",
        "    \"Prezado leitor, a nova edição da nossa revista já está disponível. Confira as matérias especiais sobre tendências do mercado.\",\n",
        "    \"Olá! Parabéns! Você foi selecionado para o programa de fidelidade Gold. Aproveite benefícios exclusivos e descontos personalizados.\",\n",
        "    \"Caro cliente, estamos atualizando nossa política de privacidade. Recomendamos que leia as novas condições em nosso site.\",\n",
        "    \"Bom dia! Convidamos você para participar da nossa pesquisa de satisfação. Sua opinião é muito importante para nós.\",\n",
        "    \"Olá! Chegou a hora de planejar suas próximas férias. Descubra pacotes incríveis com até 30% de desconto.\",\n",
        "    \"Prezado(a), lembramos que o prazo para entrega do relatório trimestral é dia 31/10. Por favor, envie dentro do prazo para evitar penalidades.\"\n",
        "]"
      ],
      "metadata": {
        "id": "KcjWjWC_sxuq"
      },
      "execution_count": 155,
      "outputs": []
    },
    {
      "cell_type": "code",
      "source": [
        "def resumidor_de_emails(lista_de_emails):\n",
        "    for numero, email in enumerate(lista_de_emails):\n",
        "        resposta = client.models.generate_content(\n",
        "            model='gemini-2.5-flash',\n",
        "            contents=f\"\"\"Vou te mandar o corpo de um e-mail. Quero que você o resuma em apenas uma linha,\n",
        "                     passando o intuito daquele email. Segue o e-mail: {email}\"\"\"\n",
        "            )\n",
        "        print(f\"E-mail: {numero + 1}: {resposta.text} \")\n",
        "        print(\"-\" * 50 )\n"
      ],
      "metadata": {
        "id": "Ie8dNfJssxzU"
      },
      "execution_count": 156,
      "outputs": []
    },
    {
      "cell_type": "code",
      "source": [
        "resumidor_de_emails(emails_bodies)"
      ],
      "metadata": {
        "id": "QIjGkbeE1Xfj",
        "outputId": "689dea82-204f-46da-b9da-a4e87a296c12",
        "colab": {
          "base_uri": "https://localhost:8080/"
        }
      },
      "execution_count": 157,
      "outputs": [
        {
          "output_type": "stream",
          "name": "stdout",
          "text": [
            "E-mail: 1: Lembrete para renovar seu plano anual aproveitando o desconto exclusivo. \n",
            "--------------------------------------------------\n",
            "E-mail: 2: Seu pedido foi enviado e o código de rastreio já está disponível para consulta. \n",
            "--------------------------------------------------\n",
            "E-mail: 3: **Garanta sua vaga no próximo módulo de Programação Web com 20% de desconto até sexta-feira.** \n",
            "--------------------------------------------------\n",
            "E-mail: 4: **Lançamento da nova linha de produtos ecológicos, unindo sustentabilidade e qualidade.** \n",
            "--------------------------------------------------\n",
            "E-mail: 5: **Convite para finalizar a compra de itens no carrinho e receber frete grátis.** \n",
            "--------------------------------------------------\n",
            "E-mail: 6: Convite para um evento exclusivo de networking para profissionais da área. \n",
            "--------------------------------------------------\n",
            "E-mail: 7: Confirmação do agendamento da sua consulta médica para 5 de novembro às 15h. \n",
            "--------------------------------------------------\n",
            "E-mail: 8: Alerta de segurança sobre tentativa de login, solicitando a alteração imediata da senha. \n",
            "--------------------------------------------------\n",
            "E-mail: 9: Promoção relâmpago: até 50% de desconto em eletrônicos e acessórios, válida somente hoje. \n",
            "--------------------------------------------------\n",
            "E-mail: 10: **Confirmação da sua reserva no Hotel Paraíso e boas-vindas à sua estadia.** \n",
            "--------------------------------------------------\n",
            "E-mail: 11: Confirmação de pagamento processado com sucesso e comprovante em anexo. \n",
            "--------------------------------------------------\n",
            "E-mail: 12: Sua inscrição no Workshop de Inovação foi confirmada e o link de acesso será enviado em breve. \n",
            "--------------------------------------------------\n",
            "E-mail: 13: Vaga de marketing digital: envie seu currículo até 10/11. \n",
            "--------------------------------------------------\n",
            "E-mail: 14: Confirmação do recebimento do seu pedido de suporte e prazo para contato. \n",
            "--------------------------------------------------\n",
            "E-mail: 15: A revista anuncia sua nova edição, focada em tendências de mercado, e convida o leitor a conferir. \n",
            "--------------------------------------------------\n",
            "E-mail: 16: Parabéns pela sua seleção para o programa de fidelidade Gold e seus benefícios exclusivos. \n",
            "--------------------------------------------------\n",
            "E-mail: 17: Notificamos sobre a atualização da nossa política de privacidade e recomendamos a leitura das novas condições. \n",
            "--------------------------------------------------\n",
            "E-mail: 18: Convite para participar da pesquisa de satisfação. \n",
            "--------------------------------------------------\n",
            "E-mail: 19: Descontos de até 30% em pacotes para você planejar suas próximas férias. \n",
            "--------------------------------------------------\n",
            "E-mail: 20: **Lembrete: Prazo final para o relatório trimestral é 31/10, entregue para evitar penalidades.** \n",
            "--------------------------------------------------\n"
          ]
        }
      ]
    },
    {
      "cell_type": "code",
      "source": [
        "!pip install -q groq"
      ],
      "metadata": {
        "id": "ENBbd8M7xRKd"
      },
      "execution_count": 158,
      "outputs": []
    },
    {
      "cell_type": "code",
      "source": [
        "import os\n",
        "\n",
        "from google.colab import userdata"
      ],
      "metadata": {
        "id": "Kl0m8F0uzeTo"
      },
      "execution_count": 159,
      "outputs": []
    },
    {
      "cell_type": "code",
      "source": [
        "os.environ[\"GROQ_API_KEY\"] = userdata.get('GROQ_API_KEY')"
      ],
      "metadata": {
        "id": "AmFePZuZyXXC"
      },
      "execution_count": 160,
      "outputs": []
    },
    {
      "cell_type": "code",
      "source": [
        "from groq import Groq\n",
        "\n",
        "client_groq = Groq()\n",
        "\n",
        "completion = client_groq.chat.completions.create(\n",
        "    model=\"openai/gpt-oss-20b\",\n",
        "    messages=[\n",
        "      {\n",
        "        \"role\": \"user\",\n",
        "        \"content\": \"O que oferece mais vagas para contratação: PyTorch ou TensorFlow / Keras ?\"\n",
        "      }\n",
        "    ],\n",
        "    temperature=1,  # 0: O menos criativo possível,   2: O mais criativo possível.\n",
        "    max_completion_tokens=8192,\n",
        "    top_p=1,\n",
        "    reasoning_effort=\"medium\",\n",
        "    stream=True,\n",
        "    stop=None\n",
        ")\n",
        "\n",
        "for chunk in completion:\n",
        "    print(chunk.choices[0].delta.content or \"\", end=\"\")\n"
      ],
      "metadata": {
        "id": "WvSZb-q51XkD",
        "colab": {
          "base_uri": "https://localhost:8080/"
        },
        "outputId": "fd1816ba-e90e-4162-b8ae-b18b12d8e723"
      },
      "execution_count": 167,
      "outputs": [
        {
          "output_type": "stream",
          "name": "stdout",
          "text": [
            "### Qual framework gera mais oportunidades de emprego?\n",
            "\n",
            "| Fonte de dados | Quantidade aproximada de vagas (2024) | Observação |\n",
            "|----------------|--------------------------------------|------------|\n",
            "| **LinkedIn**   | **TensorFlow/Keras** ~ 12 000  <br> **PyTorch** ~ 8 000  | Busca por “TensorFlow” traz mais de 1,5 × de anúncios que “PyTorch”. |\n",
            "| **Indeed**     | **TensorFlow** ~ 9 000 <br> **PyTorch** ~ 6 500 | Similar ao LinkedIn, mas o número de anúncios “Keras” é praticamente zero (porque Keras agora faz parte do TensorFlow). |\n",
            "| **Glassdoor**  | **TensorFlow** ~ 7 000 <br> **PyTorch** ~ 5 000 | Empresas listam “TensorFlow” quando exigem soluções de produção (mobile, edge, infra). |\n",
            "| **Stack Overflow Jobs** | **TensorFlow** ~ 4 500 <br> **PyTorch** ~ 3 200 | Vagas de pesquisa e academia tendem a usar PyTorch. |\n",
            "| **GitHub Jobs** (ex.: repos “job‑postings” 2023) | **TensorFlow** ~ 3 200 <br> **PyTorch** ~ 2 300 | Empresas que publicam no GitHub preferem “TensorFlow” para deployment. |\n",
            "\n",
            "> **Resumo rápido**  \n",
            "> **TensorFlow/Keras** ainda lidera o mercado em número de vagas, mas a diferença está se estreitando: em 2024 a diferença é de cerca de 1,5 ×, enquanto em 2018 já era de 3 ×.  \n",
            "\n",
            "---\n",
            "\n",
            "## Por que a diferença existe?\n",
            "\n",
            "| Fator | TensorFlow/Keras | PyTorch |\n",
            "|-------|------------------|---------|\n",
            "| **Histórico** | Lançado em 2015, adotado rapidamente pela indústria e Google. | Lançado em 2016, adotado rapidamente pela comunidade de pesquisa e Facebook. |\n",
            "| **Uso em produção** | TensorFlow Serving, TensorFlow Lite, TF Extended (TF‑X) – soluções maduras para deployment. | PyTorch Serve, ONNX, TorchScript – ainda em crescimento, mas em rápida evolução. |\n",
            "| **Facilidade de uso** | Keras (API de alto nível) tornou o TensorFlow mais acessível. | PyTorch é considerado “Pythonic” e mais natural para prototipagem rápida. |\n",
            "| **Ecossistema de ferramentas** | Estendendo do TensorFlow com AutoML, TFX, TF Hub, etc. | Ecosistema crescente: TorchVision, TorchAudio, PyTorch Lightning, etc. |\n",
            "| **Adoção em academia** | Pouco mais, pois o foco acadêmico tende a usar PyTorch. | Maior, pois a comunidade de pesquisa adota PyTorch rapidamente. |\n",
            "\n",
            "---\n",
            "\n",
            "## Onde os recrutadores realmente perguntam?\n",
            "\n",
            "1. **Deep‑Learning técnico** – “Experiência em redes neurais convolucionais, RNN, transformers, etc.” – a maioria das vagas aceita **qualquer** framework, desde que você saiba implementar e treinar modelos.  \n",
            "2. **Deploy** – “Experiência com TensorFlow Serving / ONNX / TorchServe.” – aqui o diferencial costuma ser *TensorFlow* ou *PyTorch* específico.  \n",
            "3. **Ferramentas de produção** – “TF‑X, ML‑flow, Kubeflow.” – quase sempre requer *TensorFlow*.  \n",
            "4. **Projetos de pesquisa** – “Experiência com PyTorch Lightning / fastai.” – mais comum em startups e centros de pesquisa.\n",
            "\n",
            "> **Dica de entrevista**: Se a vaga não especifica, pergunte: *“Qual framework vocês utilizam em produção?”* Isso pode revelar rapidamente se a empresa favorece TensorFlow ou PyTorch.\n",
            "\n",
            "---\n",
            "\n",
            "## Estratégia de aprendizado para maximizar oportunidades\n",
            "\n",
            "| Etapa | O que fazer | Por quê |\n",
            "|-------|-------------|---------|\n",
            "| **1. Fundamentos de Deep Learning** | Estude conceitos de back‑propagation, loss, otimização, regularização, etc. | A base é a mesma para qualquer framework. |\n",
            "| **2. Comece com Keras/TensorFlow** | Construa modelos simples (MNIST, CIFAR‑10) e depois passe a modelos mais complexos (ResNet, BERT). | A maioria das vagas de nível júnior exige conhecimento em TensorFlow/Keras. |\n",
            "| **3. Adicione PyTorch** | Repita os mesmos projetos em PyTorch. | Mostra versatilidade e capacidade de se adaptar a diferentes ambientes. |\n",
            "| **4. Deploy e produção** | Experimente TensorFlow Serving, ONNX, TorchServe. | Relevante para vagas de engenharia de dados ou machine‑learning‑ops (MLOps). |\n",
            "| **5. Projetos open‑source ou competições** | Contribua para projetos no GitHub, participe de Kaggle ou DrivenData. | Portfólios práticos aumentam a empregabilidade. |\n",
            "\n",
            "### Ferramentas úteis\n",
            "\n",
            "- **TensorFlow**: `tf.data`, `tf.keras`, `tf.saved_model`, `tf.lite`.\n",
            "- **PyTorch**: `torch.utils.data`, `torchvision`, `torch.save`, `torch.jit`.\n",
            "- **Ambos**: `ONNX`, `Weights & Biases`, `mlflow`.\n",
            "\n",
            "---\n",
            "\n",
            "## Perguntas frequentes\n",
            "\n",
            "| Pergunta | Resposta curta |\n",
            "|----------|----------------|\n",
            "| **É melhor escolher apenas um?** | Para início, aprender ambos não custa muito, mas concentre-se em TensorFlow se seu objetivo é trabalhar em empresas grandes/enterprise. |\n",
            "| **PyTorch não tem boas ferramentas de deployment?** | O ecossistema está crescendo rapidamente; PyTorch Serve e ONNX já são amplamente usados. |\n",
            "| **Quais vagas são mais pagas?** | Em geral, empresas que usam **TensorFlow** (Google, Microsoft, Amazon) pagam um pouco mais para posições de produção. PyTorch tende a aparecer mais em startups e labs de pesquisa, com salários competitivos. |\n",
            "| **Qual framework ganhará o “corrida”?** | A tendência é que o gap se reduza à medida que PyTorch evolui em produção. No entanto, TensorFlow continua sendo a escolha padrão em muitos pipelines de produção. |\n",
            "\n",
            "---\n",
            "\n",
            "## Conclusão\n",
            "\n",
            "- **TensorFlow/Keras** ainda oferece **mais vagas** (cerca de 1,5 × mais) e costuma ser a escolha preferida em ambientes corporativos e de produção.\n",
            "- **PyTorch** está crescendo rapidamente, especialmente em pesquisa e em startups que valorizam prototipagem rápida.\n",
            "- **Recomendação prática**: aprenda ambos, mas dê prioridade a **TensorFlow/Keras** se quiser entrar imediatamente no mercado de trabalho corporativo. Se seu foco for academia, pesquisa ou inovação rápida, priorize **PyTorch**.\n",
            "- **Dica final**: Foque em *habilidades* (modelagem, interpretação, otimização) e não apenas em *ferramentas*. A maioria dos recrutadores aceita transferência de conhecimento entre os frameworks."
          ]
        }
      ]
    },
    {
      "cell_type": "code",
      "source": [],
      "metadata": {
        "id": "e5FErjL61Xo3"
      },
      "execution_count": 161,
      "outputs": []
    },
    {
      "cell_type": "markdown",
      "source": [
        "# Operador de Resto"
      ],
      "metadata": {
        "id": "jfqQjVLk4_Ti"
      }
    },
    {
      "cell_type": "code",
      "source": [
        "for n in range(11):\n",
        "    if n % 2 == 0:\n",
        "        print(n)  # Imprime números pares: 0, 2, 4, 6, 8, 10"
      ],
      "metadata": {
        "colab": {
          "base_uri": "https://localhost:8080/"
        },
        "id": "12cvq33hxUyS",
        "outputId": "d0d878c5-e610-4a53-f7ed-ea2bbe094811"
      },
      "execution_count": 162,
      "outputs": [
        {
          "output_type": "stream",
          "name": "stdout",
          "text": [
            "0\n",
            "2\n",
            "4\n",
            "6\n",
            "8\n",
            "10\n"
          ]
        }
      ]
    },
    {
      "cell_type": "code",
      "source": [
        "lista = ['a', 'b', 'c', 'd']\n",
        "for i in range(10):\n",
        "    print(lista[i % len(lista)])  # Acessa sempre um índice válido na lista"
      ],
      "metadata": {
        "colab": {
          "base_uri": "https://localhost:8080/"
        },
        "id": "xS1ca9cpxU2W",
        "outputId": "312f7bb7-847d-4cdf-96d7-37c8660314e1"
      },
      "execution_count": 163,
      "outputs": [
        {
          "output_type": "stream",
          "name": "stdout",
          "text": [
            "a\n",
            "b\n",
            "c\n",
            "d\n",
            "a\n",
            "b\n",
            "c\n",
            "d\n",
            "a\n",
            "b\n"
          ]
        }
      ]
    },
    {
      "cell_type": "markdown",
      "source": [
        "# Leitura e Escrita de Arquivos"
      ],
      "metadata": {
        "id": "62jOO6aWSPQ-"
      }
    },
    {
      "cell_type": "code",
      "source": [
        "from google import genai\n",
        "\n",
        "client = genai.Client()"
      ],
      "metadata": {
        "id": "6obNGgtaU-B6"
      },
      "execution_count": 164,
      "outputs": []
    },
    {
      "cell_type": "code",
      "source": [
        "def resumidor_de_emails(lista_de_emails):\n",
        "\n",
        "    lista_de_resumos =[]\n",
        "\n",
        "    for numero, email in enumerate(lista_de_emails):\n",
        "        resposta = client.models.generate_content(\n",
        "            model='gemini-2.5-flash',\n",
        "            contents=f\"\"\"Vou te mandar o corpo de um e-mail. Quero que você o resuma em apenas uma linha,\n",
        "                     passando o intuito daquele email. Segue o e-mail: {email}\"\"\"\n",
        "            )\n",
        "        print(f\"E-mail: {numero + 1}: {resposta.text} \")\n",
        "        lista_de_resumos.append(f\"E-mail: {numero + 1}: {resposta.text} \")\n",
        "        print(\"-\" * 50 )\n",
        "\n",
        "    return lista_de_resumos\n"
      ],
      "metadata": {
        "id": "eak7c9jsUQGM"
      },
      "execution_count": 165,
      "outputs": []
    },
    {
      "cell_type": "code",
      "source": [
        "lista_resumos = resumidor_de_emails(emails_bodies)"
      ],
      "metadata": {
        "id": "k9fA5ljDSZCv",
        "outputId": "a31cb711-de05-4887-a281-1669974a91a1",
        "colab": {
          "base_uri": "https://localhost:8080/"
        }
      },
      "execution_count": 168,
      "outputs": [
        {
          "output_type": "stream",
          "name": "stdout",
          "text": [
            "E-mail: 1: Lembrete para renovar seu plano anual com um desconto exclusivo até o final da semana. \n",
            "--------------------------------------------------\n",
            "E-mail: 2: **Notificação de envio da sua encomenda com código de rastreio.** \n",
            "--------------------------------------------------\n",
            "E-mail: 3: Inscrições abertas para o próximo módulo de Programação Web com 20% de desconto até sexta-feira. \n",
            "--------------------------------------------------\n",
            "E-mail: 4: **Anúncio do lançamento da nova linha de produtos ecológicos.** \n",
            "--------------------------------------------------\n",
            "E-mail: 5: Aqui está o resumo em uma linha:\n",
            "\n",
            "**Finalize sua compra e ganhe frete grátis.** \n",
            "--------------------------------------------------\n",
            "E-mail: 6: Convite para um evento exclusivo de networking para parceiros profissionais. \n",
            "--------------------------------------------------\n",
            "E-mail: 7: Aqui está:\n",
            "\n",
            "Confirmação do agendamento da sua consulta médica para 5 de novembro às 15h, com lembrete de pontualidade. \n",
            "--------------------------------------------------\n",
            "E-mail: 8: Alerta de segurança: tentativa de login detectada, com recomendação para alterar a senha. \n",
            "--------------------------------------------------\n",
            "E-mail: 9: **Alerta sobre uma promoção relâmpago de 50% em eletrônicos e acessórios, válida somente hoje.** \n",
            "--------------------------------------------------\n",
            "E-mail: 10: **Confirmação da sua reserva no Hotel Paraíso e boas-vindas à sua estadia.** \n",
            "--------------------------------------------------\n",
            "E-mail: 11: **Confirmação de pagamento bem-sucedido com comprovante anexo.** \n",
            "--------------------------------------------------\n",
            "E-mail: 12: Agradece a inscrição no Workshop de Inovação e informa que o link de acesso será enviado em breve. \n",
            "--------------------------------------------------\n",
            "E-mail: 13: **Vaga de marketing digital com prazo para envio de currículo.** \n",
            "--------------------------------------------------\n",
            "E-mail: 14: Confirmação de recebimento do seu pedido de suporte, com contato previsto em até 24 horas. \n",
            "--------------------------------------------------\n",
            "E-mail: 15: A nova edição da revista já está disponível, destacando matérias sobre tendências de mercado. \n",
            "--------------------------------------------------\n",
            "E-mail: 16: Aqui está o resumo em uma linha:\n",
            "\n",
            "**Anúncio da sua seleção para o programa de fidelidade Gold, que oferece benefícios exclusivos e descontos.** \n",
            "--------------------------------------------------\n",
            "E-mail: 17: O e-mail informa sobre a atualização da política de privacidade e recomenda a leitura das novas condições. \n",
            "--------------------------------------------------\n",
            "E-mail: 18: Aqui está:\n",
            "\n",
            "Convite para pesquisa de satisfação, onde sua opinião é muito importante. \n",
            "--------------------------------------------------\n",
            "E-mail: 19: **Descubra pacotes de férias com até 30% de desconto para planejar suas próximas férias.** \n",
            "--------------------------------------------------\n",
            "E-mail: 20: **Lembrete: Envie seu relatório trimestral até 31/10 para evitar penalidades.** \n",
            "--------------------------------------------------\n"
          ]
        }
      ]
    },
    {
      "cell_type": "code",
      "source": [
        "lista_resumos"
      ],
      "metadata": {
        "id": "c8MupFX0SZIN",
        "outputId": "ddf558a6-ce4c-4282-eba5-93a6fb909a7a",
        "colab": {
          "base_uri": "https://localhost:8080/"
        }
      },
      "execution_count": 169,
      "outputs": [
        {
          "output_type": "execute_result",
          "data": {
            "text/plain": [
              "['E-mail: 1: Lembrete para renovar seu plano anual com um desconto exclusivo até o final da semana. ',\n",
              " 'E-mail: 2: **Notificação de envio da sua encomenda com código de rastreio.** ',\n",
              " 'E-mail: 3: Inscrições abertas para o próximo módulo de Programação Web com 20% de desconto até sexta-feira. ',\n",
              " 'E-mail: 4: **Anúncio do lançamento da nova linha de produtos ecológicos.** ',\n",
              " 'E-mail: 5: Aqui está o resumo em uma linha:\\n\\n**Finalize sua compra e ganhe frete grátis.** ',\n",
              " 'E-mail: 6: Convite para um evento exclusivo de networking para parceiros profissionais. ',\n",
              " 'E-mail: 7: Aqui está:\\n\\nConfirmação do agendamento da sua consulta médica para 5 de novembro às 15h, com lembrete de pontualidade. ',\n",
              " 'E-mail: 8: Alerta de segurança: tentativa de login detectada, com recomendação para alterar a senha. ',\n",
              " 'E-mail: 9: **Alerta sobre uma promoção relâmpago de 50% em eletrônicos e acessórios, válida somente hoje.** ',\n",
              " 'E-mail: 10: **Confirmação da sua reserva no Hotel Paraíso e boas-vindas à sua estadia.** ',\n",
              " 'E-mail: 11: **Confirmação de pagamento bem-sucedido com comprovante anexo.** ',\n",
              " 'E-mail: 12: Agradece a inscrição no Workshop de Inovação e informa que o link de acesso será enviado em breve. ',\n",
              " 'E-mail: 13: **Vaga de marketing digital com prazo para envio de currículo.** ',\n",
              " 'E-mail: 14: Confirmação de recebimento do seu pedido de suporte, com contato previsto em até 24 horas. ',\n",
              " 'E-mail: 15: A nova edição da revista já está disponível, destacando matérias sobre tendências de mercado. ',\n",
              " 'E-mail: 16: Aqui está o resumo em uma linha:\\n\\n**Anúncio da sua seleção para o programa de fidelidade Gold, que oferece benefícios exclusivos e descontos.** ',\n",
              " 'E-mail: 17: O e-mail informa sobre a atualização da política de privacidade e recomenda a leitura das novas condições. ',\n",
              " 'E-mail: 18: Aqui está:\\n\\nConvite para pesquisa de satisfação, onde sua opinião é muito importante. ',\n",
              " 'E-mail: 19: **Descubra pacotes de férias com até 30% de desconto para planejar suas próximas férias.** ',\n",
              " 'E-mail: 20: **Lembrete: Envie seu relatório trimestral até 31/10 para evitar penalidades.** ']"
            ]
          },
          "metadata": {},
          "execution_count": 169
        }
      ]
    },
    {
      "cell_type": "code",
      "source": [
        "with open(\"lista-de-resumos.txt\", \"w\", encoding=\"utf-8\") as arquivo:\n",
        "\n",
        "    for resumo in lista_resumos:\n",
        "        arquivo.write(resumo + \"\\n\")\n",
        "        #arquivo.writelines(lista_resumos)"
      ],
      "metadata": {
        "id": "UMlHup-4SZRI"
      },
      "execution_count": 172,
      "outputs": []
    },
    {
      "cell_type": "code",
      "source": [
        "print(lista_resumos)"
      ],
      "metadata": {
        "id": "mf3CiRcrcK5p",
        "outputId": "7407f8e0-fa31-4678-fb5f-34da95e59c03",
        "colab": {
          "base_uri": "https://localhost:8080/"
        }
      },
      "execution_count": 174,
      "outputs": [
        {
          "output_type": "stream",
          "name": "stdout",
          "text": [
            "['E-mail: 1: Lembrete para renovar seu plano anual com um desconto exclusivo até o final da semana. ', 'E-mail: 2: **Notificação de envio da sua encomenda com código de rastreio.** ', 'E-mail: 3: Inscrições abertas para o próximo módulo de Programação Web com 20% de desconto até sexta-feira. ', 'E-mail: 4: **Anúncio do lançamento da nova linha de produtos ecológicos.** ', 'E-mail: 5: Aqui está o resumo em uma linha:\\n\\n**Finalize sua compra e ganhe frete grátis.** ', 'E-mail: 6: Convite para um evento exclusivo de networking para parceiros profissionais. ', 'E-mail: 7: Aqui está:\\n\\nConfirmação do agendamento da sua consulta médica para 5 de novembro às 15h, com lembrete de pontualidade. ', 'E-mail: 8: Alerta de segurança: tentativa de login detectada, com recomendação para alterar a senha. ', 'E-mail: 9: **Alerta sobre uma promoção relâmpago de 50% em eletrônicos e acessórios, válida somente hoje.** ', 'E-mail: 10: **Confirmação da sua reserva no Hotel Paraíso e boas-vindas à sua estadia.** ', 'E-mail: 11: **Confirmação de pagamento bem-sucedido com comprovante anexo.** ', 'E-mail: 12: Agradece a inscrição no Workshop de Inovação e informa que o link de acesso será enviado em breve. ', 'E-mail: 13: **Vaga de marketing digital com prazo para envio de currículo.** ', 'E-mail: 14: Confirmação de recebimento do seu pedido de suporte, com contato previsto em até 24 horas. ', 'E-mail: 15: A nova edição da revista já está disponível, destacando matérias sobre tendências de mercado. ', 'E-mail: 16: Aqui está o resumo em uma linha:\\n\\n**Anúncio da sua seleção para o programa de fidelidade Gold, que oferece benefícios exclusivos e descontos.** ', 'E-mail: 17: O e-mail informa sobre a atualização da política de privacidade e recomenda a leitura das novas condições. ', 'E-mail: 18: Aqui está:\\n\\nConvite para pesquisa de satisfação, onde sua opinião é muito importante. ', 'E-mail: 19: **Descubra pacotes de férias com até 30% de desconto para planejar suas próximas férias.** ', 'E-mail: 20: **Lembrete: Envie seu relatório trimestral até 31/10 para evitar penalidades.** ']\n"
          ]
        }
      ]
    },
    {
      "cell_type": "code",
      "source": [
        "with open(\"lista-de-resumos.txt\", \"r\", encoding=\"utf-8\") as arquivo:\n",
        "    for linha in arquivo:\n",
        "        print(linha)"
      ],
      "metadata": {
        "id": "71TBLpI5cK9n"
      },
      "execution_count": null,
      "outputs": []
    },
    {
      "cell_type": "code",
      "source": [],
      "metadata": {
        "id": "hbZz8J6zcK_x"
      },
      "execution_count": null,
      "outputs": []
    },
    {
      "cell_type": "code",
      "source": [],
      "metadata": {
        "id": "GwDjyYtjcLDi"
      },
      "execution_count": null,
      "outputs": []
    },
    {
      "cell_type": "code",
      "source": [],
      "metadata": {
        "id": "C3_r6CcicLG6"
      },
      "execution_count": null,
      "outputs": []
    },
    {
      "cell_type": "code",
      "source": [],
      "metadata": {
        "id": "lqCH9CDKcLKU"
      },
      "execution_count": null,
      "outputs": []
    }
  ]
}